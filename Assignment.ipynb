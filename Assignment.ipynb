{
  "cells": [
    {
      "cell_type": "markdown",
      "metadata": {
        "id": "view-in-github",
        "colab_type": "text"
      },
      "source": [
        "<a href=\"https://colab.research.google.com/github/Santo1337/ADTA/blob/main/Assignment.ipynb\" target=\"_parent\"><img src=\"https://colab.research.google.com/assets/colab-badge.svg\" alt=\"Open In Colab\"/></a>"
      ]
    },
    {
      "cell_type": "code",
      "execution_count": null,
      "id": "85a666d5",
      "metadata": {
        "colab": {
          "base_uri": "https://localhost:8080/"
        },
        "id": "85a666d5",
        "outputId": "a0ce2a35-5323-4266-ef99-8f89587e7e4e"
      },
      "outputs": [
        {
          "output_type": "stream",
          "name": "stderr",
          "text": [
            "/usr/local/lib/python3.8/dist-packages/sklearn/experimental/enable_hist_gradient_boosting.py:16: UserWarning: Since version 1.0, it is not needed to import enable_hist_gradient_boosting anymore. HistGradientBoostingClassifier and HistGradientBoostingRegressor are now stable and can be normally imported from sklearn.ensemble.\n",
            "  warnings.warn(\n"
          ]
        }
      ],
      "source": [
        "import pandas as pd\n",
        "import numpy as np\n",
        "import matplotlib.pyplot as plt\n",
        "import seaborn as sns\n",
        "from sklearn import tree\n",
        "from sklearn.ensemble import RandomForestClassifier\n",
        "from sklearn.linear_model import LogisticRegression\n",
        "from sklearn.neighbors import KNeighborsClassifier\n",
        "from sklearn.tree import DecisionTreeClassifier\n",
        "from sklearn.naive_bayes import GaussianNB\n",
        "from sklearn.ensemble import AdaBoostClassifier\n",
        "from sklearn.ensemble import GradientBoostingClassifier\n",
        "from sklearn.experimental import enable_hist_gradient_boosting\n",
        "from sklearn.ensemble import HistGradientBoostingClassifier\n",
        "from sklearn.ensemble import GradientBoostingClassifier\n",
        "from sklearn.ensemble import ExtraTreesClassifier\n",
        "from sklearn.ensemble import BaggingClassifier\n",
        "from sklearn import metrics\n",
        "from sklearn.metrics import accuracy_score\n",
        "from sklearn import svm\n",
        "from sklearn.svm import SVC"
      ]
    },
    {
      "cell_type": "code",
      "source": [
        "from google.colab import drive\n",
        "drive.mount('/content/gdrive')"
      ],
      "metadata": {
        "colab": {
          "base_uri": "https://localhost:8080/"
        },
        "id": "9x6w-SG71DO9",
        "outputId": "52388d7d-d1cb-4a71-8dc9-93c7547f4220"
      },
      "id": "9x6w-SG71DO9",
      "execution_count": null,
      "outputs": [
        {
          "output_type": "stream",
          "name": "stdout",
          "text": [
            "Mounted at /content/gdrive\n"
          ]
        }
      ]
    },
    {
      "cell_type": "code",
      "execution_count": null,
      "id": "e864a73e",
      "metadata": {
        "id": "e864a73e"
      },
      "outputs": [],
      "source": [
        "df=pd.read_csv('/content/gdrive/MyDrive/Colab Notebooks/Census.csv')"
      ]
    },
    {
      "cell_type": "code",
      "execution_count": null,
      "id": "0f9d7e16",
      "metadata": {
        "colab": {
          "base_uri": "https://localhost:8080/",
          "height": 322
        },
        "id": "0f9d7e16",
        "outputId": "bc881a3c-bbaf-45b7-a2c5-d068cf330228"
      },
      "outputs": [
        {
          "output_type": "execute_result",
          "data": {
            "text/plain": [
              "   Person ID     Region Residence Type  Family Composition  Population Base  \\\n",
              "0    7394816  E12000001              H                   2                1   \n",
              "1    7394832  E12000001              H                   3                1   \n",
              "2    7394719  E12000001              H                   2                1   \n",
              "3    7394840  E12000001              H                   1                1   \n",
              "4    7394711  E12000001              H                   2                1   \n",
              "\n",
              "   Sex  Age  Marital Status  Student  Country of Birth  Health  Ethnic Group  \\\n",
              "0    2    6               2        2                 1       2             1   \n",
              "1    2    1               1        2                 1       2             1   \n",
              "2    1    7               2        2                 1       1             1   \n",
              "3    2    6               4        2                 1       3             1   \n",
              "4    1    1               1        1                 1       1             1   \n",
              "\n",
              "   Religion  Economic Activity  Occupation  Industry  Hours worked per week  \\\n",
              "0         2                  5           8         2                     -9   \n",
              "1         1                 -9          -9        -9                     -9   \n",
              "2         2                  5           8         2                     -9   \n",
              "3         2                  5           9         5                     -9   \n",
              "4         1                 -9          -9        -9                     -9   \n",
              "\n",
              "   No of hours  Approximated Social Grade  \n",
              "0          NaN                          4  \n",
              "1          NaN                         -9  \n",
              "2          NaN                          2  \n",
              "3          NaN                          4  \n",
              "4          NaN                         -9  "
            ],
            "text/html": [
              "\n",
              "  <div id=\"df-382d3379-b4b2-4842-b9b2-31ab4c7b9a7a\">\n",
              "    <div class=\"colab-df-container\">\n",
              "      <div>\n",
              "<style scoped>\n",
              "    .dataframe tbody tr th:only-of-type {\n",
              "        vertical-align: middle;\n",
              "    }\n",
              "\n",
              "    .dataframe tbody tr th {\n",
              "        vertical-align: top;\n",
              "    }\n",
              "\n",
              "    .dataframe thead th {\n",
              "        text-align: right;\n",
              "    }\n",
              "</style>\n",
              "<table border=\"1\" class=\"dataframe\">\n",
              "  <thead>\n",
              "    <tr style=\"text-align: right;\">\n",
              "      <th></th>\n",
              "      <th>Person ID</th>\n",
              "      <th>Region</th>\n",
              "      <th>Residence Type</th>\n",
              "      <th>Family Composition</th>\n",
              "      <th>Population Base</th>\n",
              "      <th>Sex</th>\n",
              "      <th>Age</th>\n",
              "      <th>Marital Status</th>\n",
              "      <th>Student</th>\n",
              "      <th>Country of Birth</th>\n",
              "      <th>Health</th>\n",
              "      <th>Ethnic Group</th>\n",
              "      <th>Religion</th>\n",
              "      <th>Economic Activity</th>\n",
              "      <th>Occupation</th>\n",
              "      <th>Industry</th>\n",
              "      <th>Hours worked per week</th>\n",
              "      <th>No of hours</th>\n",
              "      <th>Approximated Social Grade</th>\n",
              "    </tr>\n",
              "  </thead>\n",
              "  <tbody>\n",
              "    <tr>\n",
              "      <th>0</th>\n",
              "      <td>7394816</td>\n",
              "      <td>E12000001</td>\n",
              "      <td>H</td>\n",
              "      <td>2</td>\n",
              "      <td>1</td>\n",
              "      <td>2</td>\n",
              "      <td>6</td>\n",
              "      <td>2</td>\n",
              "      <td>2</td>\n",
              "      <td>1</td>\n",
              "      <td>2</td>\n",
              "      <td>1</td>\n",
              "      <td>2</td>\n",
              "      <td>5</td>\n",
              "      <td>8</td>\n",
              "      <td>2</td>\n",
              "      <td>-9</td>\n",
              "      <td>NaN</td>\n",
              "      <td>4</td>\n",
              "    </tr>\n",
              "    <tr>\n",
              "      <th>1</th>\n",
              "      <td>7394832</td>\n",
              "      <td>E12000001</td>\n",
              "      <td>H</td>\n",
              "      <td>3</td>\n",
              "      <td>1</td>\n",
              "      <td>2</td>\n",
              "      <td>1</td>\n",
              "      <td>1</td>\n",
              "      <td>2</td>\n",
              "      <td>1</td>\n",
              "      <td>2</td>\n",
              "      <td>1</td>\n",
              "      <td>1</td>\n",
              "      <td>-9</td>\n",
              "      <td>-9</td>\n",
              "      <td>-9</td>\n",
              "      <td>-9</td>\n",
              "      <td>NaN</td>\n",
              "      <td>-9</td>\n",
              "    </tr>\n",
              "    <tr>\n",
              "      <th>2</th>\n",
              "      <td>7394719</td>\n",
              "      <td>E12000001</td>\n",
              "      <td>H</td>\n",
              "      <td>2</td>\n",
              "      <td>1</td>\n",
              "      <td>1</td>\n",
              "      <td>7</td>\n",
              "      <td>2</td>\n",
              "      <td>2</td>\n",
              "      <td>1</td>\n",
              "      <td>1</td>\n",
              "      <td>1</td>\n",
              "      <td>2</td>\n",
              "      <td>5</td>\n",
              "      <td>8</td>\n",
              "      <td>2</td>\n",
              "      <td>-9</td>\n",
              "      <td>NaN</td>\n",
              "      <td>2</td>\n",
              "    </tr>\n",
              "    <tr>\n",
              "      <th>3</th>\n",
              "      <td>7394840</td>\n",
              "      <td>E12000001</td>\n",
              "      <td>H</td>\n",
              "      <td>1</td>\n",
              "      <td>1</td>\n",
              "      <td>2</td>\n",
              "      <td>6</td>\n",
              "      <td>4</td>\n",
              "      <td>2</td>\n",
              "      <td>1</td>\n",
              "      <td>3</td>\n",
              "      <td>1</td>\n",
              "      <td>2</td>\n",
              "      <td>5</td>\n",
              "      <td>9</td>\n",
              "      <td>5</td>\n",
              "      <td>-9</td>\n",
              "      <td>NaN</td>\n",
              "      <td>4</td>\n",
              "    </tr>\n",
              "    <tr>\n",
              "      <th>4</th>\n",
              "      <td>7394711</td>\n",
              "      <td>E12000001</td>\n",
              "      <td>H</td>\n",
              "      <td>2</td>\n",
              "      <td>1</td>\n",
              "      <td>1</td>\n",
              "      <td>1</td>\n",
              "      <td>1</td>\n",
              "      <td>1</td>\n",
              "      <td>1</td>\n",
              "      <td>1</td>\n",
              "      <td>1</td>\n",
              "      <td>1</td>\n",
              "      <td>-9</td>\n",
              "      <td>-9</td>\n",
              "      <td>-9</td>\n",
              "      <td>-9</td>\n",
              "      <td>NaN</td>\n",
              "      <td>-9</td>\n",
              "    </tr>\n",
              "  </tbody>\n",
              "</table>\n",
              "</div>\n",
              "      <button class=\"colab-df-convert\" onclick=\"convertToInteractive('df-382d3379-b4b2-4842-b9b2-31ab4c7b9a7a')\"\n",
              "              title=\"Convert this dataframe to an interactive table.\"\n",
              "              style=\"display:none;\">\n",
              "        \n",
              "  <svg xmlns=\"http://www.w3.org/2000/svg\" height=\"24px\"viewBox=\"0 0 24 24\"\n",
              "       width=\"24px\">\n",
              "    <path d=\"M0 0h24v24H0V0z\" fill=\"none\"/>\n",
              "    <path d=\"M18.56 5.44l.94 2.06.94-2.06 2.06-.94-2.06-.94-.94-2.06-.94 2.06-2.06.94zm-11 1L8.5 8.5l.94-2.06 2.06-.94-2.06-.94L8.5 2.5l-.94 2.06-2.06.94zm10 10l.94 2.06.94-2.06 2.06-.94-2.06-.94-.94-2.06-.94 2.06-2.06.94z\"/><path d=\"M17.41 7.96l-1.37-1.37c-.4-.4-.92-.59-1.43-.59-.52 0-1.04.2-1.43.59L10.3 9.45l-7.72 7.72c-.78.78-.78 2.05 0 2.83L4 21.41c.39.39.9.59 1.41.59.51 0 1.02-.2 1.41-.59l7.78-7.78 2.81-2.81c.8-.78.8-2.07 0-2.86zM5.41 20L4 18.59l7.72-7.72 1.47 1.35L5.41 20z\"/>\n",
              "  </svg>\n",
              "      </button>\n",
              "      \n",
              "  <style>\n",
              "    .colab-df-container {\n",
              "      display:flex;\n",
              "      flex-wrap:wrap;\n",
              "      gap: 12px;\n",
              "    }\n",
              "\n",
              "    .colab-df-convert {\n",
              "      background-color: #E8F0FE;\n",
              "      border: none;\n",
              "      border-radius: 50%;\n",
              "      cursor: pointer;\n",
              "      display: none;\n",
              "      fill: #1967D2;\n",
              "      height: 32px;\n",
              "      padding: 0 0 0 0;\n",
              "      width: 32px;\n",
              "    }\n",
              "\n",
              "    .colab-df-convert:hover {\n",
              "      background-color: #E2EBFA;\n",
              "      box-shadow: 0px 1px 2px rgba(60, 64, 67, 0.3), 0px 1px 3px 1px rgba(60, 64, 67, 0.15);\n",
              "      fill: #174EA6;\n",
              "    }\n",
              "\n",
              "    [theme=dark] .colab-df-convert {\n",
              "      background-color: #3B4455;\n",
              "      fill: #D2E3FC;\n",
              "    }\n",
              "\n",
              "    [theme=dark] .colab-df-convert:hover {\n",
              "      background-color: #434B5C;\n",
              "      box-shadow: 0px 1px 3px 1px rgba(0, 0, 0, 0.15);\n",
              "      filter: drop-shadow(0px 1px 2px rgba(0, 0, 0, 0.3));\n",
              "      fill: #FFFFFF;\n",
              "    }\n",
              "  </style>\n",
              "\n",
              "      <script>\n",
              "        const buttonEl =\n",
              "          document.querySelector('#df-382d3379-b4b2-4842-b9b2-31ab4c7b9a7a button.colab-df-convert');\n",
              "        buttonEl.style.display =\n",
              "          google.colab.kernel.accessAllowed ? 'block' : 'none';\n",
              "\n",
              "        async function convertToInteractive(key) {\n",
              "          const element = document.querySelector('#df-382d3379-b4b2-4842-b9b2-31ab4c7b9a7a');\n",
              "          const dataTable =\n",
              "            await google.colab.kernel.invokeFunction('convertToInteractive',\n",
              "                                                     [key], {});\n",
              "          if (!dataTable) return;\n",
              "\n",
              "          const docLinkHtml = 'Like what you see? Visit the ' +\n",
              "            '<a target=\"_blank\" href=https://colab.research.google.com/notebooks/data_table.ipynb>data table notebook</a>'\n",
              "            + ' to learn more about interactive tables.';\n",
              "          element.innerHTML = '';\n",
              "          dataTable['output_type'] = 'display_data';\n",
              "          await google.colab.output.renderOutput(dataTable, element);\n",
              "          const docLink = document.createElement('div');\n",
              "          docLink.innerHTML = docLinkHtml;\n",
              "          element.appendChild(docLink);\n",
              "        }\n",
              "      </script>\n",
              "    </div>\n",
              "  </div>\n",
              "  "
            ]
          },
          "metadata": {},
          "execution_count": 5
        }
      ],
      "source": [
        "df.head()"
      ]
    },
    {
      "cell_type": "code",
      "execution_count": null,
      "id": "6007c73a",
      "metadata": {
        "colab": {
          "base_uri": "https://localhost:8080/"
        },
        "id": "6007c73a",
        "outputId": "6181d45e-234d-40ce-a0bc-91c650616279"
      },
      "outputs": [
        {
          "output_type": "execute_result",
          "data": {
            "text/plain": [
              "Person ID                         0\n",
              "Region                            0\n",
              "Residence Type                    0\n",
              "Family Composition                0\n",
              "Population Base                   0\n",
              "Sex                               0\n",
              "Age                               0\n",
              "Marital Status                    0\n",
              "Student                           0\n",
              "Country of Birth                  0\n",
              "Health                            0\n",
              "Ethnic Group                      0\n",
              "Religion                          0\n",
              "Economic Activity                 0\n",
              "Occupation                        0\n",
              "Industry                          0\n",
              "Hours worked per week             0\n",
              "No of hours                  302321\n",
              "Approximated Social Grade         0\n",
              "dtype: int64"
            ]
          },
          "metadata": {},
          "execution_count": 6
        }
      ],
      "source": [
        "df.isnull().sum()"
      ]
    },
    {
      "cell_type": "code",
      "execution_count": null,
      "id": "2091e764",
      "metadata": {
        "colab": {
          "base_uri": "https://localhost:8080/"
        },
        "id": "2091e764",
        "outputId": "f739c388-f44b-4855-9d77-7dfe7475d5f0"
      },
      "outputs": [
        {
          "output_type": "execute_result",
          "data": {
            "text/plain": [
              " 2    159642\n",
              "-9    124103\n",
              " 4    123739\n",
              " 1     82320\n",
              " 3     79936\n",
              "Name: Approximated Social Grade, dtype: int64"
            ]
          },
          "metadata": {},
          "execution_count": 7
        }
      ],
      "source": [
        "df['Approximated Social Grade'].value_counts()"
      ]
    },
    {
      "cell_type": "code",
      "execution_count": null,
      "id": "f307c6f8",
      "metadata": {
        "colab": {
          "base_uri": "https://localhost:8080/"
        },
        "id": "f307c6f8",
        "outputId": "b908025e-aa59-482d-ffbe-75a50fcdce3e"
      },
      "outputs": [
        {
          "output_type": "stream",
          "name": "stdout",
          "text": [
            "<class 'pandas.core.frame.DataFrame'>\n",
            "RangeIndex: 569740 entries, 0 to 569739\n",
            "Data columns (total 19 columns):\n",
            " #   Column                     Non-Null Count   Dtype  \n",
            "---  ------                     --------------   -----  \n",
            " 0   Person ID                  569740 non-null  int64  \n",
            " 1   Region                     569740 non-null  object \n",
            " 2   Residence Type             569740 non-null  object \n",
            " 3   Family Composition         569740 non-null  int64  \n",
            " 4   Population Base            569740 non-null  int64  \n",
            " 5   Sex                        569740 non-null  int64  \n",
            " 6   Age                        569740 non-null  int64  \n",
            " 7   Marital Status             569740 non-null  int64  \n",
            " 8   Student                    569740 non-null  int64  \n",
            " 9   Country of Birth           569740 non-null  int64  \n",
            " 10  Health                     569740 non-null  int64  \n",
            " 11  Ethnic Group               569740 non-null  int64  \n",
            " 12  Religion                   569740 non-null  int64  \n",
            " 13  Economic Activity          569740 non-null  int64  \n",
            " 14  Occupation                 569740 non-null  int64  \n",
            " 15  Industry                   569740 non-null  int64  \n",
            " 16  Hours worked per week      569740 non-null  int64  \n",
            " 17  No of hours                267419 non-null  float64\n",
            " 18  Approximated Social Grade  569740 non-null  int64  \n",
            "dtypes: float64(1), int64(16), object(2)\n",
            "memory usage: 82.6+ MB\n"
          ]
        }
      ],
      "source": [
        "df.info()"
      ]
    },
    {
      "cell_type": "code",
      "execution_count": null,
      "id": "c0595833",
      "metadata": {
        "id": "c0595833",
        "outputId": "d5bcfad0-d089-43bc-9b6d-46a0ac08443c"
      },
      "outputs": [
        {
          "data": {
            "text/plain": [
              "(569740, 19)"
            ]
          },
          "execution_count": 7,
          "metadata": {},
          "output_type": "execute_result"
        }
      ],
      "source": [
        "df.shape"
      ]
    },
    {
      "cell_type": "markdown",
      "id": "72717742",
      "metadata": {
        "id": "72717742"
      },
      "source": [
        "# Data Preprocessing"
      ]
    },
    {
      "cell_type": "code",
      "execution_count": null,
      "id": "dcbe372c",
      "metadata": {
        "id": "dcbe372c"
      },
      "outputs": [],
      "source": [
        "dff=df.dropna()"
      ]
    },
    {
      "cell_type": "code",
      "execution_count": null,
      "id": "d97f971c",
      "metadata": {
        "colab": {
          "base_uri": "https://localhost:8080/",
          "height": 322
        },
        "id": "d97f971c",
        "outputId": "bed7ce1c-33ca-4ad2-9fe0-bbd7852473b7"
      },
      "outputs": [
        {
          "output_type": "execute_result",
          "data": {
            "text/plain": [
              "        Person ID     Region Residence Type  Family Composition  \\\n",
              "302321    7394645  E12000001              H                   5   \n",
              "302322    7394688  E12000001              H                   2   \n",
              "302323    7394756  E12000001              H                   2   \n",
              "302324    7394737  E12000001              H                   2   \n",
              "302325    7394536  E12000001              H                   5   \n",
              "\n",
              "        Population Base  Sex  Age  Marital Status  Student  Country of Birth  \\\n",
              "302321                1    2    5               4        2                 1   \n",
              "302322                1    2    2               1        1                 1   \n",
              "302323                1    2    5               2        2                 1   \n",
              "302324                1    2    6               2        2                 1   \n",
              "302325                1    2    6               3        2                 1   \n",
              "\n",
              "        Health  Ethnic Group  Religion  Economic Activity  Occupation  \\\n",
              "302321       3             1         2                  2           7   \n",
              "302322       1             1         9                  4           7   \n",
              "302323       3             1         1                  1           9   \n",
              "302324       1             1         2                  1           9   \n",
              "302325       2             1         1                  1           9   \n",
              "\n",
              "        Industry  Hours worked per week  No of hours  \\\n",
              "302321         7                      1          2.0   \n",
              "302322         4                      1          1.0   \n",
              "302323         9                      1         10.0   \n",
              "302324        11                      1          3.0   \n",
              "302325        10                      1          8.0   \n",
              "\n",
              "        Approximated Social Grade  \n",
              "302321                          4  \n",
              "302322                          2  \n",
              "302323                          4  \n",
              "302324                          4  \n",
              "302325                          4  "
            ],
            "text/html": [
              "\n",
              "  <div id=\"df-e67051ca-3011-4b2f-8ab5-030dd68c7eec\">\n",
              "    <div class=\"colab-df-container\">\n",
              "      <div>\n",
              "<style scoped>\n",
              "    .dataframe tbody tr th:only-of-type {\n",
              "        vertical-align: middle;\n",
              "    }\n",
              "\n",
              "    .dataframe tbody tr th {\n",
              "        vertical-align: top;\n",
              "    }\n",
              "\n",
              "    .dataframe thead th {\n",
              "        text-align: right;\n",
              "    }\n",
              "</style>\n",
              "<table border=\"1\" class=\"dataframe\">\n",
              "  <thead>\n",
              "    <tr style=\"text-align: right;\">\n",
              "      <th></th>\n",
              "      <th>Person ID</th>\n",
              "      <th>Region</th>\n",
              "      <th>Residence Type</th>\n",
              "      <th>Family Composition</th>\n",
              "      <th>Population Base</th>\n",
              "      <th>Sex</th>\n",
              "      <th>Age</th>\n",
              "      <th>Marital Status</th>\n",
              "      <th>Student</th>\n",
              "      <th>Country of Birth</th>\n",
              "      <th>Health</th>\n",
              "      <th>Ethnic Group</th>\n",
              "      <th>Religion</th>\n",
              "      <th>Economic Activity</th>\n",
              "      <th>Occupation</th>\n",
              "      <th>Industry</th>\n",
              "      <th>Hours worked per week</th>\n",
              "      <th>No of hours</th>\n",
              "      <th>Approximated Social Grade</th>\n",
              "    </tr>\n",
              "  </thead>\n",
              "  <tbody>\n",
              "    <tr>\n",
              "      <th>302321</th>\n",
              "      <td>7394645</td>\n",
              "      <td>E12000001</td>\n",
              "      <td>H</td>\n",
              "      <td>5</td>\n",
              "      <td>1</td>\n",
              "      <td>2</td>\n",
              "      <td>5</td>\n",
              "      <td>4</td>\n",
              "      <td>2</td>\n",
              "      <td>1</td>\n",
              "      <td>3</td>\n",
              "      <td>1</td>\n",
              "      <td>2</td>\n",
              "      <td>2</td>\n",
              "      <td>7</td>\n",
              "      <td>7</td>\n",
              "      <td>1</td>\n",
              "      <td>2.0</td>\n",
              "      <td>4</td>\n",
              "    </tr>\n",
              "    <tr>\n",
              "      <th>302322</th>\n",
              "      <td>7394688</td>\n",
              "      <td>E12000001</td>\n",
              "      <td>H</td>\n",
              "      <td>2</td>\n",
              "      <td>1</td>\n",
              "      <td>2</td>\n",
              "      <td>2</td>\n",
              "      <td>1</td>\n",
              "      <td>1</td>\n",
              "      <td>1</td>\n",
              "      <td>1</td>\n",
              "      <td>1</td>\n",
              "      <td>9</td>\n",
              "      <td>4</td>\n",
              "      <td>7</td>\n",
              "      <td>4</td>\n",
              "      <td>1</td>\n",
              "      <td>1.0</td>\n",
              "      <td>2</td>\n",
              "    </tr>\n",
              "    <tr>\n",
              "      <th>302323</th>\n",
              "      <td>7394756</td>\n",
              "      <td>E12000001</td>\n",
              "      <td>H</td>\n",
              "      <td>2</td>\n",
              "      <td>1</td>\n",
              "      <td>2</td>\n",
              "      <td>5</td>\n",
              "      <td>2</td>\n",
              "      <td>2</td>\n",
              "      <td>1</td>\n",
              "      <td>3</td>\n",
              "      <td>1</td>\n",
              "      <td>1</td>\n",
              "      <td>1</td>\n",
              "      <td>9</td>\n",
              "      <td>9</td>\n",
              "      <td>1</td>\n",
              "      <td>10.0</td>\n",
              "      <td>4</td>\n",
              "    </tr>\n",
              "    <tr>\n",
              "      <th>302324</th>\n",
              "      <td>7394737</td>\n",
              "      <td>E12000001</td>\n",
              "      <td>H</td>\n",
              "      <td>2</td>\n",
              "      <td>1</td>\n",
              "      <td>2</td>\n",
              "      <td>6</td>\n",
              "      <td>2</td>\n",
              "      <td>2</td>\n",
              "      <td>1</td>\n",
              "      <td>1</td>\n",
              "      <td>1</td>\n",
              "      <td>2</td>\n",
              "      <td>1</td>\n",
              "      <td>9</td>\n",
              "      <td>11</td>\n",
              "      <td>1</td>\n",
              "      <td>3.0</td>\n",
              "      <td>4</td>\n",
              "    </tr>\n",
              "    <tr>\n",
              "      <th>302325</th>\n",
              "      <td>7394536</td>\n",
              "      <td>E12000001</td>\n",
              "      <td>H</td>\n",
              "      <td>5</td>\n",
              "      <td>1</td>\n",
              "      <td>2</td>\n",
              "      <td>6</td>\n",
              "      <td>3</td>\n",
              "      <td>2</td>\n",
              "      <td>1</td>\n",
              "      <td>2</td>\n",
              "      <td>1</td>\n",
              "      <td>1</td>\n",
              "      <td>1</td>\n",
              "      <td>9</td>\n",
              "      <td>10</td>\n",
              "      <td>1</td>\n",
              "      <td>8.0</td>\n",
              "      <td>4</td>\n",
              "    </tr>\n",
              "  </tbody>\n",
              "</table>\n",
              "</div>\n",
              "      <button class=\"colab-df-convert\" onclick=\"convertToInteractive('df-e67051ca-3011-4b2f-8ab5-030dd68c7eec')\"\n",
              "              title=\"Convert this dataframe to an interactive table.\"\n",
              "              style=\"display:none;\">\n",
              "        \n",
              "  <svg xmlns=\"http://www.w3.org/2000/svg\" height=\"24px\"viewBox=\"0 0 24 24\"\n",
              "       width=\"24px\">\n",
              "    <path d=\"M0 0h24v24H0V0z\" fill=\"none\"/>\n",
              "    <path d=\"M18.56 5.44l.94 2.06.94-2.06 2.06-.94-2.06-.94-.94-2.06-.94 2.06-2.06.94zm-11 1L8.5 8.5l.94-2.06 2.06-.94-2.06-.94L8.5 2.5l-.94 2.06-2.06.94zm10 10l.94 2.06.94-2.06 2.06-.94-2.06-.94-.94-2.06-.94 2.06-2.06.94z\"/><path d=\"M17.41 7.96l-1.37-1.37c-.4-.4-.92-.59-1.43-.59-.52 0-1.04.2-1.43.59L10.3 9.45l-7.72 7.72c-.78.78-.78 2.05 0 2.83L4 21.41c.39.39.9.59 1.41.59.51 0 1.02-.2 1.41-.59l7.78-7.78 2.81-2.81c.8-.78.8-2.07 0-2.86zM5.41 20L4 18.59l7.72-7.72 1.47 1.35L5.41 20z\"/>\n",
              "  </svg>\n",
              "      </button>\n",
              "      \n",
              "  <style>\n",
              "    .colab-df-container {\n",
              "      display:flex;\n",
              "      flex-wrap:wrap;\n",
              "      gap: 12px;\n",
              "    }\n",
              "\n",
              "    .colab-df-convert {\n",
              "      background-color: #E8F0FE;\n",
              "      border: none;\n",
              "      border-radius: 50%;\n",
              "      cursor: pointer;\n",
              "      display: none;\n",
              "      fill: #1967D2;\n",
              "      height: 32px;\n",
              "      padding: 0 0 0 0;\n",
              "      width: 32px;\n",
              "    }\n",
              "\n",
              "    .colab-df-convert:hover {\n",
              "      background-color: #E2EBFA;\n",
              "      box-shadow: 0px 1px 2px rgba(60, 64, 67, 0.3), 0px 1px 3px 1px rgba(60, 64, 67, 0.15);\n",
              "      fill: #174EA6;\n",
              "    }\n",
              "\n",
              "    [theme=dark] .colab-df-convert {\n",
              "      background-color: #3B4455;\n",
              "      fill: #D2E3FC;\n",
              "    }\n",
              "\n",
              "    [theme=dark] .colab-df-convert:hover {\n",
              "      background-color: #434B5C;\n",
              "      box-shadow: 0px 1px 3px 1px rgba(0, 0, 0, 0.15);\n",
              "      filter: drop-shadow(0px 1px 2px rgba(0, 0, 0, 0.3));\n",
              "      fill: #FFFFFF;\n",
              "    }\n",
              "  </style>\n",
              "\n",
              "      <script>\n",
              "        const buttonEl =\n",
              "          document.querySelector('#df-e67051ca-3011-4b2f-8ab5-030dd68c7eec button.colab-df-convert');\n",
              "        buttonEl.style.display =\n",
              "          google.colab.kernel.accessAllowed ? 'block' : 'none';\n",
              "\n",
              "        async function convertToInteractive(key) {\n",
              "          const element = document.querySelector('#df-e67051ca-3011-4b2f-8ab5-030dd68c7eec');\n",
              "          const dataTable =\n",
              "            await google.colab.kernel.invokeFunction('convertToInteractive',\n",
              "                                                     [key], {});\n",
              "          if (!dataTable) return;\n",
              "\n",
              "          const docLinkHtml = 'Like what you see? Visit the ' +\n",
              "            '<a target=\"_blank\" href=https://colab.research.google.com/notebooks/data_table.ipynb>data table notebook</a>'\n",
              "            + ' to learn more about interactive tables.';\n",
              "          element.innerHTML = '';\n",
              "          dataTable['output_type'] = 'display_data';\n",
              "          await google.colab.output.renderOutput(dataTable, element);\n",
              "          const docLink = document.createElement('div');\n",
              "          docLink.innerHTML = docLinkHtml;\n",
              "          element.appendChild(docLink);\n",
              "        }\n",
              "      </script>\n",
              "    </div>\n",
              "  </div>\n",
              "  "
            ]
          },
          "metadata": {},
          "execution_count": 48
        }
      ],
      "source": [
        "dff.head()"
      ]
    },
    {
      "cell_type": "code",
      "execution_count": null,
      "id": "2bfc1eb9",
      "metadata": {
        "colab": {
          "base_uri": "https://localhost:8080/"
        },
        "id": "2bfc1eb9",
        "outputId": "51830ba4-eb12-45dc-ee40-2bc5cfe35241"
      },
      "outputs": [
        {
          "output_type": "execute_result",
          "data": {
            "text/plain": [
              "Person ID                       0\n",
              "Region                          0\n",
              "Residence Type                  0\n",
              "Family Composition           2251\n",
              "Population Base                 0\n",
              "Sex                             0\n",
              "Age                             0\n",
              "Marital Status                  0\n",
              "Student                         0\n",
              "Country of Birth                0\n",
              "Health                          0\n",
              "Ethnic Group                    0\n",
              "Religion                        0\n",
              "Economic Activity               0\n",
              "Occupation                      0\n",
              "Industry                        0\n",
              "Hours worked per week           0\n",
              "No of hours                     0\n",
              "Approximated Social Grade    2251\n",
              "dtype: int64"
            ]
          },
          "metadata": {},
          "execution_count": 49
        }
      ],
      "source": [
        "dff.where(dff== -9).count()"
      ]
    },
    {
      "cell_type": "code",
      "execution_count": null,
      "id": "3927d31c",
      "metadata": {
        "id": "3927d31c",
        "outputId": "8bc8a197-582d-4331-865f-eda48ee2abf7"
      },
      "outputs": [
        {
          "name": "stdout",
          "output_type": "stream",
          "text": [
            "<class 'pandas.core.frame.DataFrame'>\n",
            "Int64Index: 267419 entries, 302321 to 569739\n",
            "Data columns (total 19 columns):\n",
            " #   Column                     Non-Null Count   Dtype  \n",
            "---  ------                     --------------   -----  \n",
            " 0   Person ID                  267419 non-null  int64  \n",
            " 1   Region                     267419 non-null  object \n",
            " 2   Residence Type             267419 non-null  object \n",
            " 3   Family Composition         267419 non-null  int64  \n",
            " 4   Population Base            267419 non-null  int64  \n",
            " 5   Sex                        267419 non-null  int64  \n",
            " 6   Age                        267419 non-null  int64  \n",
            " 7   Marital Status             267419 non-null  int64  \n",
            " 8   Student                    267419 non-null  int64  \n",
            " 9   Country of Birth           267419 non-null  int64  \n",
            " 10  Health                     267419 non-null  int64  \n",
            " 11  Ethnic Group               267419 non-null  int64  \n",
            " 12  Religion                   267419 non-null  int64  \n",
            " 13  Economic Activity          267419 non-null  int64  \n",
            " 14  Occupation                 267419 non-null  int64  \n",
            " 15  Industry                   267419 non-null  int64  \n",
            " 16  Hours worked per week      267419 non-null  int64  \n",
            " 17  No of hours                267419 non-null  float64\n",
            " 18  Approximated Social Grade  267419 non-null  int64  \n",
            "dtypes: float64(1), int64(16), object(2)\n",
            "memory usage: 40.8+ MB\n"
          ]
        }
      ],
      "source": [
        "dff.info()"
      ]
    },
    {
      "cell_type": "code",
      "execution_count": null,
      "id": "50e0f775",
      "metadata": {
        "colab": {
          "base_uri": "https://localhost:8080/",
          "height": 537
        },
        "id": "50e0f775",
        "outputId": "b58f34c9-c007-4207-fa08-6f55df2a0d7f"
      },
      "outputs": [
        {
          "output_type": "stream",
          "name": "stderr",
          "text": [
            "<ipython-input-54-01f9daada702>:4: SettingWithCopyWarning: \n",
            "A value is trying to be set on a copy of a slice from a DataFrame.\n",
            "Try using .loc[row_indexer,col_indexer] = value instead\n",
            "\n",
            "See the caveats in the documentation: https://pandas.pydata.org/pandas-docs/stable/user_guide/indexing.html#returning-a-view-versus-a-copy\n",
            "  dff['Region']= le.fit_transform(dff['Region'])\n",
            "<ipython-input-54-01f9daada702>:5: SettingWithCopyWarning: \n",
            "A value is trying to be set on a copy of a slice from a DataFrame.\n",
            "Try using .loc[row_indexer,col_indexer] = value instead\n",
            "\n",
            "See the caveats in the documentation: https://pandas.pydata.org/pandas-docs/stable/user_guide/indexing.html#returning-a-view-versus-a-copy\n",
            "  dff['Residence Type']= le.fit_transform(dff['Residence Type'])\n"
          ]
        },
        {
          "output_type": "execute_result",
          "data": {
            "text/plain": [
              "        Person ID  Region  Residence Type  Family Composition  \\\n",
              "302321    7394645       0               1                   5   \n",
              "302322    7394688       0               1                   2   \n",
              "302323    7394756       0               1                   2   \n",
              "302324    7394737       0               1                   2   \n",
              "302325    7394536       0               1                   5   \n",
              "\n",
              "        Population Base  Sex  Age  Marital Status  Student  Country of Birth  \\\n",
              "302321                1    2    5               4        2                 1   \n",
              "302322                1    2    2               1        1                 1   \n",
              "302323                1    2    5               2        2                 1   \n",
              "302324                1    2    6               2        2                 1   \n",
              "302325                1    2    6               3        2                 1   \n",
              "\n",
              "        Health  Ethnic Group  Religion  Economic Activity  Occupation  \\\n",
              "302321       3             1         2                  2           7   \n",
              "302322       1             1         9                  4           7   \n",
              "302323       3             1         1                  1           9   \n",
              "302324       1             1         2                  1           9   \n",
              "302325       2             1         1                  1           9   \n",
              "\n",
              "        Industry  Hours worked per week  No of hours  \\\n",
              "302321         7                      1          2.0   \n",
              "302322         4                      1          1.0   \n",
              "302323         9                      1         10.0   \n",
              "302324        11                      1          3.0   \n",
              "302325        10                      1          8.0   \n",
              "\n",
              "        Approximated Social Grade  \n",
              "302321                          4  \n",
              "302322                          2  \n",
              "302323                          4  \n",
              "302324                          4  \n",
              "302325                          4  "
            ],
            "text/html": [
              "\n",
              "  <div id=\"df-cbe65c5c-4a5e-44c2-9cbc-7fc690f10afe\">\n",
              "    <div class=\"colab-df-container\">\n",
              "      <div>\n",
              "<style scoped>\n",
              "    .dataframe tbody tr th:only-of-type {\n",
              "        vertical-align: middle;\n",
              "    }\n",
              "\n",
              "    .dataframe tbody tr th {\n",
              "        vertical-align: top;\n",
              "    }\n",
              "\n",
              "    .dataframe thead th {\n",
              "        text-align: right;\n",
              "    }\n",
              "</style>\n",
              "<table border=\"1\" class=\"dataframe\">\n",
              "  <thead>\n",
              "    <tr style=\"text-align: right;\">\n",
              "      <th></th>\n",
              "      <th>Person ID</th>\n",
              "      <th>Region</th>\n",
              "      <th>Residence Type</th>\n",
              "      <th>Family Composition</th>\n",
              "      <th>Population Base</th>\n",
              "      <th>Sex</th>\n",
              "      <th>Age</th>\n",
              "      <th>Marital Status</th>\n",
              "      <th>Student</th>\n",
              "      <th>Country of Birth</th>\n",
              "      <th>Health</th>\n",
              "      <th>Ethnic Group</th>\n",
              "      <th>Religion</th>\n",
              "      <th>Economic Activity</th>\n",
              "      <th>Occupation</th>\n",
              "      <th>Industry</th>\n",
              "      <th>Hours worked per week</th>\n",
              "      <th>No of hours</th>\n",
              "      <th>Approximated Social Grade</th>\n",
              "    </tr>\n",
              "  </thead>\n",
              "  <tbody>\n",
              "    <tr>\n",
              "      <th>302321</th>\n",
              "      <td>7394645</td>\n",
              "      <td>0</td>\n",
              "      <td>1</td>\n",
              "      <td>5</td>\n",
              "      <td>1</td>\n",
              "      <td>2</td>\n",
              "      <td>5</td>\n",
              "      <td>4</td>\n",
              "      <td>2</td>\n",
              "      <td>1</td>\n",
              "      <td>3</td>\n",
              "      <td>1</td>\n",
              "      <td>2</td>\n",
              "      <td>2</td>\n",
              "      <td>7</td>\n",
              "      <td>7</td>\n",
              "      <td>1</td>\n",
              "      <td>2.0</td>\n",
              "      <td>4</td>\n",
              "    </tr>\n",
              "    <tr>\n",
              "      <th>302322</th>\n",
              "      <td>7394688</td>\n",
              "      <td>0</td>\n",
              "      <td>1</td>\n",
              "      <td>2</td>\n",
              "      <td>1</td>\n",
              "      <td>2</td>\n",
              "      <td>2</td>\n",
              "      <td>1</td>\n",
              "      <td>1</td>\n",
              "      <td>1</td>\n",
              "      <td>1</td>\n",
              "      <td>1</td>\n",
              "      <td>9</td>\n",
              "      <td>4</td>\n",
              "      <td>7</td>\n",
              "      <td>4</td>\n",
              "      <td>1</td>\n",
              "      <td>1.0</td>\n",
              "      <td>2</td>\n",
              "    </tr>\n",
              "    <tr>\n",
              "      <th>302323</th>\n",
              "      <td>7394756</td>\n",
              "      <td>0</td>\n",
              "      <td>1</td>\n",
              "      <td>2</td>\n",
              "      <td>1</td>\n",
              "      <td>2</td>\n",
              "      <td>5</td>\n",
              "      <td>2</td>\n",
              "      <td>2</td>\n",
              "      <td>1</td>\n",
              "      <td>3</td>\n",
              "      <td>1</td>\n",
              "      <td>1</td>\n",
              "      <td>1</td>\n",
              "      <td>9</td>\n",
              "      <td>9</td>\n",
              "      <td>1</td>\n",
              "      <td>10.0</td>\n",
              "      <td>4</td>\n",
              "    </tr>\n",
              "    <tr>\n",
              "      <th>302324</th>\n",
              "      <td>7394737</td>\n",
              "      <td>0</td>\n",
              "      <td>1</td>\n",
              "      <td>2</td>\n",
              "      <td>1</td>\n",
              "      <td>2</td>\n",
              "      <td>6</td>\n",
              "      <td>2</td>\n",
              "      <td>2</td>\n",
              "      <td>1</td>\n",
              "      <td>1</td>\n",
              "      <td>1</td>\n",
              "      <td>2</td>\n",
              "      <td>1</td>\n",
              "      <td>9</td>\n",
              "      <td>11</td>\n",
              "      <td>1</td>\n",
              "      <td>3.0</td>\n",
              "      <td>4</td>\n",
              "    </tr>\n",
              "    <tr>\n",
              "      <th>302325</th>\n",
              "      <td>7394536</td>\n",
              "      <td>0</td>\n",
              "      <td>1</td>\n",
              "      <td>5</td>\n",
              "      <td>1</td>\n",
              "      <td>2</td>\n",
              "      <td>6</td>\n",
              "      <td>3</td>\n",
              "      <td>2</td>\n",
              "      <td>1</td>\n",
              "      <td>2</td>\n",
              "      <td>1</td>\n",
              "      <td>1</td>\n",
              "      <td>1</td>\n",
              "      <td>9</td>\n",
              "      <td>10</td>\n",
              "      <td>1</td>\n",
              "      <td>8.0</td>\n",
              "      <td>4</td>\n",
              "    </tr>\n",
              "  </tbody>\n",
              "</table>\n",
              "</div>\n",
              "      <button class=\"colab-df-convert\" onclick=\"convertToInteractive('df-cbe65c5c-4a5e-44c2-9cbc-7fc690f10afe')\"\n",
              "              title=\"Convert this dataframe to an interactive table.\"\n",
              "              style=\"display:none;\">\n",
              "        \n",
              "  <svg xmlns=\"http://www.w3.org/2000/svg\" height=\"24px\"viewBox=\"0 0 24 24\"\n",
              "       width=\"24px\">\n",
              "    <path d=\"M0 0h24v24H0V0z\" fill=\"none\"/>\n",
              "    <path d=\"M18.56 5.44l.94 2.06.94-2.06 2.06-.94-2.06-.94-.94-2.06-.94 2.06-2.06.94zm-11 1L8.5 8.5l.94-2.06 2.06-.94-2.06-.94L8.5 2.5l-.94 2.06-2.06.94zm10 10l.94 2.06.94-2.06 2.06-.94-2.06-.94-.94-2.06-.94 2.06-2.06.94z\"/><path d=\"M17.41 7.96l-1.37-1.37c-.4-.4-.92-.59-1.43-.59-.52 0-1.04.2-1.43.59L10.3 9.45l-7.72 7.72c-.78.78-.78 2.05 0 2.83L4 21.41c.39.39.9.59 1.41.59.51 0 1.02-.2 1.41-.59l7.78-7.78 2.81-2.81c.8-.78.8-2.07 0-2.86zM5.41 20L4 18.59l7.72-7.72 1.47 1.35L5.41 20z\"/>\n",
              "  </svg>\n",
              "      </button>\n",
              "      \n",
              "  <style>\n",
              "    .colab-df-container {\n",
              "      display:flex;\n",
              "      flex-wrap:wrap;\n",
              "      gap: 12px;\n",
              "    }\n",
              "\n",
              "    .colab-df-convert {\n",
              "      background-color: #E8F0FE;\n",
              "      border: none;\n",
              "      border-radius: 50%;\n",
              "      cursor: pointer;\n",
              "      display: none;\n",
              "      fill: #1967D2;\n",
              "      height: 32px;\n",
              "      padding: 0 0 0 0;\n",
              "      width: 32px;\n",
              "    }\n",
              "\n",
              "    .colab-df-convert:hover {\n",
              "      background-color: #E2EBFA;\n",
              "      box-shadow: 0px 1px 2px rgba(60, 64, 67, 0.3), 0px 1px 3px 1px rgba(60, 64, 67, 0.15);\n",
              "      fill: #174EA6;\n",
              "    }\n",
              "\n",
              "    [theme=dark] .colab-df-convert {\n",
              "      background-color: #3B4455;\n",
              "      fill: #D2E3FC;\n",
              "    }\n",
              "\n",
              "    [theme=dark] .colab-df-convert:hover {\n",
              "      background-color: #434B5C;\n",
              "      box-shadow: 0px 1px 3px 1px rgba(0, 0, 0, 0.15);\n",
              "      filter: drop-shadow(0px 1px 2px rgba(0, 0, 0, 0.3));\n",
              "      fill: #FFFFFF;\n",
              "    }\n",
              "  </style>\n",
              "\n",
              "      <script>\n",
              "        const buttonEl =\n",
              "          document.querySelector('#df-cbe65c5c-4a5e-44c2-9cbc-7fc690f10afe button.colab-df-convert');\n",
              "        buttonEl.style.display =\n",
              "          google.colab.kernel.accessAllowed ? 'block' : 'none';\n",
              "\n",
              "        async function convertToInteractive(key) {\n",
              "          const element = document.querySelector('#df-cbe65c5c-4a5e-44c2-9cbc-7fc690f10afe');\n",
              "          const dataTable =\n",
              "            await google.colab.kernel.invokeFunction('convertToInteractive',\n",
              "                                                     [key], {});\n",
              "          if (!dataTable) return;\n",
              "\n",
              "          const docLinkHtml = 'Like what you see? Visit the ' +\n",
              "            '<a target=\"_blank\" href=https://colab.research.google.com/notebooks/data_table.ipynb>data table notebook</a>'\n",
              "            + ' to learn more about interactive tables.';\n",
              "          element.innerHTML = '';\n",
              "          dataTable['output_type'] = 'display_data';\n",
              "          await google.colab.output.renderOutput(dataTable, element);\n",
              "          const docLink = document.createElement('div');\n",
              "          docLink.innerHTML = docLinkHtml;\n",
              "          element.appendChild(docLink);\n",
              "        }\n",
              "      </script>\n",
              "    </div>\n",
              "  </div>\n",
              "  "
            ]
          },
          "metadata": {},
          "execution_count": 54
        }
      ],
      "source": [
        "# Label Encoding\n",
        "from sklearn.preprocessing import LabelEncoder\n",
        "le = LabelEncoder()\n",
        "dff['Region']= le.fit_transform(dff['Region'])\n",
        "dff['Residence Type']= le.fit_transform(dff['Residence Type'])\n",
        "dff.head()"
      ]
    },
    {
      "cell_type": "code",
      "execution_count": null,
      "id": "73461a5b",
      "metadata": {
        "id": "73461a5b",
        "outputId": "fce0a6ed-b5e5-4264-8bc0-1730bfe2fde6"
      },
      "outputs": [
        {
          "data": {
            "text/plain": [
              " 2    95171\n",
              " 1    58890\n",
              " 4    57997\n",
              " 3    53110\n",
              "-9     2251\n",
              "Name: Approximated Social Grade, dtype: int64"
            ]
          },
          "execution_count": 13,
          "metadata": {},
          "output_type": "execute_result"
        }
      ],
      "source": [
        "dff['Approximated Social Grade'].value_counts()"
      ]
    },
    {
      "cell_type": "code",
      "execution_count": null,
      "id": "ddfc92da",
      "metadata": {
        "id": "ddfc92da",
        "outputId": "c1263964-015d-4a1f-c1a7-a3a133002470"
      },
      "outputs": [
        {
          "data": {
            "text/plain": [
              "False"
            ]
          },
          "execution_count": 14,
          "metadata": {},
          "output_type": "execute_result"
        }
      ],
      "source": [
        "dff.isnull().values.any()"
      ]
    },
    {
      "cell_type": "code",
      "execution_count": null,
      "id": "0e64d9e2",
      "metadata": {
        "id": "0e64d9e2",
        "outputId": "8a758a44-0349-44ba-bfb9-aef43a5f93aa"
      },
      "outputs": [
        {
          "data": {
            "text/plain": [
              "Person ID                    7.677728e+06\n",
              "Region                       4.732962e+00\n",
              "Residence Type               9.935457e-01\n",
              "Family Composition           2.220123e+00\n",
              "Population Base              1.004248e+00\n",
              "Sex                          1.470438e+00\n",
              "Age                          4.159544e+00\n",
              "Marital Status               1.884290e+00\n",
              "Student                      1.959752e+00\n",
              "Country of Birth             1.156859e+00\n",
              "Health                       1.623972e+00\n",
              "Ethnic Group                 1.266817e+00\n",
              "Religion                     2.452851e+00\n",
              "Economic Activity            1.272684e+00\n",
              "Occupation                   4.602485e+00\n",
              "Industry                     6.742973e+00\n",
              "Hours worked per week        2.745299e+00\n",
              "No of hours                  3.523479e+01\n",
              "Approximated Social Grade    2.319547e+00\n",
              "dtype: float64"
            ]
          },
          "execution_count": 15,
          "metadata": {},
          "output_type": "execute_result"
        }
      ],
      "source": [
        "dff.mean()"
      ]
    },
    {
      "cell_type": "code",
      "execution_count": null,
      "id": "573bfb37",
      "metadata": {
        "id": "573bfb37",
        "outputId": "19392904-e668-45c6-ca5b-3f858f17ab0b"
      },
      "outputs": [
        {
          "data": {
            "text/plain": [
              "Person ID                    7675248.0\n",
              "Region                             5.0\n",
              "Residence Type                     1.0\n",
              "Family Composition                 2.0\n",
              "Population Base                    1.0\n",
              "Sex                                1.0\n",
              "Age                                4.0\n",
              "Marital Status                     2.0\n",
              "Student                            2.0\n",
              "Country of Birth                   1.0\n",
              "Health                             2.0\n",
              "Ethnic Group                       1.0\n",
              "Religion                           2.0\n",
              "Economic Activity                  1.0\n",
              "Occupation                         4.0\n",
              "Industry                           7.0\n",
              "Hours worked per week              3.0\n",
              "No of hours                       37.0\n",
              "Approximated Social Grade          2.0\n",
              "dtype: float64"
            ]
          },
          "execution_count": 16,
          "metadata": {},
          "output_type": "execute_result"
        }
      ],
      "source": [
        "dff.median()"
      ]
    },
    {
      "cell_type": "code",
      "execution_count": null,
      "id": "daa09bc6",
      "metadata": {
        "id": "daa09bc6",
        "outputId": "a6bd67b6-1d68-471c-c534-9cff0118c4d3"
      },
      "outputs": [
        {
          "data": {
            "text/plain": [
              "Person ID                     0.028261\n",
              "Region                       -0.215887\n",
              "Residence Type              -12.326552\n",
              "Family Composition           -2.848333\n",
              "Population Base              21.629042\n",
              "Sex                           0.118457\n",
              "Age                           0.161074\n",
              "Marital Status                1.314563\n",
              "Student                      -4.678496\n",
              "Country of Birth              1.887126\n",
              "Health                        1.061679\n",
              "Ethnic Group                  2.904741\n",
              "Religion                      2.308675\n",
              "Economic Activity             2.943546\n",
              "Occupation                    0.298888\n",
              "Industry                      0.027345\n",
              "Hours worked per week        -0.614205\n",
              "No of hours                  -0.528415\n",
              "Approximated Social Grade    -3.558847\n",
              "dtype: float64"
            ]
          },
          "execution_count": 17,
          "metadata": {},
          "output_type": "execute_result"
        }
      ],
      "source": [
        "#Checking skewness\n",
        "dff.skew()"
      ]
    },
    {
      "cell_type": "code",
      "execution_count": null,
      "id": "a526f93c",
      "metadata": {
        "id": "a526f93c",
        "outputId": "e3065e9c-d759-4afc-9ceb-15b6cde9f908"
      },
      "outputs": [
        {
          "data": {
            "text/plain": [
              "Person ID                     -1.195954\n",
              "Region                        -1.122673\n",
              "Residence Type               149.945012\n",
              "Family Composition            24.525678\n",
              "Population Base              465.818959\n",
              "Sex                           -1.985983\n",
              "Age                           -0.700429\n",
              "Marital Status                 1.452455\n",
              "Student                       19.888469\n",
              "Country of Birth               1.561256\n",
              "Health                         1.232724\n",
              "Ethnic Group                   7.584502\n",
              "Religion                       4.176030\n",
              "Economic Activity              8.754919\n",
              "Occupation                    -1.144673\n",
              "Industry                      -1.321146\n",
              "Hours worked per week          0.057881\n",
              "No of hours                   -0.211339\n",
              "Approximated Social Grade     25.986435\n",
              "dtype: float64"
            ]
          },
          "execution_count": 18,
          "metadata": {},
          "output_type": "execute_result"
        }
      ],
      "source": [
        "#Checking kurtosis\n",
        "dff.kurtosis()"
      ]
    },
    {
      "cell_type": "code",
      "execution_count": null,
      "id": "20edbe99",
      "metadata": {
        "id": "20edbe99",
        "outputId": "672972db-9c0b-49df-a47d-319a9b0fcab5"
      },
      "outputs": [
        {
          "name": "stderr",
          "output_type": "stream",
          "text": [
            "C:\\Users\\UP2131~1\\AppData\\Local\\Temp/ipykernel_3032/2633177056.py:2: SettingWithCopyWarning: \n",
            "A value is trying to be set on a copy of a slice from a DataFrame.\n",
            "Try using .loc[row_indexer,col_indexer] = value instead\n",
            "\n",
            "See the caveats in the documentation: https://pandas.pydata.org/pandas-docs/stable/user_guide/indexing.html#returning-a-view-versus-a-copy\n",
            "  dff['No of hours']= dff['No of hours'].astype('int64')\n"
          ]
        }
      ],
      "source": [
        "#Converting  No of hours  to int\n",
        "dff['No of hours']= dff['No of hours'].astype('int64')"
      ]
    },
    {
      "cell_type": "code",
      "execution_count": null,
      "id": "1d3a4ef9",
      "metadata": {
        "id": "1d3a4ef9"
      },
      "outputs": [],
      "source": [
        "def detect_outliers(x):\n",
        "    q1, q3 = np.percentile(x, [25, 75])\n",
        "    iqr = q3 - q1\n",
        "    lower_bound = q1 - (1.5 * iqr)\n",
        "    upper_bound = q3 + (1.5 * iqr)\n",
        "    return np.where((x > upper_bound) | (x < lower_bound))"
      ]
    },
    {
      "cell_type": "markdown",
      "id": "c72a09f3",
      "metadata": {
        "id": "c72a09f3"
      },
      "source": [
        "# Visulizetion"
      ]
    },
    {
      "cell_type": "markdown",
      "id": "ebb3a0d8",
      "metadata": {
        "id": "ebb3a0d8"
      },
      "source": [
        "# Classification"
      ]
    },
    {
      "cell_type": "code",
      "source": [
        "LIMIT = 500000\n",
        "dff = dff[:LIMIT]"
      ],
      "metadata": {
        "id": "upEFvZbD13Yg"
      },
      "id": "upEFvZbD13Yg",
      "execution_count": null,
      "outputs": []
    },
    {
      "cell_type": "code",
      "source": [
        "dff.where(dff== -9).count()"
      ],
      "metadata": {
        "colab": {
          "base_uri": "https://localhost:8080/"
        },
        "id": "RNRlb_ei4yR5",
        "outputId": "802eaf0e-fc0c-4bbe-9105-a274a834db39"
      },
      "id": "RNRlb_ei4yR5",
      "execution_count": null,
      "outputs": [
        {
          "output_type": "execute_result",
          "data": {
            "text/plain": [
              "Person ID                       0\n",
              "Region                          0\n",
              "Residence Type                  0\n",
              "Family Composition           2251\n",
              "Population Base                 0\n",
              "Sex                             0\n",
              "Age                             0\n",
              "Marital Status                  0\n",
              "Student                         0\n",
              "Country of Birth                0\n",
              "Health                          0\n",
              "Ethnic Group                    0\n",
              "Religion                        0\n",
              "Economic Activity               0\n",
              "Occupation                      0\n",
              "Industry                        0\n",
              "Hours worked per week           0\n",
              "No of hours                     0\n",
              "Approximated Social Grade    2251\n",
              "dtype: int64"
            ]
          },
          "metadata": {},
          "execution_count": 50
        }
      ]
    },
    {
      "cell_type": "code",
      "execution_count": null,
      "id": "433379c0",
      "metadata": {
        "id": "433379c0"
      },
      "outputs": [],
      "source": [
        "X = dff.drop(['Approximated Social Grade'], axis = 1)\n",
        "y = dff['Approximated Social Grade']"
      ]
    },
    {
      "cell_type": "code",
      "execution_count": null,
      "id": "07b46185",
      "metadata": {
        "id": "07b46185"
      },
      "outputs": [],
      "source": [
        "from sklearn.model_selection import train_test_split\n",
        "X_train, X_test, y_train, y_test = train_test_split(X, y, test_size = 0.3, random_state=10)"
      ]
    },
    {
      "cell_type": "code",
      "execution_count": null,
      "id": "ad888232",
      "metadata": {
        "id": "ad888232"
      },
      "outputs": [],
      "source": [
        "from sklearn.preprocessing import StandardScaler\n",
        "sc_X=StandardScaler()\n",
        "X_train=sc_X.fit_transform(X_train)\n",
        "X_test=sc_X.transform(X_test)"
      ]
    },
    {
      "cell_type": "code",
      "execution_count": null,
      "id": "1a7b8ea9",
      "metadata": {
        "colab": {
          "base_uri": "https://localhost:8080/"
        },
        "id": "1a7b8ea9",
        "outputId": "b5dc5211-d0d5-4eda-ac63-d9514aebab1d"
      },
      "outputs": [
        {
          "output_type": "stream",
          "name": "stdout",
          "text": [
            "RandomForest Accuracy:\t\t 0.9066666666666666\n",
            "hgc Accuracy:\t\t\t 0.9\n",
            "etc Accuracy:\t\t\t 0.8666666666666667\n"
          ]
        }
      ],
      "source": [
        "#RandomForest\n",
        "randomForest=RandomForestClassifier(n_estimators=100,criterion='entropy',random_state=0)\n",
        "randomForest.fit(X_train,y_train)\n",
        "randomForestPred=randomForest.predict(X_test)\n",
        "randomForestAcu=accuracy_score(randomForestPred,y_test)\n",
        "\n",
        "#hgc\n",
        "hgc = HistGradientBoostingClassifier()\n",
        "hgc.fit(X_train, y_train)\n",
        "hgc_pred = hgc.predict(X_test)\n",
        "hgc_Acu = accuracy_score(y_test, hgc_pred)\n",
        "\n",
        "\n",
        "#etc\n",
        "etc = ExtraTreesClassifier(n_estimators=100, random_state=10)\n",
        "etc.fit(X_train, y_train)\n",
        "etc_pred = etc.predict(X_test)\n",
        "etc_Acu = accuracy_score(y_test, etc_pred)\n",
        "\n",
        "\n",
        "print('RandomForest Accuracy:\\t\\t',randomForestAcu)\n",
        "print('hgc Accuracy:\\t\\t\\t',hgc_Acu)\n",
        "print('etc Accuracy:\\t\\t\\t',etc_Acu)"
      ]
    },
    {
      "cell_type": "code",
      "execution_count": null,
      "id": "4d81cdba",
      "metadata": {
        "colab": {
          "base_uri": "https://localhost:8080/",
          "height": 391
        },
        "id": "4d81cdba",
        "outputId": "30b053dd-e312-4dc6-a4f0-410b13ac2543"
      },
      "outputs": [
        {
          "output_type": "display_data",
          "data": {
            "text/plain": [
              "<Figure size 720x432 with 1 Axes>"
            ],
            "image/png": "[encoded data removed]"
          },
          "metadata": {
            "needs_background": "light"
          }
        }
      ],
      "source": [
        "data = pd.DataFrame({'A':['RandomForest','Hist_Gradient_Boosting',' ExtraTrees_Classifier'],\n",
        "                     'B':[randomForestAcu,hgc_Acu,etc_Acu]\n",
        "                    })\n",
        "\n",
        "percentage = []\n",
        "for i in range(data.shape[0]):\n",
        "    pct = (data.B[i]) * 100\n",
        "    percentage.append(round(pct,2))\n",
        "data['Percentage'] = percentage\n",
        "\n",
        "plt.figure(figsize=(10,6))\n",
        "plt.title(\"ACCURACY\")\n",
        "colors_list = ['Olive','Gray', 'Teal', 'Purple','maroon']\n",
        "graph = plt.bar(data.A,data.B, color = colors_list)\n",
        "\n",
        "i = 0\n",
        "for p in graph:\n",
        "    width = p.get_width()\n",
        "    height = p.get_height()\n",
        "    x, y = p.get_xy()\n",
        "    plt.text(x+width/2,\n",
        "             y+height*1.01,\n",
        "             str(data.Percentage[i])+'%',\n",
        "             ha='center',\n",
        "             weight='bold')\n",
        "    i+=1\n",
        "plt.show()"
      ]
    },
    {
      "cell_type": "code",
      "execution_count": null,
      "id": "ff0d2993",
      "metadata": {
        "id": "ff0d2993"
      },
      "outputs": [],
      "source": [
        "from sklearn.metrics import confusion_matrix,accuracy_score, classification_report\n",
        "from sklearn.metrics import ConfusionMatrixDisplay"
      ]
    },
    {
      "cell_type": "code",
      "execution_count": null,
      "id": "24b54827",
      "metadata": {
        "colab": {
          "base_uri": "https://localhost:8080/"
        },
        "id": "24b54827",
        "outputId": "77141d92-b1da-4375-eac0-928acac29753"
      },
      "outputs": [
        {
          "output_type": "stream",
          "name": "stdout",
          "text": [
            "              precision    recall  f1-score   support\n",
            "\n",
            "           1       0.89      0.62      0.73        13\n",
            "           2       0.93      0.99      0.96        67\n",
            "           3       0.72      0.81      0.76        16\n",
            "           4       0.94      0.91      0.92        54\n",
            "\n",
            "    accuracy                           0.91       150\n",
            "   macro avg       0.87      0.83      0.84       150\n",
            "weighted avg       0.91      0.91      0.90       150\n",
            "\n",
            "              precision    recall  f1-score   support\n",
            "\n",
            "           1       0.75      0.69      0.72        13\n",
            "           2       0.94      0.96      0.95        67\n",
            "           3       0.70      0.88      0.78        16\n",
            "           4       0.96      0.89      0.92        54\n",
            "\n",
            "    accuracy                           0.90       150\n",
            "   macro avg       0.84      0.85      0.84       150\n",
            "weighted avg       0.91      0.90      0.90       150\n",
            "\n",
            "              precision    recall  f1-score   support\n",
            "\n",
            "           1       0.78      0.54      0.64        13\n",
            "           2       0.89      0.97      0.93        67\n",
            "           3       0.67      0.62      0.65        16\n",
            "           4       0.91      0.89      0.90        54\n",
            "\n",
            "    accuracy                           0.87       150\n",
            "   macro avg       0.81      0.76      0.78       150\n",
            "weighted avg       0.86      0.87      0.86       150\n",
            "\n"
          ]
        }
      ],
      "source": [
        "#Random Forest\n",
        "RF= RandomForestClassifier(n_estimators=100,criterion='entropy',random_state=0)\n",
        "RF.fit(X_train, y_train)\n",
        "y_pred = RF.predict(X_test)\n",
        "#HistGradientBoosting\n",
        "hgc = HistGradientBoostingClassifier()\n",
        "hgc.fit(X_train, y_train)\n",
        "hgc_pred = hgc.predict(X_test)\n",
        "#Extra tree\n",
        "etc = ExtraTreesClassifier(n_estimators=100, random_state=10)\n",
        "etc.fit(X_train, y_train)\n",
        "etc_pred = etc.predict(X_test)\n",
        "\n",
        "print(classification_report(y_test,y_pred, zero_division=1))\n",
        "print(classification_report(y_test,hgc_pred, zero_division=1))\n",
        "print(classification_report(y_test,etc_pred, zero_division=1))"
      ]
    },
    {
      "cell_type": "code",
      "execution_count": null,
      "id": "9d3558b1",
      "metadata": {
        "colab": {
          "base_uri": "https://localhost:8080/"
        },
        "id": "9d3558b1",
        "outputId": "1bee0547-cc36-4bf3-bfcb-edcbf520f229"
      },
      "outputs": [
        {
          "output_type": "stream",
          "name": "stdout",
          "text": [
            "Confusion Matrix:\n",
            " [[ 8  5  0  0]\n",
            " [ 1 66  0  0]\n",
            " [ 0  0 13  3]\n",
            " [ 0  0  5 49]]\n",
            "Accuracy Score: 0.9066666666666666\n"
          ]
        }
      ],
      "source": [
        "#RF Model performance Report\n",
        "print('Confusion Matrix:\\n',confusion_matrix(y_test, y_pred))\n",
        "print('Accuracy Score:',accuracy_score(y_test, y_pred))"
      ]
    },
    {
      "cell_type": "code",
      "execution_count": null,
      "id": "71a52d7c",
      "metadata": {
        "colab": {
          "base_uri": "https://localhost:8080/"
        },
        "id": "71a52d7c",
        "outputId": "d4c28a17-3d6a-48d6-93b2-89a8a6af24bc"
      },
      "outputs": [
        {
          "output_type": "stream",
          "name": "stdout",
          "text": [
            "Confusion Matrix:\n",
            " [[ 9  4  0  0]\n",
            " [ 3 64  0  0]\n",
            " [ 0  0 14  2]\n",
            " [ 0  0  6 48]]\n",
            "Accuracy Score: 0.9\n"
          ]
        }
      ],
      "source": [
        "#HGC Model performance Report\n",
        "print('Confusion Matrix:\\n',confusion_matrix(y_test, hgc_pred))\n",
        "print('Accuracy Score:',accuracy_score(y_test,hgc_pred))"
      ]
    },
    {
      "cell_type": "code",
      "execution_count": null,
      "id": "68d418b5",
      "metadata": {
        "colab": {
          "base_uri": "https://localhost:8080/"
        },
        "id": "68d418b5",
        "outputId": "f17ae2f1-3888-47ba-ce5e-1fffb01ef135"
      },
      "outputs": [
        {
          "output_type": "stream",
          "name": "stdout",
          "text": [
            "Confusion Matrix:\n",
            " [[ 7  6  0  0]\n",
            " [ 2 65  0  0]\n",
            " [ 0  1 10  5]\n",
            " [ 0  1  5 48]]\n",
            "Accuracy Score: 0.8666666666666667\n"
          ]
        }
      ],
      "source": [
        "#ETC Model performance Report\n",
        "print('Confusion Matrix:\\n',confusion_matrix(y_test, etc_pred))\n",
        "print('Accuracy Score:',accuracy_score(y_test,etc_pred))"
      ]
    },
    {
      "cell_type": "code",
      "execution_count": null,
      "id": "77062034",
      "metadata": {
        "colab": {
          "base_uri": "https://localhost:8080/",
          "height": 295
        },
        "id": "77062034",
        "outputId": "9566dc42-e376-45ed-c853-70cbca7b3efe"
      },
      "outputs": [
        {
          "output_type": "display_data",
          "data": {
            "text/plain": [
              "<Figure size 432x288 with 2 Axes>"
            ],
            "image/png": "[encoded data removed]"
          },
          "metadata": {
            "needs_background": "light"
          }
        }
      ],
      "source": [
        "#Random Forest Confusion Matrix\n",
        "Conf_mat = confusion_matrix(RF.predict(X_test),y_test)\n",
        "disp = ConfusionMatrixDisplay(Conf_mat, display_labels=[\"-9\",\"1\",\"2\",\"3\",\"4\"])\n",
        "disp.plot(cmap='plasma')\n",
        "plt.title(\"Confusion Matrix\")\n",
        "plt.show()"
      ]
    },
    {
      "cell_type": "code",
      "execution_count": null,
      "id": "491d7395",
      "metadata": {
        "colab": {
          "base_uri": "https://localhost:8080/",
          "height": 295
        },
        "id": "491d7395",
        "outputId": "be459359-ed85-4e18-fc1a-16cb603941a6"
      },
      "outputs": [
        {
          "output_type": "display_data",
          "data": {
            "text/plain": [
              "<Figure size 432x288 with 2 Axes>"
            ],
            "image/png": "[encoded data removed]"
          },
          "metadata": {
            "needs_background": "light"
          }
        }
      ],
      "source": [
        "#hgc Confusion Matrix\n",
        "Conf_mat = confusion_matrix(hgc.predict(X_test),y_test)\n",
        "disp = ConfusionMatrixDisplay(Conf_mat, display_labels=[\"-9\",\"1\",\"2\",\"3\",\"4\"])\n",
        "disp.plot(cmap='plasma')\n",
        "plt.title(\"Confusion Matrix\")\n",
        "plt.show()"
      ]
    },
    {
      "cell_type": "code",
      "execution_count": null,
      "id": "0581730b",
      "metadata": {
        "colab": {
          "base_uri": "https://localhost:8080/",
          "height": 295
        },
        "id": "0581730b",
        "outputId": "f24d6212-26d9-4bab-bfee-081017fe9d5d"
      },
      "outputs": [
        {
          "output_type": "display_data",
          "data": {
            "text/plain": [
              "<Figure size 432x288 with 2 Axes>"
            ],
            "image/png": "[encoded data removed]"
          },
          "metadata": {
            "needs_background": "light"
          }
        }
      ],
      "source": [
        "#extra tree Confusion Matrix\n",
        "Conf_mat = confusion_matrix(etc.predict(X_test),y_test)\n",
        "disp = ConfusionMatrixDisplay(Conf_mat, display_labels=[\"-9\",\"1\",\"2\",\"3\",\"4\"])\n",
        "disp.plot(cmap='plasma')\n",
        "plt.title(\"Confusion Matrix\")\n",
        "plt.show()"
      ]
    },
    {
      "cell_type": "code",
      "execution_count": null,
      "id": "16ce331c",
      "metadata": {
        "id": "16ce331c"
      },
      "outputs": [],
      "source": [
        "from sklearn.metrics import roc_curve\n",
        "from sklearn.metrics import auc\n",
        "from sklearn.multiclass import OneVsRestClassifier\n",
        "from sklearn.preprocessing import label_binarize\n",
        "from itertools import cycle"
      ]
    },
    {
      "cell_type": "code",
      "source": [
        "#RandomForest\n",
        "\n",
        "classifier = RandomForestClassifier(random_state=0)\n",
        "y_score = classifier.fit(X_train, y_train).predict_proba(X_test)\n",
        "\n",
        "y_test_bin = label_binarize(y_test, classes=[-9, 1, 2, 3, 4])\n",
        "n_classes = y_test_bin.shape[1]\n",
        "\n",
        "\n",
        "\n",
        "fpr = dict()\n",
        "tpr = dict()\n",
        "roc_auc = dict()\n",
        "for i in range(n_classes):\n",
        "    fpr[i], tpr[i], _ = roc_curve(y_test_bin[:, i], y_score[:, i])\n",
        "    roc_auc[i] = auc(fpr[i], tpr[i])\n",
        "colors = cycle(['blue', 'red', 'green','Orange','Purple'])\n",
        "for i, color in zip(range(n_classes), colors):\n",
        "    plt.plot(fpr[i], tpr[i], color=color,\n",
        "             label='ROC curve of class {0} (area = {1:0.2f})'\n",
        "             ''.format(i, roc_auc[i]))\n",
        "\n",
        "plt.plot([0, 1], [0, 1], 'k--')\n",
        "plt.xlim([-0.05, 1.0])\n",
        "plt.ylim([0.0, 1.05])\n",
        "plt.xlabel('False Positive Rate')\n",
        "plt.ylabel('True Positive Rate')\n",
        "plt.title('RandomForest')\n",
        "plt.legend(loc=\"lower right\")\n",
        "plt.show()"
      ],
      "metadata": {
        "colab": {
          "base_uri": "https://localhost:8080/",
          "height": 295
        },
        "id": "34R07Res0uXC",
        "outputId": "b8f58ce4-be13-429e-826f-e9300089781f"
      },
      "id": "34R07Res0uXC",
      "execution_count": null,
      "outputs": [
        {
          "output_type": "display_data",
          "data": {
            "text/plain": [
              "<Figure size 432x288 with 1 Axes>"
            ],
            "image/png": "[encoded data removed]"
          },
          "metadata": {
            "needs_background": "light"
          }
        }
      ]
    },
    {
      "cell_type": "code",
      "source": [
        "#HistGradientBoosting\n",
        "\n",
        "classifier = HistGradientBoostingClassifier(random_state=0)\n",
        "y_score = classifier.fit(X_train, y_train).predict_proba(X_test)\n",
        "\n",
        "y_test_bin = label_binarize(y_test, classes=[-9, 1, 2, 3, 4])\n",
        "n_classes = y_test_bin.shape[1]\n",
        "\n",
        "\n",
        "\n",
        "fpr = dict()\n",
        "tpr = dict()\n",
        "roc_auc = dict()\n",
        "for i in range(n_classes):\n",
        "    fpr[i], tpr[i], _ = roc_curve(y_test_bin[:, i], y_score[:, i])\n",
        "    roc_auc[i] = auc(fpr[i], tpr[i])\n",
        "colors = cycle(['blue', 'red', 'green','Orange','Purple'])\n",
        "for i, color in zip(range(n_classes), colors):\n",
        "    plt.plot(fpr[i], tpr[i], color=color,\n",
        "             label='ROC curve of class {0} (area = {1:0.2f})'\n",
        "             ''.format(i, roc_auc[i]))\n",
        "\n",
        "plt.plot([0, 1], [0, 1], 'k--')\n",
        "plt.xlim([-0.05, 1.0])\n",
        "plt.ylim([0.0, 1.05])\n",
        "plt.xlabel('False Positive Rate')\n",
        "plt.ylabel('True Positive Rate')\n",
        "plt.title('HistGradientBoosting')\n",
        "plt.legend(loc=\"lower right\")\n",
        "plt.show()"
      ],
      "metadata": {
        "colab": {
          "base_uri": "https://localhost:8080/",
          "height": 295
        },
        "id": "qaRWPbQQ6oKx",
        "outputId": "d48f5ae0-7d62-4ecc-db15-72dab99b90ec"
      },
      "id": "qaRWPbQQ6oKx",
      "execution_count": null,
      "outputs": [
        {
          "output_type": "display_data",
          "data": {
            "text/plain": [
              "<Figure size 432x288 with 1 Axes>"
            ],
            "image/png": "[encoded data removed]"
          },
          "metadata": {
            "needs_background": "light"
          }
        }
      ]
    },
    {
      "cell_type": "code",
      "source": [
        "#ExtraTreesClassifier\n",
        "\n",
        "classifier = ExtraTreesClassifier(random_state=0)\n",
        "y_score = classifier.fit(X_train, y_train).predict_proba(X_test)\n",
        "\n",
        "y_test_bin = label_binarize(y_test, classes=[-9, 1, 2, 3, 4])\n",
        "n_classes = y_test_bin.shape[1]\n",
        "\n",
        "\n",
        "\n",
        "fpr = dict()\n",
        "tpr = dict()\n",
        "roc_auc = dict()\n",
        "for i in range(n_classes):\n",
        "    fpr[i], tpr[i], _ = roc_curve(y_test_bin[:, i], y_score[:, i])\n",
        "    roc_auc[i] = auc(fpr[i], tpr[i])\n",
        "colors = cycle(['blue', 'red', 'green','Orange','Purple'])\n",
        "for i, color in zip(range(n_classes), colors):\n",
        "    plt.plot(fpr[i], tpr[i], color=color,\n",
        "             label='ROC curve of class {0} (area = {1:0.2f})'\n",
        "             ''.format(i, roc_auc[i]))\n",
        "\n",
        "plt.plot([0, 1], [0, 1], 'k--')\n",
        "plt.xlim([-0.05, 1.0])\n",
        "plt.ylim([0.0, 1.05])\n",
        "plt.xlabel('False Positive Rate')\n",
        "plt.ylabel('True Positive Rate')\n",
        "plt.title('ExtraTreesClassifier')\n",
        "plt.legend(loc=\"lower right\")\n",
        "plt.show()"
      ],
      "metadata": {
        "colab": {
          "base_uri": "https://localhost:8080/",
          "height": 295
        },
        "id": "XL1EtuLR6ogx",
        "outputId": "5c20cabc-ec5d-4325-824e-e7b1414ee5c5"
      },
      "id": "XL1EtuLR6ogx",
      "execution_count": null,
      "outputs": [
        {
          "output_type": "display_data",
          "data": {
            "text/plain": [
              "<Figure size 432x288 with 1 Axes>"
            ],
            "image/png": "[encoded data removed]"
          },
          "metadata": {
            "needs_background": "light"
          }
        }
      ]
    },
    {
      "cell_type": "markdown",
      "id": "f8b0c4c7",
      "metadata": {
        "id": "f8b0c4c7"
      },
      "source": [
        "# Regression"
      ]
    },
    {
      "cell_type": "code",
      "execution_count": null,
      "id": "6b33c83e",
      "metadata": {
        "id": "6b33c83e"
      },
      "outputs": [],
      "source": [
        "import pandas as pd\n",
        "import numpy as np\n",
        "import sklearn as sk\n",
        "import sklearn.metrics as skl\n",
        "from sklearn.linear_model import LinearRegression\n",
        "import matplotlib.pyplot as plt\n",
        "import seaborn as sns\n",
        "from sklearn.model_selection import train_test_split\n",
        "from sklearn import metrics\n",
        "from sklearn.metrics import classification_report\n",
        "from sklearn.metrics import r2_score\n",
        "\n",
        "import statsmodels.api as sm\n",
        "import statsmodels.formula.api as smf"
      ]
    },
    {
      "cell_type": "code",
      "execution_count": null,
      "id": "074bedc7",
      "metadata": {
        "colab": {
          "base_uri": "https://localhost:8080/"
        },
        "id": "074bedc7",
        "outputId": "084236dc-91d2-4e39-968b-d3bf2c0901fb"
      },
      "outputs": [
        {
          "output_type": "execute_result",
          "data": {
            "text/plain": [
              "Index(['Person ID', 'Region', 'Residence Type', 'Family Composition',\n",
              "       'Population Base', 'Sex', 'Age', 'Marital Status', 'Student',\n",
              "       'Country of Birth', 'Health', 'Ethnic Group', 'Religion',\n",
              "       'Economic Activity', 'Occupation', 'Industry', 'Hours worked per week',\n",
              "       'No of hours', 'Approximated Social Grade'],\n",
              "      dtype='object')"
            ]
          },
          "metadata": {},
          "execution_count": 6
        }
      ],
      "source": [
        "dff.columns"
      ]
    },
    {
      "cell_type": "code",
      "execution_count": null,
      "id": "47648dbb",
      "metadata": {
        "id": "47648dbb"
      },
      "outputs": [],
      "source": [
        "dfb=dff"
      ]
    },
    {
      "cell_type": "code",
      "execution_count": null,
      "id": "7ec2eae5",
      "metadata": {
        "id": "7ec2eae5",
        "outputId": "6f143f01-a65b-4111-c2b8-6c639653604c"
      },
      "outputs": [
        {
          "name": "stderr",
          "output_type": "stream",
          "text": [
            "C:\\ProgramData\\Anaconda3\\lib\\site-packages\\pandas\\core\\frame.py:5039: SettingWithCopyWarning: \n",
            "A value is trying to be set on a copy of a slice from a DataFrame\n",
            "\n",
            "See the caveats in the documentation: https://pandas.pydata.org/pandas-docs/stable/user_guide/indexing.html#returning-a-view-versus-a-copy\n",
            "  return super().rename(\n"
          ]
        },
        {
          "data": {
            "text/html": [
              "<div>\n",
              "<style scoped>\n",
              "    .dataframe tbody tr th:only-of-type {\n",
              "        vertical-align: middle;\n",
              "    }\n",
              "\n",
              "    .dataframe tbody tr th {\n",
              "        vertical-align: top;\n",
              "    }\n",
              "\n",
              "    .dataframe thead th {\n",
              "        text-align: right;\n",
              "    }\n",
              "</style>\n",
              "<table border=\"1\" class=\"dataframe\">\n",
              "  <thead>\n",
              "    <tr style=\"text-align: right;\">\n",
              "      <th></th>\n",
              "      <th>Person_ID</th>\n",
              "      <th>Region</th>\n",
              "      <th>Residence_Type</th>\n",
              "      <th>Family_Composition</th>\n",
              "      <th>Population_Base</th>\n",
              "      <th>Sex</th>\n",
              "      <th>Age</th>\n",
              "      <th>Marital_Status</th>\n",
              "      <th>Student</th>\n",
              "      <th>Country_of_Birth</th>\n",
              "      <th>Health</th>\n",
              "      <th>Ethnic_Group</th>\n",
              "      <th>Religion</th>\n",
              "      <th>Economic_Activity</th>\n",
              "      <th>Occupation</th>\n",
              "      <th>Industry</th>\n",
              "      <th>Hours_worked_per_week</th>\n",
              "      <th>Hours_Number</th>\n",
              "      <th>Approximated_Social_Grade</th>\n",
              "    </tr>\n",
              "  </thead>\n",
              "  <tbody>\n",
              "    <tr>\n",
              "      <th>302321</th>\n",
              "      <td>7394645</td>\n",
              "      <td>0</td>\n",
              "      <td>1</td>\n",
              "      <td>5</td>\n",
              "      <td>1</td>\n",
              "      <td>2</td>\n",
              "      <td>5</td>\n",
              "      <td>4</td>\n",
              "      <td>2</td>\n",
              "      <td>1</td>\n",
              "      <td>3</td>\n",
              "      <td>1</td>\n",
              "      <td>2</td>\n",
              "      <td>2</td>\n",
              "      <td>7</td>\n",
              "      <td>7</td>\n",
              "      <td>1</td>\n",
              "      <td>2</td>\n",
              "      <td>4</td>\n",
              "    </tr>\n",
              "    <tr>\n",
              "      <th>302322</th>\n",
              "      <td>7394688</td>\n",
              "      <td>0</td>\n",
              "      <td>1</td>\n",
              "      <td>2</td>\n",
              "      <td>1</td>\n",
              "      <td>2</td>\n",
              "      <td>2</td>\n",
              "      <td>1</td>\n",
              "      <td>1</td>\n",
              "      <td>1</td>\n",
              "      <td>1</td>\n",
              "      <td>1</td>\n",
              "      <td>9</td>\n",
              "      <td>4</td>\n",
              "      <td>7</td>\n",
              "      <td>4</td>\n",
              "      <td>1</td>\n",
              "      <td>1</td>\n",
              "      <td>2</td>\n",
              "    </tr>\n",
              "    <tr>\n",
              "      <th>302323</th>\n",
              "      <td>7394756</td>\n",
              "      <td>0</td>\n",
              "      <td>1</td>\n",
              "      <td>2</td>\n",
              "      <td>1</td>\n",
              "      <td>2</td>\n",
              "      <td>5</td>\n",
              "      <td>2</td>\n",
              "      <td>2</td>\n",
              "      <td>1</td>\n",
              "      <td>3</td>\n",
              "      <td>1</td>\n",
              "      <td>1</td>\n",
              "      <td>1</td>\n",
              "      <td>9</td>\n",
              "      <td>9</td>\n",
              "      <td>1</td>\n",
              "      <td>10</td>\n",
              "      <td>4</td>\n",
              "    </tr>\n",
              "    <tr>\n",
              "      <th>302324</th>\n",
              "      <td>7394737</td>\n",
              "      <td>0</td>\n",
              "      <td>1</td>\n",
              "      <td>2</td>\n",
              "      <td>1</td>\n",
              "      <td>2</td>\n",
              "      <td>6</td>\n",
              "      <td>2</td>\n",
              "      <td>2</td>\n",
              "      <td>1</td>\n",
              "      <td>1</td>\n",
              "      <td>1</td>\n",
              "      <td>2</td>\n",
              "      <td>1</td>\n",
              "      <td>9</td>\n",
              "      <td>11</td>\n",
              "      <td>1</td>\n",
              "      <td>3</td>\n",
              "      <td>4</td>\n",
              "    </tr>\n",
              "    <tr>\n",
              "      <th>302325</th>\n",
              "      <td>7394536</td>\n",
              "      <td>0</td>\n",
              "      <td>1</td>\n",
              "      <td>5</td>\n",
              "      <td>1</td>\n",
              "      <td>2</td>\n",
              "      <td>6</td>\n",
              "      <td>3</td>\n",
              "      <td>2</td>\n",
              "      <td>1</td>\n",
              "      <td>2</td>\n",
              "      <td>1</td>\n",
              "      <td>1</td>\n",
              "      <td>1</td>\n",
              "      <td>9</td>\n",
              "      <td>10</td>\n",
              "      <td>1</td>\n",
              "      <td>8</td>\n",
              "      <td>4</td>\n",
              "    </tr>\n",
              "  </tbody>\n",
              "</table>\n",
              "</div>"
            ],
            "text/plain": [
              "        Person_ID  Region  Residence_Type  Family_Composition  \\\n",
              "302321    7394645       0               1                   5   \n",
              "302322    7394688       0               1                   2   \n",
              "302323    7394756       0               1                   2   \n",
              "302324    7394737       0               1                   2   \n",
              "302325    7394536       0               1                   5   \n",
              "\n",
              "        Population_Base  Sex  Age  Marital_Status  Student  Country_of_Birth  \\\n",
              "302321                1    2    5               4        2                 1   \n",
              "302322                1    2    2               1        1                 1   \n",
              "302323                1    2    5               2        2                 1   \n",
              "302324                1    2    6               2        2                 1   \n",
              "302325                1    2    6               3        2                 1   \n",
              "\n",
              "        Health  Ethnic_Group  Religion  Economic_Activity  Occupation  \\\n",
              "302321       3             1         2                  2           7   \n",
              "302322       1             1         9                  4           7   \n",
              "302323       3             1         1                  1           9   \n",
              "302324       1             1         2                  1           9   \n",
              "302325       2             1         1                  1           9   \n",
              "\n",
              "        Industry  Hours_worked_per_week  Hours_Number  \\\n",
              "302321         7                      1             2   \n",
              "302322         4                      1             1   \n",
              "302323         9                      1            10   \n",
              "302324        11                      1             3   \n",
              "302325        10                      1             8   \n",
              "\n",
              "        Approximated_Social_Grade  \n",
              "302321                          4  \n",
              "302322                          2  \n",
              "302323                          4  \n",
              "302324                          4  \n",
              "302325                          4  "
            ]
          },
          "execution_count": 46,
          "metadata": {},
          "output_type": "execute_result"
        }
      ],
      "source": [
        "#Changing the Names of yhe columns\n",
        "dict = {'Person ID':'Person_ID'\n",
        "\n",
        "    ,'Residence Type':'Residence_Type','Family Composition':'Family_Composition','Population Base':'Population_Base',\n",
        "      'Marital Status': 'Marital_Status','Country of Birth':'Country_of_Birth','Ethnic Group':'Ethnic_Group','Economic Activity':'Economic_Activity',\n",
        "      \t'Hours worked per week':\t'Hours_worked_per_week','No of hours':'Hours_Number','Approximated Social Grade': 'Approximated_Social_Grade'\n",
        "\n",
        "       }\n",
        "\n",
        "dfb.rename(columns = dict, inplace = True)\n",
        "dfb.head()"
      ]
    },
    {
      "cell_type": "code",
      "execution_count": null,
      "id": "78f92fdd",
      "metadata": {
        "id": "78f92fdd"
      },
      "outputs": [],
      "source": [
        "dfb1=dfb"
      ]
    },
    {
      "cell_type": "code",
      "execution_count": null,
      "id": "6aa6b5e3",
      "metadata": {
        "id": "6aa6b5e3",
        "outputId": "077de650-20b7-4b14-ac0b-7c2f5970ff37"
      },
      "outputs": [
        {
          "data": {
            "text/html": [
              "<div>\n",
              "<style scoped>\n",
              "    .dataframe tbody tr th:only-of-type {\n",
              "        vertical-align: middle;\n",
              "    }\n",
              "\n",
              "    .dataframe tbody tr th {\n",
              "        vertical-align: top;\n",
              "    }\n",
              "\n",
              "    .dataframe thead th {\n",
              "        text-align: right;\n",
              "    }\n",
              "</style>\n",
              "<table border=\"1\" class=\"dataframe\">\n",
              "  <thead>\n",
              "    <tr style=\"text-align: right;\">\n",
              "      <th></th>\n",
              "      <th>Person_ID</th>\n",
              "      <th>Region</th>\n",
              "      <th>Residence_Type</th>\n",
              "      <th>Family_Composition</th>\n",
              "      <th>Population_Base</th>\n",
              "      <th>Sex</th>\n",
              "      <th>Age</th>\n",
              "      <th>Marital_Status</th>\n",
              "      <th>Student</th>\n",
              "      <th>Country_of_Birth</th>\n",
              "      <th>Health</th>\n",
              "      <th>Ethnic_Group</th>\n",
              "      <th>Religion</th>\n",
              "      <th>Economic_Activity</th>\n",
              "      <th>Occupation</th>\n",
              "      <th>Industry</th>\n",
              "      <th>Hours_worked_per_week</th>\n",
              "      <th>Hours_Number</th>\n",
              "      <th>Approximated_Social_Grade</th>\n",
              "    </tr>\n",
              "  </thead>\n",
              "  <tbody>\n",
              "    <tr>\n",
              "      <th>0</th>\n",
              "      <td>-1.726358</td>\n",
              "      <td>-1.830319</td>\n",
              "      <td>0.080599</td>\n",
              "      <td>1.847508</td>\n",
              "      <td>-0.046136</td>\n",
              "      <td>1.060981</td>\n",
              "      <td>0.614402</td>\n",
              "      <td>2.246636</td>\n",
              "      <td>0.204782</td>\n",
              "      <td>-0.431325</td>\n",
              "      <td>1.921933</td>\n",
              "      <td>-0.344693</td>\n",
              "      <td>-0.214921</td>\n",
              "      <td>1.096701</td>\n",
              "      <td>0.930939</td>\n",
              "      <td>0.079949</td>\n",
              "      <td>-2.167025</td>\n",
              "      <td>-2.458039</td>\n",
              "      <td>1.132258</td>\n",
              "    </tr>\n",
              "    <tr>\n",
              "      <th>1</th>\n",
              "      <td>-1.726095</td>\n",
              "      <td>-1.830319</td>\n",
              "      <td>0.080599</td>\n",
              "      <td>-0.146294</td>\n",
              "      <td>-0.046136</td>\n",
              "      <td>1.060981</td>\n",
              "      <td>-1.578699</td>\n",
              "      <td>-0.939013</td>\n",
              "      <td>-4.883251</td>\n",
              "      <td>-0.431325</td>\n",
              "      <td>-0.871518</td>\n",
              "      <td>-0.344693</td>\n",
              "      <td>3.107249</td>\n",
              "      <td>4.112453</td>\n",
              "      <td>0.930939</td>\n",
              "      <td>-0.853213</td>\n",
              "      <td>-2.167025</td>\n",
              "      <td>-2.531999</td>\n",
              "      <td>-0.215305</td>\n",
              "    </tr>\n",
              "    <tr>\n",
              "      <th>2</th>\n",
              "      <td>-1.725681</td>\n",
              "      <td>-1.830319</td>\n",
              "      <td>0.080599</td>\n",
              "      <td>-0.146294</td>\n",
              "      <td>-0.046136</td>\n",
              "      <td>1.060981</td>\n",
              "      <td>0.614402</td>\n",
              "      <td>0.122870</td>\n",
              "      <td>0.204782</td>\n",
              "      <td>-0.431325</td>\n",
              "      <td>1.921933</td>\n",
              "      <td>-0.344693</td>\n",
              "      <td>-0.689517</td>\n",
              "      <td>-0.411174</td>\n",
              "      <td>1.707526</td>\n",
              "      <td>0.702058</td>\n",
              "      <td>-2.167025</td>\n",
              "      <td>-1.866360</td>\n",
              "      <td>1.132258</td>\n",
              "    </tr>\n",
              "    <tr>\n",
              "      <th>3</th>\n",
              "      <td>-1.725797</td>\n",
              "      <td>-1.830319</td>\n",
              "      <td>0.080599</td>\n",
              "      <td>-0.146294</td>\n",
              "      <td>-0.046136</td>\n",
              "      <td>1.060981</td>\n",
              "      <td>1.345436</td>\n",
              "      <td>0.122870</td>\n",
              "      <td>0.204782</td>\n",
              "      <td>-0.431325</td>\n",
              "      <td>-0.871518</td>\n",
              "      <td>-0.344693</td>\n",
              "      <td>-0.214921</td>\n",
              "      <td>-0.411174</td>\n",
              "      <td>1.707526</td>\n",
              "      <td>1.324166</td>\n",
              "      <td>-2.167025</td>\n",
              "      <td>-2.384079</td>\n",
              "      <td>1.132258</td>\n",
              "    </tr>\n",
              "    <tr>\n",
              "      <th>4</th>\n",
              "      <td>-1.727022</td>\n",
              "      <td>-1.830319</td>\n",
              "      <td>0.080599</td>\n",
              "      <td>1.847508</td>\n",
              "      <td>-0.046136</td>\n",
              "      <td>1.060981</td>\n",
              "      <td>1.345436</td>\n",
              "      <td>1.184753</td>\n",
              "      <td>0.204782</td>\n",
              "      <td>-0.431325</td>\n",
              "      <td>0.525208</td>\n",
              "      <td>-0.344693</td>\n",
              "      <td>-0.689517</td>\n",
              "      <td>-0.411174</td>\n",
              "      <td>1.707526</td>\n",
              "      <td>1.013112</td>\n",
              "      <td>-2.167025</td>\n",
              "      <td>-2.014280</td>\n",
              "      <td>1.132258</td>\n",
              "    </tr>\n",
              "    <tr>\n",
              "      <th>...</th>\n",
              "      <td>...</td>\n",
              "      <td>...</td>\n",
              "      <td>...</td>\n",
              "      <td>...</td>\n",
              "      <td>...</td>\n",
              "      <td>...</td>\n",
              "      <td>...</td>\n",
              "      <td>...</td>\n",
              "      <td>...</td>\n",
              "      <td>...</td>\n",
              "      <td>...</td>\n",
              "      <td>...</td>\n",
              "      <td>...</td>\n",
              "      <td>...</td>\n",
              "      <td>...</td>\n",
              "      <td>...</td>\n",
              "      <td>...</td>\n",
              "      <td>...</td>\n",
              "      <td>...</td>\n",
              "    </tr>\n",
              "    <tr>\n",
              "      <th>267414</th>\n",
              "      <td>0.013974</td>\n",
              "      <td>0.876703</td>\n",
              "      <td>-12.407082</td>\n",
              "      <td>-7.456901</td>\n",
              "      <td>-0.046136</td>\n",
              "      <td>-0.942524</td>\n",
              "      <td>-1.578699</td>\n",
              "      <td>-0.939013</td>\n",
              "      <td>0.204782</td>\n",
              "      <td>2.318440</td>\n",
              "      <td>-0.871518</td>\n",
              "      <td>-0.344693</td>\n",
              "      <td>-0.214921</td>\n",
              "      <td>-0.411174</td>\n",
              "      <td>-0.622234</td>\n",
              "      <td>0.702058</td>\n",
              "      <td>1.557882</td>\n",
              "      <td>1.239952</td>\n",
              "      <td>-7.626901</td>\n",
              "    </tr>\n",
              "    <tr>\n",
              "      <th>267415</th>\n",
              "      <td>-0.015512</td>\n",
              "      <td>0.876703</td>\n",
              "      <td>-12.407082</td>\n",
              "      <td>-7.456901</td>\n",
              "      <td>-0.046136</td>\n",
              "      <td>-0.942524</td>\n",
              "      <td>-0.847666</td>\n",
              "      <td>-0.939013</td>\n",
              "      <td>0.204782</td>\n",
              "      <td>2.318440</td>\n",
              "      <td>0.525208</td>\n",
              "      <td>0.947177</td>\n",
              "      <td>-0.689517</td>\n",
              "      <td>-0.411174</td>\n",
              "      <td>-1.398821</td>\n",
              "      <td>-0.542159</td>\n",
              "      <td>1.557882</td>\n",
              "      <td>1.461831</td>\n",
              "      <td>-7.626901</td>\n",
              "    </tr>\n",
              "    <tr>\n",
              "      <th>267416</th>\n",
              "      <td>-0.015561</td>\n",
              "      <td>0.876703</td>\n",
              "      <td>-12.407082</td>\n",
              "      <td>-7.456901</td>\n",
              "      <td>-0.046136</td>\n",
              "      <td>1.060981</td>\n",
              "      <td>0.614402</td>\n",
              "      <td>0.122870</td>\n",
              "      <td>0.204782</td>\n",
              "      <td>-0.431325</td>\n",
              "      <td>-0.871518</td>\n",
              "      <td>-0.344693</td>\n",
              "      <td>-0.214921</td>\n",
              "      <td>1.096701</td>\n",
              "      <td>-1.398821</td>\n",
              "      <td>0.391004</td>\n",
              "      <td>1.557882</td>\n",
              "      <td>1.018073</td>\n",
              "      <td>-7.626901</td>\n",
              "    </tr>\n",
              "    <tr>\n",
              "      <th>267417</th>\n",
              "      <td>1.627586</td>\n",
              "      <td>1.650138</td>\n",
              "      <td>0.080599</td>\n",
              "      <td>-0.146294</td>\n",
              "      <td>-0.046136</td>\n",
              "      <td>-0.942524</td>\n",
              "      <td>1.345436</td>\n",
              "      <td>0.122870</td>\n",
              "      <td>0.204782</td>\n",
              "      <td>-0.431325</td>\n",
              "      <td>1.921933</td>\n",
              "      <td>-0.344693</td>\n",
              "      <td>-0.689517</td>\n",
              "      <td>-0.411174</td>\n",
              "      <td>0.542646</td>\n",
              "      <td>1.013112</td>\n",
              "      <td>1.557882</td>\n",
              "      <td>1.313912</td>\n",
              "      <td>0.458476</td>\n",
              "    </tr>\n",
              "    <tr>\n",
              "      <th>267418</th>\n",
              "      <td>1.630391</td>\n",
              "      <td>1.650138</td>\n",
              "      <td>0.080599</td>\n",
              "      <td>-0.810894</td>\n",
              "      <td>-0.046136</td>\n",
              "      <td>-0.942524</td>\n",
              "      <td>0.614402</td>\n",
              "      <td>2.246636</td>\n",
              "      <td>0.204782</td>\n",
              "      <td>-0.431325</td>\n",
              "      <td>0.525208</td>\n",
              "      <td>-0.344693</td>\n",
              "      <td>-0.689517</td>\n",
              "      <td>-0.411174</td>\n",
              "      <td>0.154352</td>\n",
              "      <td>-1.475321</td>\n",
              "      <td>1.557882</td>\n",
              "      <td>1.387872</td>\n",
              "      <td>0.458476</td>\n",
              "    </tr>\n",
              "  </tbody>\n",
              "</table>\n",
              "<p>267419 rows × 19 columns</p>\n",
              "</div>"
            ],
            "text/plain": [
              "        Person_ID    Region  Residence_Type  Family_Composition  \\\n",
              "0       -1.726358 -1.830319        0.080599            1.847508   \n",
              "1       -1.726095 -1.830319        0.080599           -0.146294   \n",
              "2       -1.725681 -1.830319        0.080599           -0.146294   \n",
              "3       -1.725797 -1.830319        0.080599           -0.146294   \n",
              "4       -1.727022 -1.830319        0.080599            1.847508   \n",
              "...           ...       ...             ...                 ...   \n",
              "267414   0.013974  0.876703      -12.407082           -7.456901   \n",
              "267415  -0.015512  0.876703      -12.407082           -7.456901   \n",
              "267416  -0.015561  0.876703      -12.407082           -7.456901   \n",
              "267417   1.627586  1.650138        0.080599           -0.146294   \n",
              "267418   1.630391  1.650138        0.080599           -0.810894   \n",
              "\n",
              "        Population_Base       Sex       Age  Marital_Status   Student  \\\n",
              "0             -0.046136  1.060981  0.614402        2.246636  0.204782   \n",
              "1             -0.046136  1.060981 -1.578699       -0.939013 -4.883251   \n",
              "2             -0.046136  1.060981  0.614402        0.122870  0.204782   \n",
              "3             -0.046136  1.060981  1.345436        0.122870  0.204782   \n",
              "4             -0.046136  1.060981  1.345436        1.184753  0.204782   \n",
              "...                 ...       ...       ...             ...       ...   \n",
              "267414        -0.046136 -0.942524 -1.578699       -0.939013  0.204782   \n",
              "267415        -0.046136 -0.942524 -0.847666       -0.939013  0.204782   \n",
              "267416        -0.046136  1.060981  0.614402        0.122870  0.204782   \n",
              "267417        -0.046136 -0.942524  1.345436        0.122870  0.204782   \n",
              "267418        -0.046136 -0.942524  0.614402        2.246636  0.204782   \n",
              "\n",
              "        Country_of_Birth    Health  Ethnic_Group  Religion  Economic_Activity  \\\n",
              "0              -0.431325  1.921933     -0.344693 -0.214921           1.096701   \n",
              "1              -0.431325 -0.871518     -0.344693  3.107249           4.112453   \n",
              "2              -0.431325  1.921933     -0.344693 -0.689517          -0.411174   \n",
              "3              -0.431325 -0.871518     -0.344693 -0.214921          -0.411174   \n",
              "4              -0.431325  0.525208     -0.344693 -0.689517          -0.411174   \n",
              "...                  ...       ...           ...       ...                ...   \n",
              "267414          2.318440 -0.871518     -0.344693 -0.214921          -0.411174   \n",
              "267415          2.318440  0.525208      0.947177 -0.689517          -0.411174   \n",
              "267416         -0.431325 -0.871518     -0.344693 -0.214921           1.096701   \n",
              "267417         -0.431325  1.921933     -0.344693 -0.689517          -0.411174   \n",
              "267418         -0.431325  0.525208     -0.344693 -0.689517          -0.411174   \n",
              "\n",
              "        Occupation  Industry  Hours_worked_per_week  Hours_Number  \\\n",
              "0         0.930939  0.079949              -2.167025     -2.458039   \n",
              "1         0.930939 -0.853213              -2.167025     -2.531999   \n",
              "2         1.707526  0.702058              -2.167025     -1.866360   \n",
              "3         1.707526  1.324166              -2.167025     -2.384079   \n",
              "4         1.707526  1.013112              -2.167025     -2.014280   \n",
              "...            ...       ...                    ...           ...   \n",
              "267414   -0.622234  0.702058               1.557882      1.239952   \n",
              "267415   -1.398821 -0.542159               1.557882      1.461831   \n",
              "267416   -1.398821  0.391004               1.557882      1.018073   \n",
              "267417    0.542646  1.013112               1.557882      1.313912   \n",
              "267418    0.154352 -1.475321               1.557882      1.387872   \n",
              "\n",
              "        Approximated_Social_Grade  \n",
              "0                        1.132258  \n",
              "1                       -0.215305  \n",
              "2                        1.132258  \n",
              "3                        1.132258  \n",
              "4                        1.132258  \n",
              "...                           ...  \n",
              "267414                  -7.626901  \n",
              "267415                  -7.626901  \n",
              "267416                  -7.626901  \n",
              "267417                   0.458476  \n",
              "267418                   0.458476  \n",
              "\n",
              "[267419 rows x 19 columns]"
            ]
          },
          "execution_count": 48,
          "metadata": {},
          "output_type": "execute_result"
        }
      ],
      "source": [
        "import pandas as pd\n",
        "from sklearn.preprocessing import StandardScaler\n",
        "ss = StandardScaler()\n",
        "df_scaledstd = pd.DataFrame(ss.fit_transform(dfb1),columns = dfb1.columns)\n",
        "df_scaledstd"
      ]
    },
    {
      "cell_type": "code",
      "execution_count": null,
      "id": "fb2ee2df",
      "metadata": {
        "id": "fb2ee2df",
        "outputId": "15e2eb2d-517b-4918-80ef-6f782cc853e2"
      },
      "outputs": [
        {
          "name": "stdout",
          "output_type": "stream",
          "text": [
            "                            OLS Regression Results                            \n",
            "==============================================================================\n",
            "Dep. Variable:           Hours_Number   R-squared:                       0.877\n",
            "Model:                            OLS   Adj. R-squared:                  0.877\n",
            "Method:                 Least Squares   F-statistic:                 1.055e+05\n",
            "Date:                Mon, 09 Jan 2023   Prob (F-statistic):               0.00\n",
            "Time:                        21:39:08   Log-Likelihood:            -7.9616e+05\n",
            "No. Observations:              267419   AIC:                         1.592e+06\n",
            "Df Residuals:                  267400   BIC:                         1.593e+06\n",
            "Df Model:                          18                                         \n",
            "Covariance Type:            nonrobust                                         \n",
            "=============================================================================================\n",
            "                                coef    std err          t      P>|t|      [0.025      0.975]\n",
            "---------------------------------------------------------------------------------------------\n",
            "Intercept                    -7.2204      0.520    -13.882      0.000      -8.240      -6.201\n",
            "Person_ID                   -3.9e-08   5.75e-08     -0.678      0.498   -1.52e-07    7.38e-08\n",
            "Region                       -0.0009      0.004     -0.252      0.801      -0.008       0.006\n",
            "Residence_Type                0.6463      0.233      2.771      0.006       0.189       1.103\n",
            "Family_Composition           -0.0058      0.009     -0.677      0.498      -0.023       0.011\n",
            "Population_Base              -0.2875      0.140     -2.047      0.041      -0.563      -0.012\n",
            "Sex                          -0.0441      0.021     -2.135      0.033      -0.085      -0.004\n",
            "Age                          -0.0091      0.008     -1.091      0.275      -0.025       0.007\n",
            "Marital_Status               -0.0139      0.011     -1.233      0.218      -0.036       0.008\n",
            "Student                      -0.2319      0.096     -2.407      0.016      -0.421      -0.043\n",
            "Country_of_Birth              0.0539      0.029      1.831      0.067      -0.004       0.112\n",
            "Health                        0.0179      0.013      1.329      0.184      -0.008       0.044\n",
            "Ethnic_Group                  0.0067      0.014      0.477      0.634      -0.021       0.034\n",
            "Religion                     -0.0046      0.005     -1.010      0.313      -0.013       0.004\n",
            "Economic_Activity            -0.0781      0.026     -2.947      0.003      -0.130      -0.026\n",
            "Occupation                    0.0066      0.007      0.943      0.346      -0.007       0.020\n",
            "Industry                     -0.0064      0.003     -2.062      0.039      -0.013      -0.000\n",
            "Hours_worked_per_week        15.7034      0.013   1205.918      0.000      15.678      15.729\n",
            "Approximated_Social_Grade    -0.0368      0.017     -2.161      0.031      -0.070      -0.003\n",
            "==============================================================================\n",
            "Omnibus:                   103578.300   Durbin-Watson:                   1.992\n",
            "Prob(Omnibus):                  0.000   Jarque-Bera (JB):            13323.094\n",
            "Skew:                           0.046   Prob(JB):                         0.00\n",
            "Kurtosis:                       1.910   Cond. No.                     4.41e+08\n",
            "==============================================================================\n",
            "\n",
            "Notes:\n",
            "[1] Standard Errors assume that the covariance matrix of the errors is correctly specified.\n",
            "[2] The condition number is large, 4.41e+08. This might indicate that there are\n",
            "strong multicollinearity or other numerical problems.\n"
          ]
        }
      ],
      "source": [
        "statMDL=smf.ols('Hours_Number~Person_ID+Region+Residence_Type+Family_Composition+Population_Base+Sex+Age+Marital_Status+Student+Country_of_Birth+Health+Ethnic_Group+Religion+Economic_Activity+Occupation+Industry+Hours_worked_per_week+Approximated_Social_Grade', data= dfb).fit()\n",
        "print(statMDL.summary())"
      ]
    },
    {
      "cell_type": "code",
      "execution_count": null,
      "id": "3c40a691",
      "metadata": {
        "id": "3c40a691"
      },
      "outputs": [],
      "source": [
        "x = df_scaledstd[['Age','Country_of_Birth','Health','Hours_worked_per_week']]\n",
        "y = df_scaledstd['Hours_Number']"
      ]
    },
    {
      "cell_type": "code",
      "execution_count": null,
      "id": "2e049aad",
      "metadata": {
        "id": "2e049aad",
        "outputId": "c2c70656-c8ba-4d59-8f3b-1b6b9ddb08ec"
      },
      "outputs": [
        {
          "name": "stdout",
          "output_type": "stream",
          "text": [
            "Intercept: 8.390705085690943e-05\n"
          ]
        },
        {
          "data": {
            "text/html": [
              "<div>\n",
              "<style scoped>\n",
              "    .dataframe tbody tr th:only-of-type {\n",
              "        vertical-align: middle;\n",
              "    }\n",
              "\n",
              "    .dataframe tbody tr th {\n",
              "        vertical-align: top;\n",
              "    }\n",
              "\n",
              "    .dataframe thead th {\n",
              "        text-align: right;\n",
              "    }\n",
              "</style>\n",
              "<table border=\"1\" class=\"dataframe\">\n",
              "  <thead>\n",
              "    <tr style=\"text-align: right;\">\n",
              "      <th></th>\n",
              "      <th>Coefficient</th>\n",
              "    </tr>\n",
              "  </thead>\n",
              "  <tbody>\n",
              "    <tr>\n",
              "      <th>Age</th>\n",
              "      <td>-0.001788</td>\n",
              "    </tr>\n",
              "    <tr>\n",
              "      <th>Country_of_Birth</th>\n",
              "      <td>0.000823</td>\n",
              "    </tr>\n",
              "    <tr>\n",
              "      <th>Health</th>\n",
              "      <td>0.000295</td>\n",
              "    </tr>\n",
              "    <tr>\n",
              "      <th>Hours_worked_per_week</th>\n",
              "      <td>0.935974</td>\n",
              "    </tr>\n",
              "  </tbody>\n",
              "</table>\n",
              "</div>"
            ],
            "text/plain": [
              "                       Coefficient\n",
              "Age                      -0.001788\n",
              "Country_of_Birth          0.000823\n",
              "Health                    0.000295\n",
              "Hours_worked_per_week     0.935974"
            ]
          },
          "execution_count": 51,
          "metadata": {},
          "output_type": "execute_result"
        }
      ],
      "source": [
        "x_train, x_test, y_train, y_test = train_test_split(x, y, test_size=0.30, random_state=5)\n",
        "linreg = LinearRegression()\n",
        "linreg.fit(x_train, y_train)\n",
        "\n",
        "print(\"Intercept:\", linreg.intercept_)\n",
        "coeff_df = pd.DataFrame(linreg.coef_, x.columns, columns=['Coefficient'])\n",
        "coeff_df"
      ]
    },
    {
      "cell_type": "code",
      "execution_count": null,
      "id": "8577fa55",
      "metadata": {
        "id": "8577fa55",
        "outputId": "ef7a84ab-33de-4ec4-93f9-6c79096c7b5b"
      },
      "outputs": [
        {
          "data": {
            "text/html": [
              "<div>\n",
              "<style scoped>\n",
              "    .dataframe tbody tr th:only-of-type {\n",
              "        vertical-align: middle;\n",
              "    }\n",
              "\n",
              "    .dataframe tbody tr th {\n",
              "        vertical-align: top;\n",
              "    }\n",
              "\n",
              "    .dataframe thead th {\n",
              "        text-align: right;\n",
              "    }\n",
              "</style>\n",
              "<table border=\"1\" class=\"dataframe\">\n",
              "  <thead>\n",
              "    <tr style=\"text-align: right;\">\n",
              "      <th></th>\n",
              "      <th>Actual</th>\n",
              "      <th>Predicted</th>\n",
              "    </tr>\n",
              "  </thead>\n",
              "  <tbody>\n",
              "    <tr>\n",
              "      <th>201805</th>\n",
              "      <td>-0.165285</td>\n",
              "      <td>0.296986</td>\n",
              "    </tr>\n",
              "    <tr>\n",
              "      <th>178144</th>\n",
              "      <td>-0.313204</td>\n",
              "      <td>0.295679</td>\n",
              "    </tr>\n",
              "    <tr>\n",
              "      <th>25781</th>\n",
              "      <td>-1.200722</td>\n",
              "      <td>-0.867767</td>\n",
              "    </tr>\n",
              "    <tr>\n",
              "      <th>211987</th>\n",
              "      <td>-0.091325</td>\n",
              "      <td>0.299249</td>\n",
              "    </tr>\n",
              "    <tr>\n",
              "      <th>265892</th>\n",
              "      <td>1.313912</td>\n",
              "      <td>1.459125</td>\n",
              "    </tr>\n",
              "    <tr>\n",
              "      <th>...</th>\n",
              "      <td>...</td>\n",
              "      <td>...</td>\n",
              "    </tr>\n",
              "    <tr>\n",
              "      <th>31358</th>\n",
              "      <td>-1.126762</td>\n",
              "      <td>-0.865153</td>\n",
              "    </tr>\n",
              "    <tr>\n",
              "      <th>149121</th>\n",
              "      <td>0.352434</td>\n",
              "      <td>0.299660</td>\n",
              "    </tr>\n",
              "    <tr>\n",
              "      <th>211103</th>\n",
              "      <td>-0.165285</td>\n",
              "      <td>0.294372</td>\n",
              "    </tr>\n",
              "    <tr>\n",
              "      <th>39538</th>\n",
              "      <td>-0.978843</td>\n",
              "      <td>-0.866048</td>\n",
              "    </tr>\n",
              "    <tr>\n",
              "      <th>86469</th>\n",
              "      <td>0.574314</td>\n",
              "      <td>0.296091</td>\n",
              "    </tr>\n",
              "  </tbody>\n",
              "</table>\n",
              "<p>80226 rows × 2 columns</p>\n",
              "</div>"
            ],
            "text/plain": [
              "          Actual  Predicted\n",
              "201805 -0.165285   0.296986\n",
              "178144 -0.313204   0.295679\n",
              "25781  -1.200722  -0.867767\n",
              "211987 -0.091325   0.299249\n",
              "265892  1.313912   1.459125\n",
              "...          ...        ...\n",
              "31358  -1.126762  -0.865153\n",
              "149121  0.352434   0.299660\n",
              "211103 -0.165285   0.294372\n",
              "39538  -0.978843  -0.866048\n",
              "86469   0.574314   0.296091\n",
              "\n",
              "[80226 rows x 2 columns]"
            ]
          },
          "execution_count": 52,
          "metadata": {},
          "output_type": "execute_result"
        }
      ],
      "source": [
        "predictions = linreg.predict(x_test)\n",
        "pdf = pd.DataFrame({'Actual': y_test, 'Predicted': predictions})\n",
        "pdf"
      ]
    },
    {
      "cell_type": "code",
      "execution_count": null,
      "id": "ecf9d3d7",
      "metadata": {
        "id": "ecf9d3d7",
        "outputId": "ee65c802-765a-43c8-cfaf-196cec71e43e"
      },
      "outputs": [
        {
          "name": "stdout",
          "output_type": "stream",
          "text": [
            "Coefficients: [-1.78763259e-03  8.22874420e-04  2.94725207e-04  9.35973978e-01]\n",
            "Intercept: 8.390705085690943e-05\n",
            "MAE: 0.3013533618903476\n",
            "MSE: 0.12331434133794521\n",
            "RMSE: 0.35116141778097604\n",
            "AccuracyII: 87.66243424099852 %\n",
            "R2: 0.8766243424099852\n"
          ]
        }
      ],
      "source": [
        "print('Coefficients:', linreg.coef_)\n",
        "print('Intercept:', linreg.intercept_)\n",
        "print('MAE:', metrics.mean_absolute_error(y_test, predictions))\n",
        "print('MSE:', metrics.mean_squared_error(y_test, predictions))\n",
        "print('RMSE:', np.sqrt(metrics.mean_squared_error(y_test, predictions)))\n",
        "accuracy = linreg.score(x_test,y_test)\n",
        "print('AccuracyII:',accuracy*100,'%')\n",
        "print('R2:', r2_score(y_test, predictions))"
      ]
    },
    {
      "cell_type": "code",
      "execution_count": null,
      "id": "86568057",
      "metadata": {
        "id": "86568057"
      },
      "outputs": [],
      "source": [
        "from sklearn.metrics import r2_score"
      ]
    },
    {
      "cell_type": "code",
      "execution_count": null,
      "id": "4b994698",
      "metadata": {
        "id": "4b994698",
        "outputId": "9df7a398-d2dc-4c52-ff49-a8d3f97a1eb5"
      },
      "outputs": [
        {
          "name": "stdout",
          "output_type": "stream",
          "text": [
            "Train set Accuracy:  0.8764937801457104\n",
            "Test set Accuracy:  0.8766243424099852\n"
          ]
        }
      ],
      "source": [
        "print(\"Train set Accuracy: \", r2_score(y_train, linreg.predict(x_train)))\n",
        "print(\"Test set Accuracy: \", r2_score(y_test, predictions))"
      ]
    },
    {
      "cell_type": "code",
      "execution_count": null,
      "id": "7bb1bea0",
      "metadata": {
        "id": "7bb1bea0",
        "outputId": "81d2185e-32af-4b2b-831a-ebbcb182647b"
      },
      "outputs": [
        {
          "data": {
            "text/plain": [
              "<AxesSubplot:xlabel='Hours_Number'>"
            ]
          },
          "execution_count": 56,
          "metadata": {},
          "output_type": "execute_result"
        },
        {
          "data": {
            "image/png": "[encoded data removed]",
            "text/plain": [
              "<Figure size 432x288 with 1 Axes>"
            ]
          },
          "metadata": {
            "needs_background": "light"
          },
          "output_type": "display_data"
        }
      ],
      "source": [
        "sns.regplot(x=y_test, y=predictions)"
      ]
    },
    {
      "cell_type": "code",
      "execution_count": null,
      "id": "11cbfd37",
      "metadata": {
        "id": "11cbfd37",
        "outputId": "f063a10e-5802-43f8-9839-7bd37a8b97d8"
      },
      "outputs": [
        {
          "name": "stderr",
          "output_type": "stream",
          "text": [
            "C:\\ProgramData\\Anaconda3\\lib\\site-packages\\sklearn\\base.py:445: UserWarning: X does not have valid feature names, but LinearRegression was fitted with feature names\n",
            "  warnings.warn(\n"
          ]
        },
        {
          "data": {
            "text/plain": [
              "array([0.9290602])"
            ]
          },
          "execution_count": 57,
          "metadata": {},
          "output_type": "execute_result"
        }
      ],
      "source": [
        "new_observation = [[5,2, 1,1]]\n",
        "linreg.predict(new_observation)"
      ]
    },
    {
      "cell_type": "code",
      "execution_count": null,
      "id": "b0e7e66f",
      "metadata": {
        "id": "b0e7e66f",
        "outputId": "859213ef-5805-41b6-f9b8-032f56f8c4ea"
      },
      "outputs": [
        {
          "data": {
            "text/plain": [
              "array([ 0.00000000e+00, -1.24678626e-03, -4.70767083e+06,  4.22560046e-04,\n",
              "        9.32427232e-01,  5.08895501e-04, -3.46660065e-04,  1.30522383e-03,\n",
              "        1.73360346e-03,  2.49463848e+06, -9.30675870e-04, -1.10849760e-03,\n",
              "       -1.63078524e-04, -9.44599840e-04, -6.44270110e-03])"
            ]
          },
          "execution_count": 58,
          "metadata": {},
          "output_type": "execute_result"
        }
      ],
      "source": [
        "from sklearn.preprocessing import PolynomialFeatures\n",
        "poly = PolynomialFeatures(degree=2)\n",
        "x_ = poly.fit_transform(x)\n",
        "x_test_ = poly.fit_transform(x_test)\n",
        "\n",
        "polymodel = LinearRegression()\n",
        "polymodel.fit(x_, y)\n",
        "polymodel.coef_"
      ]
    },
    {
      "cell_type": "code",
      "execution_count": null,
      "id": "11654d48",
      "metadata": {
        "id": "11654d48"
      },
      "outputs": [],
      "source": [
        "predictions1 = polymodel.predict(x_test_)"
      ]
    },
    {
      "cell_type": "code",
      "execution_count": null,
      "id": "cd8d647d",
      "metadata": {
        "id": "cd8d647d",
        "outputId": "20982a3c-bc0c-44e9-8528-2021f225312d"
      },
      "outputs": [
        {
          "name": "stdout",
          "output_type": "stream",
          "text": [
            "Coefficients: [ 0.00000000e+00 -1.24678626e-03 -4.70767083e+06  4.22560046e-04\n",
            "  9.32427232e-01  5.08895501e-04 -3.46660065e-04  1.30522383e-03\n",
            "  1.73360346e-03  2.49463848e+06 -9.30675870e-04 -1.10849760e-03\n",
            " -1.63078524e-04 -9.44599840e-04 -6.44270110e-03]\n",
            "Intercept: -2494638.4771517767\n",
            "MAE: 0.3014479229627976\n",
            "MSE: 0.12323538232130872\n",
            "RMSE: 0.35104897424904796\n",
            "R2: 0.8767033406878375\n",
            "AccuracyII: 87.67033406878375 %\n"
          ]
        }
      ],
      "source": [
        "print('Coefficients:', polymodel.coef_)\n",
        "print('Intercept:', polymodel.intercept_)\n",
        "print('MAE:', metrics.mean_absolute_error(y_test, predictions1))\n",
        "print('MSE:', metrics.mean_squared_error(y_test, predictions1))\n",
        "print('RMSE:', np.sqrt(metrics.mean_squared_error(y_test, predictions1)))\n",
        "print('R2:', r2_score(y_test, predictions1))\n",
        "accuracy = polymodel.score(x_test_,y_test)\n",
        "print('AccuracyII:',accuracy*100,'%')"
      ]
    },
    {
      "cell_type": "code",
      "execution_count": null,
      "id": "61129c66",
      "metadata": {
        "id": "61129c66",
        "outputId": "093ca419-1f68-4eb6-ffd7-6186317c6d1d"
      },
      "outputs": [
        {
          "data": {
            "text/plain": [
              "<AxesSubplot:xlabel='Hours_Number'>"
            ]
          },
          "execution_count": 61,
          "metadata": {},
          "output_type": "execute_result"
        },
        {
          "data": {
            "image/png": "[encoded data removed]",
            "text/plain": [
              "<Figure size 432x288 with 1 Axes>"
            ]
          },
          "metadata": {
            "needs_background": "light"
          },
          "output_type": "display_data"
        }
      ],
      "source": [
        "sns.regplot(x=y_test, y=predictions1)"
      ]
    },
    {
      "cell_type": "code",
      "execution_count": null,
      "id": "f058ae4c",
      "metadata": {
        "id": "f058ae4c"
      },
      "outputs": [],
      "source": [
        "dfb3=dfb"
      ]
    },
    {
      "cell_type": "code",
      "execution_count": null,
      "id": "d12085ce",
      "metadata": {
        "id": "d12085ce",
        "outputId": "e7da993b-9b31-4491-c189-826eed5ca0af"
      },
      "outputs": [
        {
          "data": {
            "text/html": [
              "<div>\n",
              "<style scoped>\n",
              "    .dataframe tbody tr th:only-of-type {\n",
              "        vertical-align: middle;\n",
              "    }\n",
              "\n",
              "    .dataframe tbody tr th {\n",
              "        vertical-align: top;\n",
              "    }\n",
              "\n",
              "    .dataframe thead th {\n",
              "        text-align: right;\n",
              "    }\n",
              "</style>\n",
              "<table border=\"1\" class=\"dataframe\">\n",
              "  <thead>\n",
              "    <tr style=\"text-align: right;\">\n",
              "      <th></th>\n",
              "      <th>Person_ID</th>\n",
              "      <th>Region</th>\n",
              "      <th>Residence_Type</th>\n",
              "      <th>Family_Composition</th>\n",
              "      <th>Population_Base</th>\n",
              "      <th>Sex</th>\n",
              "      <th>Age</th>\n",
              "      <th>Marital_Status</th>\n",
              "      <th>Student</th>\n",
              "      <th>Country_of_Birth</th>\n",
              "      <th>Health</th>\n",
              "      <th>Ethnic_Group</th>\n",
              "      <th>Religion</th>\n",
              "      <th>Economic_Activity</th>\n",
              "      <th>Occupation</th>\n",
              "      <th>Industry</th>\n",
              "      <th>Hours_worked_per_week</th>\n",
              "      <th>Hours_Number</th>\n",
              "      <th>Approximated_Social_Grade</th>\n",
              "    </tr>\n",
              "  </thead>\n",
              "  <tbody>\n",
              "    <tr>\n",
              "      <th>302321</th>\n",
              "      <td>7394645</td>\n",
              "      <td>0</td>\n",
              "      <td>1</td>\n",
              "      <td>5</td>\n",
              "      <td>1</td>\n",
              "      <td>2</td>\n",
              "      <td>5</td>\n",
              "      <td>4</td>\n",
              "      <td>2</td>\n",
              "      <td>1</td>\n",
              "      <td>3</td>\n",
              "      <td>1</td>\n",
              "      <td>2</td>\n",
              "      <td>2</td>\n",
              "      <td>7</td>\n",
              "      <td>7</td>\n",
              "      <td>1</td>\n",
              "      <td>2</td>\n",
              "      <td>4</td>\n",
              "    </tr>\n",
              "    <tr>\n",
              "      <th>302322</th>\n",
              "      <td>7394688</td>\n",
              "      <td>0</td>\n",
              "      <td>1</td>\n",
              "      <td>2</td>\n",
              "      <td>1</td>\n",
              "      <td>2</td>\n",
              "      <td>2</td>\n",
              "      <td>1</td>\n",
              "      <td>1</td>\n",
              "      <td>1</td>\n",
              "      <td>1</td>\n",
              "      <td>1</td>\n",
              "      <td>9</td>\n",
              "      <td>4</td>\n",
              "      <td>7</td>\n",
              "      <td>4</td>\n",
              "      <td>1</td>\n",
              "      <td>1</td>\n",
              "      <td>2</td>\n",
              "    </tr>\n",
              "    <tr>\n",
              "      <th>302323</th>\n",
              "      <td>7394756</td>\n",
              "      <td>0</td>\n",
              "      <td>1</td>\n",
              "      <td>2</td>\n",
              "      <td>1</td>\n",
              "      <td>2</td>\n",
              "      <td>5</td>\n",
              "      <td>2</td>\n",
              "      <td>2</td>\n",
              "      <td>1</td>\n",
              "      <td>3</td>\n",
              "      <td>1</td>\n",
              "      <td>1</td>\n",
              "      <td>1</td>\n",
              "      <td>9</td>\n",
              "      <td>9</td>\n",
              "      <td>1</td>\n",
              "      <td>10</td>\n",
              "      <td>4</td>\n",
              "    </tr>\n",
              "    <tr>\n",
              "      <th>302324</th>\n",
              "      <td>7394737</td>\n",
              "      <td>0</td>\n",
              "      <td>1</td>\n",
              "      <td>2</td>\n",
              "      <td>1</td>\n",
              "      <td>2</td>\n",
              "      <td>6</td>\n",
              "      <td>2</td>\n",
              "      <td>2</td>\n",
              "      <td>1</td>\n",
              "      <td>1</td>\n",
              "      <td>1</td>\n",
              "      <td>2</td>\n",
              "      <td>1</td>\n",
              "      <td>9</td>\n",
              "      <td>11</td>\n",
              "      <td>1</td>\n",
              "      <td>3</td>\n",
              "      <td>4</td>\n",
              "    </tr>\n",
              "    <tr>\n",
              "      <th>302325</th>\n",
              "      <td>7394536</td>\n",
              "      <td>0</td>\n",
              "      <td>1</td>\n",
              "      <td>5</td>\n",
              "      <td>1</td>\n",
              "      <td>2</td>\n",
              "      <td>6</td>\n",
              "      <td>3</td>\n",
              "      <td>2</td>\n",
              "      <td>1</td>\n",
              "      <td>2</td>\n",
              "      <td>1</td>\n",
              "      <td>1</td>\n",
              "      <td>1</td>\n",
              "      <td>9</td>\n",
              "      <td>10</td>\n",
              "      <td>1</td>\n",
              "      <td>8</td>\n",
              "      <td>4</td>\n",
              "    </tr>\n",
              "  </tbody>\n",
              "</table>\n",
              "</div>"
            ],
            "text/plain": [
              "        Person_ID  Region  Residence_Type  Family_Composition  \\\n",
              "302321    7394645       0               1                   5   \n",
              "302322    7394688       0               1                   2   \n",
              "302323    7394756       0               1                   2   \n",
              "302324    7394737       0               1                   2   \n",
              "302325    7394536       0               1                   5   \n",
              "\n",
              "        Population_Base  Sex  Age  Marital_Status  Student  Country_of_Birth  \\\n",
              "302321                1    2    5               4        2                 1   \n",
              "302322                1    2    2               1        1                 1   \n",
              "302323                1    2    5               2        2                 1   \n",
              "302324                1    2    6               2        2                 1   \n",
              "302325                1    2    6               3        2                 1   \n",
              "\n",
              "        Health  Ethnic_Group  Religion  Economic_Activity  Occupation  \\\n",
              "302321       3             1         2                  2           7   \n",
              "302322       1             1         9                  4           7   \n",
              "302323       3             1         1                  1           9   \n",
              "302324       1             1         2                  1           9   \n",
              "302325       2             1         1                  1           9   \n",
              "\n",
              "        Industry  Hours_worked_per_week  Hours_Number  \\\n",
              "302321         7                      1             2   \n",
              "302322         4                      1             1   \n",
              "302323         9                      1            10   \n",
              "302324        11                      1             3   \n",
              "302325        10                      1             8   \n",
              "\n",
              "        Approximated_Social_Grade  \n",
              "302321                          4  \n",
              "302322                          2  \n",
              "302323                          4  \n",
              "302324                          4  \n",
              "302325                          4  "
            ]
          },
          "execution_count": 63,
          "metadata": {},
          "output_type": "execute_result"
        }
      ],
      "source": [
        "dfb3.head()"
      ]
    },
    {
      "cell_type": "code",
      "execution_count": null,
      "id": "2d63e5cb",
      "metadata": {
        "id": "2d63e5cb",
        "outputId": "17eeb97a-99eb-4f3d-b4ef-c150734c1452"
      },
      "outputs": [
        {
          "data": {
            "text/html": [
              "<div>\n",
              "<style scoped>\n",
              "    .dataframe tbody tr th:only-of-type {\n",
              "        vertical-align: middle;\n",
              "    }\n",
              "\n",
              "    .dataframe tbody tr th {\n",
              "        vertical-align: top;\n",
              "    }\n",
              "\n",
              "    .dataframe thead th {\n",
              "        text-align: right;\n",
              "    }\n",
              "</style>\n",
              "<table border=\"1\" class=\"dataframe\">\n",
              "  <thead>\n",
              "    <tr style=\"text-align: right;\">\n",
              "      <th></th>\n",
              "      <th>Person_ID</th>\n",
              "      <th>Region</th>\n",
              "      <th>Residence_Type</th>\n",
              "      <th>Family_Composition</th>\n",
              "      <th>Population_Base</th>\n",
              "      <th>Sex</th>\n",
              "      <th>Age</th>\n",
              "      <th>Marital_Status</th>\n",
              "      <th>Student</th>\n",
              "      <th>Country_of_Birth</th>\n",
              "      <th>Health</th>\n",
              "      <th>Ethnic_Group</th>\n",
              "      <th>Religion</th>\n",
              "      <th>Economic_Activity</th>\n",
              "      <th>Occupation</th>\n",
              "      <th>Industry</th>\n",
              "      <th>Hours_worked_per_week</th>\n",
              "      <th>Hours_Number</th>\n",
              "      <th>Approximated_Social_Grade</th>\n",
              "    </tr>\n",
              "  </thead>\n",
              "  <tbody>\n",
              "    <tr>\n",
              "      <th>0</th>\n",
              "      <td>-1.726358</td>\n",
              "      <td>-1.830319</td>\n",
              "      <td>0.080599</td>\n",
              "      <td>1.847508</td>\n",
              "      <td>-0.046136</td>\n",
              "      <td>1.060981</td>\n",
              "      <td>0.614402</td>\n",
              "      <td>2.246636</td>\n",
              "      <td>0.204782</td>\n",
              "      <td>-0.431325</td>\n",
              "      <td>1.921933</td>\n",
              "      <td>-0.344693</td>\n",
              "      <td>-0.214921</td>\n",
              "      <td>1.096701</td>\n",
              "      <td>0.930939</td>\n",
              "      <td>0.079949</td>\n",
              "      <td>-2.167025</td>\n",
              "      <td>-2.458039</td>\n",
              "      <td>1.132258</td>\n",
              "    </tr>\n",
              "    <tr>\n",
              "      <th>1</th>\n",
              "      <td>-1.726095</td>\n",
              "      <td>-1.830319</td>\n",
              "      <td>0.080599</td>\n",
              "      <td>-0.146294</td>\n",
              "      <td>-0.046136</td>\n",
              "      <td>1.060981</td>\n",
              "      <td>-1.578699</td>\n",
              "      <td>-0.939013</td>\n",
              "      <td>-4.883251</td>\n",
              "      <td>-0.431325</td>\n",
              "      <td>-0.871518</td>\n",
              "      <td>-0.344693</td>\n",
              "      <td>3.107249</td>\n",
              "      <td>4.112453</td>\n",
              "      <td>0.930939</td>\n",
              "      <td>-0.853213</td>\n",
              "      <td>-2.167025</td>\n",
              "      <td>-2.531999</td>\n",
              "      <td>-0.215305</td>\n",
              "    </tr>\n",
              "    <tr>\n",
              "      <th>2</th>\n",
              "      <td>-1.725681</td>\n",
              "      <td>-1.830319</td>\n",
              "      <td>0.080599</td>\n",
              "      <td>-0.146294</td>\n",
              "      <td>-0.046136</td>\n",
              "      <td>1.060981</td>\n",
              "      <td>0.614402</td>\n",
              "      <td>0.122870</td>\n",
              "      <td>0.204782</td>\n",
              "      <td>-0.431325</td>\n",
              "      <td>1.921933</td>\n",
              "      <td>-0.344693</td>\n",
              "      <td>-0.689517</td>\n",
              "      <td>-0.411174</td>\n",
              "      <td>1.707526</td>\n",
              "      <td>0.702058</td>\n",
              "      <td>-2.167025</td>\n",
              "      <td>-1.866360</td>\n",
              "      <td>1.132258</td>\n",
              "    </tr>\n",
              "    <tr>\n",
              "      <th>3</th>\n",
              "      <td>-1.725797</td>\n",
              "      <td>-1.830319</td>\n",
              "      <td>0.080599</td>\n",
              "      <td>-0.146294</td>\n",
              "      <td>-0.046136</td>\n",
              "      <td>1.060981</td>\n",
              "      <td>1.345436</td>\n",
              "      <td>0.122870</td>\n",
              "      <td>0.204782</td>\n",
              "      <td>-0.431325</td>\n",
              "      <td>-0.871518</td>\n",
              "      <td>-0.344693</td>\n",
              "      <td>-0.214921</td>\n",
              "      <td>-0.411174</td>\n",
              "      <td>1.707526</td>\n",
              "      <td>1.324166</td>\n",
              "      <td>-2.167025</td>\n",
              "      <td>-2.384079</td>\n",
              "      <td>1.132258</td>\n",
              "    </tr>\n",
              "    <tr>\n",
              "      <th>4</th>\n",
              "      <td>-1.727022</td>\n",
              "      <td>-1.830319</td>\n",
              "      <td>0.080599</td>\n",
              "      <td>1.847508</td>\n",
              "      <td>-0.046136</td>\n",
              "      <td>1.060981</td>\n",
              "      <td>1.345436</td>\n",
              "      <td>1.184753</td>\n",
              "      <td>0.204782</td>\n",
              "      <td>-0.431325</td>\n",
              "      <td>0.525208</td>\n",
              "      <td>-0.344693</td>\n",
              "      <td>-0.689517</td>\n",
              "      <td>-0.411174</td>\n",
              "      <td>1.707526</td>\n",
              "      <td>1.013112</td>\n",
              "      <td>-2.167025</td>\n",
              "      <td>-2.014280</td>\n",
              "      <td>1.132258</td>\n",
              "    </tr>\n",
              "    <tr>\n",
              "      <th>...</th>\n",
              "      <td>...</td>\n",
              "      <td>...</td>\n",
              "      <td>...</td>\n",
              "      <td>...</td>\n",
              "      <td>...</td>\n",
              "      <td>...</td>\n",
              "      <td>...</td>\n",
              "      <td>...</td>\n",
              "      <td>...</td>\n",
              "      <td>...</td>\n",
              "      <td>...</td>\n",
              "      <td>...</td>\n",
              "      <td>...</td>\n",
              "      <td>...</td>\n",
              "      <td>...</td>\n",
              "      <td>...</td>\n",
              "      <td>...</td>\n",
              "      <td>...</td>\n",
              "      <td>...</td>\n",
              "    </tr>\n",
              "    <tr>\n",
              "      <th>267414</th>\n",
              "      <td>0.013974</td>\n",
              "      <td>0.876703</td>\n",
              "      <td>-12.407082</td>\n",
              "      <td>-7.456901</td>\n",
              "      <td>-0.046136</td>\n",
              "      <td>-0.942524</td>\n",
              "      <td>-1.578699</td>\n",
              "      <td>-0.939013</td>\n",
              "      <td>0.204782</td>\n",
              "      <td>2.318440</td>\n",
              "      <td>-0.871518</td>\n",
              "      <td>-0.344693</td>\n",
              "      <td>-0.214921</td>\n",
              "      <td>-0.411174</td>\n",
              "      <td>-0.622234</td>\n",
              "      <td>0.702058</td>\n",
              "      <td>1.557882</td>\n",
              "      <td>1.239952</td>\n",
              "      <td>-7.626901</td>\n",
              "    </tr>\n",
              "    <tr>\n",
              "      <th>267415</th>\n",
              "      <td>-0.015512</td>\n",
              "      <td>0.876703</td>\n",
              "      <td>-12.407082</td>\n",
              "      <td>-7.456901</td>\n",
              "      <td>-0.046136</td>\n",
              "      <td>-0.942524</td>\n",
              "      <td>-0.847666</td>\n",
              "      <td>-0.939013</td>\n",
              "      <td>0.204782</td>\n",
              "      <td>2.318440</td>\n",
              "      <td>0.525208</td>\n",
              "      <td>0.947177</td>\n",
              "      <td>-0.689517</td>\n",
              "      <td>-0.411174</td>\n",
              "      <td>-1.398821</td>\n",
              "      <td>-0.542159</td>\n",
              "      <td>1.557882</td>\n",
              "      <td>1.461831</td>\n",
              "      <td>-7.626901</td>\n",
              "    </tr>\n",
              "    <tr>\n",
              "      <th>267416</th>\n",
              "      <td>-0.015561</td>\n",
              "      <td>0.876703</td>\n",
              "      <td>-12.407082</td>\n",
              "      <td>-7.456901</td>\n",
              "      <td>-0.046136</td>\n",
              "      <td>1.060981</td>\n",
              "      <td>0.614402</td>\n",
              "      <td>0.122870</td>\n",
              "      <td>0.204782</td>\n",
              "      <td>-0.431325</td>\n",
              "      <td>-0.871518</td>\n",
              "      <td>-0.344693</td>\n",
              "      <td>-0.214921</td>\n",
              "      <td>1.096701</td>\n",
              "      <td>-1.398821</td>\n",
              "      <td>0.391004</td>\n",
              "      <td>1.557882</td>\n",
              "      <td>1.018073</td>\n",
              "      <td>-7.626901</td>\n",
              "    </tr>\n",
              "    <tr>\n",
              "      <th>267417</th>\n",
              "      <td>1.627586</td>\n",
              "      <td>1.650138</td>\n",
              "      <td>0.080599</td>\n",
              "      <td>-0.146294</td>\n",
              "      <td>-0.046136</td>\n",
              "      <td>-0.942524</td>\n",
              "      <td>1.345436</td>\n",
              "      <td>0.122870</td>\n",
              "      <td>0.204782</td>\n",
              "      <td>-0.431325</td>\n",
              "      <td>1.921933</td>\n",
              "      <td>-0.344693</td>\n",
              "      <td>-0.689517</td>\n",
              "      <td>-0.411174</td>\n",
              "      <td>0.542646</td>\n",
              "      <td>1.013112</td>\n",
              "      <td>1.557882</td>\n",
              "      <td>1.313912</td>\n",
              "      <td>0.458476</td>\n",
              "    </tr>\n",
              "    <tr>\n",
              "      <th>267418</th>\n",
              "      <td>1.630391</td>\n",
              "      <td>1.650138</td>\n",
              "      <td>0.080599</td>\n",
              "      <td>-0.810894</td>\n",
              "      <td>-0.046136</td>\n",
              "      <td>-0.942524</td>\n",
              "      <td>0.614402</td>\n",
              "      <td>2.246636</td>\n",
              "      <td>0.204782</td>\n",
              "      <td>-0.431325</td>\n",
              "      <td>0.525208</td>\n",
              "      <td>-0.344693</td>\n",
              "      <td>-0.689517</td>\n",
              "      <td>-0.411174</td>\n",
              "      <td>0.154352</td>\n",
              "      <td>-1.475321</td>\n",
              "      <td>1.557882</td>\n",
              "      <td>1.387872</td>\n",
              "      <td>0.458476</td>\n",
              "    </tr>\n",
              "  </tbody>\n",
              "</table>\n",
              "<p>267419 rows × 19 columns</p>\n",
              "</div>"
            ],
            "text/plain": [
              "        Person_ID    Region  Residence_Type  Family_Composition  \\\n",
              "0       -1.726358 -1.830319        0.080599            1.847508   \n",
              "1       -1.726095 -1.830319        0.080599           -0.146294   \n",
              "2       -1.725681 -1.830319        0.080599           -0.146294   \n",
              "3       -1.725797 -1.830319        0.080599           -0.146294   \n",
              "4       -1.727022 -1.830319        0.080599            1.847508   \n",
              "...           ...       ...             ...                 ...   \n",
              "267414   0.013974  0.876703      -12.407082           -7.456901   \n",
              "267415  -0.015512  0.876703      -12.407082           -7.456901   \n",
              "267416  -0.015561  0.876703      -12.407082           -7.456901   \n",
              "267417   1.627586  1.650138        0.080599           -0.146294   \n",
              "267418   1.630391  1.650138        0.080599           -0.810894   \n",
              "\n",
              "        Population_Base       Sex       Age  Marital_Status   Student  \\\n",
              "0             -0.046136  1.060981  0.614402        2.246636  0.204782   \n",
              "1             -0.046136  1.060981 -1.578699       -0.939013 -4.883251   \n",
              "2             -0.046136  1.060981  0.614402        0.122870  0.204782   \n",
              "3             -0.046136  1.060981  1.345436        0.122870  0.204782   \n",
              "4             -0.046136  1.060981  1.345436        1.184753  0.204782   \n",
              "...                 ...       ...       ...             ...       ...   \n",
              "267414        -0.046136 -0.942524 -1.578699       -0.939013  0.204782   \n",
              "267415        -0.046136 -0.942524 -0.847666       -0.939013  0.204782   \n",
              "267416        -0.046136  1.060981  0.614402        0.122870  0.204782   \n",
              "267417        -0.046136 -0.942524  1.345436        0.122870  0.204782   \n",
              "267418        -0.046136 -0.942524  0.614402        2.246636  0.204782   \n",
              "\n",
              "        Country_of_Birth    Health  Ethnic_Group  Religion  Economic_Activity  \\\n",
              "0              -0.431325  1.921933     -0.344693 -0.214921           1.096701   \n",
              "1              -0.431325 -0.871518     -0.344693  3.107249           4.112453   \n",
              "2              -0.431325  1.921933     -0.344693 -0.689517          -0.411174   \n",
              "3              -0.431325 -0.871518     -0.344693 -0.214921          -0.411174   \n",
              "4              -0.431325  0.525208     -0.344693 -0.689517          -0.411174   \n",
              "...                  ...       ...           ...       ...                ...   \n",
              "267414          2.318440 -0.871518     -0.344693 -0.214921          -0.411174   \n",
              "267415          2.318440  0.525208      0.947177 -0.689517          -0.411174   \n",
              "267416         -0.431325 -0.871518     -0.344693 -0.214921           1.096701   \n",
              "267417         -0.431325  1.921933     -0.344693 -0.689517          -0.411174   \n",
              "267418         -0.431325  0.525208     -0.344693 -0.689517          -0.411174   \n",
              "\n",
              "        Occupation  Industry  Hours_worked_per_week  Hours_Number  \\\n",
              "0         0.930939  0.079949              -2.167025     -2.458039   \n",
              "1         0.930939 -0.853213              -2.167025     -2.531999   \n",
              "2         1.707526  0.702058              -2.167025     -1.866360   \n",
              "3         1.707526  1.324166              -2.167025     -2.384079   \n",
              "4         1.707526  1.013112              -2.167025     -2.014280   \n",
              "...            ...       ...                    ...           ...   \n",
              "267414   -0.622234  0.702058               1.557882      1.239952   \n",
              "267415   -1.398821 -0.542159               1.557882      1.461831   \n",
              "267416   -1.398821  0.391004               1.557882      1.018073   \n",
              "267417    0.542646  1.013112               1.557882      1.313912   \n",
              "267418    0.154352 -1.475321               1.557882      1.387872   \n",
              "\n",
              "        Approximated_Social_Grade  \n",
              "0                        1.132258  \n",
              "1                       -0.215305  \n",
              "2                        1.132258  \n",
              "3                        1.132258  \n",
              "4                        1.132258  \n",
              "...                           ...  \n",
              "267414                  -7.626901  \n",
              "267415                  -7.626901  \n",
              "267416                  -7.626901  \n",
              "267417                   0.458476  \n",
              "267418                   0.458476  \n",
              "\n",
              "[267419 rows x 19 columns]"
            ]
          },
          "execution_count": 64,
          "metadata": {},
          "output_type": "execute_result"
        }
      ],
      "source": [
        "import pandas as pd\n",
        "from sklearn.preprocessing import StandardScaler\n",
        "ss = StandardScaler()\n",
        "df_scaledstd1 = pd.DataFrame(ss.fit_transform(dfb3),columns = dfb3.columns)\n",
        "df_scaledstd1"
      ]
    },
    {
      "cell_type": "code",
      "execution_count": null,
      "id": "e28fe056",
      "metadata": {
        "id": "e28fe056"
      },
      "outputs": [],
      "source": [
        "X = df_scaledstd1[['Age','Country_of_Birth','Health','Hours_worked_per_week']]\n",
        "Y = df_scaledstd1['Hours_Number']"
      ]
    },
    {
      "cell_type": "code",
      "execution_count": null,
      "id": "04ad9f0b",
      "metadata": {
        "id": "04ad9f0b"
      },
      "outputs": [],
      "source": [
        "X_train, X_test, Y_train, Y_test = train_test_split(X, Y, test_size=0.30, random_state=5)"
      ]
    },
    {
      "cell_type": "code",
      "execution_count": null,
      "id": "aae62175",
      "metadata": {
        "id": "aae62175"
      },
      "outputs": [],
      "source": [
        "from sklearn.metrics import mean_squared_error\n",
        "from sklearn.model_selection import cross_val_score"
      ]
    },
    {
      "cell_type": "code",
      "execution_count": null,
      "id": "e3adebb4",
      "metadata": {
        "id": "e3adebb4",
        "outputId": "03f08e29-adad-46ef-df9e-b4e26100cd31"
      },
      "outputs": [
        {
          "data": {
            "text/plain": [
              "Pipeline(steps=[('scalar', StandardScaler()), ('poly', PolynomialFeatures()),\n",
              "                ('model', Ridge(alpha=4))])"
            ]
          },
          "execution_count": 68,
          "metadata": {},
          "output_type": "execute_result"
        }
      ],
      "source": [
        "from sklearn.linear_model import Ridge\n",
        "from sklearn.preprocessing import StandardScaler\n",
        "from sklearn.pipeline import Pipeline\n",
        "from sklearn.preprocessing import PolynomialFeatures\n",
        "\n",
        "steps = [\n",
        "    ('scalar', StandardScaler()),\n",
        "    ('poly', PolynomialFeatures(degree=2)),\n",
        "    ('model', Ridge(alpha=4, fit_intercept=True))\n",
        "]\n",
        "\n",
        "ridge_pipe = Pipeline(steps)\n",
        "ridge_pipe.fit(X_train, Y_train)"
      ]
    },
    {
      "cell_type": "code",
      "execution_count": null,
      "id": "977c16b4",
      "metadata": {
        "id": "977c16b4",
        "outputId": "1bc59c7d-c892-432d-b15d-4ac574adbbef"
      },
      "outputs": [
        {
          "name": "stdout",
          "output_type": "stream",
          "text": [
            "Accuracy:  87.65343639897829 %\n",
            "R2_score:  0.8766894585787277\n",
            "RMSE:  0.35106873619160883\n",
            "MAE: 0.3014529509258474\n",
            "MSE: 0.12324925753117343\n"
          ]
        }
      ],
      "source": [
        "from sklearn.metrics import r2_score\n",
        "\n",
        "# Predicting Cross Validation Score the Test set results\n",
        "cv_ridge = cross_val_score(estimator = ridge_pipe, X = X_train, y = Y_train.ravel(), cv = 10)\n",
        "\n",
        "# Predicting R2 Score the Test set results\n",
        "y_pred_ridge_test = ridge_pipe.predict(X_test)\n",
        "r2_score_ridge_test = r2_score(y_test, y_pred_ridge_test)\n",
        "\n",
        "# Predicting RMSE the Test set results\n",
        "rmse_ridge = (np.sqrt(mean_squared_error(y_test, y_pred_ridge_test)))\n",
        "#mae\n",
        "\n",
        "print('Accuracy: ', cv_ridge.mean()*100,'%')\n",
        "print('R2_score: ', r2_score_ridge_test)\n",
        "print(\"RMSE: \", rmse_ridge)\n",
        "print('MAE:', metrics.mean_absolute_error(y_test, y_pred_ridge_test))\n",
        "print('MSE:', metrics.mean_squared_error(y_test,y_pred_ridge_test))"
      ]
    },
    {
      "cell_type": "code",
      "execution_count": null,
      "id": "b3b2dd9e",
      "metadata": {
        "id": "b3b2dd9e",
        "outputId": "e55d2085-fe0c-486b-c79c-353e21b9b9a8"
      },
      "outputs": [
        {
          "data": {
            "text/plain": [
              "<AxesSubplot:xlabel='Hours_Number'>"
            ]
          },
          "execution_count": 70,
          "metadata": {},
          "output_type": "execute_result"
        },
        {
          "data": {
            "image/png": "[encoded data removed]",
            "text/plain": [
              "<Figure size 432x288 with 1 Axes>"
            ]
          },
          "metadata": {
            "needs_background": "light"
          },
          "output_type": "display_data"
        }
      ],
      "source": [
        "sns.regplot(x=y_test, y=y_pred_ridge_test)"
      ]
    },
    {
      "cell_type": "code",
      "execution_count": null,
      "id": "3a120a0c",
      "metadata": {
        "id": "3a120a0c",
        "outputId": "ff6264ef-459f-465d-e1de-5d05433c4d88"
      },
      "outputs": [
        {
          "data": {
            "text/plain": [
              "DecisionTreeRegressor(random_state=0)"
            ]
          },
          "execution_count": 71,
          "metadata": {},
          "output_type": "execute_result"
        }
      ],
      "source": [
        "# Fitting the Decision Tree Regression Model to the dataset\n",
        "from sklearn.tree import DecisionTreeRegressor\n",
        "regressor_dt = DecisionTreeRegressor(random_state = 0)\n",
        "regressor_dt.fit(X_train, Y_train)"
      ]
    },
    {
      "cell_type": "code",
      "execution_count": null,
      "id": "7451a023",
      "metadata": {
        "id": "7451a023"
      },
      "outputs": [],
      "source": [
        "from sklearn.metrics import r2_score\n",
        "\n",
        "# Predicting Cross Validation Score\n",
        "cv_dt = cross_val_score(estimator = regressor_dt, X = X_train, y = Y_train, cv =2)"
      ]
    },
    {
      "cell_type": "code",
      "execution_count": null,
      "id": "81ccdfc6",
      "metadata": {
        "id": "81ccdfc6",
        "outputId": "191177d1-c6a0-4807-db97-98bd49c309d9"
      },
      "outputs": [
        {
          "name": "stdout",
          "output_type": "stream",
          "text": [
            "Accuracy:  87.6866734142327 %\n",
            "R2_score (train):  0.8773268918474589\n",
            "R2_score (test):  0.8771657100543337\n",
            "RMSE:  0.3503901293514909\n",
            "MAE: 0.3008984174257852\n",
            "MSE: 0.1227732427469545\n"
          ]
        }
      ],
      "source": [
        "# Predicting R2 Score the Train set results\n",
        "y_pred_dt_train = regressor_dt.predict(X_train)\n",
        "r2_score_dt_train = r2_score(y_train, y_pred_dt_train)\n",
        "\n",
        "# Predicting R2 Score the Test set results\n",
        "y_pred_dt_test = regressor_dt.predict(X_test)\n",
        "r2_score_dt_test = r2_score(y_test, y_pred_dt_test)\n",
        "# Predicting R2 Score the Train set results\n",
        "y_pred_dt_train = regressor_dt.predict(X_train)\n",
        "r2_score_dt_train = r2_score(y_train, y_pred_dt_train)\n",
        "# Predicting RMSE the Test set results\n",
        "rmse_dt = (np.sqrt(mean_squared_error(y_test, y_pred_dt_test)))\n",
        "print('Accuracy: ', cv_dt.mean()*100,'%')\n",
        "print('R2_score (train): ', r2_score_dt_train)\n",
        "print('R2_score (test): ', r2_score_dt_test)\n",
        "print(\"RMSE: \", rmse_dt)\n",
        "print('MAE:', metrics.mean_absolute_error(y_test,y_pred_dt_test))\n",
        "print('MSE:', metrics.mean_squared_error(y_test,y_pred_dt_test))"
      ]
    },
    {
      "cell_type": "markdown",
      "id": "48bc42d5",
      "metadata": {
        "id": "48bc42d5"
      },
      "source": [
        "# Association Rule Mining"
      ]
    },
    {
      "cell_type": "code",
      "execution_count": null,
      "id": "c6494805",
      "metadata": {
        "id": "c6494805"
      },
      "outputs": [],
      "source": [
        "dfff=df.dropna()"
      ]
    },
    {
      "cell_type": "code",
      "execution_count": null,
      "id": "56b72b37",
      "metadata": {
        "colab": {
          "base_uri": "https://localhost:8080/"
        },
        "id": "56b72b37",
        "outputId": "2c5ae3a0-9885-45a9-b3d1-af6420c89e25"
      },
      "outputs": [
        {
          "output_type": "stream",
          "name": "stdout",
          "text": [
            "<class 'pandas.core.frame.DataFrame'>\n",
            "Int64Index: 267419 entries, 302321 to 569739\n",
            "Data columns (total 19 columns):\n",
            " #   Column                     Non-Null Count   Dtype  \n",
            "---  ------                     --------------   -----  \n",
            " 0   Person ID                  267419 non-null  int64  \n",
            " 1   Region                     267419 non-null  object \n",
            " 2   Residence Type             267419 non-null  object \n",
            " 3   Family Composition         267419 non-null  int64  \n",
            " 4   Population Base            267419 non-null  int64  \n",
            " 5   Sex                        267419 non-null  int64  \n",
            " 6   Age                        267419 non-null  int64  \n",
            " 7   Marital Status             267419 non-null  int64  \n",
            " 8   Student                    267419 non-null  int64  \n",
            " 9   Country of Birth           267419 non-null  int64  \n",
            " 10  Health                     267419 non-null  int64  \n",
            " 11  Ethnic Group               267419 non-null  int64  \n",
            " 12  Religion                   267419 non-null  int64  \n",
            " 13  Economic Activity          267419 non-null  int64  \n",
            " 14  Occupation                 267419 non-null  int64  \n",
            " 15  Industry                   267419 non-null  int64  \n",
            " 16  Hours worked per week      267419 non-null  int64  \n",
            " 17  No of hours                267419 non-null  float64\n",
            " 18  Approximated Social Grade  267419 non-null  int64  \n",
            "dtypes: float64(1), int64(16), object(2)\n",
            "memory usage: 40.8+ MB\n"
          ]
        }
      ],
      "source": [
        "dfff.info()"
      ]
    },
    {
      "cell_type": "code",
      "execution_count": null,
      "id": "d2907301",
      "metadata": {
        "colab": {
          "base_uri": "https://localhost:8080/"
        },
        "id": "d2907301",
        "outputId": "2994cc30-c47f-4daf-afca-7375987bd394"
      },
      "outputs": [
        {
          "output_type": "stream",
          "name": "stderr",
          "text": [
            "/usr/local/lib/python3.8/dist-packages/pandas/core/generic.py:6619: SettingWithCopyWarning: \n",
            "A value is trying to be set on a copy of a slice from a DataFrame\n",
            "\n",
            "See the caveats in the documentation: https://pandas.pydata.org/pandas-docs/stable/user_guide/indexing.html#returning-a-view-versus-a-copy\n",
            "  return self._update_inplace(result)\n"
          ]
        }
      ],
      "source": [
        "dfff[\"Family Composition\"].replace([1],['Not in a family'], inplace=True)\n",
        "dfff[\"Family Composition\"].replace([2],['Married/same-sex civil partnership couple family'], inplace=True)\n",
        "dfff[\"Family Composition\"].replace([3],['Cohabiting couple family'], inplace=True)\n",
        "dfff[\"Family Composition\"].replace([4],['Lone parent family (male head)'], inplace=True)\n",
        "dfff[\"Family Composition\"].replace([5],['Lone parent family (female head)'], inplace=True)\n",
        "dfff[\"Family Composition\"].replace([6],['Other related family'], inplace=True)\n",
        "dfff[\"Family Composition\"].replace([-9],['No code required (Resident of a communal establishment, students or schoolchildren living away during term-time, or a short-term resident)'], inplace=True)"
      ]
    },
    {
      "cell_type": "code",
      "execution_count": null,
      "id": "2af10db4",
      "metadata": {
        "id": "2af10db4"
      },
      "outputs": [],
      "source": [
        "dfff[\"Population Base\"].replace([1],['Usual resident'], inplace=True)\n",
        "dfff[\"Population Base\"].replace([2],['Student living away from home during term-time'], inplace=True)\n",
        "dfff[\"Population Base\"].replace([3],['Short-term resident'], inplace=True)"
      ]
    },
    {
      "cell_type": "code",
      "execution_count": null,
      "id": "545f83eb",
      "metadata": {
        "id": "545f83eb"
      },
      "outputs": [],
      "source": [
        "dfff[\"Sex\"].replace([1],[' Male'], inplace=True)\n",
        "dfff[\"Sex\"].replace([2],[' Female'], inplace=True)"
      ]
    },
    {
      "cell_type": "code",
      "execution_count": null,
      "id": "8f0395c1",
      "metadata": {
        "id": "8f0395c1"
      },
      "outputs": [],
      "source": [
        "dfff[\"Age\"].replace([1],['0 to 15'], inplace=True)\n",
        "dfff[\"Age\"].replace([2],['16 to 24'], inplace=True)\n",
        "dfff[\"Age\"].replace([3],['25 to 34'], inplace=True)\n",
        "dfff[\"Age\"].replace([4],['35 to 44'], inplace=True)\n",
        "dfff[\"Age\"].replace([5],['45 to 54'], inplace=True)\n",
        "dfff[\"Age\"].replace([6],['55 to 64'], inplace=True)\n",
        "dfff[\"Age\"].replace([7],['65 to 74'], inplace=True)\n",
        "dfff[\"Age\"].replace([8],['75 and over '], inplace=True)"
      ]
    },
    {
      "cell_type": "code",
      "execution_count": null,
      "id": "77dc97bc",
      "metadata": {
        "id": "77dc97bc"
      },
      "outputs": [],
      "source": [
        "dfff[\"Marital Status\"].replace([1],['Single (never married or never registered a same-sex civil partnership)'], inplace=True)\n",
        "dfff[\"Marital Status\"].replace([2],['Married or in a registered same-sex civil partnership'], inplace=True)\n",
        "dfff[\"Marital Status\"].replace([3],['Separated but still legally married or separated but still legally in a same-sex civil partnership'], inplace=True)\n",
        "dfff[\"Marital Status\"].replace([4],['Divorced or formerly in a same-sex civil partnership which is now legally dissolved'], inplace=True)\n",
        "dfff[\"Marital Status\"].replace([5],['Widowed or surviving partner from a same-sex civil partnership'], inplace=True)"
      ]
    },
    {
      "cell_type": "code",
      "execution_count": null,
      "id": "e8761933",
      "metadata": {
        "id": "e8761933"
      },
      "outputs": [],
      "source": [
        "dfff[\"Student\"].replace([1],[' Yes'], inplace=True)\n",
        "dfff[\"Student\"].replace([2],['No'], inplace=True)"
      ]
    },
    {
      "cell_type": "code",
      "execution_count": null,
      "id": "800e0341",
      "metadata": {
        "id": "800e0341"
      },
      "outputs": [],
      "source": [
        "dfff[\"Country of Birth\"].replace([1],['UK'], inplace=True)\n",
        "dfff[\"Country of Birth\"].replace([2],['Non UK'], inplace=True)"
      ]
    },
    {
      "cell_type": "code",
      "execution_count": null,
      "id": "d3c96fbc",
      "metadata": {
        "id": "d3c96fbc"
      },
      "outputs": [],
      "source": [
        "dfff[\"Health\"].replace([1],['Very good health'], inplace=True)\n",
        "dfff[\"Health\"].replace([2],['Good health'], inplace=True)\n",
        "dfff[\"Health\"].replace([3],['Fair health'], inplace=True)\n",
        "dfff[\"Health\"].replace([4],['Bad health'], inplace=True)\n",
        "dfff[\"Health\"].replace([5],['Very bad health'], inplace=True)"
      ]
    },
    {
      "cell_type": "code",
      "execution_count": null,
      "id": "7f1ca058",
      "metadata": {
        "id": "7f1ca058"
      },
      "outputs": [],
      "source": [
        "dfff[\"Ethnic Group\"].replace([1],['White'], inplace=True)\n",
        "dfff[\"Ethnic Group\"].replace([2],['Mixed'], inplace=True)\n",
        "dfff[\"Ethnic Group\"].replace([3],['Asian and Asian British'], inplace=True)\n",
        "dfff[\"Ethnic Group\"].replace([4],['Black or Black British'], inplace=True)\n",
        "dfff[\"Ethnic Group\"].replace([5],['Chinese or Other ethnic group'], inplace=True)"
      ]
    },
    {
      "cell_type": "code",
      "execution_count": null,
      "id": "e70596a6",
      "metadata": {
        "id": "e70596a6"
      },
      "outputs": [],
      "source": [
        "dfff[\"Religion\"].replace([1],['No religion'], inplace=True)\n",
        "dfff[\"Religion\"].replace([2],['Christian'], inplace=True)\n",
        "dfff[\"Religion\"].replace([3],['Buddhist'], inplace=True)\n",
        "dfff[\"Religion\"].replace([4],['Hindu'], inplace=True)\n",
        "dfff[\"Religion\"].replace([5],['Jewish'], inplace=True)\n",
        "dfff[\"Religion\"].replace([6],['Muslim'], inplace=True)\n",
        "dfff[\"Religion\"].replace([7],['Sikh'], inplace=True)\n",
        "dfff[\"Religion\"].replace([8],['Other religion'], inplace=True)\n",
        "dfff[\"Religion\"].replace([9],['Not stated'], inplace=True)"
      ]
    },
    {
      "cell_type": "code",
      "execution_count": null,
      "id": "2d77a28a",
      "metadata": {
        "id": "2d77a28a"
      },
      "outputs": [],
      "source": [
        "dfff[\"Economic Activity\"].replace([1],['Economically active: Employee'], inplace=True)\n",
        "dfff[\"Economic Activity\"].replace([2],['Economically active: Self-employed'], inplace=True)\n",
        "dfff[\"Economic Activity\"].replace([3],['Economically active: Unemployed'], inplace=True)\n",
        "dfff[\"Economic Activity\"].replace([4],['Economically active: Full-time student'], inplace=True)\n",
        "dfff[\"Economic Activity\"].replace([5],['Economically inactive: Retired'], inplace=True)\n",
        "dfff[\"Economic Activity\"].replace([6],['Economically inactive: Student'], inplace=True)\n",
        "dfff[\"Economic Activity\"].replace([7],['Economically inactive: Looking after home or family'], inplace=True)\n",
        "dfff[\"Economic Activity\"].replace([8],['Economically inactive: Long-term sick or disabled'], inplace=True)\n",
        "dfff[\"Economic Activity\"].replace([9],['Economically inactive: Other'], inplace=True)"
      ]
    },
    {
      "cell_type": "code",
      "execution_count": null,
      "id": "560e768a",
      "metadata": {
        "id": "560e768a"
      },
      "outputs": [],
      "source": [
        "dfff[\"Occupation\"].replace([1],['Managers, Directors and Senior Officials'], inplace=True)\n",
        "dfff[\"Occupation\"].replace([2],['Professional Occupations'], inplace=True)\n",
        "dfff[\"Occupation\"].replace([3],['Associate Professional and Technical Occupations'], inplace=True)\n",
        "dfff[\"Occupation\"].replace([4],['Administrative and Secretarial Occupations'], inplace=True)\n",
        "dfff[\"Occupation\"].replace([5],['Skilled Trades Occupations'], inplace=True)\n",
        "dfff[\"Occupation\"].replace([6],['Caring, Leisure and Other Service Occupations'], inplace=True)\n",
        "dfff[\"Occupation\"].replace([7],['Sales and Customer Service Occupations'], inplace=True)\n",
        "dfff[\"Occupation\"].replace([8],['Process, Plant and Machine Operatives'], inplace=True)\n",
        "dfff[\"Occupation\"].replace([9],['Elementary Occupations'], inplace=True)"
      ]
    },
    {
      "cell_type": "code",
      "execution_count": null,
      "id": "a6971107",
      "metadata": {
        "id": "a6971107"
      },
      "outputs": [],
      "source": [
        "dfff[\"Industry\"].replace([1],['Agriculture, forestry and fishing'], inplace=True)\n",
        "dfff[\"Industry\"].replace([2],['Mining and quarrying; Manufacturing; Electricity, gas, steam and air conditioning system; Water supply'], inplace=True)\n",
        "dfff[\"Industry\"].replace([3],['Construction'], inplace=True)\n",
        "dfff[\"Industry\"].replace([4],['Wholesale and retail trade; Repair of motor vehicles and motorcycles'], inplace=True)\n",
        "dfff[\"Industry\"].replace([5],['Accommodation and food service activities'], inplace=True)\n",
        "dfff[\"Industry\"].replace([6],['Transport and storage; Information and communication'], inplace=True)\n",
        "dfff[\"Industry\"].replace([7],['Financial and insurance activities;Intermediation'], inplace=True)\n",
        "dfff[\"Industry\"].replace([8],['Real estate activities; Professional, scientific and technical activities; Administrative and support service activities'], inplace=True)\n",
        "dfff[\"Industry\"].replace([9],['Public administration and defence; compulsory social security'], inplace=True)\n",
        "dfff[\"Industry\"].replace([10],['Education'], inplace=True)\n",
        "dfff[\"Industry\"].replace([11],['Human health and social work activities'], inplace=True)\n",
        "dfff[\"Industry\"].replace([12],['Other community, social and personal service activities; Private households employing domestic staff; Extra-territorial organisations and bodies'], inplace=True)"
      ]
    },
    {
      "cell_type": "code",
      "execution_count": null,
      "id": "ec750267",
      "metadata": {
        "id": "ec750267"
      },
      "outputs": [],
      "source": [
        "dfff[\"Hours worked per week\"].replace([1],['Part-time: 15 or less hours worked'], inplace=True)\n",
        "dfff[\"Hours worked per week\"].replace([2],['Part-time: 16 to 30 hours worked '], inplace=True)\n",
        "dfff[\"Hours worked per week\"].replace([3],['Full-time: 31 to 48 hours worked'], inplace=True)\n",
        "dfff[\"Hours worked per week\"].replace([4],['Full-time: 49 or more hours worked'], inplace=True)"
      ]
    },
    {
      "cell_type": "code",
      "execution_count": null,
      "id": "fbe9f701",
      "metadata": {
        "id": "fbe9f701"
      },
      "outputs": [],
      "source": [
        "dfff[\"Approximated Social Grade\"].replace([1],['AB'], inplace=True)\n",
        "dfff[\"Approximated Social Grade\"].replace([2],['C1'], inplace=True)\n",
        "dfff[\"Approximated Social Grade\"].replace([3],['C2'], inplace=True)\n",
        "dfff[\"Approximated Social Grade\"].replace([4],['DE'], inplace=True)\n",
        "dfff[\"Approximated Social Grade\"].replace([-9],[' No code required (People aged under 16, people resident in communal establishments, and students or schoolchildren living away during termtime)'], inplace=True)"
      ]
    },
    {
      "cell_type": "code",
      "execution_count": null,
      "id": "5217dc5b",
      "metadata": {
        "colab": {
          "base_uri": "https://localhost:8080/",
          "height": 722
        },
        "id": "5217dc5b",
        "outputId": "1c10b7a3-523c-43b5-ee1b-9ecbb8d158dd"
      },
      "outputs": [
        {
          "output_type": "execute_result",
          "data": {
            "text/plain": [
              "        Person ID     Region Residence Type  \\\n",
              "302321    7394645  E12000001              H   \n",
              "302322    7394688  E12000001              H   \n",
              "302323    7394756  E12000001              H   \n",
              "302324    7394737  E12000001              H   \n",
              "302325    7394536  E12000001              H   \n",
              "\n",
              "                                      Family Composition Population Base  \\\n",
              "302321                  Lone parent family (female head)  Usual resident   \n",
              "302322  Married/same-sex civil partnership couple family  Usual resident   \n",
              "302323  Married/same-sex civil partnership couple family  Usual resident   \n",
              "302324  Married/same-sex civil partnership couple family  Usual resident   \n",
              "302325                  Lone parent family (female head)  Usual resident   \n",
              "\n",
              "            Sex       Age                                     Marital Status  \\\n",
              "302321   Female  45 to 54  Divorced or formerly in a same-sex civil partn...   \n",
              "302322   Female  16 to 24  Single (never married or never registered a sa...   \n",
              "302323   Female  45 to 54  Married or in a registered same-sex civil part...   \n",
              "302324   Female  55 to 64  Married or in a registered same-sex civil part...   \n",
              "302325   Female  55 to 64  Separated but still legally married or separat...   \n",
              "\n",
              "       Student Country of Birth            Health Ethnic Group     Religion  \\\n",
              "302321      No               UK       Fair health        White    Christian   \n",
              "302322     Yes               UK  Very good health        White   Not stated   \n",
              "302323      No               UK       Fair health        White  No religion   \n",
              "302324      No               UK  Very good health        White    Christian   \n",
              "302325      No               UK       Good health        White  No religion   \n",
              "\n",
              "                             Economic Activity  \\\n",
              "302321      Economically active: Self-employed   \n",
              "302322  Economically active: Full-time student   \n",
              "302323           Economically active: Employee   \n",
              "302324           Economically active: Employee   \n",
              "302325           Economically active: Employee   \n",
              "\n",
              "                                    Occupation  \\\n",
              "302321  Sales and Customer Service Occupations   \n",
              "302322  Sales and Customer Service Occupations   \n",
              "302323                  Elementary Occupations   \n",
              "302324                  Elementary Occupations   \n",
              "302325                  Elementary Occupations   \n",
              "\n",
              "                                                 Industry  \\\n",
              "302321  Financial and insurance activities;Intermediation   \n",
              "302322  Wholesale and retail trade; Repair of motor ve...   \n",
              "302323  Public administration and defence; compulsory ...   \n",
              "302324            Human health and social work activities   \n",
              "302325                                          Education   \n",
              "\n",
              "                     Hours worked per week  No of hours  \\\n",
              "302321  Part-time: 15 or less hours worked          2.0   \n",
              "302322  Part-time: 15 or less hours worked          1.0   \n",
              "302323  Part-time: 15 or less hours worked         10.0   \n",
              "302324  Part-time: 15 or less hours worked          3.0   \n",
              "302325  Part-time: 15 or less hours worked          8.0   \n",
              "\n",
              "       Approximated Social Grade  \n",
              "302321                        DE  \n",
              "302322                        C1  \n",
              "302323                        DE  \n",
              "302324                        DE  \n",
              "302325                        DE  "
            ],
            "text/html": [
              "\n",
              "  <div id=\"df-3d9e0bea-ff17-4e3e-9787-7dc2a8210833\">\n",
              "    <div class=\"colab-df-container\">\n",
              "      <div>\n",
              "<style scoped>\n",
              "    .dataframe tbody tr th:only-of-type {\n",
              "        vertical-align: middle;\n",
              "    }\n",
              "\n",
              "    .dataframe tbody tr th {\n",
              "        vertical-align: top;\n",
              "    }\n",
              "\n",
              "    .dataframe thead th {\n",
              "        text-align: right;\n",
              "    }\n",
              "</style>\n",
              "<table border=\"1\" class=\"dataframe\">\n",
              "  <thead>\n",
              "    <tr style=\"text-align: right;\">\n",
              "      <th></th>\n",
              "      <th>Person ID</th>\n",
              "      <th>Region</th>\n",
              "      <th>Residence Type</th>\n",
              "      <th>Family Composition</th>\n",
              "      <th>Population Base</th>\n",
              "      <th>Sex</th>\n",
              "      <th>Age</th>\n",
              "      <th>Marital Status</th>\n",
              "      <th>Student</th>\n",
              "      <th>Country of Birth</th>\n",
              "      <th>Health</th>\n",
              "      <th>Ethnic Group</th>\n",
              "      <th>Religion</th>\n",
              "      <th>Economic Activity</th>\n",
              "      <th>Occupation</th>\n",
              "      <th>Industry</th>\n",
              "      <th>Hours worked per week</th>\n",
              "      <th>No of hours</th>\n",
              "      <th>Approximated Social Grade</th>\n",
              "    </tr>\n",
              "  </thead>\n",
              "  <tbody>\n",
              "    <tr>\n",
              "      <th>302321</th>\n",
              "      <td>7394645</td>\n",
              "      <td>E12000001</td>\n",
              "      <td>H</td>\n",
              "      <td>Lone parent family (female head)</td>\n",
              "      <td>Usual resident</td>\n",
              "      <td>Female</td>\n",
              "      <td>45 to 54</td>\n",
              "      <td>Divorced or formerly in a same-sex civil partn...</td>\n",
              "      <td>No</td>\n",
              "      <td>UK</td>\n",
              "      <td>Fair health</td>\n",
              "      <td>White</td>\n",
              "      <td>Christian</td>\n",
              "      <td>Economically active: Self-employed</td>\n",
              "      <td>Sales and Customer Service Occupations</td>\n",
              "      <td>Financial and insurance activities;Intermediation</td>\n",
              "      <td>Part-time: 15 or less hours worked</td>\n",
              "      <td>2.0</td>\n",
              "      <td>DE</td>\n",
              "    </tr>\n",
              "    <tr>\n",
              "      <th>302322</th>\n",
              "      <td>7394688</td>\n",
              "      <td>E12000001</td>\n",
              "      <td>H</td>\n",
              "      <td>Married/same-sex civil partnership couple family</td>\n",
              "      <td>Usual resident</td>\n",
              "      <td>Female</td>\n",
              "      <td>16 to 24</td>\n",
              "      <td>Single (never married or never registered a sa...</td>\n",
              "      <td>Yes</td>\n",
              "      <td>UK</td>\n",
              "      <td>Very good health</td>\n",
              "      <td>White</td>\n",
              "      <td>Not stated</td>\n",
              "      <td>Economically active: Full-time student</td>\n",
              "      <td>Sales and Customer Service Occupations</td>\n",
              "      <td>Wholesale and retail trade; Repair of motor ve...</td>\n",
              "      <td>Part-time: 15 or less hours worked</td>\n",
              "      <td>1.0</td>\n",
              "      <td>C1</td>\n",
              "    </tr>\n",
              "    <tr>\n",
              "      <th>302323</th>\n",
              "      <td>7394756</td>\n",
              "      <td>E12000001</td>\n",
              "      <td>H</td>\n",
              "      <td>Married/same-sex civil partnership couple family</td>\n",
              "      <td>Usual resident</td>\n",
              "      <td>Female</td>\n",
              "      <td>45 to 54</td>\n",
              "      <td>Married or in a registered same-sex civil part...</td>\n",
              "      <td>No</td>\n",
              "      <td>UK</td>\n",
              "      <td>Fair health</td>\n",
              "      <td>White</td>\n",
              "      <td>No religion</td>\n",
              "      <td>Economically active: Employee</td>\n",
              "      <td>Elementary Occupations</td>\n",
              "      <td>Public administration and defence; compulsory ...</td>\n",
              "      <td>Part-time: 15 or less hours worked</td>\n",
              "      <td>10.0</td>\n",
              "      <td>DE</td>\n",
              "    </tr>\n",
              "    <tr>\n",
              "      <th>302324</th>\n",
              "      <td>7394737</td>\n",
              "      <td>E12000001</td>\n",
              "      <td>H</td>\n",
              "      <td>Married/same-sex civil partnership couple family</td>\n",
              "      <td>Usual resident</td>\n",
              "      <td>Female</td>\n",
              "      <td>55 to 64</td>\n",
              "      <td>Married or in a registered same-sex civil part...</td>\n",
              "      <td>No</td>\n",
              "      <td>UK</td>\n",
              "      <td>Very good health</td>\n",
              "      <td>White</td>\n",
              "      <td>Christian</td>\n",
              "      <td>Economically active: Employee</td>\n",
              "      <td>Elementary Occupations</td>\n",
              "      <td>Human health and social work activities</td>\n",
              "      <td>Part-time: 15 or less hours worked</td>\n",
              "      <td>3.0</td>\n",
              "      <td>DE</td>\n",
              "    </tr>\n",
              "    <tr>\n",
              "      <th>302325</th>\n",
              "      <td>7394536</td>\n",
              "      <td>E12000001</td>\n",
              "      <td>H</td>\n",
              "      <td>Lone parent family (female head)</td>\n",
              "      <td>Usual resident</td>\n",
              "      <td>Female</td>\n",
              "      <td>55 to 64</td>\n",
              "      <td>Separated but still legally married or separat...</td>\n",
              "      <td>No</td>\n",
              "      <td>UK</td>\n",
              "      <td>Good health</td>\n",
              "      <td>White</td>\n",
              "      <td>No religion</td>\n",
              "      <td>Economically active: Employee</td>\n",
              "      <td>Elementary Occupations</td>\n",
              "      <td>Education</td>\n",
              "      <td>Part-time: 15 or less hours worked</td>\n",
              "      <td>8.0</td>\n",
              "      <td>DE</td>\n",
              "    </tr>\n",
              "  </tbody>\n",
              "</table>\n",
              "</div>\n",
              "      <button class=\"colab-df-convert\" onclick=\"convertToInteractive('df-3d9e0bea-ff17-4e3e-9787-7dc2a8210833')\"\n",
              "              title=\"Convert this dataframe to an interactive table.\"\n",
              "              style=\"display:none;\">\n",
              "        \n",
              "  <svg xmlns=\"http://www.w3.org/2000/svg\" height=\"24px\"viewBox=\"0 0 24 24\"\n",
              "       width=\"24px\">\n",
              "    <path d=\"M0 0h24v24H0V0z\" fill=\"none\"/>\n",
              "    <path d=\"M18.56 5.44l.94 2.06.94-2.06 2.06-.94-2.06-.94-.94-2.06-.94 2.06-2.06.94zm-11 1L8.5 8.5l.94-2.06 2.06-.94-2.06-.94L8.5 2.5l-.94 2.06-2.06.94zm10 10l.94 2.06.94-2.06 2.06-.94-2.06-.94-.94-2.06-.94 2.06-2.06.94z\"/><path d=\"M17.41 7.96l-1.37-1.37c-.4-.4-.92-.59-1.43-.59-.52 0-1.04.2-1.43.59L10.3 9.45l-7.72 7.72c-.78.78-.78 2.05 0 2.83L4 21.41c.39.39.9.59 1.41.59.51 0 1.02-.2 1.41-.59l7.78-7.78 2.81-2.81c.8-.78.8-2.07 0-2.86zM5.41 20L4 18.59l7.72-7.72 1.47 1.35L5.41 20z\"/>\n",
              "  </svg>\n",
              "      </button>\n",
              "      \n",
              "  <style>\n",
              "    .colab-df-container {\n",
              "      display:flex;\n",
              "      flex-wrap:wrap;\n",
              "      gap: 12px;\n",
              "    }\n",
              "\n",
              "    .colab-df-convert {\n",
              "      background-color: #E8F0FE;\n",
              "      border: none;\n",
              "      border-radius: 50%;\n",
              "      cursor: pointer;\n",
              "      display: none;\n",
              "      fill: #1967D2;\n",
              "      height: 32px;\n",
              "      padding: 0 0 0 0;\n",
              "      width: 32px;\n",
              "    }\n",
              "\n",
              "    .colab-df-convert:hover {\n",
              "      background-color: #E2EBFA;\n",
              "      box-shadow: 0px 1px 2px rgba(60, 64, 67, 0.3), 0px 1px 3px 1px rgba(60, 64, 67, 0.15);\n",
              "      fill: #174EA6;\n",
              "    }\n",
              "\n",
              "    [theme=dark] .colab-df-convert {\n",
              "      background-color: #3B4455;\n",
              "      fill: #D2E3FC;\n",
              "    }\n",
              "\n",
              "    [theme=dark] .colab-df-convert:hover {\n",
              "      background-color: #434B5C;\n",
              "      box-shadow: 0px 1px 3px 1px rgba(0, 0, 0, 0.15);\n",
              "      filter: drop-shadow(0px 1px 2px rgba(0, 0, 0, 0.3));\n",
              "      fill: #FFFFFF;\n",
              "    }\n",
              "  </style>\n",
              "\n",
              "      <script>\n",
              "        const buttonEl =\n",
              "          document.querySelector('#df-3d9e0bea-ff17-4e3e-9787-7dc2a8210833 button.colab-df-convert');\n",
              "        buttonEl.style.display =\n",
              "          google.colab.kernel.accessAllowed ? 'block' : 'none';\n",
              "\n",
              "        async function convertToInteractive(key) {\n",
              "          const element = document.querySelector('#df-3d9e0bea-ff17-4e3e-9787-7dc2a8210833');\n",
              "          const dataTable =\n",
              "            await google.colab.kernel.invokeFunction('convertToInteractive',\n",
              "                                                     [key], {});\n",
              "          if (!dataTable) return;\n",
              "\n",
              "          const docLinkHtml = 'Like what you see? Visit the ' +\n",
              "            '<a target=\"_blank\" href=https://colab.research.google.com/notebooks/data_table.ipynb>data table notebook</a>'\n",
              "            + ' to learn more about interactive tables.';\n",
              "          element.innerHTML = '';\n",
              "          dataTable['output_type'] = 'display_data';\n",
              "          await google.colab.output.renderOutput(dataTable, element);\n",
              "          const docLink = document.createElement('div');\n",
              "          docLink.innerHTML = docLinkHtml;\n",
              "          element.appendChild(docLink);\n",
              "        }\n",
              "      </script>\n",
              "    </div>\n",
              "  </div>\n",
              "  "
            ]
          },
          "metadata": {},
          "execution_count": 25
        }
      ],
      "source": [
        "dfff.head()"
      ]
    },
    {
      "cell_type": "code",
      "execution_count": null,
      "id": "5a937ba3",
      "metadata": {
        "colab": {
          "base_uri": "https://localhost:8080/"
        },
        "id": "5a937ba3",
        "outputId": "22e66af2-1b02-49dc-c31a-b0443ff9c7c5"
      },
      "outputs": [
        {
          "output_type": "execute_result",
          "data": {
            "text/plain": [
              "(267419, 19)"
            ]
          },
          "metadata": {},
          "execution_count": 26
        }
      ],
      "source": [
        "dfff.shape"
      ]
    },
    {
      "cell_type": "code",
      "execution_count": null,
      "id": "aee5430a",
      "metadata": {
        "colab": {
          "base_uri": "https://localhost:8080/"
        },
        "id": "aee5430a",
        "outputId": "0aa4a557-81e7-4a81-98e0-829e01b81002"
      },
      "outputs": [
        {
          "output_type": "stream",
          "name": "stdout",
          "text": [
            "Looking in indexes: https://pypi.org/simple, https://us-python.pkg.dev/colab-wheels/public/simple/\n",
            "Collecting apyori\n",
            "  Downloading apyori-1.1.2.tar.gz (8.6 kB)\n",
            "  Preparing metadata (setup.py) ... \u001b[?25l\u001b[?25hdone\n",
            "Building wheels for collected packages: apyori\n",
            "  Building wheel for apyori (setup.py) ... \u001b[?25l\u001b[?25hdone\n",
            "  Created wheel for apyori: filename=apyori-1.1.2-py3-none-any.whl size=5973 sha256=57779a42324726a1f80d23ae0faf8986d25ab0d08708e36e0c87f1293d1310f3\n",
            "  Stored in directory: /root/.cache/pip/wheels/1b/02/6c/a45230be8603bd95c0a51cd2b289aefdd860c1a100eab73661\n",
            "Successfully built apyori\n",
            "Installing collected packages: apyori\n",
            "Successfully installed apyori-1.1.2\n"
          ]
        }
      ],
      "source": [
        "pip install apyori"
      ]
    },
    {
      "cell_type": "code",
      "execution_count": null,
      "id": "e57316dd",
      "metadata": {
        "id": "e57316dd"
      },
      "outputs": [],
      "source": [
        "from apyori import apriori"
      ]
    },
    {
      "cell_type": "code",
      "execution_count": null,
      "id": "debb48ee",
      "metadata": {
        "id": "debb48ee"
      },
      "outputs": [],
      "source": [
        "data_list = []\n",
        "for row in range(0, 26):\n",
        "    data_list.append([str(dff.values[row,column]) for column in range(0, 19)])\n",
        "\n",
        "rules = apriori(data_list, min_support=0.25, min_confidence=0.25, min_length=2)\n",
        "results = list(rules)"
      ]
    },
    {
      "cell_type": "code",
      "execution_count": null,
      "id": "ad23f098",
      "metadata": {
        "id": "ad23f098",
        "outputId": "b27ba823-c14a-4914-a24c-01dbbc02fbec"
      },
      "outputs": [
        {
          "name": "stdout",
          "output_type": "stream",
          "text": [
            "[RelationRecord(items=frozenset({'0'}), support=1.0, ordered_statistics=[OrderedStatistic(items_base=frozenset(), items_add=frozenset({'0'}), confidence=1.0, lift=1.0)]), RelationRecord(items=frozenset({'1'}), support=1.0, ordered_statistics=[OrderedStatistic(items_base=frozenset(), items_add=frozenset({'1'}), confidence=1.0, lift=1.0)]), RelationRecord(items=frozenset({'10'}), support=0.2692307692307692, ordered_statistics=[OrderedStatistic(items_base=frozenset(), items_add=frozenset({'10'}), confidence=0.2692307692307692, lift=1.0)]), RelationRecord(items=frozenset({'2'}), support=1.0, ordered_statistics=[OrderedStatistic(items_base=frozenset(), items_add=frozenset({'2'}), confidence=1.0, lift=1.0)]), RelationRecord(items=frozenset({'3'}), support=0.46153846153846156, ordered_statistics=[OrderedStatistic(items_base=frozenset(), items_add=frozenset({'3'}), confidence=0.46153846153846156, lift=1.0)]), RelationRecord(items=frozenset({'4'}), support=0.8846153846153846, ordered_statistics=[OrderedStatistic(items_base=frozenset(), items_add=frozenset({'4'}), confidence=0.8846153846153846, lift=1.0)]), RelationRecord(items=frozenset({'5'}), support=0.46153846153846156, ordered_statistics=[OrderedStatistic(items_base=frozenset(), items_add=frozenset({'5'}), confidence=0.46153846153846156, lift=1.0)]), RelationRecord(items=frozenset({'6'}), support=0.5384615384615384, ordered_statistics=[OrderedStatistic(items_base=frozenset(), items_add=frozenset({'6'}), confidence=0.5384615384615384, lift=1.0)]), RelationRecord(items=frozenset({'7'}), support=0.34615384615384615, ordered_statistics=[OrderedStatistic(items_base=frozenset(), items_add=frozenset({'7'}), confidence=0.34615384615384615, lift=1.0)]), RelationRecord(items=frozenset({'9'}), support=0.38461538461538464, ordered_statistics=[OrderedStatistic(items_base=frozenset(), items_add=frozenset({'9'}), confidence=0.38461538461538464, lift=1.0)]), RelationRecord(items=frozenset({'1', '0'}), support=1.0, ordered_statistics=[OrderedStatistic(items_base=frozenset(), items_add=frozenset({'0', '1'}), confidence=1.0, lift=1.0), OrderedStatistic(items_base=frozenset({'0'}), items_add=frozenset({'1'}), confidence=1.0, lift=1.0), OrderedStatistic(items_base=frozenset({'1'}), items_add=frozenset({'0'}), confidence=1.0, lift=1.0)]), RelationRecord(items=frozenset({'10', '0'}), support=0.2692307692307692, ordered_statistics=[OrderedStatistic(items_base=frozenset(), items_add=frozenset({'10', '0'}), confidence=0.2692307692307692, lift=1.0), OrderedStatistic(items_base=frozenset({'0'}), items_add=frozenset({'10'}), confidence=0.2692307692307692, lift=1.0), OrderedStatistic(items_base=frozenset({'10'}), items_add=frozenset({'0'}), confidence=1.0, lift=1.0)]), RelationRecord(items=frozenset({'2', '0'}), support=1.0, ordered_statistics=[OrderedStatistic(items_base=frozenset(), items_add=frozenset({'2', '0'}), confidence=1.0, lift=1.0), OrderedStatistic(items_base=frozenset({'0'}), items_add=frozenset({'2'}), confidence=1.0, lift=1.0), OrderedStatistic(items_base=frozenset({'2'}), items_add=frozenset({'0'}), confidence=1.0, lift=1.0)]), RelationRecord(items=frozenset({'3', '0'}), support=0.46153846153846156, ordered_statistics=[OrderedStatistic(items_base=frozenset(), items_add=frozenset({'3', '0'}), confidence=0.46153846153846156, lift=1.0), OrderedStatistic(items_base=frozenset({'0'}), items_add=frozenset({'3'}), confidence=0.46153846153846156, lift=1.0), OrderedStatistic(items_base=frozenset({'3'}), items_add=frozenset({'0'}), confidence=1.0, lift=1.0)]), RelationRecord(items=frozenset({'4', '0'}), support=0.8846153846153846, ordered_statistics=[OrderedStatistic(items_base=frozenset(), items_add=frozenset({'4', '0'}), confidence=0.8846153846153846, lift=1.0), OrderedStatistic(items_base=frozenset({'0'}), items_add=frozenset({'4'}), confidence=0.8846153846153846, lift=1.0), OrderedStatistic(items_base=frozenset({'4'}), items_add=frozenset({'0'}), confidence=1.0, lift=1.0)]), RelationRecord(items=frozenset({'5', '0'}), support=0.46153846153846156, ordered_statistics=[OrderedStatistic(items_base=frozenset(), items_add=frozenset({'5', '0'}), confidence=0.46153846153846156, lift=1.0), OrderedStatistic(items_base=frozenset({'0'}), items_add=frozenset({'5'}), confidence=0.46153846153846156, lift=1.0), OrderedStatistic(items_base=frozenset({'5'}), items_add=frozenset({'0'}), confidence=1.0, lift=1.0)]), RelationRecord(items=frozenset({'6', '0'}), support=0.5384615384615384, ordered_statistics=[OrderedStatistic(items_base=frozenset(), items_add=frozenset({'6', '0'}), confidence=0.5384615384615384, lift=1.0), OrderedStatistic(items_base=frozenset({'0'}), items_add=frozenset({'6'}), confidence=0.5384615384615384, lift=1.0), OrderedStatistic(items_base=frozenset({'6'}), items_add=frozenset({'0'}), confidence=1.0, lift=1.0)]), RelationRecord(items=frozenset({'0', '7'}), support=0.34615384615384615, ordered_statistics=[OrderedStatistic(items_base=frozenset(), items_add=frozenset({'0', '7'}), confidence=0.34615384615384615, lift=1.0), OrderedStatistic(items_base=frozenset({'0'}), items_add=frozenset({'7'}), confidence=0.34615384615384615, lift=1.0), OrderedStatistic(items_base=frozenset({'7'}), items_add=frozenset({'0'}), confidence=1.0, lift=1.0)]), RelationRecord(items=frozenset({'9', '0'}), support=0.38461538461538464, ordered_statistics=[OrderedStatistic(items_base=frozenset(), items_add=frozenset({'9', '0'}), confidence=0.38461538461538464, lift=1.0), OrderedStatistic(items_base=frozenset({'0'}), items_add=frozenset({'9'}), confidence=0.38461538461538464, lift=1.0), OrderedStatistic(items_base=frozenset({'9'}), items_add=frozenset({'0'}), confidence=1.0, lift=1.0)]), RelationRecord(items=frozenset({'10', '1'}), support=0.2692307692307692, ordered_statistics=[OrderedStatistic(items_base=frozenset(), items_add=frozenset({'10', '1'}), confidence=0.2692307692307692, lift=1.0), OrderedStatistic(items_base=frozenset({'1'}), items_add=frozenset({'10'}), confidence=0.2692307692307692, lift=1.0), OrderedStatistic(items_base=frozenset({'10'}), items_add=frozenset({'1'}), confidence=1.0, lift=1.0)]), RelationRecord(items=frozenset({'2', '1'}), support=1.0, ordered_statistics=[OrderedStatistic(items_base=frozenset(), items_add=frozenset({'2', '1'}), confidence=1.0, lift=1.0), OrderedStatistic(items_base=frozenset({'1'}), items_add=frozenset({'2'}), confidence=1.0, lift=1.0), OrderedStatistic(items_base=frozenset({'2'}), items_add=frozenset({'1'}), confidence=1.0, lift=1.0)]), RelationRecord(items=frozenset({'3', '1'}), support=0.46153846153846156, ordered_statistics=[OrderedStatistic(items_base=frozenset(), items_add=frozenset({'3', '1'}), confidence=0.46153846153846156, lift=1.0), OrderedStatistic(items_base=frozenset({'1'}), items_add=frozenset({'3'}), confidence=0.46153846153846156, lift=1.0), OrderedStatistic(items_base=frozenset({'3'}), items_add=frozenset({'1'}), confidence=1.0, lift=1.0)]), RelationRecord(items=frozenset({'4', '1'}), support=0.8846153846153846, ordered_statistics=[OrderedStatistic(items_base=frozenset(), items_add=frozenset({'4', '1'}), confidence=0.8846153846153846, lift=1.0), OrderedStatistic(items_base=frozenset({'1'}), items_add=frozenset({'4'}), confidence=0.8846153846153846, lift=1.0), OrderedStatistic(items_base=frozenset({'4'}), items_add=frozenset({'1'}), confidence=1.0, lift=1.0)]), RelationRecord(items=frozenset({'5', '1'}), support=0.46153846153846156, ordered_statistics=[OrderedStatistic(items_base=frozenset(), items_add=frozenset({'5', '1'}), confidence=0.46153846153846156, lift=1.0), OrderedStatistic(items_base=frozenset({'1'}), items_add=frozenset({'5'}), confidence=0.46153846153846156, lift=1.0), OrderedStatistic(items_base=frozenset({'5'}), items_add=frozenset({'1'}), confidence=1.0, lift=1.0)]), RelationRecord(items=frozenset({'6', '1'}), support=0.5384615384615384, ordered_statistics=[OrderedStatistic(items_base=frozenset(), items_add=frozenset({'6', '1'}), confidence=0.5384615384615384, lift=1.0), OrderedStatistic(items_base=frozenset({'1'}), items_add=frozenset({'6'}), confidence=0.5384615384615384, lift=1.0), OrderedStatistic(items_base=frozenset({'6'}), items_add=frozenset({'1'}), confidence=1.0, lift=1.0)]), RelationRecord(items=frozenset({'1', '7'}), support=0.34615384615384615, ordered_statistics=[OrderedStatistic(items_base=frozenset(), items_add=frozenset({'1', '7'}), confidence=0.34615384615384615, lift=1.0), OrderedStatistic(items_base=frozenset({'1'}), items_add=frozenset({'7'}), confidence=0.34615384615384615, lift=1.0), OrderedStatistic(items_base=frozenset({'7'}), items_add=frozenset({'1'}), confidence=1.0, lift=1.0)]), RelationRecord(items=frozenset({'9', '1'}), support=0.38461538461538464, ordered_statistics=[OrderedStatistic(items_base=frozenset(), items_add=frozenset({'9', '1'}), confidence=0.38461538461538464, lift=1.0), OrderedStatistic(items_base=frozenset({'1'}), items_add=frozenset({'9'}), confidence=0.38461538461538464, lift=1.0), OrderedStatistic(items_base=frozenset({'9'}), items_add=frozenset({'1'}), confidence=1.0, lift=1.0)]), RelationRecord(items=frozenset({'10', '2'}), support=0.2692307692307692, ordered_statistics=[OrderedStatistic(items_base=frozenset(), items_add=frozenset({'10', '2'}), confidence=0.2692307692307692, lift=1.0), OrderedStatistic(items_base=frozenset({'10'}), items_add=frozenset({'2'}), confidence=1.0, lift=1.0), OrderedStatistic(items_base=frozenset({'2'}), items_add=frozenset({'10'}), confidence=0.2692307692307692, lift=1.0)]), RelationRecord(items=frozenset({'10', '4'}), support=0.2692307692307692, ordered_statistics=[OrderedStatistic(items_base=frozenset(), items_add=frozenset({'10', '4'}), confidence=0.2692307692307692, lift=1.0), OrderedStatistic(items_base=frozenset({'10'}), items_add=frozenset({'4'}), confidence=1.0, lift=1.1304347826086958), OrderedStatistic(items_base=frozenset({'4'}), items_add=frozenset({'10'}), confidence=0.30434782608695654, lift=1.1304347826086958)]), RelationRecord(items=frozenset({'2', '3'}), support=0.46153846153846156, ordered_statistics=[OrderedStatistic(items_base=frozenset(), items_add=frozenset({'2', '3'}), confidence=0.46153846153846156, lift=1.0), OrderedStatistic(items_base=frozenset({'2'}), items_add=frozenset({'3'}), confidence=0.46153846153846156, lift=1.0), OrderedStatistic(items_base=frozenset({'3'}), items_add=frozenset({'2'}), confidence=1.0, lift=1.0)]), RelationRecord(items=frozenset({'4', '2'}), support=0.8846153846153846, ordered_statistics=[OrderedStatistic(items_base=frozenset(), items_add=frozenset({'4', '2'}), confidence=0.8846153846153846, lift=1.0), OrderedStatistic(items_base=frozenset({'2'}), items_add=frozenset({'4'}), confidence=0.8846153846153846, lift=1.0), OrderedStatistic(items_base=frozenset({'4'}), items_add=frozenset({'2'}), confidence=1.0, lift=1.0)]), RelationRecord(items=frozenset({'5', '2'}), support=0.46153846153846156, ordered_statistics=[OrderedStatistic(items_base=frozenset(), items_add=frozenset({'5', '2'}), confidence=0.46153846153846156, lift=1.0), OrderedStatistic(items_base=frozenset({'2'}), items_add=frozenset({'5'}), confidence=0.46153846153846156, lift=1.0), OrderedStatistic(items_base=frozenset({'5'}), items_add=frozenset({'2'}), confidence=1.0, lift=1.0)]), RelationRecord(items=frozenset({'2', '6'}), support=0.5384615384615384, ordered_statistics=[OrderedStatistic(items_base=frozenset(), items_add=frozenset({'2', '6'}), confidence=0.5384615384615384, lift=1.0), OrderedStatistic(items_base=frozenset({'2'}), items_add=frozenset({'6'}), confidence=0.5384615384615384, lift=1.0), OrderedStatistic(items_base=frozenset({'6'}), items_add=frozenset({'2'}), confidence=1.0, lift=1.0)]), RelationRecord(items=frozenset({'2', '7'}), support=0.34615384615384615, ordered_statistics=[OrderedStatistic(items_base=frozenset(), items_add=frozenset({'2', '7'}), confidence=0.34615384615384615, lift=1.0), OrderedStatistic(items_base=frozenset({'2'}), items_add=frozenset({'7'}), confidence=0.34615384615384615, lift=1.0), OrderedStatistic(items_base=frozenset({'7'}), items_add=frozenset({'2'}), confidence=1.0, lift=1.0)]), RelationRecord(items=frozenset({'2', '9'}), support=0.38461538461538464, ordered_statistics=[OrderedStatistic(items_base=frozenset(), items_add=frozenset({'2', '9'}), confidence=0.38461538461538464, lift=1.0), OrderedStatistic(items_base=frozenset({'2'}), items_add=frozenset({'9'}), confidence=0.38461538461538464, lift=1.0), OrderedStatistic(items_base=frozenset({'9'}), items_add=frozenset({'2'}), confidence=1.0, lift=1.0)]), RelationRecord(items=frozenset({'4', '3'}), support=0.34615384615384615, ordered_statistics=[OrderedStatistic(items_base=frozenset(), items_add=frozenset({'4', '3'}), confidence=0.34615384615384615, lift=1.0), OrderedStatistic(items_base=frozenset({'3'}), items_add=frozenset({'4'}), confidence=0.7499999999999999, lift=0.8478260869565216), OrderedStatistic(items_base=frozenset({'4'}), items_add=frozenset({'3'}), confidence=0.391304347826087, lift=0.8478260869565217)]), RelationRecord(items=frozenset({'5', '3'}), support=0.2692307692307692, ordered_statistics=[OrderedStatistic(items_base=frozenset(), items_add=frozenset({'5', '3'}), confidence=0.2692307692307692, lift=1.0), OrderedStatistic(items_base=frozenset({'3'}), items_add=frozenset({'5'}), confidence=0.5833333333333333, lift=1.2638888888888886), OrderedStatistic(items_base=frozenset({'5'}), items_add=frozenset({'3'}), confidence=0.5833333333333333, lift=1.2638888888888886)]), RelationRecord(items=frozenset({'5', '4'}), support=0.38461538461538464, ordered_statistics=[OrderedStatistic(items_base=frozenset(), items_add=frozenset({'5', '4'}), confidence=0.38461538461538464, lift=1.0), OrderedStatistic(items_base=frozenset({'4'}), items_add=frozenset({'5'}), confidence=0.4347826086956522, lift=0.9420289855072465), OrderedStatistic(items_base=frozenset({'5'}), items_add=frozenset({'4'}), confidence=0.8333333333333334, lift=0.9420289855072465)]), RelationRecord(items=frozenset({'4', '6'}), support=0.46153846153846156, ordered_statistics=[OrderedStatistic(items_base=frozenset(), items_add=frozenset({'4', '6'}), confidence=0.46153846153846156, lift=1.0), OrderedStatistic(items_base=frozenset({'4'}), items_add=frozenset({'6'}), confidence=0.5217391304347827, lift=0.9689440993788823), OrderedStatistic(items_base=frozenset({'6'}), items_add=frozenset({'4'}), confidence=0.8571428571428572, lift=0.9689440993788822)]), RelationRecord(items=frozenset({'4', '7'}), support=0.3076923076923077, ordered_statistics=[OrderedStatistic(items_base=frozenset(), items_add=frozenset({'4', '7'}), confidence=0.3076923076923077, lift=1.0), OrderedStatistic(items_base=frozenset({'4'}), items_add=frozenset({'7'}), confidence=0.3478260869565218, lift=1.0048309178743964), OrderedStatistic(items_base=frozenset({'7'}), items_add=frozenset({'4'}), confidence=0.888888888888889, lift=1.0048309178743962)]), RelationRecord(items=frozenset({'4', '9'}), support=0.34615384615384615, ordered_statistics=[OrderedStatistic(items_base=frozenset(), items_add=frozenset({'4', '9'}), confidence=0.34615384615384615, lift=1.0), OrderedStatistic(items_base=frozenset({'4'}), items_add=frozenset({'9'}), confidence=0.391304347826087, lift=1.017391304347826), OrderedStatistic(items_base=frozenset({'9'}), items_add=frozenset({'4'}), confidence=0.8999999999999999, lift=1.017391304347826)]), RelationRecord(items=frozenset({'1', '0', '10'}), support=0.2692307692307692, ordered_statistics=[OrderedStatistic(items_base=frozenset(), items_add=frozenset({'0', '10', '1'}), confidence=0.2692307692307692, lift=1.0), OrderedStatistic(items_base=frozenset({'0'}), items_add=frozenset({'10', '1'}), confidence=0.2692307692307692, lift=1.0), OrderedStatistic(items_base=frozenset({'1'}), items_add=frozenset({'10', '0'}), confidence=0.2692307692307692, lift=1.0), OrderedStatistic(items_base=frozenset({'10'}), items_add=frozenset({'0', '1'}), confidence=1.0, lift=1.0), OrderedStatistic(items_base=frozenset({'1', '0'}), items_add=frozenset({'10'}), confidence=0.2692307692307692, lift=1.0), OrderedStatistic(items_base=frozenset({'10', '0'}), items_add=frozenset({'1'}), confidence=1.0, lift=1.0), OrderedStatistic(items_base=frozenset({'10', '1'}), items_add=frozenset({'0'}), confidence=1.0, lift=1.0)]), RelationRecord(items=frozenset({'1', '2', '0'}), support=1.0, ordered_statistics=[OrderedStatistic(items_base=frozenset(), items_add=frozenset({'0', '2', '1'}), confidence=1.0, lift=1.0), OrderedStatistic(items_base=frozenset({'0'}), items_add=frozenset({'2', '1'}), confidence=1.0, lift=1.0), OrderedStatistic(items_base=frozenset({'1'}), items_add=frozenset({'2', '0'}), confidence=1.0, lift=1.0), OrderedStatistic(items_base=frozenset({'2'}), items_add=frozenset({'0', '1'}), confidence=1.0, lift=1.0), OrderedStatistic(items_base=frozenset({'1', '0'}), items_add=frozenset({'2'}), confidence=1.0, lift=1.0), OrderedStatistic(items_base=frozenset({'2', '0'}), items_add=frozenset({'1'}), confidence=1.0, lift=1.0), OrderedStatistic(items_base=frozenset({'2', '1'}), items_add=frozenset({'0'}), confidence=1.0, lift=1.0)]), RelationRecord(items=frozenset({'1', '3', '0'}), support=0.46153846153846156, ordered_statistics=[OrderedStatistic(items_base=frozenset(), items_add=frozenset({'0', '3', '1'}), confidence=0.46153846153846156, lift=1.0), OrderedStatistic(items_base=frozenset({'0'}), items_add=frozenset({'3', '1'}), confidence=0.46153846153846156, lift=1.0), OrderedStatistic(items_base=frozenset({'1'}), items_add=frozenset({'3', '0'}), confidence=0.46153846153846156, lift=1.0), OrderedStatistic(items_base=frozenset({'3'}), items_add=frozenset({'0', '1'}), confidence=1.0, lift=1.0), OrderedStatistic(items_base=frozenset({'1', '0'}), items_add=frozenset({'3'}), confidence=0.46153846153846156, lift=1.0), OrderedStatistic(items_base=frozenset({'3', '0'}), items_add=frozenset({'1'}), confidence=1.0, lift=1.0), OrderedStatistic(items_base=frozenset({'3', '1'}), items_add=frozenset({'0'}), confidence=1.0, lift=1.0)]), RelationRecord(items=frozenset({'1', '4', '0'}), support=0.8846153846153846, ordered_statistics=[OrderedStatistic(items_base=frozenset(), items_add=frozenset({'0', '4', '1'}), confidence=0.8846153846153846, lift=1.0), OrderedStatistic(items_base=frozenset({'0'}), items_add=frozenset({'4', '1'}), confidence=0.8846153846153846, lift=1.0), OrderedStatistic(items_base=frozenset({'1'}), items_add=frozenset({'4', '0'}), confidence=0.8846153846153846, lift=1.0), OrderedStatistic(items_base=frozenset({'4'}), items_add=frozenset({'0', '1'}), confidence=1.0, lift=1.0), OrderedStatistic(items_base=frozenset({'1', '0'}), items_add=frozenset({'4'}), confidence=0.8846153846153846, lift=1.0), OrderedStatistic(items_base=frozenset({'4', '0'}), items_add=frozenset({'1'}), confidence=1.0, lift=1.0), OrderedStatistic(items_base=frozenset({'4', '1'}), items_add=frozenset({'0'}), confidence=1.0, lift=1.0)]), RelationRecord(items=frozenset({'5', '1', '0'}), support=0.46153846153846156, ordered_statistics=[OrderedStatistic(items_base=frozenset(), items_add=frozenset({'5', '0', '1'}), confidence=0.46153846153846156, lift=1.0), OrderedStatistic(items_base=frozenset({'0'}), items_add=frozenset({'5', '1'}), confidence=0.46153846153846156, lift=1.0), OrderedStatistic(items_base=frozenset({'1'}), items_add=frozenset({'5', '0'}), confidence=0.46153846153846156, lift=1.0), OrderedStatistic(items_base=frozenset({'5'}), items_add=frozenset({'0', '1'}), confidence=1.0, lift=1.0), OrderedStatistic(items_base=frozenset({'1', '0'}), items_add=frozenset({'5'}), confidence=0.46153846153846156, lift=1.0), OrderedStatistic(items_base=frozenset({'5', '0'}), items_add=frozenset({'1'}), confidence=1.0, lift=1.0), OrderedStatistic(items_base=frozenset({'5', '1'}), items_add=frozenset({'0'}), confidence=1.0, lift=1.0)]), RelationRecord(items=frozenset({'1', '6', '0'}), support=0.5384615384615384, ordered_statistics=[OrderedStatistic(items_base=frozenset(), items_add=frozenset({'0', '6', '1'}), confidence=0.5384615384615384, lift=1.0), OrderedStatistic(items_base=frozenset({'0'}), items_add=frozenset({'6', '1'}), confidence=0.5384615384615384, lift=1.0), OrderedStatistic(items_base=frozenset({'1'}), items_add=frozenset({'6', '0'}), confidence=0.5384615384615384, lift=1.0), OrderedStatistic(items_base=frozenset({'6'}), items_add=frozenset({'0', '1'}), confidence=1.0, lift=1.0), OrderedStatistic(items_base=frozenset({'1', '0'}), items_add=frozenset({'6'}), confidence=0.5384615384615384, lift=1.0), OrderedStatistic(items_base=frozenset({'6', '0'}), items_add=frozenset({'1'}), confidence=1.0, lift=1.0), OrderedStatistic(items_base=frozenset({'6', '1'}), items_add=frozenset({'0'}), confidence=1.0, lift=1.0)]), RelationRecord(items=frozenset({'1', '0', '7'}), support=0.34615384615384615, ordered_statistics=[OrderedStatistic(items_base=frozenset(), items_add=frozenset({'0', '1', '7'}), confidence=0.34615384615384615, lift=1.0), OrderedStatistic(items_base=frozenset({'0'}), items_add=frozenset({'1', '7'}), confidence=0.34615384615384615, lift=1.0), OrderedStatistic(items_base=frozenset({'1'}), items_add=frozenset({'0', '7'}), confidence=0.34615384615384615, lift=1.0), OrderedStatistic(items_base=frozenset({'7'}), items_add=frozenset({'0', '1'}), confidence=1.0, lift=1.0), OrderedStatistic(items_base=frozenset({'1', '0'}), items_add=frozenset({'7'}), confidence=0.34615384615384615, lift=1.0), OrderedStatistic(items_base=frozenset({'0', '7'}), items_add=frozenset({'1'}), confidence=1.0, lift=1.0), OrderedStatistic(items_base=frozenset({'1', '7'}), items_add=frozenset({'0'}), confidence=1.0, lift=1.0)]), RelationRecord(items=frozenset({'1', '9', '0'}), support=0.38461538461538464, ordered_statistics=[OrderedStatistic(items_base=frozenset(), items_add=frozenset({'0', '9', '1'}), confidence=0.38461538461538464, lift=1.0), OrderedStatistic(items_base=frozenset({'0'}), items_add=frozenset({'9', '1'}), confidence=0.38461538461538464, lift=1.0), OrderedStatistic(items_base=frozenset({'1'}), items_add=frozenset({'9', '0'}), confidence=0.38461538461538464, lift=1.0), OrderedStatistic(items_base=frozenset({'9'}), items_add=frozenset({'0', '1'}), confidence=1.0, lift=1.0), OrderedStatistic(items_base=frozenset({'1', '0'}), items_add=frozenset({'9'}), confidence=0.38461538461538464, lift=1.0), OrderedStatistic(items_base=frozenset({'9', '0'}), items_add=frozenset({'1'}), confidence=1.0, lift=1.0), OrderedStatistic(items_base=frozenset({'9', '1'}), items_add=frozenset({'0'}), confidence=1.0, lift=1.0)]), RelationRecord(items=frozenset({'10', '2', '0'}), support=0.2692307692307692, ordered_statistics=[OrderedStatistic(items_base=frozenset(), items_add=frozenset({'10', '2', '0'}), confidence=0.2692307692307692, lift=1.0), OrderedStatistic(items_base=frozenset({'0'}), items_add=frozenset({'10', '2'}), confidence=0.2692307692307692, lift=1.0), OrderedStatistic(items_base=frozenset({'10'}), items_add=frozenset({'2', '0'}), confidence=1.0, lift=1.0), OrderedStatistic(items_base=frozenset({'2'}), items_add=frozenset({'10', '0'}), confidence=0.2692307692307692, lift=1.0), OrderedStatistic(items_base=frozenset({'10', '0'}), items_add=frozenset({'2'}), confidence=1.0, lift=1.0), OrderedStatistic(items_base=frozenset({'2', '0'}), items_add=frozenset({'10'}), confidence=0.2692307692307692, lift=1.0), OrderedStatistic(items_base=frozenset({'10', '2'}), items_add=frozenset({'0'}), confidence=1.0, lift=1.0)]), RelationRecord(items=frozenset({'10', '4', '0'}), support=0.2692307692307692, ordered_statistics=[OrderedStatistic(items_base=frozenset(), items_add=frozenset({'10', '4', '0'}), confidence=0.2692307692307692, lift=1.0), OrderedStatistic(items_base=frozenset({'0'}), items_add=frozenset({'10', '4'}), confidence=0.2692307692307692, lift=1.0), OrderedStatistic(items_base=frozenset({'10'}), items_add=frozenset({'4', '0'}), confidence=1.0, lift=1.1304347826086958), OrderedStatistic(items_base=frozenset({'4'}), items_add=frozenset({'10', '0'}), confidence=0.30434782608695654, lift=1.1304347826086958), OrderedStatistic(items_base=frozenset({'10', '0'}), items_add=frozenset({'4'}), confidence=1.0, lift=1.1304347826086958), OrderedStatistic(items_base=frozenset({'4', '0'}), items_add=frozenset({'10'}), confidence=0.30434782608695654, lift=1.1304347826086958), OrderedStatistic(items_base=frozenset({'10', '4'}), items_add=frozenset({'0'}), confidence=1.0, lift=1.0)]), RelationRecord(items=frozenset({'2', '3', '0'}), support=0.46153846153846156, ordered_statistics=[OrderedStatistic(items_base=frozenset(), items_add=frozenset({'2', '3', '0'}), confidence=0.46153846153846156, lift=1.0), OrderedStatistic(items_base=frozenset({'0'}), items_add=frozenset({'2', '3'}), confidence=0.46153846153846156, lift=1.0), OrderedStatistic(items_base=frozenset({'2'}), items_add=frozenset({'3', '0'}), confidence=0.46153846153846156, lift=1.0), OrderedStatistic(items_base=frozenset({'3'}), items_add=frozenset({'2', '0'}), confidence=1.0, lift=1.0), OrderedStatistic(items_base=frozenset({'2', '0'}), items_add=frozenset({'3'}), confidence=0.46153846153846156, lift=1.0), OrderedStatistic(items_base=frozenset({'3', '0'}), items_add=frozenset({'2'}), confidence=1.0, lift=1.0), OrderedStatistic(items_base=frozenset({'2', '3'}), items_add=frozenset({'0'}), confidence=1.0, lift=1.0)]), RelationRecord(items=frozenset({'4', '2', '0'}), support=0.8846153846153846, ordered_statistics=[OrderedStatistic(items_base=frozenset(), items_add=frozenset({'4', '2', '0'}), confidence=0.8846153846153846, lift=1.0), OrderedStatistic(items_base=frozenset({'0'}), items_add=frozenset({'4', '2'}), confidence=0.8846153846153846, lift=1.0), OrderedStatistic(items_base=frozenset({'2'}), items_add=frozenset({'4', '0'}), confidence=0.8846153846153846, lift=1.0), OrderedStatistic(items_base=frozenset({'4'}), items_add=frozenset({'2', '0'}), confidence=1.0, lift=1.0), OrderedStatistic(items_base=frozenset({'2', '0'}), items_add=frozenset({'4'}), confidence=0.8846153846153846, lift=1.0), OrderedStatistic(items_base=frozenset({'4', '0'}), items_add=frozenset({'2'}), confidence=1.0, lift=1.0), OrderedStatistic(items_base=frozenset({'4', '2'}), items_add=frozenset({'0'}), confidence=1.0, lift=1.0)]), RelationRecord(items=frozenset({'5', '2', '0'}), support=0.46153846153846156, ordered_statistics=[OrderedStatistic(items_base=frozenset(), items_add=frozenset({'5', '2', '0'}), confidence=0.46153846153846156, lift=1.0), OrderedStatistic(items_base=frozenset({'0'}), items_add=frozenset({'5', '2'}), confidence=0.46153846153846156, lift=1.0), OrderedStatistic(items_base=frozenset({'2'}), items_add=frozenset({'5', '0'}), confidence=0.46153846153846156, lift=1.0), OrderedStatistic(items_base=frozenset({'5'}), items_add=frozenset({'2', '0'}), confidence=1.0, lift=1.0), OrderedStatistic(items_base=frozenset({'2', '0'}), items_add=frozenset({'5'}), confidence=0.46153846153846156, lift=1.0), OrderedStatistic(items_base=frozenset({'5', '0'}), items_add=frozenset({'2'}), confidence=1.0, lift=1.0), OrderedStatistic(items_base=frozenset({'5', '2'}), items_add=frozenset({'0'}), confidence=1.0, lift=1.0)]), RelationRecord(items=frozenset({'2', '6', '0'}), support=0.5384615384615384, ordered_statistics=[OrderedStatistic(items_base=frozenset(), items_add=frozenset({'2', '6', '0'}), confidence=0.5384615384615384, lift=1.0), OrderedStatistic(items_base=frozenset({'0'}), items_add=frozenset({'2', '6'}), confidence=0.5384615384615384, lift=1.0), OrderedStatistic(items_base=frozenset({'2'}), items_add=frozenset({'6', '0'}), confidence=0.5384615384615384, lift=1.0), OrderedStatistic(items_base=frozenset({'6'}), items_add=frozenset({'2', '0'}), confidence=1.0, lift=1.0), OrderedStatistic(items_base=frozenset({'2', '0'}), items_add=frozenset({'6'}), confidence=0.5384615384615384, lift=1.0), OrderedStatistic(items_base=frozenset({'6', '0'}), items_add=frozenset({'2'}), confidence=1.0, lift=1.0), OrderedStatistic(items_base=frozenset({'2', '6'}), items_add=frozenset({'0'}), confidence=1.0, lift=1.0)]), RelationRecord(items=frozenset({'2', '0', '7'}), support=0.34615384615384615, ordered_statistics=[OrderedStatistic(items_base=frozenset(), items_add=frozenset({'2', '0', '7'}), confidence=0.34615384615384615, lift=1.0), OrderedStatistic(items_base=frozenset({'0'}), items_add=frozenset({'2', '7'}), confidence=0.34615384615384615, lift=1.0), OrderedStatistic(items_base=frozenset({'2'}), items_add=frozenset({'0', '7'}), confidence=0.34615384615384615, lift=1.0), OrderedStatistic(items_base=frozenset({'7'}), items_add=frozenset({'2', '0'}), confidence=1.0, lift=1.0), OrderedStatistic(items_base=frozenset({'2', '0'}), items_add=frozenset({'7'}), confidence=0.34615384615384615, lift=1.0), OrderedStatistic(items_base=frozenset({'0', '7'}), items_add=frozenset({'2'}), confidence=1.0, lift=1.0), OrderedStatistic(items_base=frozenset({'2', '7'}), items_add=frozenset({'0'}), confidence=1.0, lift=1.0)]), RelationRecord(items=frozenset({'2', '9', '0'}), support=0.38461538461538464, ordered_statistics=[OrderedStatistic(items_base=frozenset(), items_add=frozenset({'2', '9', '0'}), confidence=0.38461538461538464, lift=1.0), OrderedStatistic(items_base=frozenset({'0'}), items_add=frozenset({'2', '9'}), confidence=0.38461538461538464, lift=1.0), OrderedStatistic(items_base=frozenset({'2'}), items_add=frozenset({'9', '0'}), confidence=0.38461538461538464, lift=1.0), OrderedStatistic(items_base=frozenset({'9'}), items_add=frozenset({'2', '0'}), confidence=1.0, lift=1.0), OrderedStatistic(items_base=frozenset({'2', '0'}), items_add=frozenset({'9'}), confidence=0.38461538461538464, lift=1.0), OrderedStatistic(items_base=frozenset({'9', '0'}), items_add=frozenset({'2'}), confidence=1.0, lift=1.0), OrderedStatistic(items_base=frozenset({'2', '9'}), items_add=frozenset({'0'}), confidence=1.0, lift=1.0)]), RelationRecord(items=frozenset({'4', '3', '0'}), support=0.34615384615384615, ordered_statistics=[OrderedStatistic(items_base=frozenset(), items_add=frozenset({'4', '3', '0'}), confidence=0.34615384615384615, lift=1.0), OrderedStatistic(items_base=frozenset({'0'}), items_add=frozenset({'4', '3'}), confidence=0.34615384615384615, lift=1.0), OrderedStatistic(items_base=frozenset({'3'}), items_add=frozenset({'4', '0'}), confidence=0.7499999999999999, lift=0.8478260869565216), OrderedStatistic(items_base=frozenset({'4'}), items_add=frozenset({'3', '0'}), confidence=0.391304347826087, lift=0.8478260869565217), OrderedStatistic(items_base=frozenset({'3', '0'}), items_add=frozenset({'4'}), confidence=0.7499999999999999, lift=0.8478260869565216), OrderedStatistic(items_base=frozenset({'4', '0'}), items_add=frozenset({'3'}), confidence=0.391304347826087, lift=0.8478260869565217), OrderedStatistic(items_base=frozenset({'4', '3'}), items_add=frozenset({'0'}), confidence=1.0, lift=1.0)]), RelationRecord(items=frozenset({'5', '3', '0'}), support=0.2692307692307692, ordered_statistics=[OrderedStatistic(items_base=frozenset(), items_add=frozenset({'5', '3', '0'}), confidence=0.2692307692307692, lift=1.0), OrderedStatistic(items_base=frozenset({'0'}), items_add=frozenset({'5', '3'}), confidence=0.2692307692307692, lift=1.0), OrderedStatistic(items_base=frozenset({'3'}), items_add=frozenset({'5', '0'}), confidence=0.5833333333333333, lift=1.2638888888888886), OrderedStatistic(items_base=frozenset({'5'}), items_add=frozenset({'3', '0'}), confidence=0.5833333333333333, lift=1.2638888888888886), OrderedStatistic(items_base=frozenset({'3', '0'}), items_add=frozenset({'5'}), confidence=0.5833333333333333, lift=1.2638888888888886), OrderedStatistic(items_base=frozenset({'5', '0'}), items_add=frozenset({'3'}), confidence=0.5833333333333333, lift=1.2638888888888886), OrderedStatistic(items_base=frozenset({'5', '3'}), items_add=frozenset({'0'}), confidence=1.0, lift=1.0)]), RelationRecord(items=frozenset({'5', '4', '0'}), support=0.38461538461538464, ordered_statistics=[OrderedStatistic(items_base=frozenset(), items_add=frozenset({'5', '4', '0'}), confidence=0.38461538461538464, lift=1.0), OrderedStatistic(items_base=frozenset({'0'}), items_add=frozenset({'5', '4'}), confidence=0.38461538461538464, lift=1.0), OrderedStatistic(items_base=frozenset({'4'}), items_add=frozenset({'5', '0'}), confidence=0.4347826086956522, lift=0.9420289855072465), OrderedStatistic(items_base=frozenset({'5'}), items_add=frozenset({'4', '0'}), confidence=0.8333333333333334, lift=0.9420289855072465), OrderedStatistic(items_base=frozenset({'4', '0'}), items_add=frozenset({'5'}), confidence=0.4347826086956522, lift=0.9420289855072465), OrderedStatistic(items_base=frozenset({'5', '0'}), items_add=frozenset({'4'}), confidence=0.8333333333333334, lift=0.9420289855072465), OrderedStatistic(items_base=frozenset({'5', '4'}), items_add=frozenset({'0'}), confidence=1.0, lift=1.0)]), RelationRecord(items=frozenset({'4', '6', '0'}), support=0.46153846153846156, ordered_statistics=[OrderedStatistic(items_base=frozenset(), items_add=frozenset({'4', '6', '0'}), confidence=0.46153846153846156, lift=1.0), OrderedStatistic(items_base=frozenset({'0'}), items_add=frozenset({'4', '6'}), confidence=0.46153846153846156, lift=1.0), OrderedStatistic(items_base=frozenset({'4'}), items_add=frozenset({'6', '0'}), confidence=0.5217391304347827, lift=0.9689440993788823), OrderedStatistic(items_base=frozenset({'6'}), items_add=frozenset({'4', '0'}), confidence=0.8571428571428572, lift=0.9689440993788822), OrderedStatistic(items_base=frozenset({'4', '0'}), items_add=frozenset({'6'}), confidence=0.5217391304347827, lift=0.9689440993788823), OrderedStatistic(items_base=frozenset({'6', '0'}), items_add=frozenset({'4'}), confidence=0.8571428571428572, lift=0.9689440993788822), OrderedStatistic(items_base=frozenset({'4', '6'}), items_add=frozenset({'0'}), confidence=1.0, lift=1.0)]), RelationRecord(items=frozenset({'4', '0', '7'}), support=0.3076923076923077, ordered_statistics=[OrderedStatistic(items_base=frozenset(), items_add=frozenset({'4', '0', '7'}), confidence=0.3076923076923077, lift=1.0), OrderedStatistic(items_base=frozenset({'0'}), items_add=frozenset({'4', '7'}), confidence=0.3076923076923077, lift=1.0), OrderedStatistic(items_base=frozenset({'4'}), items_add=frozenset({'0', '7'}), confidence=0.3478260869565218, lift=1.0048309178743964), OrderedStatistic(items_base=frozenset({'7'}), items_add=frozenset({'4', '0'}), confidence=0.888888888888889, lift=1.0048309178743962), OrderedStatistic(items_base=frozenset({'4', '0'}), items_add=frozenset({'7'}), confidence=0.3478260869565218, lift=1.0048309178743964), OrderedStatistic(items_base=frozenset({'0', '7'}), items_add=frozenset({'4'}), confidence=0.888888888888889, lift=1.0048309178743962), OrderedStatistic(items_base=frozenset({'4', '7'}), items_add=frozenset({'0'}), confidence=1.0, lift=1.0)]), RelationRecord(items=frozenset({'4', '9', '0'}), support=0.34615384615384615, ordered_statistics=[OrderedStatistic(items_base=frozenset(), items_add=frozenset({'4', '9', '0'}), confidence=0.34615384615384615, lift=1.0), OrderedStatistic(items_base=frozenset({'0'}), items_add=frozenset({'4', '9'}), confidence=0.34615384615384615, lift=1.0), OrderedStatistic(items_base=frozenset({'4'}), items_add=frozenset({'9', '0'}), confidence=0.391304347826087, lift=1.017391304347826), OrderedStatistic(items_base=frozenset({'9'}), items_add=frozenset({'4', '0'}), confidence=0.8999999999999999, lift=1.017391304347826), OrderedStatistic(items_base=frozenset({'4', '0'}), items_add=frozenset({'9'}), confidence=0.391304347826087, lift=1.017391304347826), OrderedStatistic(items_base=frozenset({'9', '0'}), items_add=frozenset({'4'}), confidence=0.8999999999999999, lift=1.017391304347826), OrderedStatistic(items_base=frozenset({'4', '9'}), items_add=frozenset({'0'}), confidence=1.0, lift=1.0)]), RelationRecord(items=frozenset({'10', '2', '1'}), support=0.2692307692307692, ordered_statistics=[OrderedStatistic(items_base=frozenset(), items_add=frozenset({'10', '2', '1'}), confidence=0.2692307692307692, lift=1.0), OrderedStatistic(items_base=frozenset({'1'}), items_add=frozenset({'10', '2'}), confidence=0.2692307692307692, lift=1.0), OrderedStatistic(items_base=frozenset({'10'}), items_add=frozenset({'2', '1'}), confidence=1.0, lift=1.0), OrderedStatistic(items_base=frozenset({'2'}), items_add=frozenset({'10', '1'}), confidence=0.2692307692307692, lift=1.0), OrderedStatistic(items_base=frozenset({'10', '1'}), items_add=frozenset({'2'}), confidence=1.0, lift=1.0), OrderedStatistic(items_base=frozenset({'2', '1'}), items_add=frozenset({'10'}), confidence=0.2692307692307692, lift=1.0), OrderedStatistic(items_base=frozenset({'10', '2'}), items_add=frozenset({'1'}), confidence=1.0, lift=1.0)]), RelationRecord(items=frozenset({'10', '4', '1'}), support=0.2692307692307692, ordered_statistics=[OrderedStatistic(items_base=frozenset(), items_add=frozenset({'10', '4', '1'}), confidence=0.2692307692307692, lift=1.0), OrderedStatistic(items_base=frozenset({'1'}), items_add=frozenset({'10', '4'}), confidence=0.2692307692307692, lift=1.0), OrderedStatistic(items_base=frozenset({'10'}), items_add=frozenset({'4', '1'}), confidence=1.0, lift=1.1304347826086958), OrderedStatistic(items_base=frozenset({'4'}), items_add=frozenset({'10', '1'}), confidence=0.30434782608695654, lift=1.1304347826086958), OrderedStatistic(items_base=frozenset({'10', '1'}), items_add=frozenset({'4'}), confidence=1.0, lift=1.1304347826086958), OrderedStatistic(items_base=frozenset({'4', '1'}), items_add=frozenset({'10'}), confidence=0.30434782608695654, lift=1.1304347826086958), OrderedStatistic(items_base=frozenset({'10', '4'}), items_add=frozenset({'1'}), confidence=1.0, lift=1.0)]), RelationRecord(items=frozenset({'2', '3', '1'}), support=0.46153846153846156, ordered_statistics=[OrderedStatistic(items_base=frozenset(), items_add=frozenset({'2', '3', '1'}), confidence=0.46153846153846156, lift=1.0), OrderedStatistic(items_base=frozenset({'1'}), items_add=frozenset({'2', '3'}), confidence=0.46153846153846156, lift=1.0), OrderedStatistic(items_base=frozenset({'2'}), items_add=frozenset({'3', '1'}), confidence=0.46153846153846156, lift=1.0), OrderedStatistic(items_base=frozenset({'3'}), items_add=frozenset({'2', '1'}), confidence=1.0, lift=1.0), OrderedStatistic(items_base=frozenset({'2', '1'}), items_add=frozenset({'3'}), confidence=0.46153846153846156, lift=1.0), OrderedStatistic(items_base=frozenset({'3', '1'}), items_add=frozenset({'2'}), confidence=1.0, lift=1.0), OrderedStatistic(items_base=frozenset({'2', '3'}), items_add=frozenset({'1'}), confidence=1.0, lift=1.0)]), RelationRecord(items=frozenset({'4', '2', '1'}), support=0.8846153846153846, ordered_statistics=[OrderedStatistic(items_base=frozenset(), items_add=frozenset({'4', '2', '1'}), confidence=0.8846153846153846, lift=1.0), OrderedStatistic(items_base=frozenset({'1'}), items_add=frozenset({'4', '2'}), confidence=0.8846153846153846, lift=1.0), OrderedStatistic(items_base=frozenset({'2'}), items_add=frozenset({'4', '1'}), confidence=0.8846153846153846, lift=1.0), OrderedStatistic(items_base=frozenset({'4'}), items_add=frozenset({'2', '1'}), confidence=1.0, lift=1.0), OrderedStatistic(items_base=frozenset({'2', '1'}), items_add=frozenset({'4'}), confidence=0.8846153846153846, lift=1.0), OrderedStatistic(items_base=frozenset({'4', '1'}), items_add=frozenset({'2'}), confidence=1.0, lift=1.0), OrderedStatistic(items_base=frozenset({'4', '2'}), items_add=frozenset({'1'}), confidence=1.0, lift=1.0)]), RelationRecord(items=frozenset({'5', '2', '1'}), support=0.46153846153846156, ordered_statistics=[OrderedStatistic(items_base=frozenset(), items_add=frozenset({'5', '2', '1'}), confidence=0.46153846153846156, lift=1.0), OrderedStatistic(items_base=frozenset({'1'}), items_add=frozenset({'5', '2'}), confidence=0.46153846153846156, lift=1.0), OrderedStatistic(items_base=frozenset({'2'}), items_add=frozenset({'5', '1'}), confidence=0.46153846153846156, lift=1.0), OrderedStatistic(items_base=frozenset({'5'}), items_add=frozenset({'2', '1'}), confidence=1.0, lift=1.0), OrderedStatistic(items_base=frozenset({'2', '1'}), items_add=frozenset({'5'}), confidence=0.46153846153846156, lift=1.0), OrderedStatistic(items_base=frozenset({'5', '1'}), items_add=frozenset({'2'}), confidence=1.0, lift=1.0), OrderedStatistic(items_base=frozenset({'5', '2'}), items_add=frozenset({'1'}), confidence=1.0, lift=1.0)]), RelationRecord(items=frozenset({'2', '6', '1'}), support=0.5384615384615384, ordered_statistics=[OrderedStatistic(items_base=frozenset(), items_add=frozenset({'2', '6', '1'}), confidence=0.5384615384615384, lift=1.0), OrderedStatistic(items_base=frozenset({'1'}), items_add=frozenset({'2', '6'}), confidence=0.5384615384615384, lift=1.0), OrderedStatistic(items_base=frozenset({'2'}), items_add=frozenset({'6', '1'}), confidence=0.5384615384615384, lift=1.0), OrderedStatistic(items_base=frozenset({'6'}), items_add=frozenset({'2', '1'}), confidence=1.0, lift=1.0), OrderedStatistic(items_base=frozenset({'2', '1'}), items_add=frozenset({'6'}), confidence=0.5384615384615384, lift=1.0), OrderedStatistic(items_base=frozenset({'6', '1'}), items_add=frozenset({'2'}), confidence=1.0, lift=1.0), OrderedStatistic(items_base=frozenset({'2', '6'}), items_add=frozenset({'1'}), confidence=1.0, lift=1.0)]), RelationRecord(items=frozenset({'2', '1', '7'}), support=0.34615384615384615, ordered_statistics=[OrderedStatistic(items_base=frozenset(), items_add=frozenset({'2', '1', '7'}), confidence=0.34615384615384615, lift=1.0), OrderedStatistic(items_base=frozenset({'1'}), items_add=frozenset({'2', '7'}), confidence=0.34615384615384615, lift=1.0), OrderedStatistic(items_base=frozenset({'2'}), items_add=frozenset({'1', '7'}), confidence=0.34615384615384615, lift=1.0), OrderedStatistic(items_base=frozenset({'7'}), items_add=frozenset({'2', '1'}), confidence=1.0, lift=1.0), OrderedStatistic(items_base=frozenset({'2', '1'}), items_add=frozenset({'7'}), confidence=0.34615384615384615, lift=1.0), OrderedStatistic(items_base=frozenset({'1', '7'}), items_add=frozenset({'2'}), confidence=1.0, lift=1.0), OrderedStatistic(items_base=frozenset({'2', '7'}), items_add=frozenset({'1'}), confidence=1.0, lift=1.0)]), RelationRecord(items=frozenset({'2', '9', '1'}), support=0.38461538461538464, ordered_statistics=[OrderedStatistic(items_base=frozenset(), items_add=frozenset({'2', '9', '1'}), confidence=0.38461538461538464, lift=1.0), OrderedStatistic(items_base=frozenset({'1'}), items_add=frozenset({'2', '9'}), confidence=0.38461538461538464, lift=1.0), OrderedStatistic(items_base=frozenset({'2'}), items_add=frozenset({'9', '1'}), confidence=0.38461538461538464, lift=1.0), OrderedStatistic(items_base=frozenset({'9'}), items_add=frozenset({'2', '1'}), confidence=1.0, lift=1.0), OrderedStatistic(items_base=frozenset({'2', '1'}), items_add=frozenset({'9'}), confidence=0.38461538461538464, lift=1.0), OrderedStatistic(items_base=frozenset({'9', '1'}), items_add=frozenset({'2'}), confidence=1.0, lift=1.0), OrderedStatistic(items_base=frozenset({'2', '9'}), items_add=frozenset({'1'}), confidence=1.0, lift=1.0)]), RelationRecord(items=frozenset({'4', '3', '1'}), support=0.34615384615384615, ordered_statistics=[OrderedStatistic(items_base=frozenset(), items_add=frozenset({'4', '3', '1'}), confidence=0.34615384615384615, lift=1.0), OrderedStatistic(items_base=frozenset({'1'}), items_add=frozenset({'4', '3'}), confidence=0.34615384615384615, lift=1.0), OrderedStatistic(items_base=frozenset({'3'}), items_add=frozenset({'4', '1'}), confidence=0.7499999999999999, lift=0.8478260869565216), OrderedStatistic(items_base=frozenset({'4'}), items_add=frozenset({'3', '1'}), confidence=0.391304347826087, lift=0.8478260869565217), OrderedStatistic(items_base=frozenset({'3', '1'}), items_add=frozenset({'4'}), confidence=0.7499999999999999, lift=0.8478260869565216), OrderedStatistic(items_base=frozenset({'4', '1'}), items_add=frozenset({'3'}), confidence=0.391304347826087, lift=0.8478260869565217), OrderedStatistic(items_base=frozenset({'4', '3'}), items_add=frozenset({'1'}), confidence=1.0, lift=1.0)]), RelationRecord(items=frozenset({'5', '3', '1'}), support=0.2692307692307692, ordered_statistics=[OrderedStatistic(items_base=frozenset(), items_add=frozenset({'5', '3', '1'}), confidence=0.2692307692307692, lift=1.0), OrderedStatistic(items_base=frozenset({'1'}), items_add=frozenset({'5', '3'}), confidence=0.2692307692307692, lift=1.0), OrderedStatistic(items_base=frozenset({'3'}), items_add=frozenset({'5', '1'}), confidence=0.5833333333333333, lift=1.2638888888888886), OrderedStatistic(items_base=frozenset({'5'}), items_add=frozenset({'3', '1'}), confidence=0.5833333333333333, lift=1.2638888888888886), OrderedStatistic(items_base=frozenset({'3', '1'}), items_add=frozenset({'5'}), confidence=0.5833333333333333, lift=1.2638888888888886), OrderedStatistic(items_base=frozenset({'5', '1'}), items_add=frozenset({'3'}), confidence=0.5833333333333333, lift=1.2638888888888886), OrderedStatistic(items_base=frozenset({'5', '3'}), items_add=frozenset({'1'}), confidence=1.0, lift=1.0)]), RelationRecord(items=frozenset({'5', '4', '1'}), support=0.38461538461538464, ordered_statistics=[OrderedStatistic(items_base=frozenset(), items_add=frozenset({'5', '4', '1'}), confidence=0.38461538461538464, lift=1.0), OrderedStatistic(items_base=frozenset({'1'}), items_add=frozenset({'5', '4'}), confidence=0.38461538461538464, lift=1.0), OrderedStatistic(items_base=frozenset({'4'}), items_add=frozenset({'5', '1'}), confidence=0.4347826086956522, lift=0.9420289855072465), OrderedStatistic(items_base=frozenset({'5'}), items_add=frozenset({'4', '1'}), confidence=0.8333333333333334, lift=0.9420289855072465), OrderedStatistic(items_base=frozenset({'4', '1'}), items_add=frozenset({'5'}), confidence=0.4347826086956522, lift=0.9420289855072465), OrderedStatistic(items_base=frozenset({'5', '1'}), items_add=frozenset({'4'}), confidence=0.8333333333333334, lift=0.9420289855072465), OrderedStatistic(items_base=frozenset({'5', '4'}), items_add=frozenset({'1'}), confidence=1.0, lift=1.0)]), RelationRecord(items=frozenset({'4', '6', '1'}), support=0.46153846153846156, ordered_statistics=[OrderedStatistic(items_base=frozenset(), items_add=frozenset({'4', '6', '1'}), confidence=0.46153846153846156, lift=1.0), OrderedStatistic(items_base=frozenset({'1'}), items_add=frozenset({'4', '6'}), confidence=0.46153846153846156, lift=1.0), OrderedStatistic(items_base=frozenset({'4'}), items_add=frozenset({'6', '1'}), confidence=0.5217391304347827, lift=0.9689440993788823), OrderedStatistic(items_base=frozenset({'6'}), items_add=frozenset({'4', '1'}), confidence=0.8571428571428572, lift=0.9689440993788822), OrderedStatistic(items_base=frozenset({'4', '1'}), items_add=frozenset({'6'}), confidence=0.5217391304347827, lift=0.9689440993788823), OrderedStatistic(items_base=frozenset({'6', '1'}), items_add=frozenset({'4'}), confidence=0.8571428571428572, lift=0.9689440993788822), OrderedStatistic(items_base=frozenset({'4', '6'}), items_add=frozenset({'1'}), confidence=1.0, lift=1.0)]), RelationRecord(items=frozenset({'4', '1', '7'}), support=0.3076923076923077, ordered_statistics=[OrderedStatistic(items_base=frozenset(), items_add=frozenset({'4', '1', '7'}), confidence=0.3076923076923077, lift=1.0), OrderedStatistic(items_base=frozenset({'1'}), items_add=frozenset({'4', '7'}), confidence=0.3076923076923077, lift=1.0), OrderedStatistic(items_base=frozenset({'4'}), items_add=frozenset({'1', '7'}), confidence=0.3478260869565218, lift=1.0048309178743964), OrderedStatistic(items_base=frozenset({'7'}), items_add=frozenset({'4', '1'}), confidence=0.888888888888889, lift=1.0048309178743962), OrderedStatistic(items_base=frozenset({'4', '1'}), items_add=frozenset({'7'}), confidence=0.3478260869565218, lift=1.0048309178743964), OrderedStatistic(items_base=frozenset({'1', '7'}), items_add=frozenset({'4'}), confidence=0.888888888888889, lift=1.0048309178743962), OrderedStatistic(items_base=frozenset({'4', '7'}), items_add=frozenset({'1'}), confidence=1.0, lift=1.0)]), RelationRecord(items=frozenset({'4', '9', '1'}), support=0.34615384615384615, ordered_statistics=[OrderedStatistic(items_base=frozenset(), items_add=frozenset({'4', '9', '1'}), confidence=0.34615384615384615, lift=1.0), OrderedStatistic(items_base=frozenset({'1'}), items_add=frozenset({'4', '9'}), confidence=0.34615384615384615, lift=1.0), OrderedStatistic(items_base=frozenset({'4'}), items_add=frozenset({'9', '1'}), confidence=0.391304347826087, lift=1.017391304347826), OrderedStatistic(items_base=frozenset({'9'}), items_add=frozenset({'4', '1'}), confidence=0.8999999999999999, lift=1.017391304347826), OrderedStatistic(items_base=frozenset({'4', '1'}), items_add=frozenset({'9'}), confidence=0.391304347826087, lift=1.017391304347826), OrderedStatistic(items_base=frozenset({'9', '1'}), items_add=frozenset({'4'}), confidence=0.8999999999999999, lift=1.017391304347826), OrderedStatistic(items_base=frozenset({'4', '9'}), items_add=frozenset({'1'}), confidence=1.0, lift=1.0)]), RelationRecord(items=frozenset({'10', '2', '4'}), support=0.2692307692307692, ordered_statistics=[OrderedStatistic(items_base=frozenset(), items_add=frozenset({'10', '2', '4'}), confidence=0.2692307692307692, lift=1.0), OrderedStatistic(items_base=frozenset({'10'}), items_add=frozenset({'4', '2'}), confidence=1.0, lift=1.1304347826086958), OrderedStatistic(items_base=frozenset({'2'}), items_add=frozenset({'10', '4'}), confidence=0.2692307692307692, lift=1.0), OrderedStatistic(items_base=frozenset({'4'}), items_add=frozenset({'10', '2'}), confidence=0.30434782608695654, lift=1.1304347826086958), OrderedStatistic(items_base=frozenset({'10', '2'}), items_add=frozenset({'4'}), confidence=1.0, lift=1.1304347826086958), OrderedStatistic(items_base=frozenset({'10', '4'}), items_add=frozenset({'2'}), confidence=1.0, lift=1.0), OrderedStatistic(items_base=frozenset({'4', '2'}), items_add=frozenset({'10'}), confidence=0.30434782608695654, lift=1.1304347826086958)]), RelationRecord(items=frozenset({'4', '2', '3'}), support=0.34615384615384615, ordered_statistics=[OrderedStatistic(items_base=frozenset(), items_add=frozenset({'4', '2', '3'}), confidence=0.34615384615384615, lift=1.0), OrderedStatistic(items_base=frozenset({'2'}), items_add=frozenset({'4', '3'}), confidence=0.34615384615384615, lift=1.0), OrderedStatistic(items_base=frozenset({'3'}), items_add=frozenset({'4', '2'}), confidence=0.7499999999999999, lift=0.8478260869565216), OrderedStatistic(items_base=frozenset({'4'}), items_add=frozenset({'2', '3'}), confidence=0.391304347826087, lift=0.8478260869565217), OrderedStatistic(items_base=frozenset({'2', '3'}), items_add=frozenset({'4'}), confidence=0.7499999999999999, lift=0.8478260869565216), OrderedStatistic(items_base=frozenset({'4', '2'}), items_add=frozenset({'3'}), confidence=0.391304347826087, lift=0.8478260869565217), OrderedStatistic(items_base=frozenset({'4', '3'}), items_add=frozenset({'2'}), confidence=1.0, lift=1.0)]), RelationRecord(items=frozenset({'5', '2', '3'}), support=0.2692307692307692, ordered_statistics=[OrderedStatistic(items_base=frozenset(), items_add=frozenset({'5', '2', '3'}), confidence=0.2692307692307692, lift=1.0), OrderedStatistic(items_base=frozenset({'2'}), items_add=frozenset({'5', '3'}), confidence=0.2692307692307692, lift=1.0), OrderedStatistic(items_base=frozenset({'3'}), items_add=frozenset({'5', '2'}), confidence=0.5833333333333333, lift=1.2638888888888886), OrderedStatistic(items_base=frozenset({'5'}), items_add=frozenset({'2', '3'}), confidence=0.5833333333333333, lift=1.2638888888888886), OrderedStatistic(items_base=frozenset({'2', '3'}), items_add=frozenset({'5'}), confidence=0.5833333333333333, lift=1.2638888888888886), OrderedStatistic(items_base=frozenset({'5', '2'}), items_add=frozenset({'3'}), confidence=0.5833333333333333, lift=1.2638888888888886), OrderedStatistic(items_base=frozenset({'5', '3'}), items_add=frozenset({'2'}), confidence=1.0, lift=1.0)]), RelationRecord(items=frozenset({'5', '4', '2'}), support=0.38461538461538464, ordered_statistics=[OrderedStatistic(items_base=frozenset(), items_add=frozenset({'5', '4', '2'}), confidence=0.38461538461538464, lift=1.0), OrderedStatistic(items_base=frozenset({'2'}), items_add=frozenset({'5', '4'}), confidence=0.38461538461538464, lift=1.0), OrderedStatistic(items_base=frozenset({'4'}), items_add=frozenset({'5', '2'}), confidence=0.4347826086956522, lift=0.9420289855072465), OrderedStatistic(items_base=frozenset({'5'}), items_add=frozenset({'4', '2'}), confidence=0.8333333333333334, lift=0.9420289855072465), OrderedStatistic(items_base=frozenset({'4', '2'}), items_add=frozenset({'5'}), confidence=0.4347826086956522, lift=0.9420289855072465), OrderedStatistic(items_base=frozenset({'5', '2'}), items_add=frozenset({'4'}), confidence=0.8333333333333334, lift=0.9420289855072465), OrderedStatistic(items_base=frozenset({'5', '4'}), items_add=frozenset({'2'}), confidence=1.0, lift=1.0)]), RelationRecord(items=frozenset({'4', '2', '6'}), support=0.46153846153846156, ordered_statistics=[OrderedStatistic(items_base=frozenset(), items_add=frozenset({'4', '2', '6'}), confidence=0.46153846153846156, lift=1.0), OrderedStatistic(items_base=frozenset({'2'}), items_add=frozenset({'4', '6'}), confidence=0.46153846153846156, lift=1.0), OrderedStatistic(items_base=frozenset({'4'}), items_add=frozenset({'2', '6'}), confidence=0.5217391304347827, lift=0.9689440993788823), OrderedStatistic(items_base=frozenset({'6'}), items_add=frozenset({'4', '2'}), confidence=0.8571428571428572, lift=0.9689440993788822), OrderedStatistic(items_base=frozenset({'4', '2'}), items_add=frozenset({'6'}), confidence=0.5217391304347827, lift=0.9689440993788823), OrderedStatistic(items_base=frozenset({'2', '6'}), items_add=frozenset({'4'}), confidence=0.8571428571428572, lift=0.9689440993788822), OrderedStatistic(items_base=frozenset({'4', '6'}), items_add=frozenset({'2'}), confidence=1.0, lift=1.0)]), RelationRecord(items=frozenset({'4', '2', '7'}), support=0.3076923076923077, ordered_statistics=[OrderedStatistic(items_base=frozenset(), items_add=frozenset({'4', '2', '7'}), confidence=0.3076923076923077, lift=1.0), OrderedStatistic(items_base=frozenset({'2'}), items_add=frozenset({'4', '7'}), confidence=0.3076923076923077, lift=1.0), OrderedStatistic(items_base=frozenset({'4'}), items_add=frozenset({'2', '7'}), confidence=0.3478260869565218, lift=1.0048309178743964), OrderedStatistic(items_base=frozenset({'7'}), items_add=frozenset({'4', '2'}), confidence=0.888888888888889, lift=1.0048309178743962), OrderedStatistic(items_base=frozenset({'4', '2'}), items_add=frozenset({'7'}), confidence=0.3478260869565218, lift=1.0048309178743964), OrderedStatistic(items_base=frozenset({'2', '7'}), items_add=frozenset({'4'}), confidence=0.888888888888889, lift=1.0048309178743962), OrderedStatistic(items_base=frozenset({'4', '7'}), items_add=frozenset({'2'}), confidence=1.0, lift=1.0)]), RelationRecord(items=frozenset({'4', '2', '9'}), support=0.34615384615384615, ordered_statistics=[OrderedStatistic(items_base=frozenset(), items_add=frozenset({'4', '2', '9'}), confidence=0.34615384615384615, lift=1.0), OrderedStatistic(items_base=frozenset({'2'}), items_add=frozenset({'4', '9'}), confidence=0.34615384615384615, lift=1.0), OrderedStatistic(items_base=frozenset({'4'}), items_add=frozenset({'2', '9'}), confidence=0.391304347826087, lift=1.017391304347826), OrderedStatistic(items_base=frozenset({'9'}), items_add=frozenset({'4', '2'}), confidence=0.8999999999999999, lift=1.017391304347826), OrderedStatistic(items_base=frozenset({'4', '2'}), items_add=frozenset({'9'}), confidence=0.391304347826087, lift=1.017391304347826), OrderedStatistic(items_base=frozenset({'2', '9'}), items_add=frozenset({'4'}), confidence=0.8999999999999999, lift=1.017391304347826), OrderedStatistic(items_base=frozenset({'4', '9'}), items_add=frozenset({'2'}), confidence=1.0, lift=1.0)]), RelationRecord(items=frozenset({'1', '2', '0', '10'}), support=0.2692307692307692, ordered_statistics=[OrderedStatistic(items_base=frozenset(), items_add=frozenset({'1', '2', '0', '10'}), confidence=0.2692307692307692, lift=1.0), OrderedStatistic(items_base=frozenset({'0'}), items_add=frozenset({'10', '2', '1'}), confidence=0.2692307692307692, lift=1.0), OrderedStatistic(items_base=frozenset({'1'}), items_add=frozenset({'10', '2', '0'}), confidence=0.2692307692307692, lift=1.0), OrderedStatistic(items_base=frozenset({'10'}), items_add=frozenset({'0', '2', '1'}), confidence=1.0, lift=1.0), OrderedStatistic(items_base=frozenset({'2'}), items_add=frozenset({'0', '10', '1'}), confidence=0.2692307692307692, lift=1.0), OrderedStatistic(items_base=frozenset({'1', '0'}), items_add=frozenset({'10', '2'}), confidence=0.2692307692307692, lift=1.0), OrderedStatistic(items_base=frozenset({'10', '0'}), items_add=frozenset({'2', '1'}), confidence=1.0, lift=1.0), OrderedStatistic(items_base=frozenset({'2', '0'}), items_add=frozenset({'10', '1'}), confidence=0.2692307692307692, lift=1.0), OrderedStatistic(items_base=frozenset({'10', '1'}), items_add=frozenset({'2', '0'}), confidence=1.0, lift=1.0), OrderedStatistic(items_base=frozenset({'2', '1'}), items_add=frozenset({'10', '0'}), confidence=0.2692307692307692, lift=1.0), OrderedStatistic(items_base=frozenset({'10', '2'}), items_add=frozenset({'0', '1'}), confidence=1.0, lift=1.0), OrderedStatistic(items_base=frozenset({'1', '0', '10'}), items_add=frozenset({'2'}), confidence=1.0, lift=1.0), OrderedStatistic(items_base=frozenset({'1', '2', '0'}), items_add=frozenset({'10'}), confidence=0.2692307692307692, lift=1.0), OrderedStatistic(items_base=frozenset({'10', '2', '0'}), items_add=frozenset({'1'}), confidence=1.0, lift=1.0), OrderedStatistic(items_base=frozenset({'10', '2', '1'}), items_add=frozenset({'0'}), confidence=1.0, lift=1.0)]), RelationRecord(items=frozenset({'1', '4', '0', '10'}), support=0.2692307692307692, ordered_statistics=[OrderedStatistic(items_base=frozenset(), items_add=frozenset({'1', '4', '0', '10'}), confidence=0.2692307692307692, lift=1.0), OrderedStatistic(items_base=frozenset({'0'}), items_add=frozenset({'4', '1', '10'}), confidence=0.2692307692307692, lift=1.0), OrderedStatistic(items_base=frozenset({'1'}), items_add=frozenset({'4', '0', '10'}), confidence=0.2692307692307692, lift=1.0), OrderedStatistic(items_base=frozenset({'10'}), items_add=frozenset({'0', '4', '1'}), confidence=1.0, lift=1.1304347826086958), OrderedStatistic(items_base=frozenset({'4'}), items_add=frozenset({'0', '10', '1'}), confidence=0.30434782608695654, lift=1.1304347826086958), OrderedStatistic(items_base=frozenset({'1', '0'}), items_add=frozenset({'4', '10'}), confidence=0.2692307692307692, lift=1.0), OrderedStatistic(items_base=frozenset({'10', '0'}), items_add=frozenset({'4', '1'}), confidence=1.0, lift=1.1304347826086958), OrderedStatistic(items_base=frozenset({'4', '0'}), items_add=frozenset({'10', '1'}), confidence=0.30434782608695654, lift=1.1304347826086958), OrderedStatistic(items_base=frozenset({'10', '1'}), items_add=frozenset({'4', '0'}), confidence=1.0, lift=1.1304347826086958), OrderedStatistic(items_base=frozenset({'4', '1'}), items_add=frozenset({'10', '0'}), confidence=0.30434782608695654, lift=1.1304347826086958), OrderedStatistic(items_base=frozenset({'10', '4'}), items_add=frozenset({'0', '1'}), confidence=1.0, lift=1.0), OrderedStatistic(items_base=frozenset({'1', '0', '10'}), items_add=frozenset({'4'}), confidence=1.0, lift=1.1304347826086958), OrderedStatistic(items_base=frozenset({'1', '4', '0'}), items_add=frozenset({'10'}), confidence=0.30434782608695654, lift=1.1304347826086958), OrderedStatistic(items_base=frozenset({'10', '4', '0'}), items_add=frozenset({'1'}), confidence=1.0, lift=1.0), OrderedStatistic(items_base=frozenset({'10', '4', '1'}), items_add=frozenset({'0'}), confidence=1.0, lift=1.0)]), RelationRecord(items=frozenset({'1', '2', '3', '0'}), support=0.46153846153846156, ordered_statistics=[OrderedStatistic(items_base=frozenset(), items_add=frozenset({'1', '2', '3', '0'}), confidence=0.46153846153846156, lift=1.0), OrderedStatistic(items_base=frozenset({'0'}), items_add=frozenset({'2', '3', '1'}), confidence=0.46153846153846156, lift=1.0), OrderedStatistic(items_base=frozenset({'1'}), items_add=frozenset({'2', '3', '0'}), confidence=0.46153846153846156, lift=1.0), OrderedStatistic(items_base=frozenset({'2'}), items_add=frozenset({'0', '3', '1'}), confidence=0.46153846153846156, lift=1.0), OrderedStatistic(items_base=frozenset({'3'}), items_add=frozenset({'0', '2', '1'}), confidence=1.0, lift=1.0), OrderedStatistic(items_base=frozenset({'1', '0'}), items_add=frozenset({'2', '3'}), confidence=0.46153846153846156, lift=1.0), OrderedStatistic(items_base=frozenset({'2', '0'}), items_add=frozenset({'3', '1'}), confidence=0.46153846153846156, lift=1.0), OrderedStatistic(items_base=frozenset({'3', '0'}), items_add=frozenset({'2', '1'}), confidence=1.0, lift=1.0), OrderedStatistic(items_base=frozenset({'2', '1'}), items_add=frozenset({'3', '0'}), confidence=0.46153846153846156, lift=1.0), OrderedStatistic(items_base=frozenset({'3', '1'}), items_add=frozenset({'2', '0'}), confidence=1.0, lift=1.0), OrderedStatistic(items_base=frozenset({'2', '3'}), items_add=frozenset({'0', '1'}), confidence=1.0, lift=1.0), OrderedStatistic(items_base=frozenset({'1', '2', '0'}), items_add=frozenset({'3'}), confidence=0.46153846153846156, lift=1.0), OrderedStatistic(items_base=frozenset({'1', '3', '0'}), items_add=frozenset({'2'}), confidence=1.0, lift=1.0), OrderedStatistic(items_base=frozenset({'2', '3', '0'}), items_add=frozenset({'1'}), confidence=1.0, lift=1.0), OrderedStatistic(items_base=frozenset({'2', '3', '1'}), items_add=frozenset({'0'}), confidence=1.0, lift=1.0)]), RelationRecord(items=frozenset({'1', '2', '4', '0'}), support=0.8846153846153846, ordered_statistics=[OrderedStatistic(items_base=frozenset(), items_add=frozenset({'1', '2', '4', '0'}), confidence=0.8846153846153846, lift=1.0), OrderedStatistic(items_base=frozenset({'0'}), items_add=frozenset({'4', '2', '1'}), confidence=0.8846153846153846, lift=1.0), OrderedStatistic(items_base=frozenset({'1'}), items_add=frozenset({'4', '2', '0'}), confidence=0.8846153846153846, lift=1.0), OrderedStatistic(items_base=frozenset({'2'}), items_add=frozenset({'0', '4', '1'}), confidence=0.8846153846153846, lift=1.0), OrderedStatistic(items_base=frozenset({'4'}), items_add=frozenset({'0', '2', '1'}), confidence=1.0, lift=1.0), OrderedStatistic(items_base=frozenset({'1', '0'}), items_add=frozenset({'4', '2'}), confidence=0.8846153846153846, lift=1.0), OrderedStatistic(items_base=frozenset({'2', '0'}), items_add=frozenset({'4', '1'}), confidence=0.8846153846153846, lift=1.0), OrderedStatistic(items_base=frozenset({'4', '0'}), items_add=frozenset({'2', '1'}), confidence=1.0, lift=1.0), OrderedStatistic(items_base=frozenset({'2', '1'}), items_add=frozenset({'4', '0'}), confidence=0.8846153846153846, lift=1.0), OrderedStatistic(items_base=frozenset({'4', '1'}), items_add=frozenset({'2', '0'}), confidence=1.0, lift=1.0), OrderedStatistic(items_base=frozenset({'4', '2'}), items_add=frozenset({'0', '1'}), confidence=1.0, lift=1.0), OrderedStatistic(items_base=frozenset({'1', '2', '0'}), items_add=frozenset({'4'}), confidence=0.8846153846153846, lift=1.0), OrderedStatistic(items_base=frozenset({'1', '4', '0'}), items_add=frozenset({'2'}), confidence=1.0, lift=1.0), OrderedStatistic(items_base=frozenset({'4', '2', '0'}), items_add=frozenset({'1'}), confidence=1.0, lift=1.0), OrderedStatistic(items_base=frozenset({'4', '2', '1'}), items_add=frozenset({'0'}), confidence=1.0, lift=1.0)]), RelationRecord(items=frozenset({'5', '1', '2', '0'}), support=0.46153846153846156, ordered_statistics=[OrderedStatistic(items_base=frozenset(), items_add=frozenset({'5', '1', '2', '0'}), confidence=0.46153846153846156, lift=1.0), OrderedStatistic(items_base=frozenset({'0'}), items_add=frozenset({'5', '2', '1'}), confidence=0.46153846153846156, lift=1.0), OrderedStatistic(items_base=frozenset({'1'}), items_add=frozenset({'5', '2', '0'}), confidence=0.46153846153846156, lift=1.0), OrderedStatistic(items_base=frozenset({'2'}), items_add=frozenset({'5', '0', '1'}), confidence=0.46153846153846156, lift=1.0), OrderedStatistic(items_base=frozenset({'5'}), items_add=frozenset({'0', '2', '1'}), confidence=1.0, lift=1.0), OrderedStatistic(items_base=frozenset({'1', '0'}), items_add=frozenset({'5', '2'}), confidence=0.46153846153846156, lift=1.0), OrderedStatistic(items_base=frozenset({'2', '0'}), items_add=frozenset({'5', '1'}), confidence=0.46153846153846156, lift=1.0), OrderedStatistic(items_base=frozenset({'5', '0'}), items_add=frozenset({'2', '1'}), confidence=1.0, lift=1.0), OrderedStatistic(items_base=frozenset({'2', '1'}), items_add=frozenset({'5', '0'}), confidence=0.46153846153846156, lift=1.0), OrderedStatistic(items_base=frozenset({'5', '1'}), items_add=frozenset({'2', '0'}), confidence=1.0, lift=1.0), OrderedStatistic(items_base=frozenset({'5', '2'}), items_add=frozenset({'0', '1'}), confidence=1.0, lift=1.0), OrderedStatistic(items_base=frozenset({'1', '2', '0'}), items_add=frozenset({'5'}), confidence=0.46153846153846156, lift=1.0), OrderedStatistic(items_base=frozenset({'5', '1', '0'}), items_add=frozenset({'2'}), confidence=1.0, lift=1.0), OrderedStatistic(items_base=frozenset({'5', '2', '0'}), items_add=frozenset({'1'}), confidence=1.0, lift=1.0), OrderedStatistic(items_base=frozenset({'5', '2', '1'}), items_add=frozenset({'0'}), confidence=1.0, lift=1.0)]), RelationRecord(items=frozenset({'1', '2', '6', '0'}), support=0.5384615384615384, ordered_statistics=[OrderedStatistic(items_base=frozenset(), items_add=frozenset({'1', '2', '6', '0'}), confidence=0.5384615384615384, lift=1.0), OrderedStatistic(items_base=frozenset({'0'}), items_add=frozenset({'2', '6', '1'}), confidence=0.5384615384615384, lift=1.0), OrderedStatistic(items_base=frozenset({'1'}), items_add=frozenset({'2', '6', '0'}), confidence=0.5384615384615384, lift=1.0), OrderedStatistic(items_base=frozenset({'2'}), items_add=frozenset({'0', '6', '1'}), confidence=0.5384615384615384, lift=1.0), OrderedStatistic(items_base=frozenset({'6'}), items_add=frozenset({'0', '2', '1'}), confidence=1.0, lift=1.0), OrderedStatistic(items_base=frozenset({'1', '0'}), items_add=frozenset({'2', '6'}), confidence=0.5384615384615384, lift=1.0), OrderedStatistic(items_base=frozenset({'2', '0'}), items_add=frozenset({'6', '1'}), confidence=0.5384615384615384, lift=1.0), OrderedStatistic(items_base=frozenset({'6', '0'}), items_add=frozenset({'2', '1'}), confidence=1.0, lift=1.0), OrderedStatistic(items_base=frozenset({'2', '1'}), items_add=frozenset({'6', '0'}), confidence=0.5384615384615384, lift=1.0), OrderedStatistic(items_base=frozenset({'6', '1'}), items_add=frozenset({'2', '0'}), confidence=1.0, lift=1.0), OrderedStatistic(items_base=frozenset({'2', '6'}), items_add=frozenset({'0', '1'}), confidence=1.0, lift=1.0), OrderedStatistic(items_base=frozenset({'1', '2', '0'}), items_add=frozenset({'6'}), confidence=0.5384615384615384, lift=1.0), OrderedStatistic(items_base=frozenset({'1', '6', '0'}), items_add=frozenset({'2'}), confidence=1.0, lift=1.0), OrderedStatistic(items_base=frozenset({'2', '6', '0'}), items_add=frozenset({'1'}), confidence=1.0, lift=1.0), OrderedStatistic(items_base=frozenset({'2', '6', '1'}), items_add=frozenset({'0'}), confidence=1.0, lift=1.0)]), RelationRecord(items=frozenset({'1', '2', '0', '7'}), support=0.34615384615384615, ordered_statistics=[OrderedStatistic(items_base=frozenset(), items_add=frozenset({'1', '2', '0', '7'}), confidence=0.34615384615384615, lift=1.0), OrderedStatistic(items_base=frozenset({'0'}), items_add=frozenset({'2', '1', '7'}), confidence=0.34615384615384615, lift=1.0), OrderedStatistic(items_base=frozenset({'1'}), items_add=frozenset({'2', '0', '7'}), confidence=0.34615384615384615, lift=1.0), OrderedStatistic(items_base=frozenset({'2'}), items_add=frozenset({'0', '1', '7'}), confidence=0.34615384615384615, lift=1.0), OrderedStatistic(items_base=frozenset({'7'}), items_add=frozenset({'0', '2', '1'}), confidence=1.0, lift=1.0), OrderedStatistic(items_base=frozenset({'1', '0'}), items_add=frozenset({'2', '7'}), confidence=0.34615384615384615, lift=1.0), OrderedStatistic(items_base=frozenset({'2', '0'}), items_add=frozenset({'1', '7'}), confidence=0.34615384615384615, lift=1.0), OrderedStatistic(items_base=frozenset({'0', '7'}), items_add=frozenset({'2', '1'}), confidence=1.0, lift=1.0), OrderedStatistic(items_base=frozenset({'2', '1'}), items_add=frozenset({'0', '7'}), confidence=0.34615384615384615, lift=1.0), OrderedStatistic(items_base=frozenset({'1', '7'}), items_add=frozenset({'2', '0'}), confidence=1.0, lift=1.0), OrderedStatistic(items_base=frozenset({'2', '7'}), items_add=frozenset({'0', '1'}), confidence=1.0, lift=1.0), OrderedStatistic(items_base=frozenset({'1', '2', '0'}), items_add=frozenset({'7'}), confidence=0.34615384615384615, lift=1.0), OrderedStatistic(items_base=frozenset({'1', '0', '7'}), items_add=frozenset({'2'}), confidence=1.0, lift=1.0), OrderedStatistic(items_base=frozenset({'2', '0', '7'}), items_add=frozenset({'1'}), confidence=1.0, lift=1.0), OrderedStatistic(items_base=frozenset({'2', '1', '7'}), items_add=frozenset({'0'}), confidence=1.0, lift=1.0)]), RelationRecord(items=frozenset({'1', '2', '9', '0'}), support=0.38461538461538464, ordered_statistics=[OrderedStatistic(items_base=frozenset(), items_add=frozenset({'1', '2', '9', '0'}), confidence=0.38461538461538464, lift=1.0), OrderedStatistic(items_base=frozenset({'0'}), items_add=frozenset({'2', '9', '1'}), confidence=0.38461538461538464, lift=1.0), OrderedStatistic(items_base=frozenset({'1'}), items_add=frozenset({'2', '9', '0'}), confidence=0.38461538461538464, lift=1.0), OrderedStatistic(items_base=frozenset({'2'}), items_add=frozenset({'0', '9', '1'}), confidence=0.38461538461538464, lift=1.0), OrderedStatistic(items_base=frozenset({'9'}), items_add=frozenset({'0', '2', '1'}), confidence=1.0, lift=1.0), OrderedStatistic(items_base=frozenset({'1', '0'}), items_add=frozenset({'2', '9'}), confidence=0.38461538461538464, lift=1.0), OrderedStatistic(items_base=frozenset({'2', '0'}), items_add=frozenset({'9', '1'}), confidence=0.38461538461538464, lift=1.0), OrderedStatistic(items_base=frozenset({'9', '0'}), items_add=frozenset({'2', '1'}), confidence=1.0, lift=1.0), OrderedStatistic(items_base=frozenset({'2', '1'}), items_add=frozenset({'9', '0'}), confidence=0.38461538461538464, lift=1.0), OrderedStatistic(items_base=frozenset({'9', '1'}), items_add=frozenset({'2', '0'}), confidence=1.0, lift=1.0), OrderedStatistic(items_base=frozenset({'2', '9'}), items_add=frozenset({'0', '1'}), confidence=1.0, lift=1.0), OrderedStatistic(items_base=frozenset({'1', '2', '0'}), items_add=frozenset({'9'}), confidence=0.38461538461538464, lift=1.0), OrderedStatistic(items_base=frozenset({'1', '9', '0'}), items_add=frozenset({'2'}), confidence=1.0, lift=1.0), OrderedStatistic(items_base=frozenset({'2', '9', '0'}), items_add=frozenset({'1'}), confidence=1.0, lift=1.0), OrderedStatistic(items_base=frozenset({'2', '9', '1'}), items_add=frozenset({'0'}), confidence=1.0, lift=1.0)]), RelationRecord(items=frozenset({'1', '4', '3', '0'}), support=0.34615384615384615, ordered_statistics=[OrderedStatistic(items_base=frozenset(), items_add=frozenset({'1', '4', '3', '0'}), confidence=0.34615384615384615, lift=1.0), OrderedStatistic(items_base=frozenset({'0'}), items_add=frozenset({'4', '3', '1'}), confidence=0.34615384615384615, lift=1.0), OrderedStatistic(items_base=frozenset({'1'}), items_add=frozenset({'4', '3', '0'}), confidence=0.34615384615384615, lift=1.0), OrderedStatistic(items_base=frozenset({'3'}), items_add=frozenset({'0', '4', '1'}), confidence=0.7499999999999999, lift=0.8478260869565216), OrderedStatistic(items_base=frozenset({'4'}), items_add=frozenset({'0', '3', '1'}), confidence=0.391304347826087, lift=0.8478260869565217), OrderedStatistic(items_base=frozenset({'1', '0'}), items_add=frozenset({'4', '3'}), confidence=0.34615384615384615, lift=1.0), OrderedStatistic(items_base=frozenset({'3', '0'}), items_add=frozenset({'4', '1'}), confidence=0.7499999999999999, lift=0.8478260869565216), OrderedStatistic(items_base=frozenset({'4', '0'}), items_add=frozenset({'3', '1'}), confidence=0.391304347826087, lift=0.8478260869565217), OrderedStatistic(items_base=frozenset({'3', '1'}), items_add=frozenset({'4', '0'}), confidence=0.7499999999999999, lift=0.8478260869565216), OrderedStatistic(items_base=frozenset({'4', '1'}), items_add=frozenset({'3', '0'}), confidence=0.391304347826087, lift=0.8478260869565217), OrderedStatistic(items_base=frozenset({'4', '3'}), items_add=frozenset({'0', '1'}), confidence=1.0, lift=1.0), OrderedStatistic(items_base=frozenset({'1', '3', '0'}), items_add=frozenset({'4'}), confidence=0.7499999999999999, lift=0.8478260869565216), OrderedStatistic(items_base=frozenset({'1', '4', '0'}), items_add=frozenset({'3'}), confidence=0.391304347826087, lift=0.8478260869565217), OrderedStatistic(items_base=frozenset({'4', '3', '0'}), items_add=frozenset({'1'}), confidence=1.0, lift=1.0), OrderedStatistic(items_base=frozenset({'4', '3', '1'}), items_add=frozenset({'0'}), confidence=1.0, lift=1.0)]), RelationRecord(items=frozenset({'5', '1', '3', '0'}), support=0.2692307692307692, ordered_statistics=[OrderedStatistic(items_base=frozenset(), items_add=frozenset({'5', '1', '3', '0'}), confidence=0.2692307692307692, lift=1.0), OrderedStatistic(items_base=frozenset({'0'}), items_add=frozenset({'5', '3', '1'}), confidence=0.2692307692307692, lift=1.0), OrderedStatistic(items_base=frozenset({'1'}), items_add=frozenset({'5', '3', '0'}), confidence=0.2692307692307692, lift=1.0), OrderedStatistic(items_base=frozenset({'3'}), items_add=frozenset({'5', '0', '1'}), confidence=0.5833333333333333, lift=1.2638888888888886), OrderedStatistic(items_base=frozenset({'5'}), items_add=frozenset({'0', '3', '1'}), confidence=0.5833333333333333, lift=1.2638888888888886), OrderedStatistic(items_base=frozenset({'1', '0'}), items_add=frozenset({'5', '3'}), confidence=0.2692307692307692, lift=1.0), OrderedStatistic(items_base=frozenset({'3', '0'}), items_add=frozenset({'5', '1'}), confidence=0.5833333333333333, lift=1.2638888888888886), OrderedStatistic(items_base=frozenset({'5', '0'}), items_add=frozenset({'3', '1'}), confidence=0.5833333333333333, lift=1.2638888888888886), OrderedStatistic(items_base=frozenset({'3', '1'}), items_add=frozenset({'5', '0'}), confidence=0.5833333333333333, lift=1.2638888888888886), OrderedStatistic(items_base=frozenset({'5', '1'}), items_add=frozenset({'3', '0'}), confidence=0.5833333333333333, lift=1.2638888888888886), OrderedStatistic(items_base=frozenset({'5', '3'}), items_add=frozenset({'0', '1'}), confidence=1.0, lift=1.0), OrderedStatistic(items_base=frozenset({'1', '3', '0'}), items_add=frozenset({'5'}), confidence=0.5833333333333333, lift=1.2638888888888886), OrderedStatistic(items_base=frozenset({'5', '1', '0'}), items_add=frozenset({'3'}), confidence=0.5833333333333333, lift=1.2638888888888886), OrderedStatistic(items_base=frozenset({'5', '3', '0'}), items_add=frozenset({'1'}), confidence=1.0, lift=1.0), OrderedStatistic(items_base=frozenset({'5', '3', '1'}), items_add=frozenset({'0'}), confidence=1.0, lift=1.0)]), RelationRecord(items=frozenset({'5', '1', '4', '0'}), support=0.38461538461538464, ordered_statistics=[OrderedStatistic(items_base=frozenset(), items_add=frozenset({'5', '1', '4', '0'}), confidence=0.38461538461538464, lift=1.0), OrderedStatistic(items_base=frozenset({'0'}), items_add=frozenset({'5', '4', '1'}), confidence=0.38461538461538464, lift=1.0), OrderedStatistic(items_base=frozenset({'1'}), items_add=frozenset({'5', '4', '0'}), confidence=0.38461538461538464, lift=1.0), OrderedStatistic(items_base=frozenset({'4'}), items_add=frozenset({'5', '0', '1'}), confidence=0.4347826086956522, lift=0.9420289855072465), OrderedStatistic(items_base=frozenset({'5'}), items_add=frozenset({'0', '4', '1'}), confidence=0.8333333333333334, lift=0.9420289855072465), OrderedStatistic(items_base=frozenset({'1', '0'}), items_add=frozenset({'5', '4'}), confidence=0.38461538461538464, lift=1.0), OrderedStatistic(items_base=frozenset({'4', '0'}), items_add=frozenset({'5', '1'}), confidence=0.4347826086956522, lift=0.9420289855072465), OrderedStatistic(items_base=frozenset({'5', '0'}), items_add=frozenset({'4', '1'}), confidence=0.8333333333333334, lift=0.9420289855072465), OrderedStatistic(items_base=frozenset({'4', '1'}), items_add=frozenset({'5', '0'}), confidence=0.4347826086956522, lift=0.9420289855072465), OrderedStatistic(items_base=frozenset({'5', '1'}), items_add=frozenset({'4', '0'}), confidence=0.8333333333333334, lift=0.9420289855072465), OrderedStatistic(items_base=frozenset({'5', '4'}), items_add=frozenset({'0', '1'}), confidence=1.0, lift=1.0), OrderedStatistic(items_base=frozenset({'1', '4', '0'}), items_add=frozenset({'5'}), confidence=0.4347826086956522, lift=0.9420289855072465), OrderedStatistic(items_base=frozenset({'5', '1', '0'}), items_add=frozenset({'4'}), confidence=0.8333333333333334, lift=0.9420289855072465), OrderedStatistic(items_base=frozenset({'5', '4', '0'}), items_add=frozenset({'1'}), confidence=1.0, lift=1.0), OrderedStatistic(items_base=frozenset({'5', '4', '1'}), items_add=frozenset({'0'}), confidence=1.0, lift=1.0)]), RelationRecord(items=frozenset({'1', '6', '4', '0'}), support=0.46153846153846156, ordered_statistics=[OrderedStatistic(items_base=frozenset(), items_add=frozenset({'1', '6', '4', '0'}), confidence=0.46153846153846156, lift=1.0), OrderedStatistic(items_base=frozenset({'0'}), items_add=frozenset({'4', '6', '1'}), confidence=0.46153846153846156, lift=1.0), OrderedStatistic(items_base=frozenset({'1'}), items_add=frozenset({'4', '6', '0'}), confidence=0.46153846153846156, lift=1.0), OrderedStatistic(items_base=frozenset({'4'}), items_add=frozenset({'0', '6', '1'}), confidence=0.5217391304347827, lift=0.9689440993788823), OrderedStatistic(items_base=frozenset({'6'}), items_add=frozenset({'0', '4', '1'}), confidence=0.8571428571428572, lift=0.9689440993788822), OrderedStatistic(items_base=frozenset({'1', '0'}), items_add=frozenset({'4', '6'}), confidence=0.46153846153846156, lift=1.0), OrderedStatistic(items_base=frozenset({'4', '0'}), items_add=frozenset({'6', '1'}), confidence=0.5217391304347827, lift=0.9689440993788823), OrderedStatistic(items_base=frozenset({'6', '0'}), items_add=frozenset({'4', '1'}), confidence=0.8571428571428572, lift=0.9689440993788822), OrderedStatistic(items_base=frozenset({'4', '1'}), items_add=frozenset({'6', '0'}), confidence=0.5217391304347827, lift=0.9689440993788823), OrderedStatistic(items_base=frozenset({'6', '1'}), items_add=frozenset({'4', '0'}), confidence=0.8571428571428572, lift=0.9689440993788822), OrderedStatistic(items_base=frozenset({'4', '6'}), items_add=frozenset({'0', '1'}), confidence=1.0, lift=1.0), OrderedStatistic(items_base=frozenset({'1', '4', '0'}), items_add=frozenset({'6'}), confidence=0.5217391304347827, lift=0.9689440993788823), OrderedStatistic(items_base=frozenset({'1', '6', '0'}), items_add=frozenset({'4'}), confidence=0.8571428571428572, lift=0.9689440993788822), OrderedStatistic(items_base=frozenset({'4', '6', '0'}), items_add=frozenset({'1'}), confidence=1.0, lift=1.0), OrderedStatistic(items_base=frozenset({'4', '6', '1'}), items_add=frozenset({'0'}), confidence=1.0, lift=1.0)]), RelationRecord(items=frozenset({'1', '4', '0', '7'}), support=0.3076923076923077, ordered_statistics=[OrderedStatistic(items_base=frozenset(), items_add=frozenset({'1', '4', '0', '7'}), confidence=0.3076923076923077, lift=1.0), OrderedStatistic(items_base=frozenset({'0'}), items_add=frozenset({'4', '1', '7'}), confidence=0.3076923076923077, lift=1.0), OrderedStatistic(items_base=frozenset({'1'}), items_add=frozenset({'4', '0', '7'}), confidence=0.3076923076923077, lift=1.0), OrderedStatistic(items_base=frozenset({'4'}), items_add=frozenset({'0', '1', '7'}), confidence=0.3478260869565218, lift=1.0048309178743964), OrderedStatistic(items_base=frozenset({'7'}), items_add=frozenset({'0', '4', '1'}), confidence=0.888888888888889, lift=1.0048309178743962), OrderedStatistic(items_base=frozenset({'1', '0'}), items_add=frozenset({'4', '7'}), confidence=0.3076923076923077, lift=1.0), OrderedStatistic(items_base=frozenset({'4', '0'}), items_add=frozenset({'1', '7'}), confidence=0.3478260869565218, lift=1.0048309178743964), OrderedStatistic(items_base=frozenset({'0', '7'}), items_add=frozenset({'4', '1'}), confidence=0.888888888888889, lift=1.0048309178743962), OrderedStatistic(items_base=frozenset({'4', '1'}), items_add=frozenset({'0', '7'}), confidence=0.3478260869565218, lift=1.0048309178743964), OrderedStatistic(items_base=frozenset({'1', '7'}), items_add=frozenset({'4', '0'}), confidence=0.888888888888889, lift=1.0048309178743962), OrderedStatistic(items_base=frozenset({'4', '7'}), items_add=frozenset({'0', '1'}), confidence=1.0, lift=1.0), OrderedStatistic(items_base=frozenset({'1', '4', '0'}), items_add=frozenset({'7'}), confidence=0.3478260869565218, lift=1.0048309178743964), OrderedStatistic(items_base=frozenset({'1', '0', '7'}), items_add=frozenset({'4'}), confidence=0.888888888888889, lift=1.0048309178743962), OrderedStatistic(items_base=frozenset({'4', '0', '7'}), items_add=frozenset({'1'}), confidence=1.0, lift=1.0), OrderedStatistic(items_base=frozenset({'4', '1', '7'}), items_add=frozenset({'0'}), confidence=1.0, lift=1.0)]), RelationRecord(items=frozenset({'1', '4', '9', '0'}), support=0.34615384615384615, ordered_statistics=[OrderedStatistic(items_base=frozenset(), items_add=frozenset({'1', '4', '9', '0'}), confidence=0.34615384615384615, lift=1.0), OrderedStatistic(items_base=frozenset({'0'}), items_add=frozenset({'4', '9', '1'}), confidence=0.34615384615384615, lift=1.0), OrderedStatistic(items_base=frozenset({'1'}), items_add=frozenset({'4', '9', '0'}), confidence=0.34615384615384615, lift=1.0), OrderedStatistic(items_base=frozenset({'4'}), items_add=frozenset({'0', '9', '1'}), confidence=0.391304347826087, lift=1.017391304347826), OrderedStatistic(items_base=frozenset({'9'}), items_add=frozenset({'0', '4', '1'}), confidence=0.8999999999999999, lift=1.017391304347826), OrderedStatistic(items_base=frozenset({'1', '0'}), items_add=frozenset({'4', '9'}), confidence=0.34615384615384615, lift=1.0), OrderedStatistic(items_base=frozenset({'4', '0'}), items_add=frozenset({'9', '1'}), confidence=0.391304347826087, lift=1.017391304347826), OrderedStatistic(items_base=frozenset({'9', '0'}), items_add=frozenset({'4', '1'}), confidence=0.8999999999999999, lift=1.017391304347826), OrderedStatistic(items_base=frozenset({'4', '1'}), items_add=frozenset({'9', '0'}), confidence=0.391304347826087, lift=1.017391304347826), OrderedStatistic(items_base=frozenset({'9', '1'}), items_add=frozenset({'4', '0'}), confidence=0.8999999999999999, lift=1.017391304347826), OrderedStatistic(items_base=frozenset({'4', '9'}), items_add=frozenset({'0', '1'}), confidence=1.0, lift=1.0), OrderedStatistic(items_base=frozenset({'1', '4', '0'}), items_add=frozenset({'9'}), confidence=0.391304347826087, lift=1.017391304347826), OrderedStatistic(items_base=frozenset({'1', '9', '0'}), items_add=frozenset({'4'}), confidence=0.8999999999999999, lift=1.017391304347826), OrderedStatistic(items_base=frozenset({'4', '9', '0'}), items_add=frozenset({'1'}), confidence=1.0, lift=1.0), OrderedStatistic(items_base=frozenset({'4', '9', '1'}), items_add=frozenset({'0'}), confidence=1.0, lift=1.0)]), RelationRecord(items=frozenset({'10', '2', '4', '0'}), support=0.2692307692307692, ordered_statistics=[OrderedStatistic(items_base=frozenset(), items_add=frozenset({'10', '2', '4', '0'}), confidence=0.2692307692307692, lift=1.0), OrderedStatistic(items_base=frozenset({'0'}), items_add=frozenset({'10', '2', '4'}), confidence=0.2692307692307692, lift=1.0), OrderedStatistic(items_base=frozenset({'10'}), items_add=frozenset({'4', '2', '0'}), confidence=1.0, lift=1.1304347826086958), OrderedStatistic(items_base=frozenset({'2'}), items_add=frozenset({'10', '4', '0'}), confidence=0.2692307692307692, lift=1.0), OrderedStatistic(items_base=frozenset({'4'}), items_add=frozenset({'10', '2', '0'}), confidence=0.30434782608695654, lift=1.1304347826086958), OrderedStatistic(items_base=frozenset({'10', '0'}), items_add=frozenset({'4', '2'}), confidence=1.0, lift=1.1304347826086958), OrderedStatistic(items_base=frozenset({'2', '0'}), items_add=frozenset({'10', '4'}), confidence=0.2692307692307692, lift=1.0), OrderedStatistic(items_base=frozenset({'4', '0'}), items_add=frozenset({'10', '2'}), confidence=0.30434782608695654, lift=1.1304347826086958), OrderedStatistic(items_base=frozenset({'10', '2'}), items_add=frozenset({'4', '0'}), confidence=1.0, lift=1.1304347826086958), OrderedStatistic(items_base=frozenset({'10', '4'}), items_add=frozenset({'2', '0'}), confidence=1.0, lift=1.0), OrderedStatistic(items_base=frozenset({'4', '2'}), items_add=frozenset({'10', '0'}), confidence=0.30434782608695654, lift=1.1304347826086958), OrderedStatistic(items_base=frozenset({'10', '2', '0'}), items_add=frozenset({'4'}), confidence=1.0, lift=1.1304347826086958), OrderedStatistic(items_base=frozenset({'10', '4', '0'}), items_add=frozenset({'2'}), confidence=1.0, lift=1.0), OrderedStatistic(items_base=frozenset({'4', '2', '0'}), items_add=frozenset({'10'}), confidence=0.30434782608695654, lift=1.1304347826086958), OrderedStatistic(items_base=frozenset({'10', '2', '4'}), items_add=frozenset({'0'}), confidence=1.0, lift=1.0)]), RelationRecord(items=frozenset({'4', '2', '3', '0'}), support=0.34615384615384615, ordered_statistics=[OrderedStatistic(items_base=frozenset(), items_add=frozenset({'4', '2', '3', '0'}), confidence=0.34615384615384615, lift=1.0), OrderedStatistic(items_base=frozenset({'0'}), items_add=frozenset({'4', '2', '3'}), confidence=0.34615384615384615, lift=1.0), OrderedStatistic(items_base=frozenset({'2'}), items_add=frozenset({'4', '3', '0'}), confidence=0.34615384615384615, lift=1.0), OrderedStatistic(items_base=frozenset({'3'}), items_add=frozenset({'4', '2', '0'}), confidence=0.7499999999999999, lift=0.8478260869565216), OrderedStatistic(items_base=frozenset({'4'}), items_add=frozenset({'2', '3', '0'}), confidence=0.391304347826087, lift=0.8478260869565217), OrderedStatistic(items_base=frozenset({'2', '0'}), items_add=frozenset({'4', '3'}), confidence=0.34615384615384615, lift=1.0), OrderedStatistic(items_base=frozenset({'3', '0'}), items_add=frozenset({'4', '2'}), confidence=0.7499999999999999, lift=0.8478260869565216), OrderedStatistic(items_base=frozenset({'4', '0'}), items_add=frozenset({'2', '3'}), confidence=0.391304347826087, lift=0.8478260869565217), OrderedStatistic(items_base=frozenset({'2', '3'}), items_add=frozenset({'4', '0'}), confidence=0.7499999999999999, lift=0.8478260869565216), OrderedStatistic(items_base=frozenset({'4', '2'}), items_add=frozenset({'3', '0'}), confidence=0.391304347826087, lift=0.8478260869565217), OrderedStatistic(items_base=frozenset({'4', '3'}), items_add=frozenset({'2', '0'}), confidence=1.0, lift=1.0), OrderedStatistic(items_base=frozenset({'2', '3', '0'}), items_add=frozenset({'4'}), confidence=0.7499999999999999, lift=0.8478260869565216), OrderedStatistic(items_base=frozenset({'4', '2', '0'}), items_add=frozenset({'3'}), confidence=0.391304347826087, lift=0.8478260869565217), OrderedStatistic(items_base=frozenset({'4', '3', '0'}), items_add=frozenset({'2'}), confidence=1.0, lift=1.0), OrderedStatistic(items_base=frozenset({'4', '2', '3'}), items_add=frozenset({'0'}), confidence=1.0, lift=1.0)]), RelationRecord(items=frozenset({'5', '2', '3', '0'}), support=0.2692307692307692, ordered_statistics=[OrderedStatistic(items_base=frozenset(), items_add=frozenset({'5', '2', '3', '0'}), confidence=0.2692307692307692, lift=1.0), OrderedStatistic(items_base=frozenset({'0'}), items_add=frozenset({'5', '2', '3'}), confidence=0.2692307692307692, lift=1.0), OrderedStatistic(items_base=frozenset({'2'}), items_add=frozenset({'5', '3', '0'}), confidence=0.2692307692307692, lift=1.0), OrderedStatistic(items_base=frozenset({'3'}), items_add=frozenset({'5', '2', '0'}), confidence=0.5833333333333333, lift=1.2638888888888886), OrderedStatistic(items_base=frozenset({'5'}), items_add=frozenset({'2', '3', '0'}), confidence=0.5833333333333333, lift=1.2638888888888886), OrderedStatistic(items_base=frozenset({'2', '0'}), items_add=frozenset({'5', '3'}), confidence=0.2692307692307692, lift=1.0), OrderedStatistic(items_base=frozenset({'3', '0'}), items_add=frozenset({'5', '2'}), confidence=0.5833333333333333, lift=1.2638888888888886), OrderedStatistic(items_base=frozenset({'5', '0'}), items_add=frozenset({'2', '3'}), confidence=0.5833333333333333, lift=1.2638888888888886), OrderedStatistic(items_base=frozenset({'2', '3'}), items_add=frozenset({'5', '0'}), confidence=0.5833333333333333, lift=1.2638888888888886), OrderedStatistic(items_base=frozenset({'5', '2'}), items_add=frozenset({'3', '0'}), confidence=0.5833333333333333, lift=1.2638888888888886), OrderedStatistic(items_base=frozenset({'5', '3'}), items_add=frozenset({'2', '0'}), confidence=1.0, lift=1.0), OrderedStatistic(items_base=frozenset({'2', '3', '0'}), items_add=frozenset({'5'}), confidence=0.5833333333333333, lift=1.2638888888888886), OrderedStatistic(items_base=frozenset({'5', '2', '0'}), items_add=frozenset({'3'}), confidence=0.5833333333333333, lift=1.2638888888888886), OrderedStatistic(items_base=frozenset({'5', '3', '0'}), items_add=frozenset({'2'}), confidence=1.0, lift=1.0), OrderedStatistic(items_base=frozenset({'5', '2', '3'}), items_add=frozenset({'0'}), confidence=1.0, lift=1.0)]), RelationRecord(items=frozenset({'5', '4', '2', '0'}), support=0.38461538461538464, ordered_statistics=[OrderedStatistic(items_base=frozenset(), items_add=frozenset({'5', '4', '2', '0'}), confidence=0.38461538461538464, lift=1.0), OrderedStatistic(items_base=frozenset({'0'}), items_add=frozenset({'5', '4', '2'}), confidence=0.38461538461538464, lift=1.0), OrderedStatistic(items_base=frozenset({'2'}), items_add=frozenset({'5', '4', '0'}), confidence=0.38461538461538464, lift=1.0), OrderedStatistic(items_base=frozenset({'4'}), items_add=frozenset({'5', '2', '0'}), confidence=0.4347826086956522, lift=0.9420289855072465), OrderedStatistic(items_base=frozenset({'5'}), items_add=frozenset({'4', '2', '0'}), confidence=0.8333333333333334, lift=0.9420289855072465), OrderedStatistic(items_base=frozenset({'2', '0'}), items_add=frozenset({'5', '4'}), confidence=0.38461538461538464, lift=1.0), OrderedStatistic(items_base=frozenset({'4', '0'}), items_add=frozenset({'5', '2'}), confidence=0.4347826086956522, lift=0.9420289855072465), OrderedStatistic(items_base=frozenset({'5', '0'}), items_add=frozenset({'4', '2'}), confidence=0.8333333333333334, lift=0.9420289855072465), OrderedStatistic(items_base=frozenset({'4', '2'}), items_add=frozenset({'5', '0'}), confidence=0.4347826086956522, lift=0.9420289855072465), OrderedStatistic(items_base=frozenset({'5', '2'}), items_add=frozenset({'4', '0'}), confidence=0.8333333333333334, lift=0.9420289855072465), OrderedStatistic(items_base=frozenset({'5', '4'}), items_add=frozenset({'2', '0'}), confidence=1.0, lift=1.0), OrderedStatistic(items_base=frozenset({'4', '2', '0'}), items_add=frozenset({'5'}), confidence=0.4347826086956522, lift=0.9420289855072465), OrderedStatistic(items_base=frozenset({'5', '2', '0'}), items_add=frozenset({'4'}), confidence=0.8333333333333334, lift=0.9420289855072465), OrderedStatistic(items_base=frozenset({'5', '4', '0'}), items_add=frozenset({'2'}), confidence=1.0, lift=1.0), OrderedStatistic(items_base=frozenset({'5', '4', '2'}), items_add=frozenset({'0'}), confidence=1.0, lift=1.0)]), RelationRecord(items=frozenset({'4', '2', '6', '0'}), support=0.46153846153846156, ordered_statistics=[OrderedStatistic(items_base=frozenset(), items_add=frozenset({'4', '2', '6', '0'}), confidence=0.46153846153846156, lift=1.0), OrderedStatistic(items_base=frozenset({'0'}), items_add=frozenset({'4', '2', '6'}), confidence=0.46153846153846156, lift=1.0), OrderedStatistic(items_base=frozenset({'2'}), items_add=frozenset({'4', '6', '0'}), confidence=0.46153846153846156, lift=1.0), OrderedStatistic(items_base=frozenset({'4'}), items_add=frozenset({'2', '6', '0'}), confidence=0.5217391304347827, lift=0.9689440993788823), OrderedStatistic(items_base=frozenset({'6'}), items_add=frozenset({'4', '2', '0'}), confidence=0.8571428571428572, lift=0.9689440993788822), OrderedStatistic(items_base=frozenset({'2', '0'}), items_add=frozenset({'4', '6'}), confidence=0.46153846153846156, lift=1.0), OrderedStatistic(items_base=frozenset({'4', '0'}), items_add=frozenset({'2', '6'}), confidence=0.5217391304347827, lift=0.9689440993788823), OrderedStatistic(items_base=frozenset({'6', '0'}), items_add=frozenset({'4', '2'}), confidence=0.8571428571428572, lift=0.9689440993788822), OrderedStatistic(items_base=frozenset({'4', '2'}), items_add=frozenset({'6', '0'}), confidence=0.5217391304347827, lift=0.9689440993788823), OrderedStatistic(items_base=frozenset({'2', '6'}), items_add=frozenset({'4', '0'}), confidence=0.8571428571428572, lift=0.9689440993788822), OrderedStatistic(items_base=frozenset({'4', '6'}), items_add=frozenset({'2', '0'}), confidence=1.0, lift=1.0), OrderedStatistic(items_base=frozenset({'4', '2', '0'}), items_add=frozenset({'6'}), confidence=0.5217391304347827, lift=0.9689440993788823), OrderedStatistic(items_base=frozenset({'2', '6', '0'}), items_add=frozenset({'4'}), confidence=0.8571428571428572, lift=0.9689440993788822), OrderedStatistic(items_base=frozenset({'4', '6', '0'}), items_add=frozenset({'2'}), confidence=1.0, lift=1.0), OrderedStatistic(items_base=frozenset({'4', '2', '6'}), items_add=frozenset({'0'}), confidence=1.0, lift=1.0)]), RelationRecord(items=frozenset({'4', '2', '0', '7'}), support=0.3076923076923077, ordered_statistics=[OrderedStatistic(items_base=frozenset(), items_add=frozenset({'4', '2', '0', '7'}), confidence=0.3076923076923077, lift=1.0), OrderedStatistic(items_base=frozenset({'0'}), items_add=frozenset({'4', '2', '7'}), confidence=0.3076923076923077, lift=1.0), OrderedStatistic(items_base=frozenset({'2'}), items_add=frozenset({'4', '0', '7'}), confidence=0.3076923076923077, lift=1.0), OrderedStatistic(items_base=frozenset({'4'}), items_add=frozenset({'2', '0', '7'}), confidence=0.3478260869565218, lift=1.0048309178743964), OrderedStatistic(items_base=frozenset({'7'}), items_add=frozenset({'4', '2', '0'}), confidence=0.888888888888889, lift=1.0048309178743962), OrderedStatistic(items_base=frozenset({'2', '0'}), items_add=frozenset({'4', '7'}), confidence=0.3076923076923077, lift=1.0), OrderedStatistic(items_base=frozenset({'4', '0'}), items_add=frozenset({'2', '7'}), confidence=0.3478260869565218, lift=1.0048309178743964), OrderedStatistic(items_base=frozenset({'0', '7'}), items_add=frozenset({'4', '2'}), confidence=0.888888888888889, lift=1.0048309178743962), OrderedStatistic(items_base=frozenset({'4', '2'}), items_add=frozenset({'0', '7'}), confidence=0.3478260869565218, lift=1.0048309178743964), OrderedStatistic(items_base=frozenset({'2', '7'}), items_add=frozenset({'4', '0'}), confidence=0.888888888888889, lift=1.0048309178743962), OrderedStatistic(items_base=frozenset({'4', '7'}), items_add=frozenset({'2', '0'}), confidence=1.0, lift=1.0), OrderedStatistic(items_base=frozenset({'4', '2', '0'}), items_add=frozenset({'7'}), confidence=0.3478260869565218, lift=1.0048309178743964), OrderedStatistic(items_base=frozenset({'2', '0', '7'}), items_add=frozenset({'4'}), confidence=0.888888888888889, lift=1.0048309178743962), OrderedStatistic(items_base=frozenset({'4', '0', '7'}), items_add=frozenset({'2'}), confidence=1.0, lift=1.0), OrderedStatistic(items_base=frozenset({'4', '2', '7'}), items_add=frozenset({'0'}), confidence=1.0, lift=1.0)]), RelationRecord(items=frozenset({'4', '2', '9', '0'}), support=0.34615384615384615, ordered_statistics=[OrderedStatistic(items_base=frozenset(), items_add=frozenset({'4', '2', '9', '0'}), confidence=0.34615384615384615, lift=1.0), OrderedStatistic(items_base=frozenset({'0'}), items_add=frozenset({'4', '2', '9'}), confidence=0.34615384615384615, lift=1.0), OrderedStatistic(items_base=frozenset({'2'}), items_add=frozenset({'4', '9', '0'}), confidence=0.34615384615384615, lift=1.0), OrderedStatistic(items_base=frozenset({'4'}), items_add=frozenset({'2', '9', '0'}), confidence=0.391304347826087, lift=1.017391304347826), OrderedStatistic(items_base=frozenset({'9'}), items_add=frozenset({'4', '2', '0'}), confidence=0.8999999999999999, lift=1.017391304347826), OrderedStatistic(items_base=frozenset({'2', '0'}), items_add=frozenset({'4', '9'}), confidence=0.34615384615384615, lift=1.0), OrderedStatistic(items_base=frozenset({'4', '0'}), items_add=frozenset({'2', '9'}), confidence=0.391304347826087, lift=1.017391304347826), OrderedStatistic(items_base=frozenset({'9', '0'}), items_add=frozenset({'4', '2'}), confidence=0.8999999999999999, lift=1.017391304347826), OrderedStatistic(items_base=frozenset({'4', '2'}), items_add=frozenset({'9', '0'}), confidence=0.391304347826087, lift=1.017391304347826), OrderedStatistic(items_base=frozenset({'2', '9'}), items_add=frozenset({'4', '0'}), confidence=0.8999999999999999, lift=1.017391304347826), OrderedStatistic(items_base=frozenset({'4', '9'}), items_add=frozenset({'2', '0'}), confidence=1.0, lift=1.0), OrderedStatistic(items_base=frozenset({'4', '2', '0'}), items_add=frozenset({'9'}), confidence=0.391304347826087, lift=1.017391304347826), OrderedStatistic(items_base=frozenset({'2', '9', '0'}), items_add=frozenset({'4'}), confidence=0.8999999999999999, lift=1.017391304347826), OrderedStatistic(items_base=frozenset({'4', '9', '0'}), items_add=frozenset({'2'}), confidence=1.0, lift=1.0), OrderedStatistic(items_base=frozenset({'4', '2', '9'}), items_add=frozenset({'0'}), confidence=1.0, lift=1.0)]), RelationRecord(items=frozenset({'10', '2', '4', '1'}), support=0.2692307692307692, ordered_statistics=[OrderedStatistic(items_base=frozenset(), items_add=frozenset({'10', '2', '4', '1'}), confidence=0.2692307692307692, lift=1.0), OrderedStatistic(items_base=frozenset({'1'}), items_add=frozenset({'10', '2', '4'}), confidence=0.2692307692307692, lift=1.0), OrderedStatistic(items_base=frozenset({'10'}), items_add=frozenset({'4', '2', '1'}), confidence=1.0, lift=1.1304347826086958), OrderedStatistic(items_base=frozenset({'2'}), items_add=frozenset({'10', '4', '1'}), confidence=0.2692307692307692, lift=1.0), OrderedStatistic(items_base=frozenset({'4'}), items_add=frozenset({'10', '2', '1'}), confidence=0.30434782608695654, lift=1.1304347826086958), OrderedStatistic(items_base=frozenset({'10', '1'}), items_add=frozenset({'4', '2'}), confidence=1.0, lift=1.1304347826086958), OrderedStatistic(items_base=frozenset({'2', '1'}), items_add=frozenset({'10', '4'}), confidence=0.2692307692307692, lift=1.0), OrderedStatistic(items_base=frozenset({'4', '1'}), items_add=frozenset({'10', '2'}), confidence=0.30434782608695654, lift=1.1304347826086958), OrderedStatistic(items_base=frozenset({'10', '2'}), items_add=frozenset({'4', '1'}), confidence=1.0, lift=1.1304347826086958), OrderedStatistic(items_base=frozenset({'10', '4'}), items_add=frozenset({'2', '1'}), confidence=1.0, lift=1.0), OrderedStatistic(items_base=frozenset({'4', '2'}), items_add=frozenset({'10', '1'}), confidence=0.30434782608695654, lift=1.1304347826086958), OrderedStatistic(items_base=frozenset({'10', '2', '1'}), items_add=frozenset({'4'}), confidence=1.0, lift=1.1304347826086958), OrderedStatistic(items_base=frozenset({'10', '4', '1'}), items_add=frozenset({'2'}), confidence=1.0, lift=1.0), OrderedStatistic(items_base=frozenset({'4', '2', '1'}), items_add=frozenset({'10'}), confidence=0.30434782608695654, lift=1.1304347826086958), OrderedStatistic(items_base=frozenset({'10', '2', '4'}), items_add=frozenset({'1'}), confidence=1.0, lift=1.0)]), RelationRecord(items=frozenset({'4', '2', '3', '1'}), support=0.34615384615384615, ordered_statistics=[OrderedStatistic(items_base=frozenset(), items_add=frozenset({'4', '2', '3', '1'}), confidence=0.34615384615384615, lift=1.0), OrderedStatistic(items_base=frozenset({'1'}), items_add=frozenset({'4', '2', '3'}), confidence=0.34615384615384615, lift=1.0), OrderedStatistic(items_base=frozenset({'2'}), items_add=frozenset({'4', '3', '1'}), confidence=0.34615384615384615, lift=1.0), OrderedStatistic(items_base=frozenset({'3'}), items_add=frozenset({'4', '2', '1'}), confidence=0.7499999999999999, lift=0.8478260869565216), OrderedStatistic(items_base=frozenset({'4'}), items_add=frozenset({'2', '3', '1'}), confidence=0.391304347826087, lift=0.8478260869565217), OrderedStatistic(items_base=frozenset({'2', '1'}), items_add=frozenset({'4', '3'}), confidence=0.34615384615384615, lift=1.0), OrderedStatistic(items_base=frozenset({'3', '1'}), items_add=frozenset({'4', '2'}), confidence=0.7499999999999999, lift=0.8478260869565216), OrderedStatistic(items_base=frozenset({'4', '1'}), items_add=frozenset({'2', '3'}), confidence=0.391304347826087, lift=0.8478260869565217), OrderedStatistic(items_base=frozenset({'2', '3'}), items_add=frozenset({'4', '1'}), confidence=0.7499999999999999, lift=0.8478260869565216), OrderedStatistic(items_base=frozenset({'4', '2'}), items_add=frozenset({'3', '1'}), confidence=0.391304347826087, lift=0.8478260869565217), OrderedStatistic(items_base=frozenset({'4', '3'}), items_add=frozenset({'2', '1'}), confidence=1.0, lift=1.0), OrderedStatistic(items_base=frozenset({'2', '3', '1'}), items_add=frozenset({'4'}), confidence=0.7499999999999999, lift=0.8478260869565216), OrderedStatistic(items_base=frozenset({'4', '2', '1'}), items_add=frozenset({'3'}), confidence=0.391304347826087, lift=0.8478260869565217), OrderedStatistic(items_base=frozenset({'4', '3', '1'}), items_add=frozenset({'2'}), confidence=1.0, lift=1.0), OrderedStatistic(items_base=frozenset({'4', '2', '3'}), items_add=frozenset({'1'}), confidence=1.0, lift=1.0)]), RelationRecord(items=frozenset({'5', '2', '3', '1'}), support=0.2692307692307692, ordered_statistics=[OrderedStatistic(items_base=frozenset(), items_add=frozenset({'5', '2', '3', '1'}), confidence=0.2692307692307692, lift=1.0), OrderedStatistic(items_base=frozenset({'1'}), items_add=frozenset({'5', '2', '3'}), confidence=0.2692307692307692, lift=1.0), OrderedStatistic(items_base=frozenset({'2'}), items_add=frozenset({'5', '3', '1'}), confidence=0.2692307692307692, lift=1.0), OrderedStatistic(items_base=frozenset({'3'}), items_add=frozenset({'5', '2', '1'}), confidence=0.5833333333333333, lift=1.2638888888888886), OrderedStatistic(items_base=frozenset({'5'}), items_add=frozenset({'2', '3', '1'}), confidence=0.5833333333333333, lift=1.2638888888888886), OrderedStatistic(items_base=frozenset({'2', '1'}), items_add=frozenset({'5', '3'}), confidence=0.2692307692307692, lift=1.0), OrderedStatistic(items_base=frozenset({'3', '1'}), items_add=frozenset({'5', '2'}), confidence=0.5833333333333333, lift=1.2638888888888886), OrderedStatistic(items_base=frozenset({'5', '1'}), items_add=frozenset({'2', '3'}), confidence=0.5833333333333333, lift=1.2638888888888886), OrderedStatistic(items_base=frozenset({'2', '3'}), items_add=frozenset({'5', '1'}), confidence=0.5833333333333333, lift=1.2638888888888886), OrderedStatistic(items_base=frozenset({'5', '2'}), items_add=frozenset({'3', '1'}), confidence=0.5833333333333333, lift=1.2638888888888886), OrderedStatistic(items_base=frozenset({'5', '3'}), items_add=frozenset({'2', '1'}), confidence=1.0, lift=1.0), OrderedStatistic(items_base=frozenset({'2', '3', '1'}), items_add=frozenset({'5'}), confidence=0.5833333333333333, lift=1.2638888888888886), OrderedStatistic(items_base=frozenset({'5', '2', '1'}), items_add=frozenset({'3'}), confidence=0.5833333333333333, lift=1.2638888888888886), OrderedStatistic(items_base=frozenset({'5', '3', '1'}), items_add=frozenset({'2'}), confidence=1.0, lift=1.0), OrderedStatistic(items_base=frozenset({'5', '2', '3'}), items_add=frozenset({'1'}), confidence=1.0, lift=1.0)]), RelationRecord(items=frozenset({'5', '4', '2', '1'}), support=0.38461538461538464, ordered_statistics=[OrderedStatistic(items_base=frozenset(), items_add=frozenset({'5', '4', '2', '1'}), confidence=0.38461538461538464, lift=1.0), OrderedStatistic(items_base=frozenset({'1'}), items_add=frozenset({'5', '4', '2'}), confidence=0.38461538461538464, lift=1.0), OrderedStatistic(items_base=frozenset({'2'}), items_add=frozenset({'5', '4', '1'}), confidence=0.38461538461538464, lift=1.0), OrderedStatistic(items_base=frozenset({'4'}), items_add=frozenset({'5', '2', '1'}), confidence=0.4347826086956522, lift=0.9420289855072465), OrderedStatistic(items_base=frozenset({'5'}), items_add=frozenset({'4', '2', '1'}), confidence=0.8333333333333334, lift=0.9420289855072465), OrderedStatistic(items_base=frozenset({'2', '1'}), items_add=frozenset({'5', '4'}), confidence=0.38461538461538464, lift=1.0), OrderedStatistic(items_base=frozenset({'4', '1'}), items_add=frozenset({'5', '2'}), confidence=0.4347826086956522, lift=0.9420289855072465), OrderedStatistic(items_base=frozenset({'5', '1'}), items_add=frozenset({'4', '2'}), confidence=0.8333333333333334, lift=0.9420289855072465), OrderedStatistic(items_base=frozenset({'4', '2'}), items_add=frozenset({'5', '1'}), confidence=0.4347826086956522, lift=0.9420289855072465), OrderedStatistic(items_base=frozenset({'5', '2'}), items_add=frozenset({'4', '1'}), confidence=0.8333333333333334, lift=0.9420289855072465), OrderedStatistic(items_base=frozenset({'5', '4'}), items_add=frozenset({'2', '1'}), confidence=1.0, lift=1.0), OrderedStatistic(items_base=frozenset({'4', '2', '1'}), items_add=frozenset({'5'}), confidence=0.4347826086956522, lift=0.9420289855072465), OrderedStatistic(items_base=frozenset({'5', '2', '1'}), items_add=frozenset({'4'}), confidence=0.8333333333333334, lift=0.9420289855072465), OrderedStatistic(items_base=frozenset({'5', '4', '1'}), items_add=frozenset({'2'}), confidence=1.0, lift=1.0), OrderedStatistic(items_base=frozenset({'5', '4', '2'}), items_add=frozenset({'1'}), confidence=1.0, lift=1.0)]), RelationRecord(items=frozenset({'4', '2', '6', '1'}), support=0.46153846153846156, ordered_statistics=[OrderedStatistic(items_base=frozenset(), items_add=frozenset({'4', '2', '6', '1'}), confidence=0.46153846153846156, lift=1.0), OrderedStatistic(items_base=frozenset({'1'}), items_add=frozenset({'4', '2', '6'}), confidence=0.46153846153846156, lift=1.0), OrderedStatistic(items_base=frozenset({'2'}), items_add=frozenset({'4', '6', '1'}), confidence=0.46153846153846156, lift=1.0), OrderedStatistic(items_base=frozenset({'4'}), items_add=frozenset({'2', '6', '1'}), confidence=0.5217391304347827, lift=0.9689440993788823), OrderedStatistic(items_base=frozenset({'6'}), items_add=frozenset({'4', '2', '1'}), confidence=0.8571428571428572, lift=0.9689440993788822), OrderedStatistic(items_base=frozenset({'2', '1'}), items_add=frozenset({'4', '6'}), confidence=0.46153846153846156, lift=1.0), OrderedStatistic(items_base=frozenset({'4', '1'}), items_add=frozenset({'2', '6'}), confidence=0.5217391304347827, lift=0.9689440993788823), OrderedStatistic(items_base=frozenset({'6', '1'}), items_add=frozenset({'4', '2'}), confidence=0.8571428571428572, lift=0.9689440993788822), OrderedStatistic(items_base=frozenset({'4', '2'}), items_add=frozenset({'6', '1'}), confidence=0.5217391304347827, lift=0.9689440993788823), OrderedStatistic(items_base=frozenset({'2', '6'}), items_add=frozenset({'4', '1'}), confidence=0.8571428571428572, lift=0.9689440993788822), OrderedStatistic(items_base=frozenset({'4', '6'}), items_add=frozenset({'2', '1'}), confidence=1.0, lift=1.0), OrderedStatistic(items_base=frozenset({'4', '2', '1'}), items_add=frozenset({'6'}), confidence=0.5217391304347827, lift=0.9689440993788823), OrderedStatistic(items_base=frozenset({'2', '6', '1'}), items_add=frozenset({'4'}), confidence=0.8571428571428572, lift=0.9689440993788822), OrderedStatistic(items_base=frozenset({'4', '6', '1'}), items_add=frozenset({'2'}), confidence=1.0, lift=1.0), OrderedStatistic(items_base=frozenset({'4', '2', '6'}), items_add=frozenset({'1'}), confidence=1.0, lift=1.0)]), RelationRecord(items=frozenset({'4', '2', '1', '7'}), support=0.3076923076923077, ordered_statistics=[OrderedStatistic(items_base=frozenset(), items_add=frozenset({'4', '2', '1', '7'}), confidence=0.3076923076923077, lift=1.0), OrderedStatistic(items_base=frozenset({'1'}), items_add=frozenset({'4', '2', '7'}), confidence=0.3076923076923077, lift=1.0), OrderedStatistic(items_base=frozenset({'2'}), items_add=frozenset({'4', '1', '7'}), confidence=0.3076923076923077, lift=1.0), OrderedStatistic(items_base=frozenset({'4'}), items_add=frozenset({'2', '1', '7'}), confidence=0.3478260869565218, lift=1.0048309178743964), OrderedStatistic(items_base=frozenset({'7'}), items_add=frozenset({'4', '2', '1'}), confidence=0.888888888888889, lift=1.0048309178743962), OrderedStatistic(items_base=frozenset({'2', '1'}), items_add=frozenset({'4', '7'}), confidence=0.3076923076923077, lift=1.0), OrderedStatistic(items_base=frozenset({'4', '1'}), items_add=frozenset({'2', '7'}), confidence=0.3478260869565218, lift=1.0048309178743964), OrderedStatistic(items_base=frozenset({'1', '7'}), items_add=frozenset({'4', '2'}), confidence=0.888888888888889, lift=1.0048309178743962), OrderedStatistic(items_base=frozenset({'4', '2'}), items_add=frozenset({'1', '7'}), confidence=0.3478260869565218, lift=1.0048309178743964), OrderedStatistic(items_base=frozenset({'2', '7'}), items_add=frozenset({'4', '1'}), confidence=0.888888888888889, lift=1.0048309178743962), OrderedStatistic(items_base=frozenset({'4', '7'}), items_add=frozenset({'2', '1'}), confidence=1.0, lift=1.0), OrderedStatistic(items_base=frozenset({'4', '2', '1'}), items_add=frozenset({'7'}), confidence=0.3478260869565218, lift=1.0048309178743964), OrderedStatistic(items_base=frozenset({'2', '1', '7'}), items_add=frozenset({'4'}), confidence=0.888888888888889, lift=1.0048309178743962), OrderedStatistic(items_base=frozenset({'4', '1', '7'}), items_add=frozenset({'2'}), confidence=1.0, lift=1.0), OrderedStatistic(items_base=frozenset({'4', '2', '7'}), items_add=frozenset({'1'}), confidence=1.0, lift=1.0)]), RelationRecord(items=frozenset({'4', '2', '9', '1'}), support=0.34615384615384615, ordered_statistics=[OrderedStatistic(items_base=frozenset(), items_add=frozenset({'4', '2', '9', '1'}), confidence=0.34615384615384615, lift=1.0), OrderedStatistic(items_base=frozenset({'1'}), items_add=frozenset({'4', '2', '9'}), confidence=0.34615384615384615, lift=1.0), OrderedStatistic(items_base=frozenset({'2'}), items_add=frozenset({'4', '9', '1'}), confidence=0.34615384615384615, lift=1.0), OrderedStatistic(items_base=frozenset({'4'}), items_add=frozenset({'2', '9', '1'}), confidence=0.391304347826087, lift=1.017391304347826), OrderedStatistic(items_base=frozenset({'9'}), items_add=frozenset({'4', '2', '1'}), confidence=0.8999999999999999, lift=1.017391304347826), OrderedStatistic(items_base=frozenset({'2', '1'}), items_add=frozenset({'4', '9'}), confidence=0.34615384615384615, lift=1.0), OrderedStatistic(items_base=frozenset({'4', '1'}), items_add=frozenset({'2', '9'}), confidence=0.391304347826087, lift=1.017391304347826), OrderedStatistic(items_base=frozenset({'9', '1'}), items_add=frozenset({'4', '2'}), confidence=0.8999999999999999, lift=1.017391304347826), OrderedStatistic(items_base=frozenset({'4', '2'}), items_add=frozenset({'9', '1'}), confidence=0.391304347826087, lift=1.017391304347826), OrderedStatistic(items_base=frozenset({'2', '9'}), items_add=frozenset({'4', '1'}), confidence=0.8999999999999999, lift=1.017391304347826), OrderedStatistic(items_base=frozenset({'4', '9'}), items_add=frozenset({'2', '1'}), confidence=1.0, lift=1.0), OrderedStatistic(items_base=frozenset({'4', '2', '1'}), items_add=frozenset({'9'}), confidence=0.391304347826087, lift=1.017391304347826), OrderedStatistic(items_base=frozenset({'2', '9', '1'}), items_add=frozenset({'4'}), confidence=0.8999999999999999, lift=1.017391304347826), OrderedStatistic(items_base=frozenset({'4', '9', '1'}), items_add=frozenset({'2'}), confidence=1.0, lift=1.0), OrderedStatistic(items_base=frozenset({'4', '2', '9'}), items_add=frozenset({'1'}), confidence=1.0, lift=1.0)]), RelationRecord(items=frozenset({'2', '10', '1', '0', '4'}), support=0.2692307692307692, ordered_statistics=[OrderedStatistic(items_base=frozenset(), items_add=frozenset({'10', '1', '0', '4', '2'}), confidence=0.2692307692307692, lift=1.0), OrderedStatistic(items_base=frozenset({'0'}), items_add=frozenset({'10', '2', '4', '1'}), confidence=0.2692307692307692, lift=1.0), OrderedStatistic(items_base=frozenset({'1'}), items_add=frozenset({'10', '2', '4', '0'}), confidence=0.2692307692307692, lift=1.0), OrderedStatistic(items_base=frozenset({'10'}), items_add=frozenset({'0', '4', '2', '1'}), confidence=1.0, lift=1.1304347826086958), OrderedStatistic(items_base=frozenset({'2'}), items_add=frozenset({'0', '10', '4', '1'}), confidence=0.2692307692307692, lift=1.0), OrderedStatistic(items_base=frozenset({'4'}), items_add=frozenset({'0', '10', '2', '1'}), confidence=0.30434782608695654, lift=1.1304347826086958), OrderedStatistic(items_base=frozenset({'1', '0'}), items_add=frozenset({'10', '2', '4'}), confidence=0.2692307692307692, lift=1.0), OrderedStatistic(items_base=frozenset({'10', '0'}), items_add=frozenset({'4', '2', '1'}), confidence=1.0, lift=1.1304347826086958), OrderedStatistic(items_base=frozenset({'2', '0'}), items_add=frozenset({'10', '4', '1'}), confidence=0.2692307692307692, lift=1.0), OrderedStatistic(items_base=frozenset({'4', '0'}), items_add=frozenset({'10', '2', '1'}), confidence=0.30434782608695654, lift=1.1304347826086958), OrderedStatistic(items_base=frozenset({'10', '1'}), items_add=frozenset({'4', '2', '0'}), confidence=1.0, lift=1.1304347826086958), OrderedStatistic(items_base=frozenset({'2', '1'}), items_add=frozenset({'10', '4', '0'}), confidence=0.2692307692307692, lift=1.0), OrderedStatistic(items_base=frozenset({'4', '1'}), items_add=frozenset({'10', '2', '0'}), confidence=0.30434782608695654, lift=1.1304347826086958), OrderedStatistic(items_base=frozenset({'10', '2'}), items_add=frozenset({'0', '4', '1'}), confidence=1.0, lift=1.1304347826086958), OrderedStatistic(items_base=frozenset({'10', '4'}), items_add=frozenset({'0', '2', '1'}), confidence=1.0, lift=1.0), OrderedStatistic(items_base=frozenset({'4', '2'}), items_add=frozenset({'0', '10', '1'}), confidence=0.30434782608695654, lift=1.1304347826086958), OrderedStatistic(items_base=frozenset({'1', '0', '10'}), items_add=frozenset({'4', '2'}), confidence=1.0, lift=1.1304347826086958), OrderedStatistic(items_base=frozenset({'1', '2', '0'}), items_add=frozenset({'10', '4'}), confidence=0.2692307692307692, lift=1.0), OrderedStatistic(items_base=frozenset({'1', '4', '0'}), items_add=frozenset({'10', '2'}), confidence=0.30434782608695654, lift=1.1304347826086958), OrderedStatistic(items_base=frozenset({'10', '2', '0'}), items_add=frozenset({'4', '1'}), confidence=1.0, lift=1.1304347826086958), OrderedStatistic(items_base=frozenset({'10', '4', '0'}), items_add=frozenset({'2', '1'}), confidence=1.0, lift=1.0), OrderedStatistic(items_base=frozenset({'4', '2', '0'}), items_add=frozenset({'10', '1'}), confidence=0.30434782608695654, lift=1.1304347826086958), OrderedStatistic(items_base=frozenset({'10', '2', '1'}), items_add=frozenset({'4', '0'}), confidence=1.0, lift=1.1304347826086958), OrderedStatistic(items_base=frozenset({'10', '4', '1'}), items_add=frozenset({'2', '0'}), confidence=1.0, lift=1.0), OrderedStatistic(items_base=frozenset({'4', '2', '1'}), items_add=frozenset({'10', '0'}), confidence=0.30434782608695654, lift=1.1304347826086958), OrderedStatistic(items_base=frozenset({'10', '2', '4'}), items_add=frozenset({'0', '1'}), confidence=1.0, lift=1.0), OrderedStatistic(items_base=frozenset({'1', '2', '0', '10'}), items_add=frozenset({'4'}), confidence=1.0, lift=1.1304347826086958), OrderedStatistic(items_base=frozenset({'1', '4', '0', '10'}), items_add=frozenset({'2'}), confidence=1.0, lift=1.0), OrderedStatistic(items_base=frozenset({'1', '2', '4', '0'}), items_add=frozenset({'10'}), confidence=0.30434782608695654, lift=1.1304347826086958), OrderedStatistic(items_base=frozenset({'10', '2', '4', '0'}), items_add=frozenset({'1'}), confidence=1.0, lift=1.0), OrderedStatistic(items_base=frozenset({'10', '2', '4', '1'}), items_add=frozenset({'0'}), confidence=1.0, lift=1.0)]), RelationRecord(items=frozenset({'2', '3', '1', '0', '4'}), support=0.34615384615384615, ordered_statistics=[OrderedStatistic(items_base=frozenset(), items_add=frozenset({'1', '0', '4', '2', '3'}), confidence=0.34615384615384615, lift=1.0), OrderedStatistic(items_base=frozenset({'0'}), items_add=frozenset({'4', '2', '3', '1'}), confidence=0.34615384615384615, lift=1.0), OrderedStatistic(items_base=frozenset({'1'}), items_add=frozenset({'4', '2', '3', '0'}), confidence=0.34615384615384615, lift=1.0), OrderedStatistic(items_base=frozenset({'2'}), items_add=frozenset({'0', '4', '3', '1'}), confidence=0.34615384615384615, lift=1.0), OrderedStatistic(items_base=frozenset({'3'}), items_add=frozenset({'0', '4', '2', '1'}), confidence=0.7499999999999999, lift=0.8478260869565216), OrderedStatistic(items_base=frozenset({'4'}), items_add=frozenset({'0', '2', '3', '1'}), confidence=0.391304347826087, lift=0.8478260869565217), OrderedStatistic(items_base=frozenset({'1', '0'}), items_add=frozenset({'4', '2', '3'}), confidence=0.34615384615384615, lift=1.0), OrderedStatistic(items_base=frozenset({'2', '0'}), items_add=frozenset({'4', '3', '1'}), confidence=0.34615384615384615, lift=1.0), OrderedStatistic(items_base=frozenset({'3', '0'}), items_add=frozenset({'4', '2', '1'}), confidence=0.7499999999999999, lift=0.8478260869565216), OrderedStatistic(items_base=frozenset({'4', '0'}), items_add=frozenset({'2', '3', '1'}), confidence=0.391304347826087, lift=0.8478260869565217), OrderedStatistic(items_base=frozenset({'2', '1'}), items_add=frozenset({'4', '3', '0'}), confidence=0.34615384615384615, lift=1.0), OrderedStatistic(items_base=frozenset({'3', '1'}), items_add=frozenset({'4', '2', '0'}), confidence=0.7499999999999999, lift=0.8478260869565216), OrderedStatistic(items_base=frozenset({'4', '1'}), items_add=frozenset({'2', '3', '0'}), confidence=0.391304347826087, lift=0.8478260869565217), OrderedStatistic(items_base=frozenset({'2', '3'}), items_add=frozenset({'0', '4', '1'}), confidence=0.7499999999999999, lift=0.8478260869565216), OrderedStatistic(items_base=frozenset({'4', '2'}), items_add=frozenset({'0', '3', '1'}), confidence=0.391304347826087, lift=0.8478260869565217), OrderedStatistic(items_base=frozenset({'4', '3'}), items_add=frozenset({'0', '2', '1'}), confidence=1.0, lift=1.0), OrderedStatistic(items_base=frozenset({'1', '2', '0'}), items_add=frozenset({'4', '3'}), confidence=0.34615384615384615, lift=1.0), OrderedStatistic(items_base=frozenset({'1', '3', '0'}), items_add=frozenset({'4', '2'}), confidence=0.7499999999999999, lift=0.8478260869565216), OrderedStatistic(items_base=frozenset({'1', '4', '0'}), items_add=frozenset({'2', '3'}), confidence=0.391304347826087, lift=0.8478260869565217), OrderedStatistic(items_base=frozenset({'2', '3', '0'}), items_add=frozenset({'4', '1'}), confidence=0.7499999999999999, lift=0.8478260869565216), OrderedStatistic(items_base=frozenset({'4', '2', '0'}), items_add=frozenset({'3', '1'}), confidence=0.391304347826087, lift=0.8478260869565217), OrderedStatistic(items_base=frozenset({'4', '3', '0'}), items_add=frozenset({'2', '1'}), confidence=1.0, lift=1.0), OrderedStatistic(items_base=frozenset({'2', '3', '1'}), items_add=frozenset({'4', '0'}), confidence=0.7499999999999999, lift=0.8478260869565216), OrderedStatistic(items_base=frozenset({'4', '2', '1'}), items_add=frozenset({'3', '0'}), confidence=0.391304347826087, lift=0.8478260869565217), OrderedStatistic(items_base=frozenset({'4', '3', '1'}), items_add=frozenset({'2', '0'}), confidence=1.0, lift=1.0), OrderedStatistic(items_base=frozenset({'4', '2', '3'}), items_add=frozenset({'0', '1'}), confidence=1.0, lift=1.0), OrderedStatistic(items_base=frozenset({'1', '2', '3', '0'}), items_add=frozenset({'4'}), confidence=0.7499999999999999, lift=0.8478260869565216), OrderedStatistic(items_base=frozenset({'1', '2', '4', '0'}), items_add=frozenset({'3'}), confidence=0.391304347826087, lift=0.8478260869565217), OrderedStatistic(items_base=frozenset({'1', '4', '3', '0'}), items_add=frozenset({'2'}), confidence=1.0, lift=1.0), OrderedStatistic(items_base=frozenset({'4', '2', '3', '0'}), items_add=frozenset({'1'}), confidence=1.0, lift=1.0), OrderedStatistic(items_base=frozenset({'4', '2', '3', '1'}), items_add=frozenset({'0'}), confidence=1.0, lift=1.0)]), RelationRecord(items=frozenset({'2', '3', '1', '0', '5'}), support=0.2692307692307692, ordered_statistics=[OrderedStatistic(items_base=frozenset(), items_add=frozenset({'1', '0', '5', '2', '3'}), confidence=0.2692307692307692, lift=1.0), OrderedStatistic(items_base=frozenset({'0'}), items_add=frozenset({'5', '2', '3', '1'}), confidence=0.2692307692307692, lift=1.0), OrderedStatistic(items_base=frozenset({'1'}), items_add=frozenset({'5', '2', '3', '0'}), confidence=0.2692307692307692, lift=1.0), OrderedStatistic(items_base=frozenset({'2'}), items_add=frozenset({'0', '3', '1', '5'}), confidence=0.2692307692307692, lift=1.0), OrderedStatistic(items_base=frozenset({'3'}), items_add=frozenset({'0', '2', '1', '5'}), confidence=0.5833333333333333, lift=1.2638888888888886), OrderedStatistic(items_base=frozenset({'5'}), items_add=frozenset({'0', '2', '3', '1'}), confidence=0.5833333333333333, lift=1.2638888888888886), OrderedStatistic(items_base=frozenset({'1', '0'}), items_add=frozenset({'5', '2', '3'}), confidence=0.2692307692307692, lift=1.0), OrderedStatistic(items_base=frozenset({'2', '0'}), items_add=frozenset({'5', '3', '1'}), confidence=0.2692307692307692, lift=1.0), OrderedStatistic(items_base=frozenset({'3', '0'}), items_add=frozenset({'5', '2', '1'}), confidence=0.5833333333333333, lift=1.2638888888888886), OrderedStatistic(items_base=frozenset({'5', '0'}), items_add=frozenset({'2', '3', '1'}), confidence=0.5833333333333333, lift=1.2638888888888886), OrderedStatistic(items_base=frozenset({'2', '1'}), items_add=frozenset({'5', '3', '0'}), confidence=0.2692307692307692, lift=1.0), OrderedStatistic(items_base=frozenset({'3', '1'}), items_add=frozenset({'5', '2', '0'}), confidence=0.5833333333333333, lift=1.2638888888888886), OrderedStatistic(items_base=frozenset({'5', '1'}), items_add=frozenset({'2', '3', '0'}), confidence=0.5833333333333333, lift=1.2638888888888886), OrderedStatistic(items_base=frozenset({'2', '3'}), items_add=frozenset({'0', '1', '5'}), confidence=0.5833333333333333, lift=1.2638888888888886), OrderedStatistic(items_base=frozenset({'5', '2'}), items_add=frozenset({'0', '3', '1'}), confidence=0.5833333333333333, lift=1.2638888888888886), OrderedStatistic(items_base=frozenset({'5', '3'}), items_add=frozenset({'0', '2', '1'}), confidence=1.0, lift=1.0), OrderedStatistic(items_base=frozenset({'1', '2', '0'}), items_add=frozenset({'5', '3'}), confidence=0.2692307692307692, lift=1.0), OrderedStatistic(items_base=frozenset({'1', '3', '0'}), items_add=frozenset({'5', '2'}), confidence=0.5833333333333333, lift=1.2638888888888886), OrderedStatistic(items_base=frozenset({'5', '1', '0'}), items_add=frozenset({'2', '3'}), confidence=0.5833333333333333, lift=1.2638888888888886), OrderedStatistic(items_base=frozenset({'2', '3', '0'}), items_add=frozenset({'5', '1'}), confidence=0.5833333333333333, lift=1.2638888888888886), OrderedStatistic(items_base=frozenset({'5', '2', '0'}), items_add=frozenset({'3', '1'}), confidence=0.5833333333333333, lift=1.2638888888888886), OrderedStatistic(items_base=frozenset({'5', '3', '0'}), items_add=frozenset({'2', '1'}), confidence=1.0, lift=1.0), OrderedStatistic(items_base=frozenset({'2', '3', '1'}), items_add=frozenset({'5', '0'}), confidence=0.5833333333333333, lift=1.2638888888888886), OrderedStatistic(items_base=frozenset({'5', '2', '1'}), items_add=frozenset({'3', '0'}), confidence=0.5833333333333333, lift=1.2638888888888886), OrderedStatistic(items_base=frozenset({'5', '3', '1'}), items_add=frozenset({'2', '0'}), confidence=1.0, lift=1.0), OrderedStatistic(items_base=frozenset({'5', '2', '3'}), items_add=frozenset({'0', '1'}), confidence=1.0, lift=1.0), OrderedStatistic(items_base=frozenset({'1', '2', '3', '0'}), items_add=frozenset({'5'}), confidence=0.5833333333333333, lift=1.2638888888888886), OrderedStatistic(items_base=frozenset({'5', '1', '2', '0'}), items_add=frozenset({'3'}), confidence=0.5833333333333333, lift=1.2638888888888886), OrderedStatistic(items_base=frozenset({'5', '1', '3', '0'}), items_add=frozenset({'2'}), confidence=1.0, lift=1.0), OrderedStatistic(items_base=frozenset({'5', '2', '3', '0'}), items_add=frozenset({'1'}), confidence=1.0, lift=1.0), OrderedStatistic(items_base=frozenset({'5', '2', '3', '1'}), items_add=frozenset({'0'}), confidence=1.0, lift=1.0)]), RelationRecord(items=frozenset({'2', '1', '0', '5', '4'}), support=0.38461538461538464, ordered_statistics=[OrderedStatistic(items_base=frozenset(), items_add=frozenset({'1', '0', '5', '4', '2'}), confidence=0.38461538461538464, lift=1.0), OrderedStatistic(items_base=frozenset({'0'}), items_add=frozenset({'5', '4', '2', '1'}), confidence=0.38461538461538464, lift=1.0), OrderedStatistic(items_base=frozenset({'1'}), items_add=frozenset({'5', '4', '2', '0'}), confidence=0.38461538461538464, lift=1.0), OrderedStatistic(items_base=frozenset({'2'}), items_add=frozenset({'0', '4', '1', '5'}), confidence=0.38461538461538464, lift=1.0), OrderedStatistic(items_base=frozenset({'4'}), items_add=frozenset({'0', '2', '1', '5'}), confidence=0.4347826086956522, lift=0.9420289855072465), OrderedStatistic(items_base=frozenset({'5'}), items_add=frozenset({'0', '4', '2', '1'}), confidence=0.8333333333333334, lift=0.9420289855072465), OrderedStatistic(items_base=frozenset({'1', '0'}), items_add=frozenset({'5', '4', '2'}), confidence=0.38461538461538464, lift=1.0), OrderedStatistic(items_base=frozenset({'2', '0'}), items_add=frozenset({'5', '4', '1'}), confidence=0.38461538461538464, lift=1.0), OrderedStatistic(items_base=frozenset({'4', '0'}), items_add=frozenset({'5', '2', '1'}), confidence=0.4347826086956522, lift=0.9420289855072465), OrderedStatistic(items_base=frozenset({'5', '0'}), items_add=frozenset({'4', '2', '1'}), confidence=0.8333333333333334, lift=0.9420289855072465), OrderedStatistic(items_base=frozenset({'2', '1'}), items_add=frozenset({'5', '4', '0'}), confidence=0.38461538461538464, lift=1.0), OrderedStatistic(items_base=frozenset({'4', '1'}), items_add=frozenset({'5', '2', '0'}), confidence=0.4347826086956522, lift=0.9420289855072465), OrderedStatistic(items_base=frozenset({'5', '1'}), items_add=frozenset({'4', '2', '0'}), confidence=0.8333333333333334, lift=0.9420289855072465), OrderedStatistic(items_base=frozenset({'4', '2'}), items_add=frozenset({'0', '1', '5'}), confidence=0.4347826086956522, lift=0.9420289855072465), OrderedStatistic(items_base=frozenset({'5', '2'}), items_add=frozenset({'0', '4', '1'}), confidence=0.8333333333333334, lift=0.9420289855072465), OrderedStatistic(items_base=frozenset({'5', '4'}), items_add=frozenset({'0', '2', '1'}), confidence=1.0, lift=1.0), OrderedStatistic(items_base=frozenset({'1', '2', '0'}), items_add=frozenset({'5', '4'}), confidence=0.38461538461538464, lift=1.0), OrderedStatistic(items_base=frozenset({'1', '4', '0'}), items_add=frozenset({'5', '2'}), confidence=0.4347826086956522, lift=0.9420289855072465), OrderedStatistic(items_base=frozenset({'5', '1', '0'}), items_add=frozenset({'4', '2'}), confidence=0.8333333333333334, lift=0.9420289855072465), OrderedStatistic(items_base=frozenset({'4', '2', '0'}), items_add=frozenset({'5', '1'}), confidence=0.4347826086956522, lift=0.9420289855072465), OrderedStatistic(items_base=frozenset({'5', '2', '0'}), items_add=frozenset({'4', '1'}), confidence=0.8333333333333334, lift=0.9420289855072465), OrderedStatistic(items_base=frozenset({'5', '4', '0'}), items_add=frozenset({'2', '1'}), confidence=1.0, lift=1.0), OrderedStatistic(items_base=frozenset({'4', '2', '1'}), items_add=frozenset({'5', '0'}), confidence=0.4347826086956522, lift=0.9420289855072465), OrderedStatistic(items_base=frozenset({'5', '2', '1'}), items_add=frozenset({'4', '0'}), confidence=0.8333333333333334, lift=0.9420289855072465), OrderedStatistic(items_base=frozenset({'5', '4', '1'}), items_add=frozenset({'2', '0'}), confidence=1.0, lift=1.0), OrderedStatistic(items_base=frozenset({'5', '4', '2'}), items_add=frozenset({'0', '1'}), confidence=1.0, lift=1.0), OrderedStatistic(items_base=frozenset({'1', '2', '4', '0'}), items_add=frozenset({'5'}), confidence=0.4347826086956522, lift=0.9420289855072465), OrderedStatistic(items_base=frozenset({'5', '1', '2', '0'}), items_add=frozenset({'4'}), confidence=0.8333333333333334, lift=0.9420289855072465), OrderedStatistic(items_base=frozenset({'5', '1', '4', '0'}), items_add=frozenset({'2'}), confidence=1.0, lift=1.0), OrderedStatistic(items_base=frozenset({'5', '4', '2', '0'}), items_add=frozenset({'1'}), confidence=1.0, lift=1.0), OrderedStatistic(items_base=frozenset({'5', '4', '2', '1'}), items_add=frozenset({'0'}), confidence=1.0, lift=1.0)]), RelationRecord(items=frozenset({'6', '2', '1', '0', '4'}), support=0.46153846153846156, ordered_statistics=[OrderedStatistic(items_base=frozenset(), items_add=frozenset({'6', '1', '0', '4', '2'}), confidence=0.46153846153846156, lift=1.0), OrderedStatistic(items_base=frozenset({'0'}), items_add=frozenset({'4', '6', '1', '2'}), confidence=0.46153846153846156, lift=1.0), OrderedStatistic(items_base=frozenset({'1'}), items_add=frozenset({'4', '6', '0', '2'}), confidence=0.46153846153846156, lift=1.0), OrderedStatistic(items_base=frozenset({'2'}), items_add=frozenset({'0', '4', '6', '1'}), confidence=0.46153846153846156, lift=1.0), OrderedStatistic(items_base=frozenset({'4'}), items_add=frozenset({'0', '6', '1', '2'}), confidence=0.5217391304347827, lift=0.9689440993788823), OrderedStatistic(items_base=frozenset({'6'}), items_add=frozenset({'0', '4', '2', '1'}), confidence=0.8571428571428572, lift=0.9689440993788822), OrderedStatistic(items_base=frozenset({'1', '0'}), items_add=frozenset({'4', '6', '2'}), confidence=0.46153846153846156, lift=1.0), OrderedStatistic(items_base=frozenset({'2', '0'}), items_add=frozenset({'4', '6', '1'}), confidence=0.46153846153846156, lift=1.0), OrderedStatistic(items_base=frozenset({'4', '0'}), items_add=frozenset({'6', '1', '2'}), confidence=0.5217391304347827, lift=0.9689440993788823), OrderedStatistic(items_base=frozenset({'6', '0'}), items_add=frozenset({'4', '2', '1'}), confidence=0.8571428571428572, lift=0.9689440993788822), OrderedStatistic(items_base=frozenset({'2', '1'}), items_add=frozenset({'4', '6', '0'}), confidence=0.46153846153846156, lift=1.0), OrderedStatistic(items_base=frozenset({'4', '1'}), items_add=frozenset({'6', '0', '2'}), confidence=0.5217391304347827, lift=0.9689440993788823), OrderedStatistic(items_base=frozenset({'6', '1'}), items_add=frozenset({'4', '2', '0'}), confidence=0.8571428571428572, lift=0.9689440993788822), OrderedStatistic(items_base=frozenset({'4', '2'}), items_add=frozenset({'0', '6', '1'}), confidence=0.5217391304347827, lift=0.9689440993788823), OrderedStatistic(items_base=frozenset({'2', '6'}), items_add=frozenset({'0', '4', '1'}), confidence=0.8571428571428572, lift=0.9689440993788822), OrderedStatistic(items_base=frozenset({'4', '6'}), items_add=frozenset({'0', '2', '1'}), confidence=1.0, lift=1.0), OrderedStatistic(items_base=frozenset({'1', '2', '0'}), items_add=frozenset({'4', '6'}), confidence=0.46153846153846156, lift=1.0), OrderedStatistic(items_base=frozenset({'1', '4', '0'}), items_add=frozenset({'6', '2'}), confidence=0.5217391304347827, lift=0.9689440993788823), OrderedStatistic(items_base=frozenset({'1', '6', '0'}), items_add=frozenset({'4', '2'}), confidence=0.8571428571428572, lift=0.9689440993788822), OrderedStatistic(items_base=frozenset({'4', '2', '0'}), items_add=frozenset({'6', '1'}), confidence=0.5217391304347827, lift=0.9689440993788823), OrderedStatistic(items_base=frozenset({'2', '6', '0'}), items_add=frozenset({'4', '1'}), confidence=0.8571428571428572, lift=0.9689440993788822), OrderedStatistic(items_base=frozenset({'4', '6', '0'}), items_add=frozenset({'2', '1'}), confidence=1.0, lift=1.0), OrderedStatistic(items_base=frozenset({'4', '2', '1'}), items_add=frozenset({'6', '0'}), confidence=0.5217391304347827, lift=0.9689440993788823), OrderedStatistic(items_base=frozenset({'2', '6', '1'}), items_add=frozenset({'4', '0'}), confidence=0.8571428571428572, lift=0.9689440993788822), OrderedStatistic(items_base=frozenset({'4', '6', '1'}), items_add=frozenset({'2', '0'}), confidence=1.0, lift=1.0), OrderedStatistic(items_base=frozenset({'4', '2', '6'}), items_add=frozenset({'0', '1'}), confidence=1.0, lift=1.0), OrderedStatistic(items_base=frozenset({'1', '2', '4', '0'}), items_add=frozenset({'6'}), confidence=0.5217391304347827, lift=0.9689440993788823), OrderedStatistic(items_base=frozenset({'1', '2', '6', '0'}), items_add=frozenset({'4'}), confidence=0.8571428571428572, lift=0.9689440993788822), OrderedStatistic(items_base=frozenset({'1', '6', '4', '0'}), items_add=frozenset({'2'}), confidence=1.0, lift=1.0), OrderedStatistic(items_base=frozenset({'4', '2', '6', '0'}), items_add=frozenset({'1'}), confidence=1.0, lift=1.0), OrderedStatistic(items_base=frozenset({'4', '2', '6', '1'}), items_add=frozenset({'0'}), confidence=1.0, lift=1.0)]), RelationRecord(items=frozenset({'7', '2', '1', '0', '4'}), support=0.3076923076923077, ordered_statistics=[OrderedStatistic(items_base=frozenset(), items_add=frozenset({'1', '7', '0', '4', '2'}), confidence=0.3076923076923077, lift=1.0), OrderedStatistic(items_base=frozenset({'0'}), items_add=frozenset({'4', '2', '1', '7'}), confidence=0.3076923076923077, lift=1.0), OrderedStatistic(items_base=frozenset({'1'}), items_add=frozenset({'4', '2', '0', '7'}), confidence=0.3076923076923077, lift=1.0), OrderedStatistic(items_base=frozenset({'2'}), items_add=frozenset({'0', '4', '1', '7'}), confidence=0.3076923076923077, lift=1.0), OrderedStatistic(items_base=frozenset({'4'}), items_add=frozenset({'0', '2', '1', '7'}), confidence=0.3478260869565218, lift=1.0048309178743964), OrderedStatistic(items_base=frozenset({'7'}), items_add=frozenset({'0', '4', '2', '1'}), confidence=0.888888888888889, lift=1.0048309178743962), OrderedStatistic(items_base=frozenset({'1', '0'}), items_add=frozenset({'4', '2', '7'}), confidence=0.3076923076923077, lift=1.0), OrderedStatistic(items_base=frozenset({'2', '0'}), items_add=frozenset({'4', '1', '7'}), confidence=0.3076923076923077, lift=1.0), OrderedStatistic(items_base=frozenset({'4', '0'}), items_add=frozenset({'2', '1', '7'}), confidence=0.3478260869565218, lift=1.0048309178743964), OrderedStatistic(items_base=frozenset({'0', '7'}), items_add=frozenset({'4', '2', '1'}), confidence=0.888888888888889, lift=1.0048309178743962), OrderedStatistic(items_base=frozenset({'2', '1'}), items_add=frozenset({'4', '0', '7'}), confidence=0.3076923076923077, lift=1.0), OrderedStatistic(items_base=frozenset({'4', '1'}), items_add=frozenset({'2', '0', '7'}), confidence=0.3478260869565218, lift=1.0048309178743964), OrderedStatistic(items_base=frozenset({'1', '7'}), items_add=frozenset({'4', '2', '0'}), confidence=0.888888888888889, lift=1.0048309178743962), OrderedStatistic(items_base=frozenset({'4', '2'}), items_add=frozenset({'0', '1', '7'}), confidence=0.3478260869565218, lift=1.0048309178743964), OrderedStatistic(items_base=frozenset({'2', '7'}), items_add=frozenset({'0', '4', '1'}), confidence=0.888888888888889, lift=1.0048309178743962), OrderedStatistic(items_base=frozenset({'4', '7'}), items_add=frozenset({'0', '2', '1'}), confidence=1.0, lift=1.0), OrderedStatistic(items_base=frozenset({'1', '2', '0'}), items_add=frozenset({'4', '7'}), confidence=0.3076923076923077, lift=1.0), OrderedStatistic(items_base=frozenset({'1', '4', '0'}), items_add=frozenset({'2', '7'}), confidence=0.3478260869565218, lift=1.0048309178743964), OrderedStatistic(items_base=frozenset({'1', '0', '7'}), items_add=frozenset({'4', '2'}), confidence=0.888888888888889, lift=1.0048309178743962), OrderedStatistic(items_base=frozenset({'4', '2', '0'}), items_add=frozenset({'1', '7'}), confidence=0.3478260869565218, lift=1.0048309178743964), OrderedStatistic(items_base=frozenset({'2', '0', '7'}), items_add=frozenset({'4', '1'}), confidence=0.888888888888889, lift=1.0048309178743962), OrderedStatistic(items_base=frozenset({'4', '0', '7'}), items_add=frozenset({'2', '1'}), confidence=1.0, lift=1.0), OrderedStatistic(items_base=frozenset({'4', '2', '1'}), items_add=frozenset({'0', '7'}), confidence=0.3478260869565218, lift=1.0048309178743964), OrderedStatistic(items_base=frozenset({'2', '1', '7'}), items_add=frozenset({'4', '0'}), confidence=0.888888888888889, lift=1.0048309178743962), OrderedStatistic(items_base=frozenset({'4', '1', '7'}), items_add=frozenset({'2', '0'}), confidence=1.0, lift=1.0), OrderedStatistic(items_base=frozenset({'4', '2', '7'}), items_add=frozenset({'0', '1'}), confidence=1.0, lift=1.0), OrderedStatistic(items_base=frozenset({'1', '2', '4', '0'}), items_add=frozenset({'7'}), confidence=0.3478260869565218, lift=1.0048309178743964), OrderedStatistic(items_base=frozenset({'1', '2', '0', '7'}), items_add=frozenset({'4'}), confidence=0.888888888888889, lift=1.0048309178743962), OrderedStatistic(items_base=frozenset({'1', '4', '0', '7'}), items_add=frozenset({'2'}), confidence=1.0, lift=1.0), OrderedStatistic(items_base=frozenset({'4', '2', '0', '7'}), items_add=frozenset({'1'}), confidence=1.0, lift=1.0), OrderedStatistic(items_base=frozenset({'4', '2', '1', '7'}), items_add=frozenset({'0'}), confidence=1.0, lift=1.0)]), RelationRecord(items=frozenset({'9', '2', '1', '0', '4'}), support=0.34615384615384615, ordered_statistics=[OrderedStatistic(items_base=frozenset(), items_add=frozenset({'9', '1', '0', '4', '2'}), confidence=0.34615384615384615, lift=1.0), OrderedStatistic(items_base=frozenset({'0'}), items_add=frozenset({'4', '2', '9', '1'}), confidence=0.34615384615384615, lift=1.0), OrderedStatistic(items_base=frozenset({'1'}), items_add=frozenset({'4', '2', '9', '0'}), confidence=0.34615384615384615, lift=1.0), OrderedStatistic(items_base=frozenset({'2'}), items_add=frozenset({'0', '4', '9', '1'}), confidence=0.34615384615384615, lift=1.0), OrderedStatistic(items_base=frozenset({'4'}), items_add=frozenset({'0', '2', '9', '1'}), confidence=0.391304347826087, lift=1.017391304347826), OrderedStatistic(items_base=frozenset({'9'}), items_add=frozenset({'0', '4', '2', '1'}), confidence=0.8999999999999999, lift=1.017391304347826), OrderedStatistic(items_base=frozenset({'1', '0'}), items_add=frozenset({'4', '2', '9'}), confidence=0.34615384615384615, lift=1.0), OrderedStatistic(items_base=frozenset({'2', '0'}), items_add=frozenset({'4', '9', '1'}), confidence=0.34615384615384615, lift=1.0), OrderedStatistic(items_base=frozenset({'4', '0'}), items_add=frozenset({'2', '9', '1'}), confidence=0.391304347826087, lift=1.017391304347826), OrderedStatistic(items_base=frozenset({'9', '0'}), items_add=frozenset({'4', '2', '1'}), confidence=0.8999999999999999, lift=1.017391304347826), OrderedStatistic(items_base=frozenset({'2', '1'}), items_add=frozenset({'4', '9', '0'}), confidence=0.34615384615384615, lift=1.0), OrderedStatistic(items_base=frozenset({'4', '1'}), items_add=frozenset({'2', '9', '0'}), confidence=0.391304347826087, lift=1.017391304347826), OrderedStatistic(items_base=frozenset({'9', '1'}), items_add=frozenset({'4', '2', '0'}), confidence=0.8999999999999999, lift=1.017391304347826), OrderedStatistic(items_base=frozenset({'4', '2'}), items_add=frozenset({'0', '9', '1'}), confidence=0.391304347826087, lift=1.017391304347826), OrderedStatistic(items_base=frozenset({'2', '9'}), items_add=frozenset({'0', '4', '1'}), confidence=0.8999999999999999, lift=1.017391304347826), OrderedStatistic(items_base=frozenset({'4', '9'}), items_add=frozenset({'0', '2', '1'}), confidence=1.0, lift=1.0), OrderedStatistic(items_base=frozenset({'1', '2', '0'}), items_add=frozenset({'4', '9'}), confidence=0.34615384615384615, lift=1.0), OrderedStatistic(items_base=frozenset({'1', '4', '0'}), items_add=frozenset({'2', '9'}), confidence=0.391304347826087, lift=1.017391304347826), OrderedStatistic(items_base=frozenset({'1', '9', '0'}), items_add=frozenset({'4', '2'}), confidence=0.8999999999999999, lift=1.017391304347826), OrderedStatistic(items_base=frozenset({'4', '2', '0'}), items_add=frozenset({'9', '1'}), confidence=0.391304347826087, lift=1.017391304347826), OrderedStatistic(items_base=frozenset({'2', '9', '0'}), items_add=frozenset({'4', '1'}), confidence=0.8999999999999999, lift=1.017391304347826), OrderedStatistic(items_base=frozenset({'4', '9', '0'}), items_add=frozenset({'2', '1'}), confidence=1.0, lift=1.0), OrderedStatistic(items_base=frozenset({'4', '2', '1'}), items_add=frozenset({'9', '0'}), confidence=0.391304347826087, lift=1.017391304347826), OrderedStatistic(items_base=frozenset({'2', '9', '1'}), items_add=frozenset({'4', '0'}), confidence=0.8999999999999999, lift=1.017391304347826), OrderedStatistic(items_base=frozenset({'4', '9', '1'}), items_add=frozenset({'2', '0'}), confidence=1.0, lift=1.0), OrderedStatistic(items_base=frozenset({'4', '2', '9'}), items_add=frozenset({'0', '1'}), confidence=1.0, lift=1.0), OrderedStatistic(items_base=frozenset({'1', '2', '4', '0'}), items_add=frozenset({'9'}), confidence=0.391304347826087, lift=1.017391304347826), OrderedStatistic(items_base=frozenset({'1', '2', '9', '0'}), items_add=frozenset({'4'}), confidence=0.8999999999999999, lift=1.017391304347826), OrderedStatistic(items_base=frozenset({'1', '4', '9', '0'}), items_add=frozenset({'2'}), confidence=1.0, lift=1.0), OrderedStatistic(items_base=frozenset({'4', '2', '9', '0'}), items_add=frozenset({'1'}), confidence=1.0, lift=1.0), OrderedStatistic(items_base=frozenset({'4', '2', '9', '1'}), items_add=frozenset({'0'}), confidence=1.0, lift=1.0)])]\n"
          ]
        }
      ],
      "source": [
        "print(results)"
      ]
    },
    {
      "cell_type": "code",
      "source": [
        "from mlxtend. frequent_patterns import apriori\n",
        "\n",
        "frequent_itemsets = apriori (dfff, min_support=0.6, use_colnames=True)\n",
        "frequent_itemsets"
      ],
      "metadata": {
        "colab": {
          "base_uri": "https://localhost:8080/",
          "height": 425
        },
        "id": "xlRewZVyfwYP",
        "outputId": "88faaf20-fd70-4b4c-c0df-584f55c6ccf2"
      },
      "id": "xlRewZVyfwYP",
      "execution_count": null,
      "outputs": [
        {
          "output_type": "error",
          "ename": "TypeError",
          "evalue": "ignored",
          "traceback": [
            "\u001b[0;31m---------------------------------------------------------------------------\u001b[0m",
            "\u001b[0;31mTypeError\u001b[0m                                 Traceback (most recent call last)",
            "\u001b[0;32m<ipython-input-30-3b528ee05b20>\u001b[0m in \u001b[0;36m<module>\u001b[0;34m\u001b[0m\n\u001b[1;32m      1\u001b[0m \u001b[0;32mfrom\u001b[0m \u001b[0mmlxtend\u001b[0m\u001b[0;34m.\u001b[0m \u001b[0mfrequent_patterns\u001b[0m \u001b[0;32mimport\u001b[0m \u001b[0mapriori\u001b[0m\u001b[0;34m\u001b[0m\u001b[0;34m\u001b[0m\u001b[0m\n\u001b[1;32m      2\u001b[0m \u001b[0;34m\u001b[0m\u001b[0m\n\u001b[0;32m----> 3\u001b[0;31m \u001b[0mfrequent_itemsets\u001b[0m \u001b[0;34m=\u001b[0m \u001b[0mapriori\u001b[0m \u001b[0;34m(\u001b[0m\u001b[0mdfff\u001b[0m\u001b[0;34m,\u001b[0m \u001b[0mmin_support\u001b[0m\u001b[0;34m=\u001b[0m\u001b[0;36m0.6\u001b[0m\u001b[0;34m,\u001b[0m \u001b[0muse_colnames\u001b[0m\u001b[0;34m=\u001b[0m\u001b[0;32mTrue\u001b[0m\u001b[0;34m)\u001b[0m\u001b[0;34m\u001b[0m\u001b[0;34m\u001b[0m\u001b[0m\n\u001b[0m\u001b[1;32m      4\u001b[0m \u001b[0mfrequent_itemsets\u001b[0m\u001b[0;34m\u001b[0m\u001b[0;34m\u001b[0m\u001b[0m\n",
            "\u001b[0;32m/usr/local/lib/python3.8/dist-packages/mlxtend/frequent_patterns/apriori.py\u001b[0m in \u001b[0;36mapriori\u001b[0;34m(df, min_support, use_colnames, max_len, n_jobs)\u001b[0m\n\u001b[1;32m    104\u001b[0m     \"\"\"\n\u001b[1;32m    105\u001b[0m     \u001b[0mallowed_val\u001b[0m \u001b[0;34m=\u001b[0m \u001b[0;34m{\u001b[0m\u001b[0;36m0\u001b[0m\u001b[0;34m,\u001b[0m \u001b[0;36m1\u001b[0m\u001b[0;34m,\u001b[0m \u001b[0;32mTrue\u001b[0m\u001b[0;34m,\u001b[0m \u001b[0;32mFalse\u001b[0m\u001b[0;34m}\u001b[0m\u001b[0;34m\u001b[0m\u001b[0;34m\u001b[0m\u001b[0m\n\u001b[0;32m--> 106\u001b[0;31m     \u001b[0munique_val\u001b[0m \u001b[0;34m=\u001b[0m \u001b[0mnp\u001b[0m\u001b[0;34m.\u001b[0m\u001b[0munique\u001b[0m\u001b[0;34m(\u001b[0m\u001b[0mdf\u001b[0m\u001b[0;34m.\u001b[0m\u001b[0mvalues\u001b[0m\u001b[0;34m.\u001b[0m\u001b[0mravel\u001b[0m\u001b[0;34m(\u001b[0m\u001b[0;34m)\u001b[0m\u001b[0;34m)\u001b[0m\u001b[0;34m\u001b[0m\u001b[0;34m\u001b[0m\u001b[0m\n\u001b[0m\u001b[1;32m    107\u001b[0m     \u001b[0;32mfor\u001b[0m \u001b[0mval\u001b[0m \u001b[0;32min\u001b[0m \u001b[0munique_val\u001b[0m\u001b[0;34m:\u001b[0m\u001b[0;34m\u001b[0m\u001b[0;34m\u001b[0m\u001b[0m\n\u001b[1;32m    108\u001b[0m         \u001b[0;32mif\u001b[0m \u001b[0mval\u001b[0m \u001b[0;32mnot\u001b[0m \u001b[0;32min\u001b[0m \u001b[0mallowed_val\u001b[0m\u001b[0;34m:\u001b[0m\u001b[0;34m\u001b[0m\u001b[0;34m\u001b[0m\u001b[0m\n",
            "\u001b[0;32m<__array_function__ internals>\u001b[0m in \u001b[0;36munique\u001b[0;34m(*args, **kwargs)\u001b[0m\n",
            "\u001b[0;32m/usr/local/lib/python3.8/dist-packages/numpy/lib/arraysetops.py\u001b[0m in \u001b[0;36munique\u001b[0;34m(ar, return_index, return_inverse, return_counts, axis)\u001b[0m\n\u001b[1;32m    270\u001b[0m     \u001b[0mar\u001b[0m \u001b[0;34m=\u001b[0m \u001b[0mnp\u001b[0m\u001b[0;34m.\u001b[0m\u001b[0masanyarray\u001b[0m\u001b[0;34m(\u001b[0m\u001b[0mar\u001b[0m\u001b[0;34m)\u001b[0m\u001b[0;34m\u001b[0m\u001b[0;34m\u001b[0m\u001b[0m\n\u001b[1;32m    271\u001b[0m     \u001b[0;32mif\u001b[0m \u001b[0maxis\u001b[0m \u001b[0;32mis\u001b[0m \u001b[0;32mNone\u001b[0m\u001b[0;34m:\u001b[0m\u001b[0;34m\u001b[0m\u001b[0;34m\u001b[0m\u001b[0m\n\u001b[0;32m--> 272\u001b[0;31m         \u001b[0mret\u001b[0m \u001b[0;34m=\u001b[0m \u001b[0m_unique1d\u001b[0m\u001b[0;34m(\u001b[0m\u001b[0mar\u001b[0m\u001b[0;34m,\u001b[0m \u001b[0mreturn_index\u001b[0m\u001b[0;34m,\u001b[0m \u001b[0mreturn_inverse\u001b[0m\u001b[0;34m,\u001b[0m \u001b[0mreturn_counts\u001b[0m\u001b[0;34m)\u001b[0m\u001b[0;34m\u001b[0m\u001b[0;34m\u001b[0m\u001b[0m\n\u001b[0m\u001b[1;32m    273\u001b[0m         \u001b[0;32mreturn\u001b[0m \u001b[0m_unpack_tuple\u001b[0m\u001b[0;34m(\u001b[0m\u001b[0mret\u001b[0m\u001b[0;34m)\u001b[0m\u001b[0;34m\u001b[0m\u001b[0;34m\u001b[0m\u001b[0m\n\u001b[1;32m    274\u001b[0m \u001b[0;34m\u001b[0m\u001b[0m\n",
            "\u001b[0;32m/usr/local/lib/python3.8/dist-packages/numpy/lib/arraysetops.py\u001b[0m in \u001b[0;36m_unique1d\u001b[0;34m(ar, return_index, return_inverse, return_counts)\u001b[0m\n\u001b[1;32m    331\u001b[0m         \u001b[0maux\u001b[0m \u001b[0;34m=\u001b[0m \u001b[0mar\u001b[0m\u001b[0;34m[\u001b[0m\u001b[0mperm\u001b[0m\u001b[0;34m]\u001b[0m\u001b[0;34m\u001b[0m\u001b[0;34m\u001b[0m\u001b[0m\n\u001b[1;32m    332\u001b[0m     \u001b[0;32melse\u001b[0m\u001b[0;34m:\u001b[0m\u001b[0;34m\u001b[0m\u001b[0;34m\u001b[0m\u001b[0m\n\u001b[0;32m--> 333\u001b[0;31m         \u001b[0mar\u001b[0m\u001b[0;34m.\u001b[0m\u001b[0msort\u001b[0m\u001b[0;34m(\u001b[0m\u001b[0;34m)\u001b[0m\u001b[0;34m\u001b[0m\u001b[0;34m\u001b[0m\u001b[0m\n\u001b[0m\u001b[1;32m    334\u001b[0m         \u001b[0maux\u001b[0m \u001b[0;34m=\u001b[0m \u001b[0mar\u001b[0m\u001b[0;34m\u001b[0m\u001b[0;34m\u001b[0m\u001b[0m\n\u001b[1;32m    335\u001b[0m     \u001b[0mmask\u001b[0m \u001b[0;34m=\u001b[0m \u001b[0mnp\u001b[0m\u001b[0;34m.\u001b[0m\u001b[0mempty\u001b[0m\u001b[0;34m(\u001b[0m\u001b[0maux\u001b[0m\u001b[0;34m.\u001b[0m\u001b[0mshape\u001b[0m\u001b[0;34m,\u001b[0m \u001b[0mdtype\u001b[0m\u001b[0;34m=\u001b[0m\u001b[0mnp\u001b[0m\u001b[0;34m.\u001b[0m\u001b[0mbool_\u001b[0m\u001b[0;34m)\u001b[0m\u001b[0;34m\u001b[0m\u001b[0;34m\u001b[0m\u001b[0m\n",
            "\u001b[0;31mTypeError\u001b[0m: '<' not supported between instances of 'str' and 'int'"
          ]
        }
      ]
    },
    {
      "cell_type": "code",
      "source": [
        "from mixtend. frequent_patterns import association_rules\n",
        "res = association_rules (frequent_itemsets, metric-\"confidence\", min_threshold-0.7)\n",
        "res"
      ],
      "metadata": {
        "id": "O5A9gLYsgp-5"
      },
      "id": "O5A9gLYsgp-5",
      "execution_count": null,
      "outputs": []
    },
    {
      "cell_type": "code",
      "source": [
        "res1 = res[['antecedents', 'consequents', 'support', 'confidence', 'lift'1]\n",
        "res1"
      ],
      "metadata": {
        "id": "9_L89rOmhaJ9"
      },
      "id": "9_L89rOmhaJ9",
      "execution_count": null,
      "outputs": []
    },
    {
      "cell_type": "code",
      "source": [
        "res2 = res1 [res1[ 'confidence'] >=1]\n",
        "res2"
      ],
      "metadata": {
        "id": "dYNPtFfshdeN"
      },
      "id": "dYNPtFfshdeN",
      "execution_count": null,
      "outputs": []
    },
    {
      "cell_type": "markdown",
      "id": "af642504",
      "metadata": {
        "id": "af642504"
      },
      "source": [
        "# Clustering"
      ]
    },
    {
      "cell_type": "code",
      "execution_count": null,
      "id": "0d6de089",
      "metadata": {
        "id": "0d6de089"
      },
      "outputs": [],
      "source": [
        "import numpy as np\n",
        "import pandas as pd\n",
        "import matplotlib.pyplot as plt\n",
        "from sklearn.cluster import KMeans\n",
        "%matplotlib inline\n",
        "from sklearn.preprocessing import MinMaxScaler"
      ]
    },
    {
      "cell_type": "code",
      "execution_count": null,
      "id": "6f4c8f58",
      "metadata": {
        "id": "6f4c8f58"
      },
      "outputs": [],
      "source": [
        "dfp=dff"
      ]
    },
    {
      "cell_type": "code",
      "execution_count": null,
      "id": "3c2f6e47",
      "metadata": {
        "id": "3c2f6e47"
      },
      "outputs": [],
      "source": [
        "LIMIT = 50000\n",
        "dfp = dfp[:LIMIT]"
      ]
    },
    {
      "cell_type": "code",
      "execution_count": null,
      "id": "dbfec853",
      "metadata": {
        "id": "dbfec853",
        "outputId": "4a3df40d-09db-4046-a6db-3c661d2d05a2"
      },
      "outputs": [
        {
          "name": "stderr",
          "output_type": "stream",
          "text": [
            "C:\\ProgramData\\Anaconda3\\lib\\site-packages\\pandas\\core\\frame.py:5039: SettingWithCopyWarning: \n",
            "A value is trying to be set on a copy of a slice from a DataFrame\n",
            "\n",
            "See the caveats in the documentation: https://pandas.pydata.org/pandas-docs/stable/user_guide/indexing.html#returning-a-view-versus-a-copy\n",
            "  return super().rename(\n"
          ]
        },
        {
          "data": {
            "text/html": [
              "<div>\n",
              "<style scoped>\n",
              "    .dataframe tbody tr th:only-of-type {\n",
              "        vertical-align: middle;\n",
              "    }\n",
              "\n",
              "    .dataframe tbody tr th {\n",
              "        vertical-align: top;\n",
              "    }\n",
              "\n",
              "    .dataframe thead th {\n",
              "        text-align: right;\n",
              "    }\n",
              "</style>\n",
              "<table border=\"1\" class=\"dataframe\">\n",
              "  <thead>\n",
              "    <tr style=\"text-align: right;\">\n",
              "      <th></th>\n",
              "      <th>Person_ID</th>\n",
              "      <th>Region</th>\n",
              "      <th>Residence_Type</th>\n",
              "      <th>Family_Composition</th>\n",
              "      <th>Population_Base</th>\n",
              "      <th>Sex</th>\n",
              "      <th>Age</th>\n",
              "      <th>Marital_Status</th>\n",
              "      <th>Student</th>\n",
              "      <th>Country_of_Birth</th>\n",
              "      <th>Health</th>\n",
              "      <th>Ethnic_Group</th>\n",
              "      <th>Religion</th>\n",
              "      <th>Economic_Activity</th>\n",
              "      <th>Occupation</th>\n",
              "      <th>Industry</th>\n",
              "      <th>Hours_worked_per_week</th>\n",
              "      <th>Hours_Number</th>\n",
              "      <th>Approximated_Social_Grade</th>\n",
              "    </tr>\n",
              "  </thead>\n",
              "  <tbody>\n",
              "    <tr>\n",
              "      <th>302321</th>\n",
              "      <td>7394645</td>\n",
              "      <td>0</td>\n",
              "      <td>1</td>\n",
              "      <td>5</td>\n",
              "      <td>1</td>\n",
              "      <td>2</td>\n",
              "      <td>5</td>\n",
              "      <td>4</td>\n",
              "      <td>2</td>\n",
              "      <td>1</td>\n",
              "      <td>3</td>\n",
              "      <td>1</td>\n",
              "      <td>2</td>\n",
              "      <td>2</td>\n",
              "      <td>7</td>\n",
              "      <td>7</td>\n",
              "      <td>1</td>\n",
              "      <td>2</td>\n",
              "      <td>4</td>\n",
              "    </tr>\n",
              "    <tr>\n",
              "      <th>302322</th>\n",
              "      <td>7394688</td>\n",
              "      <td>0</td>\n",
              "      <td>1</td>\n",
              "      <td>2</td>\n",
              "      <td>1</td>\n",
              "      <td>2</td>\n",
              "      <td>2</td>\n",
              "      <td>1</td>\n",
              "      <td>1</td>\n",
              "      <td>1</td>\n",
              "      <td>1</td>\n",
              "      <td>1</td>\n",
              "      <td>9</td>\n",
              "      <td>4</td>\n",
              "      <td>7</td>\n",
              "      <td>4</td>\n",
              "      <td>1</td>\n",
              "      <td>1</td>\n",
              "      <td>2</td>\n",
              "    </tr>\n",
              "    <tr>\n",
              "      <th>302323</th>\n",
              "      <td>7394756</td>\n",
              "      <td>0</td>\n",
              "      <td>1</td>\n",
              "      <td>2</td>\n",
              "      <td>1</td>\n",
              "      <td>2</td>\n",
              "      <td>5</td>\n",
              "      <td>2</td>\n",
              "      <td>2</td>\n",
              "      <td>1</td>\n",
              "      <td>3</td>\n",
              "      <td>1</td>\n",
              "      <td>1</td>\n",
              "      <td>1</td>\n",
              "      <td>9</td>\n",
              "      <td>9</td>\n",
              "      <td>1</td>\n",
              "      <td>10</td>\n",
              "      <td>4</td>\n",
              "    </tr>\n",
              "    <tr>\n",
              "      <th>302324</th>\n",
              "      <td>7394737</td>\n",
              "      <td>0</td>\n",
              "      <td>1</td>\n",
              "      <td>2</td>\n",
              "      <td>1</td>\n",
              "      <td>2</td>\n",
              "      <td>6</td>\n",
              "      <td>2</td>\n",
              "      <td>2</td>\n",
              "      <td>1</td>\n",
              "      <td>1</td>\n",
              "      <td>1</td>\n",
              "      <td>2</td>\n",
              "      <td>1</td>\n",
              "      <td>9</td>\n",
              "      <td>11</td>\n",
              "      <td>1</td>\n",
              "      <td>3</td>\n",
              "      <td>4</td>\n",
              "    </tr>\n",
              "    <tr>\n",
              "      <th>302325</th>\n",
              "      <td>7394536</td>\n",
              "      <td>0</td>\n",
              "      <td>1</td>\n",
              "      <td>5</td>\n",
              "      <td>1</td>\n",
              "      <td>2</td>\n",
              "      <td>6</td>\n",
              "      <td>3</td>\n",
              "      <td>2</td>\n",
              "      <td>1</td>\n",
              "      <td>2</td>\n",
              "      <td>1</td>\n",
              "      <td>1</td>\n",
              "      <td>1</td>\n",
              "      <td>9</td>\n",
              "      <td>10</td>\n",
              "      <td>1</td>\n",
              "      <td>8</td>\n",
              "      <td>4</td>\n",
              "    </tr>\n",
              "  </tbody>\n",
              "</table>\n",
              "</div>"
            ],
            "text/plain": [
              "        Person_ID  Region  Residence_Type  Family_Composition  \\\n",
              "302321    7394645       0               1                   5   \n",
              "302322    7394688       0               1                   2   \n",
              "302323    7394756       0               1                   2   \n",
              "302324    7394737       0               1                   2   \n",
              "302325    7394536       0               1                   5   \n",
              "\n",
              "        Population_Base  Sex  Age  Marital_Status  Student  Country_of_Birth  \\\n",
              "302321                1    2    5               4        2                 1   \n",
              "302322                1    2    2               1        1                 1   \n",
              "302323                1    2    5               2        2                 1   \n",
              "302324                1    2    6               2        2                 1   \n",
              "302325                1    2    6               3        2                 1   \n",
              "\n",
              "        Health  Ethnic_Group  Religion  Economic_Activity  Occupation  \\\n",
              "302321       3             1         2                  2           7   \n",
              "302322       1             1         9                  4           7   \n",
              "302323       3             1         1                  1           9   \n",
              "302324       1             1         2                  1           9   \n",
              "302325       2             1         1                  1           9   \n",
              "\n",
              "        Industry  Hours_worked_per_week  Hours_Number  \\\n",
              "302321         7                      1             2   \n",
              "302322         4                      1             1   \n",
              "302323         9                      1            10   \n",
              "302324        11                      1             3   \n",
              "302325        10                      1             8   \n",
              "\n",
              "        Approximated_Social_Grade  \n",
              "302321                          4  \n",
              "302322                          2  \n",
              "302323                          4  \n",
              "302324                          4  \n",
              "302325                          4  "
            ]
          },
          "execution_count": 184,
          "metadata": {},
          "output_type": "execute_result"
        }
      ],
      "source": [
        "#Changing the Names of yhe columns\n",
        "dict = {'Person ID':'Person_ID'\n",
        "\n",
        "    ,'Residence Type':'Residence_Type','Family Composition':'Family_Composition','Population Base':'Population_Base',\n",
        "      'Marital Status': 'Marital_Status','Country of Birth':'Country_of_Birth','Ethnic Group':'Ethnic_Group','Economic Activity':'Economic_Activity',\n",
        "      \t'Hours worked per week':\t'Hours_worked_per_week','No of hours':'Hours_Number','Approximated Social Grade': 'Approximated_Social_Grade'\n",
        "\n",
        "       }\n",
        "\n",
        "dfp.rename(columns = dict, inplace = True)\n",
        "dfp.head()"
      ]
    },
    {
      "cell_type": "code",
      "execution_count": null,
      "id": "c634c824",
      "metadata": {
        "id": "c634c824",
        "outputId": "e199e6f5-16fc-40f0-d31a-64885034f4c0"
      },
      "outputs": [
        {
          "data": {
            "text/html": [
              "<div>\n",
              "<style scoped>\n",
              "    .dataframe tbody tr th:only-of-type {\n",
              "        vertical-align: middle;\n",
              "    }\n",
              "\n",
              "    .dataframe tbody tr th {\n",
              "        vertical-align: top;\n",
              "    }\n",
              "\n",
              "    .dataframe thead th {\n",
              "        text-align: right;\n",
              "    }\n",
              "</style>\n",
              "<table border=\"1\" class=\"dataframe\">\n",
              "  <thead>\n",
              "    <tr style=\"text-align: right;\">\n",
              "      <th></th>\n",
              "      <th>Region</th>\n",
              "      <th>Residence_Type</th>\n",
              "      <th>Family_Composition</th>\n",
              "      <th>Population_Base</th>\n",
              "      <th>Sex</th>\n",
              "      <th>Age</th>\n",
              "      <th>Marital_Status</th>\n",
              "      <th>Student</th>\n",
              "      <th>Country_of_Birth</th>\n",
              "      <th>Health</th>\n",
              "      <th>Ethnic_Group</th>\n",
              "      <th>Religion</th>\n",
              "      <th>Economic_Activity</th>\n",
              "      <th>Occupation</th>\n",
              "      <th>Industry</th>\n",
              "      <th>Hours_worked_per_week</th>\n",
              "      <th>Hours_Number</th>\n",
              "      <th>Approximated_Social_Grade</th>\n",
              "    </tr>\n",
              "  </thead>\n",
              "  <tbody>\n",
              "    <tr>\n",
              "      <th>302321</th>\n",
              "      <td>0</td>\n",
              "      <td>1</td>\n",
              "      <td>5</td>\n",
              "      <td>1</td>\n",
              "      <td>2</td>\n",
              "      <td>5</td>\n",
              "      <td>4</td>\n",
              "      <td>2</td>\n",
              "      <td>1</td>\n",
              "      <td>3</td>\n",
              "      <td>1</td>\n",
              "      <td>2</td>\n",
              "      <td>2</td>\n",
              "      <td>7</td>\n",
              "      <td>7</td>\n",
              "      <td>1</td>\n",
              "      <td>2</td>\n",
              "      <td>4</td>\n",
              "    </tr>\n",
              "    <tr>\n",
              "      <th>302322</th>\n",
              "      <td>0</td>\n",
              "      <td>1</td>\n",
              "      <td>2</td>\n",
              "      <td>1</td>\n",
              "      <td>2</td>\n",
              "      <td>2</td>\n",
              "      <td>1</td>\n",
              "      <td>1</td>\n",
              "      <td>1</td>\n",
              "      <td>1</td>\n",
              "      <td>1</td>\n",
              "      <td>9</td>\n",
              "      <td>4</td>\n",
              "      <td>7</td>\n",
              "      <td>4</td>\n",
              "      <td>1</td>\n",
              "      <td>1</td>\n",
              "      <td>2</td>\n",
              "    </tr>\n",
              "    <tr>\n",
              "      <th>302323</th>\n",
              "      <td>0</td>\n",
              "      <td>1</td>\n",
              "      <td>2</td>\n",
              "      <td>1</td>\n",
              "      <td>2</td>\n",
              "      <td>5</td>\n",
              "      <td>2</td>\n",
              "      <td>2</td>\n",
              "      <td>1</td>\n",
              "      <td>3</td>\n",
              "      <td>1</td>\n",
              "      <td>1</td>\n",
              "      <td>1</td>\n",
              "      <td>9</td>\n",
              "      <td>9</td>\n",
              "      <td>1</td>\n",
              "      <td>10</td>\n",
              "      <td>4</td>\n",
              "    </tr>\n",
              "    <tr>\n",
              "      <th>302324</th>\n",
              "      <td>0</td>\n",
              "      <td>1</td>\n",
              "      <td>2</td>\n",
              "      <td>1</td>\n",
              "      <td>2</td>\n",
              "      <td>6</td>\n",
              "      <td>2</td>\n",
              "      <td>2</td>\n",
              "      <td>1</td>\n",
              "      <td>1</td>\n",
              "      <td>1</td>\n",
              "      <td>2</td>\n",
              "      <td>1</td>\n",
              "      <td>9</td>\n",
              "      <td>11</td>\n",
              "      <td>1</td>\n",
              "      <td>3</td>\n",
              "      <td>4</td>\n",
              "    </tr>\n",
              "    <tr>\n",
              "      <th>302325</th>\n",
              "      <td>0</td>\n",
              "      <td>1</td>\n",
              "      <td>5</td>\n",
              "      <td>1</td>\n",
              "      <td>2</td>\n",
              "      <td>6</td>\n",
              "      <td>3</td>\n",
              "      <td>2</td>\n",
              "      <td>1</td>\n",
              "      <td>2</td>\n",
              "      <td>1</td>\n",
              "      <td>1</td>\n",
              "      <td>1</td>\n",
              "      <td>9</td>\n",
              "      <td>10</td>\n",
              "      <td>1</td>\n",
              "      <td>8</td>\n",
              "      <td>4</td>\n",
              "    </tr>\n",
              "  </tbody>\n",
              "</table>\n",
              "</div>"
            ],
            "text/plain": [
              "        Region  Residence_Type  Family_Composition  Population_Base  Sex  Age  \\\n",
              "302321       0               1                   5                1    2    5   \n",
              "302322       0               1                   2                1    2    2   \n",
              "302323       0               1                   2                1    2    5   \n",
              "302324       0               1                   2                1    2    6   \n",
              "302325       0               1                   5                1    2    6   \n",
              "\n",
              "        Marital_Status  Student  Country_of_Birth  Health  Ethnic_Group  \\\n",
              "302321               4        2                 1       3             1   \n",
              "302322               1        1                 1       1             1   \n",
              "302323               2        2                 1       3             1   \n",
              "302324               2        2                 1       1             1   \n",
              "302325               3        2                 1       2             1   \n",
              "\n",
              "        Religion  Economic_Activity  Occupation  Industry  \\\n",
              "302321         2                  2           7         7   \n",
              "302322         9                  4           7         4   \n",
              "302323         1                  1           9         9   \n",
              "302324         2                  1           9        11   \n",
              "302325         1                  1           9        10   \n",
              "\n",
              "        Hours_worked_per_week  Hours_Number  Approximated_Social_Grade  \n",
              "302321                      1             2                          4  \n",
              "302322                      1             1                          2  \n",
              "302323                      1            10                          4  \n",
              "302324                      1             3                          4  \n",
              "302325                      1             8                          4  "
            ]
          },
          "execution_count": 185,
          "metadata": {},
          "output_type": "execute_result"
        }
      ],
      "source": [
        "dfq= dfp.drop('Person_ID', axis=1)\n",
        "dfq.head()"
      ]
    },
    {
      "cell_type": "code",
      "execution_count": null,
      "id": "43361d68",
      "metadata": {
        "id": "43361d68",
        "outputId": "474d995c-ed4f-4d95-f981-c355dfc35f45"
      },
      "outputs": [
        {
          "data": {
            "text/html": [
              "<div>\n",
              "<style scoped>\n",
              "    .dataframe tbody tr th:only-of-type {\n",
              "        vertical-align: middle;\n",
              "    }\n",
              "\n",
              "    .dataframe tbody tr th {\n",
              "        vertical-align: top;\n",
              "    }\n",
              "\n",
              "    .dataframe thead th {\n",
              "        text-align: right;\n",
              "    }\n",
              "</style>\n",
              "<table border=\"1\" class=\"dataframe\">\n",
              "  <thead>\n",
              "    <tr style=\"text-align: right;\">\n",
              "      <th></th>\n",
              "      <th>Region</th>\n",
              "      <th>Residence_Type</th>\n",
              "      <th>Family_Composition</th>\n",
              "      <th>Population_Base</th>\n",
              "      <th>Sex</th>\n",
              "      <th>Age</th>\n",
              "      <th>Marital_Status</th>\n",
              "      <th>Student</th>\n",
              "      <th>Country_of_Birth</th>\n",
              "      <th>Health</th>\n",
              "      <th>Ethnic_Group</th>\n",
              "      <th>Religion</th>\n",
              "      <th>Economic_Activity</th>\n",
              "      <th>Occupation</th>\n",
              "      <th>Industry</th>\n",
              "      <th>Hours_worked_per_week</th>\n",
              "      <th>Hours_Number</th>\n",
              "      <th>Approximated_Social_Grade</th>\n",
              "    </tr>\n",
              "  </thead>\n",
              "  <tbody>\n",
              "    <tr>\n",
              "      <th>0</th>\n",
              "      <td>0.000000</td>\n",
              "      <td>1.0</td>\n",
              "      <td>0.933333</td>\n",
              "      <td>0.0</td>\n",
              "      <td>1.0</td>\n",
              "      <td>0.500000</td>\n",
              "      <td>0.75</td>\n",
              "      <td>1.0</td>\n",
              "      <td>0.0</td>\n",
              "      <td>0.50</td>\n",
              "      <td>0.0</td>\n",
              "      <td>0.125</td>\n",
              "      <td>0.333333</td>\n",
              "      <td>0.750</td>\n",
              "      <td>0.545455</td>\n",
              "      <td>0.0</td>\n",
              "      <td>0.034483</td>\n",
              "      <td>1.000000</td>\n",
              "    </tr>\n",
              "    <tr>\n",
              "      <th>1</th>\n",
              "      <td>0.000000</td>\n",
              "      <td>1.0</td>\n",
              "      <td>0.733333</td>\n",
              "      <td>0.0</td>\n",
              "      <td>1.0</td>\n",
              "      <td>0.000000</td>\n",
              "      <td>0.00</td>\n",
              "      <td>0.0</td>\n",
              "      <td>0.0</td>\n",
              "      <td>0.00</td>\n",
              "      <td>0.0</td>\n",
              "      <td>1.000</td>\n",
              "      <td>1.000000</td>\n",
              "      <td>0.750</td>\n",
              "      <td>0.272727</td>\n",
              "      <td>0.0</td>\n",
              "      <td>0.000000</td>\n",
              "      <td>0.846154</td>\n",
              "    </tr>\n",
              "    <tr>\n",
              "      <th>2</th>\n",
              "      <td>0.000000</td>\n",
              "      <td>1.0</td>\n",
              "      <td>0.733333</td>\n",
              "      <td>0.0</td>\n",
              "      <td>1.0</td>\n",
              "      <td>0.500000</td>\n",
              "      <td>0.25</td>\n",
              "      <td>1.0</td>\n",
              "      <td>0.0</td>\n",
              "      <td>0.50</td>\n",
              "      <td>0.0</td>\n",
              "      <td>0.000</td>\n",
              "      <td>0.000000</td>\n",
              "      <td>1.000</td>\n",
              "      <td>0.727273</td>\n",
              "      <td>0.0</td>\n",
              "      <td>0.310345</td>\n",
              "      <td>1.000000</td>\n",
              "    </tr>\n",
              "    <tr>\n",
              "      <th>3</th>\n",
              "      <td>0.000000</td>\n",
              "      <td>1.0</td>\n",
              "      <td>0.733333</td>\n",
              "      <td>0.0</td>\n",
              "      <td>1.0</td>\n",
              "      <td>0.666667</td>\n",
              "      <td>0.25</td>\n",
              "      <td>1.0</td>\n",
              "      <td>0.0</td>\n",
              "      <td>0.00</td>\n",
              "      <td>0.0</td>\n",
              "      <td>0.125</td>\n",
              "      <td>0.000000</td>\n",
              "      <td>1.000</td>\n",
              "      <td>0.909091</td>\n",
              "      <td>0.0</td>\n",
              "      <td>0.068966</td>\n",
              "      <td>1.000000</td>\n",
              "    </tr>\n",
              "    <tr>\n",
              "      <th>4</th>\n",
              "      <td>0.000000</td>\n",
              "      <td>1.0</td>\n",
              "      <td>0.933333</td>\n",
              "      <td>0.0</td>\n",
              "      <td>1.0</td>\n",
              "      <td>0.666667</td>\n",
              "      <td>0.50</td>\n",
              "      <td>1.0</td>\n",
              "      <td>0.0</td>\n",
              "      <td>0.25</td>\n",
              "      <td>0.0</td>\n",
              "      <td>0.000</td>\n",
              "      <td>0.000000</td>\n",
              "      <td>1.000</td>\n",
              "      <td>0.818182</td>\n",
              "      <td>0.0</td>\n",
              "      <td>0.241379</td>\n",
              "      <td>1.000000</td>\n",
              "    </tr>\n",
              "    <tr>\n",
              "      <th>...</th>\n",
              "      <td>...</td>\n",
              "      <td>...</td>\n",
              "      <td>...</td>\n",
              "      <td>...</td>\n",
              "      <td>...</td>\n",
              "      <td>...</td>\n",
              "      <td>...</td>\n",
              "      <td>...</td>\n",
              "      <td>...</td>\n",
              "      <td>...</td>\n",
              "      <td>...</td>\n",
              "      <td>...</td>\n",
              "      <td>...</td>\n",
              "      <td>...</td>\n",
              "      <td>...</td>\n",
              "      <td>...</td>\n",
              "      <td>...</td>\n",
              "      <td>...</td>\n",
              "    </tr>\n",
              "    <tr>\n",
              "      <th>49995</th>\n",
              "      <td>0.333333</td>\n",
              "      <td>1.0</td>\n",
              "      <td>0.733333</td>\n",
              "      <td>0.0</td>\n",
              "      <td>1.0</td>\n",
              "      <td>0.500000</td>\n",
              "      <td>0.25</td>\n",
              "      <td>1.0</td>\n",
              "      <td>0.0</td>\n",
              "      <td>0.50</td>\n",
              "      <td>0.0</td>\n",
              "      <td>0.125</td>\n",
              "      <td>0.000000</td>\n",
              "      <td>0.375</td>\n",
              "      <td>0.181818</td>\n",
              "      <td>1.0</td>\n",
              "      <td>1.000000</td>\n",
              "      <td>0.846154</td>\n",
              "    </tr>\n",
              "    <tr>\n",
              "      <th>49996</th>\n",
              "      <td>0.333333</td>\n",
              "      <td>1.0</td>\n",
              "      <td>0.733333</td>\n",
              "      <td>0.0</td>\n",
              "      <td>1.0</td>\n",
              "      <td>0.333333</td>\n",
              "      <td>0.25</td>\n",
              "      <td>1.0</td>\n",
              "      <td>0.0</td>\n",
              "      <td>0.25</td>\n",
              "      <td>0.0</td>\n",
              "      <td>0.125</td>\n",
              "      <td>0.000000</td>\n",
              "      <td>1.000</td>\n",
              "      <td>0.363636</td>\n",
              "      <td>1.0</td>\n",
              "      <td>0.931034</td>\n",
              "      <td>1.000000</td>\n",
              "    </tr>\n",
              "    <tr>\n",
              "      <th>49997</th>\n",
              "      <td>0.333333</td>\n",
              "      <td>1.0</td>\n",
              "      <td>0.733333</td>\n",
              "      <td>0.0</td>\n",
              "      <td>1.0</td>\n",
              "      <td>0.333333</td>\n",
              "      <td>0.25</td>\n",
              "      <td>1.0</td>\n",
              "      <td>0.0</td>\n",
              "      <td>0.00</td>\n",
              "      <td>0.0</td>\n",
              "      <td>0.125</td>\n",
              "      <td>0.000000</td>\n",
              "      <td>0.375</td>\n",
              "      <td>0.636364</td>\n",
              "      <td>1.0</td>\n",
              "      <td>0.793103</td>\n",
              "      <td>0.846154</td>\n",
              "    </tr>\n",
              "    <tr>\n",
              "      <th>49998</th>\n",
              "      <td>0.333333</td>\n",
              "      <td>1.0</td>\n",
              "      <td>0.933333</td>\n",
              "      <td>0.0</td>\n",
              "      <td>0.0</td>\n",
              "      <td>0.000000</td>\n",
              "      <td>0.00</td>\n",
              "      <td>0.0</td>\n",
              "      <td>0.0</td>\n",
              "      <td>0.00</td>\n",
              "      <td>0.0</td>\n",
              "      <td>0.000</td>\n",
              "      <td>1.000000</td>\n",
              "      <td>1.000</td>\n",
              "      <td>0.363636</td>\n",
              "      <td>1.0</td>\n",
              "      <td>0.931034</td>\n",
              "      <td>0.846154</td>\n",
              "    </tr>\n",
              "    <tr>\n",
              "      <th>49999</th>\n",
              "      <td>0.333333</td>\n",
              "      <td>1.0</td>\n",
              "      <td>0.733333</td>\n",
              "      <td>0.0</td>\n",
              "      <td>1.0</td>\n",
              "      <td>0.333333</td>\n",
              "      <td>0.25</td>\n",
              "      <td>1.0</td>\n",
              "      <td>0.0</td>\n",
              "      <td>0.00</td>\n",
              "      <td>0.0</td>\n",
              "      <td>0.125</td>\n",
              "      <td>0.000000</td>\n",
              "      <td>0.625</td>\n",
              "      <td>1.000000</td>\n",
              "      <td>1.0</td>\n",
              "      <td>0.931034</td>\n",
              "      <td>0.923077</td>\n",
              "    </tr>\n",
              "  </tbody>\n",
              "</table>\n",
              "<p>50000 rows × 18 columns</p>\n",
              "</div>"
            ],
            "text/plain": [
              "         Region  Residence_Type  Family_Composition  Population_Base  Sex  \\\n",
              "0      0.000000             1.0            0.933333              0.0  1.0   \n",
              "1      0.000000             1.0            0.733333              0.0  1.0   \n",
              "2      0.000000             1.0            0.733333              0.0  1.0   \n",
              "3      0.000000             1.0            0.733333              0.0  1.0   \n",
              "4      0.000000             1.0            0.933333              0.0  1.0   \n",
              "...         ...             ...                 ...              ...  ...   \n",
              "49995  0.333333             1.0            0.733333              0.0  1.0   \n",
              "49996  0.333333             1.0            0.733333              0.0  1.0   \n",
              "49997  0.333333             1.0            0.733333              0.0  1.0   \n",
              "49998  0.333333             1.0            0.933333              0.0  0.0   \n",
              "49999  0.333333             1.0            0.733333              0.0  1.0   \n",
              "\n",
              "            Age  Marital_Status  Student  Country_of_Birth  Health  \\\n",
              "0      0.500000            0.75      1.0               0.0    0.50   \n",
              "1      0.000000            0.00      0.0               0.0    0.00   \n",
              "2      0.500000            0.25      1.0               0.0    0.50   \n",
              "3      0.666667            0.25      1.0               0.0    0.00   \n",
              "4      0.666667            0.50      1.0               0.0    0.25   \n",
              "...         ...             ...      ...               ...     ...   \n",
              "49995  0.500000            0.25      1.0               0.0    0.50   \n",
              "49996  0.333333            0.25      1.0               0.0    0.25   \n",
              "49997  0.333333            0.25      1.0               0.0    0.00   \n",
              "49998  0.000000            0.00      0.0               0.0    0.00   \n",
              "49999  0.333333            0.25      1.0               0.0    0.00   \n",
              "\n",
              "       Ethnic_Group  Religion  Economic_Activity  Occupation  Industry  \\\n",
              "0               0.0     0.125           0.333333       0.750  0.545455   \n",
              "1               0.0     1.000           1.000000       0.750  0.272727   \n",
              "2               0.0     0.000           0.000000       1.000  0.727273   \n",
              "3               0.0     0.125           0.000000       1.000  0.909091   \n",
              "4               0.0     0.000           0.000000       1.000  0.818182   \n",
              "...             ...       ...                ...         ...       ...   \n",
              "49995           0.0     0.125           0.000000       0.375  0.181818   \n",
              "49996           0.0     0.125           0.000000       1.000  0.363636   \n",
              "49997           0.0     0.125           0.000000       0.375  0.636364   \n",
              "49998           0.0     0.000           1.000000       1.000  0.363636   \n",
              "49999           0.0     0.125           0.000000       0.625  1.000000   \n",
              "\n",
              "       Hours_worked_per_week  Hours_Number  Approximated_Social_Grade  \n",
              "0                        0.0      0.034483                   1.000000  \n",
              "1                        0.0      0.000000                   0.846154  \n",
              "2                        0.0      0.310345                   1.000000  \n",
              "3                        0.0      0.068966                   1.000000  \n",
              "4                        0.0      0.241379                   1.000000  \n",
              "...                      ...           ...                        ...  \n",
              "49995                    1.0      1.000000                   0.846154  \n",
              "49996                    1.0      0.931034                   1.000000  \n",
              "49997                    1.0      0.793103                   0.846154  \n",
              "49998                    1.0      0.931034                   0.846154  \n",
              "49999                    1.0      0.931034                   0.923077  \n",
              "\n",
              "[50000 rows x 18 columns]"
            ]
          },
          "execution_count": 186,
          "metadata": {},
          "output_type": "execute_result"
        }
      ],
      "source": [
        "scaler = MinMaxScaler()\n",
        "scaler.fit(dfq)\n",
        "scaled = pd.DataFrame(scaler.transform(dfq),columns=dfq.columns)\n",
        "scaled"
      ]
    },
    {
      "cell_type": "code",
      "execution_count": null,
      "id": "c55bceaa",
      "metadata": {
        "id": "c55bceaa"
      },
      "outputs": [],
      "source": [
        "del dict"
      ]
    },
    {
      "cell_type": "code",
      "execution_count": null,
      "id": "763f3e19",
      "metadata": {
        "id": "763f3e19",
        "outputId": "4e5a7ed0-9f52-46d1-fd9a-ed13ebe75816"
      },
      "outputs": [
        {
          "data": {
            "image/png": "[encoded data removed]",
            "text/plain": [
              "<Figure size 864x576 with 1 Axes>"
            ]
          },
          "metadata": {
            "needs_background": "light"
          },
          "output_type": "display_data"
        }
      ],
      "source": [
        "clusters = []\n",
        "\n",
        "for i in range(1, 11):\n",
        "    km = KMeans(n_clusters=i).fit(scaled)\n",
        "    clusters.append(km.inertia_)\n",
        "\n",
        "fig, ax = plt.subplots(figsize=(12, 8))\n",
        "sns.lineplot(x=list(range(1, 11)), y=clusters, ax=ax)\n",
        "ax.set_title('Searching for Elbow')\n",
        "ax.set_xlabel('Clusters')\n",
        "ax.set_ylabel('Inertia')\n",
        "\n",
        "# Annotate arrow\n",
        "ax.annotate('Possible Elbow Point', xy=(3, 140000), xytext=(3, 50000), xycoords='data',\n",
        "             arrowprops=dict(arrowstyle='->', connectionstyle='arc3', color='blue', lw=2))\n",
        "\n",
        "ax.annotate('Possible Elbow Point', xy=(5, 80000), xytext=(5, 150000), xycoords='data',\n",
        "             arrowprops=dict(arrowstyle='->', connectionstyle='arc3', color='blue', lw=2))\n",
        "\n",
        "plt.show()"
      ]
    },
    {
      "cell_type": "code",
      "execution_count": null,
      "id": "eafac9c0",
      "metadata": {
        "id": "eafac9c0",
        "outputId": "e64dd2fc-a992-4864-9308-39aa1294b51e"
      },
      "outputs": [
        {
          "name": "stdout",
          "output_type": "stream",
          "text": [
            "[2 1 2 ... 0 1 0]\n"
          ]
        }
      ],
      "source": [
        "clusterNum = 4\n",
        "k_means = KMeans(init = \"k-means++\", n_clusters = clusterNum, n_init = 12)\n",
        "k_means.fit(scaled)\n",
        "labels = k_means.labels_\n",
        "print(labels)"
      ]
    },
    {
      "cell_type": "code",
      "execution_count": null,
      "id": "bd3d35ec",
      "metadata": {
        "id": "bd3d35ec",
        "outputId": "54b33a5a-2fe4-4d13-800f-a5f08fc8d1af"
      },
      "outputs": [
        {
          "data": {
            "text/plain": [
              "array([[ 5.38367890e-01,  1.00000000e+00,  7.70687944e-01,\n",
              "         9.55217171e-04,  1.00000000e+00,  3.99215224e-01,\n",
              "         2.82645952e-01,  9.99494297e-01,  8.55200315e-02,\n",
              "         1.69789852e-01,  2.77293926e-02,  1.60511603e-01,\n",
              "         3.34887902e-02,  5.15627634e-01,  6.30494414e-01,\n",
              "         1.00000000e+00,  7.58779570e-01,  9.04318360e-01],\n",
              "       [ 5.31981019e-01,  9.39828080e-01,  7.13812708e-01,\n",
              "         5.45777050e-03,  5.82207668e-01,  2.97903306e-02,\n",
              "         1.79424205e-02, -1.70974346e-14,  1.44358030e-01,\n",
              "         8.24464456e-02,  9.25433211e-02,  1.82272479e-01,\n",
              "         1.00000000e+00,  7.35860963e-01,  4.61615748e-01,\n",
              "         1.17887843e-01,  3.03056822e-01,  7.91660107e-01],\n",
              "       [ 5.41877336e-01,  9.97362058e-01,  7.50968467e-01,\n",
              "         1.24569502e-03,  1.00000000e+00,  4.52736865e-01,\n",
              "         2.81893456e-01,  1.00000000e+00,  1.39664395e-01,\n",
              "         1.86432916e-01,  5.63127427e-02,  1.87953396e-01,\n",
              "         6.10146308e-02,  5.65518063e-01,  6.27264067e-01,\n",
              "         6.49480469e-15,  2.41460167e-01,  9.10067583e-01],\n",
              "       [ 5.39542571e-01,  9.95368309e-01,  7.42044476e-01,\n",
              "         2.22677474e-03,  4.21884749e-15,  4.43291470e-01,\n",
              "         2.20205754e-01,  1.00000000e+00,  1.58368219e-01,\n",
              "         2.02547430e-01,  8.09432618e-02,  2.03616282e-01,\n",
              "         1.08725988e-01,  5.38712479e-01,  4.91623278e-01,\n",
              "         4.95501915e-01,  4.96877908e-01,  9.06824893e-01]])"
            ]
          },
          "execution_count": 190,
          "metadata": {},
          "output_type": "execute_result"
        }
      ],
      "source": [
        "k_means.cluster_centers_"
      ]
    },
    {
      "cell_type": "code",
      "execution_count": null,
      "id": "a3798609",
      "metadata": {
        "id": "a3798609",
        "outputId": "6179043d-021b-487c-cdec-4174506da96e"
      },
      "outputs": [
        {
          "data": {
            "text/plain": [
              "Index(['Region', 'Residence_Type', 'Family_Composition', 'Population_Base',\n",
              "       'Sex', 'Age', 'Marital_Status', 'Student', 'Country_of_Birth', 'Health',\n",
              "       'Ethnic_Group', 'Religion', 'Economic_Activity', 'Occupation',\n",
              "       'Industry', 'Hours_worked_per_week', 'Hours_Number',\n",
              "       'Approximated_Social_Grade'],\n",
              "      dtype='object')"
            ]
          },
          "execution_count": 191,
          "metadata": {},
          "output_type": "execute_result"
        }
      ],
      "source": [
        "scaled.columns"
      ]
    },
    {
      "cell_type": "code",
      "execution_count": null,
      "id": "3fe7a693",
      "metadata": {
        "id": "3fe7a693"
      },
      "outputs": [],
      "source": [
        "import random\n",
        "\n",
        "fixed_random_state = random.seed(42)\n",
        "\n",
        "inertia_1 = []\n",
        "range_clusters_1 = np.arange(2, 10, dtype=int)\n",
        "\n",
        "for n in range_clusters_1:\n",
        "    kmeans_1 = KMeans(n_clusters=n, random_state=fixed_random_state).fit(scaled)\n",
        "    inertia_1.append(kmeans_1.inertia_)"
      ]
    },
    {
      "cell_type": "code",
      "execution_count": null,
      "id": "a8b12202",
      "metadata": {
        "id": "a8b12202"
      },
      "outputs": [],
      "source": [
        "sns.set_style('whitegrid')"
      ]
    },
    {
      "cell_type": "code",
      "execution_count": null,
      "id": "b96114ec",
      "metadata": {
        "id": "b96114ec",
        "outputId": "47170641-d1c8-4959-d479-4762baad8764"
      },
      "outputs": [
        {
          "data": {
            "image/png": "[encoded data removed]",
            "text/plain": [
              "<Figure size 576x360 with 1 Axes>"
            ]
          },
          "metadata": {},
          "output_type": "display_data"
        }
      ],
      "source": [
        "fig, axs = plt.subplots(figsize=(8,5))\n",
        "sns.lineplot(x=range_clusters_1, y=inertia_1)\n",
        "plt.title('Elbow Plot')\n",
        "plt.xlabel('Clusters')\n",
        "plt.ylabel('Inertia')\n",
        "plt.show()"
      ]
    },
    {
      "cell_type": "code",
      "execution_count": null,
      "id": "bca5cf6c",
      "metadata": {
        "id": "bca5cf6c",
        "outputId": "8a88d0ad-a7be-480b-e084-39381cb678b3"
      },
      "outputs": [
        {
          "name": "stdout",
          "output_type": "stream",
          "text": [
            "[2 1 2 ... 0 1 0]\n"
          ]
        }
      ],
      "source": [
        "clusterNum = 3\n",
        "k_means = KMeans(init = \"k-means++\", n_clusters = clusterNum, n_init = 12)\n",
        "k_means.fit(scaled)\n",
        "labels = k_means.labels_\n",
        "print(labels)"
      ]
    },
    {
      "cell_type": "code",
      "execution_count": null,
      "id": "7b490a4b",
      "metadata": {
        "id": "7b490a4b",
        "outputId": "876b2f62-27d7-4fac-c86e-84b3fe03757a"
      },
      "outputs": [
        {
          "data": {
            "image/png": "[encoded data removed]",
            "text/plain": [
              "<Figure size 432x288 with 1 Axes>"
            ]
          },
          "metadata": {},
          "output_type": "display_data"
        }
      ],
      "source": [
        "plt.scatter(scaled.iloc[:,0], scaled.iloc[:,1], c=labels)\n",
        "centers = k_means.cluster_centers_\n",
        "labels = k_means.labels_\n",
        "plt.scatter(centers[:,0], centers[:,1], c='green', marker='*',alpha=0.5)\n",
        "\n",
        "plt.show()"
      ]
    },
    {
      "cell_type": "code",
      "execution_count": null,
      "id": "e45d0b2f",
      "metadata": {
        "id": "e45d0b2f",
        "outputId": "d6ae2c51-dfea-43ec-a45a-c5f805fcdacf"
      },
      "outputs": [
        {
          "name": "stderr",
          "output_type": "stream",
          "text": [
            "C:\\ProgramData\\Anaconda3\\lib\\site-packages\\seaborn\\_decorators.py:36: FutureWarning: Pass the following variables as keyword args: x, y. From version 0.12, the only valid positional argument will be `data`, and passing other arguments without an explicit keyword will result in an error or misinterpretation.\n",
            "  warnings.warn(\n"
          ]
        },
        {
          "data": {
            "image/png": "[encoded data removed]",
            "text/plain": [
              "<Figure size 864x576 with 1 Axes>"
            ]
          },
          "metadata": {},
          "output_type": "display_data"
        }
      ],
      "source": [
        "# Let's see with 3 Clusters\n",
        "km5 = KMeans(n_clusters=3).fit(scaled)\n",
        "\n",
        "scaled['Labels'] = km5.labels_\n",
        "plt.figure(figsize=(12, 8))\n",
        "sns.scatterplot(scaled['Approximated_Social_Grade'], scaled['Occupation'],hue=scaled['Labels'],\n",
        "                palette=sns.color_palette('hls',3))\n",
        "plt.title('KMeans with 3 Clusters')\n",
        "\n",
        "plt.show()"
      ]
    },
    {
      "cell_type": "code",
      "execution_count": null,
      "id": "9d6f4e2f",
      "metadata": {
        "id": "9d6f4e2f",
        "outputId": "5c173b38-2817-4484-d755-c5802b10600f"
      },
      "outputs": [
        {
          "data": {
            "text/plain": [
              "0    23358\n",
              "2    19311\n",
              "1     7331\n",
              "Name: cluster, dtype: int64"
            ]
          },
          "execution_count": 198,
          "metadata": {},
          "output_type": "execute_result"
        }
      ],
      "source": [
        "frame = pd.DataFrame(scaled)\n",
        "frame['cluster'] = labels\n",
        "frame['cluster'].value_counts()"
      ]
    },
    {
      "cell_type": "code",
      "execution_count": null,
      "id": "641474c6",
      "metadata": {
        "id": "641474c6",
        "outputId": "cd984161-5fe4-4ed6-8a23-9ce4547b315e"
      },
      "outputs": [
        {
          "data": {
            "text/plain": [
              "array([[ 5.38040738e-01,  1.00000000e+00,  7.65119731e-01,\n",
              "         1.24154465e-03,  7.61837486e-01,  4.05378600e-01,\n",
              "         2.68195051e-01,  9.99700317e-01,  9.88526415e-02,\n",
              "         1.76973628e-01,  3.62616662e-02,  1.68250706e-01,\n",
              "         5.05037532e-02,  5.29026458e-01,  5.94481937e-01,\n",
              "         1.00000000e+00,  7.58780127e-01,  9.08352928e-01],\n",
              "       [ 5.32032920e-01,  9.39844496e-01,  7.13872596e-01,\n",
              "         5.45628154e-03,  5.82321648e-01,  2.99186105e-02,\n",
              "         1.81421361e-02, -1.73194792e-14,  1.44318647e-01,\n",
              "         8.24239531e-02,  9.25180739e-02,  1.82239804e-01,\n",
              "         1.00000000e+00,  7.35830719e-01,  4.61737826e-01,\n",
              "         1.18128495e-01,  3.03214032e-01,  7.91674974e-01],\n",
              "       [ 5.41907606e-01,  9.95443012e-01,  7.46817876e-01,\n",
              "         1.55351872e-03,  7.06695666e-01,  4.55198246e-01,\n",
              "         2.63243747e-01,  1.00000000e+00,  1.50018124e-01,\n",
              "         1.91924292e-01,  6.85490135e-02,  1.95613899e-01,\n",
              "         7.60015880e-02,  5.48087877e-01,  5.91005597e-01,\n",
              "        -1.60982339e-14,  2.40915040e-01,  9.04964488e-01]])"
            ]
          },
          "execution_count": 199,
          "metadata": {},
          "output_type": "execute_result"
        }
      ],
      "source": [
        "k_means.cluster_centers_"
      ]
    },
    {
      "cell_type": "code",
      "execution_count": null,
      "id": "a4ef02cc",
      "metadata": {
        "id": "a4ef02cc",
        "outputId": "0902b491-c846-412c-8712-31d50db46729"
      },
      "outputs": [
        {
          "data": {
            "text/plain": [
              "<matplotlib.legend.Legend at 0x2add9c0e970>"
            ]
          },
          "execution_count": 200,
          "metadata": {},
          "output_type": "execute_result"
        },
        {
          "data": {
            "image/png": "[encoded data removed]",
            "text/plain": [
              "<Figure size 432x288 with 1 Axes>"
            ]
          },
          "metadata": {},
          "output_type": "display_data"
        }
      ],
      "source": [
        "dfd = scaled[scaled.cluster==0]\n",
        "dfe = scaled[scaled.cluster==1]\n",
        "dfg = scaled[scaled.cluster==2]\n",
        "\n",
        "plt.scatter(dfd.Approximated_Social_Grade,dfd.Occupation,color='yellow')\n",
        "plt.scatter(dfe.Approximated_Social_Grade,dfe.Occupation,color='red')\n",
        "plt.scatter(dfg.Approximated_Social_Grade,dfg.Occupation,color='green')\n",
        "\n",
        "plt.scatter(k_means.cluster_centers_[:,0],k_means.cluster_centers_[:,1],color='purple',marker='*',label='centroid')\n",
        "plt.legend()"
      ]
    },
    {
      "cell_type": "code",
      "execution_count": null,
      "id": "c3c4363b",
      "metadata": {
        "id": "c3c4363b",
        "outputId": "eb18d585-03d0-4990-9eb8-f5a9789d8316"
      },
      "outputs": [
        {
          "name": "stderr",
          "output_type": "stream",
          "text": [
            "C:\\Users\\UP2131~1\\AppData\\Local\\Temp/ipykernel_3032/3240635937.py:1: SettingWithCopyWarning: \n",
            "A value is trying to be set on a copy of a slice from a DataFrame.\n",
            "Try using .loc[row_indexer,col_indexer] = value instead\n",
            "\n",
            "See the caveats in the documentation: https://pandas.pydata.org/pandas-docs/stable/user_guide/indexing.html#returning-a-view-versus-a-copy\n",
            "  dfp[\"Cluster\"] = labels\n"
          ]
        },
        {
          "data": {
            "text/html": [
              "<div>\n",
              "<style scoped>\n",
              "    .dataframe tbody tr th:only-of-type {\n",
              "        vertical-align: middle;\n",
              "    }\n",
              "\n",
              "    .dataframe tbody tr th {\n",
              "        vertical-align: top;\n",
              "    }\n",
              "\n",
              "    .dataframe thead th {\n",
              "        text-align: right;\n",
              "    }\n",
              "</style>\n",
              "<table border=\"1\" class=\"dataframe\">\n",
              "  <thead>\n",
              "    <tr style=\"text-align: right;\">\n",
              "      <th></th>\n",
              "      <th>Person_ID</th>\n",
              "      <th>Region</th>\n",
              "      <th>Residence_Type</th>\n",
              "      <th>Family_Composition</th>\n",
              "      <th>Population_Base</th>\n",
              "      <th>Sex</th>\n",
              "      <th>Age</th>\n",
              "      <th>Marital_Status</th>\n",
              "      <th>Student</th>\n",
              "      <th>Country_of_Birth</th>\n",
              "      <th>Health</th>\n",
              "      <th>Ethnic_Group</th>\n",
              "      <th>Religion</th>\n",
              "      <th>Economic_Activity</th>\n",
              "      <th>Occupation</th>\n",
              "      <th>Industry</th>\n",
              "      <th>Hours_worked_per_week</th>\n",
              "      <th>Hours_Number</th>\n",
              "      <th>Approximated_Social_Grade</th>\n",
              "      <th>Cluster</th>\n",
              "    </tr>\n",
              "  </thead>\n",
              "  <tbody>\n",
              "    <tr>\n",
              "      <th>302321</th>\n",
              "      <td>7394645</td>\n",
              "      <td>0</td>\n",
              "      <td>1</td>\n",
              "      <td>5</td>\n",
              "      <td>1</td>\n",
              "      <td>2</td>\n",
              "      <td>5</td>\n",
              "      <td>4</td>\n",
              "      <td>2</td>\n",
              "      <td>1</td>\n",
              "      <td>3</td>\n",
              "      <td>1</td>\n",
              "      <td>2</td>\n",
              "      <td>2</td>\n",
              "      <td>7</td>\n",
              "      <td>7</td>\n",
              "      <td>1</td>\n",
              "      <td>2</td>\n",
              "      <td>4</td>\n",
              "      <td>2</td>\n",
              "    </tr>\n",
              "    <tr>\n",
              "      <th>302322</th>\n",
              "      <td>7394688</td>\n",
              "      <td>0</td>\n",
              "      <td>1</td>\n",
              "      <td>2</td>\n",
              "      <td>1</td>\n",
              "      <td>2</td>\n",
              "      <td>2</td>\n",
              "      <td>1</td>\n",
              "      <td>1</td>\n",
              "      <td>1</td>\n",
              "      <td>1</td>\n",
              "      <td>1</td>\n",
              "      <td>9</td>\n",
              "      <td>4</td>\n",
              "      <td>7</td>\n",
              "      <td>4</td>\n",
              "      <td>1</td>\n",
              "      <td>1</td>\n",
              "      <td>2</td>\n",
              "      <td>1</td>\n",
              "    </tr>\n",
              "    <tr>\n",
              "      <th>302323</th>\n",
              "      <td>7394756</td>\n",
              "      <td>0</td>\n",
              "      <td>1</td>\n",
              "      <td>2</td>\n",
              "      <td>1</td>\n",
              "      <td>2</td>\n",
              "      <td>5</td>\n",
              "      <td>2</td>\n",
              "      <td>2</td>\n",
              "      <td>1</td>\n",
              "      <td>3</td>\n",
              "      <td>1</td>\n",
              "      <td>1</td>\n",
              "      <td>1</td>\n",
              "      <td>9</td>\n",
              "      <td>9</td>\n",
              "      <td>1</td>\n",
              "      <td>10</td>\n",
              "      <td>4</td>\n",
              "      <td>2</td>\n",
              "    </tr>\n",
              "    <tr>\n",
              "      <th>302324</th>\n",
              "      <td>7394737</td>\n",
              "      <td>0</td>\n",
              "      <td>1</td>\n",
              "      <td>2</td>\n",
              "      <td>1</td>\n",
              "      <td>2</td>\n",
              "      <td>6</td>\n",
              "      <td>2</td>\n",
              "      <td>2</td>\n",
              "      <td>1</td>\n",
              "      <td>1</td>\n",
              "      <td>1</td>\n",
              "      <td>2</td>\n",
              "      <td>1</td>\n",
              "      <td>9</td>\n",
              "      <td>11</td>\n",
              "      <td>1</td>\n",
              "      <td>3</td>\n",
              "      <td>4</td>\n",
              "      <td>2</td>\n",
              "    </tr>\n",
              "    <tr>\n",
              "      <th>302325</th>\n",
              "      <td>7394536</td>\n",
              "      <td>0</td>\n",
              "      <td>1</td>\n",
              "      <td>5</td>\n",
              "      <td>1</td>\n",
              "      <td>2</td>\n",
              "      <td>6</td>\n",
              "      <td>3</td>\n",
              "      <td>2</td>\n",
              "      <td>1</td>\n",
              "      <td>2</td>\n",
              "      <td>1</td>\n",
              "      <td>1</td>\n",
              "      <td>1</td>\n",
              "      <td>9</td>\n",
              "      <td>10</td>\n",
              "      <td>1</td>\n",
              "      <td>8</td>\n",
              "      <td>4</td>\n",
              "      <td>2</td>\n",
              "    </tr>\n",
              "  </tbody>\n",
              "</table>\n",
              "</div>"
            ],
            "text/plain": [
              "        Person_ID  Region  Residence_Type  Family_Composition  \\\n",
              "302321    7394645       0               1                   5   \n",
              "302322    7394688       0               1                   2   \n",
              "302323    7394756       0               1                   2   \n",
              "302324    7394737       0               1                   2   \n",
              "302325    7394536       0               1                   5   \n",
              "\n",
              "        Population_Base  Sex  Age  Marital_Status  Student  Country_of_Birth  \\\n",
              "302321                1    2    5               4        2                 1   \n",
              "302322                1    2    2               1        1                 1   \n",
              "302323                1    2    5               2        2                 1   \n",
              "302324                1    2    6               2        2                 1   \n",
              "302325                1    2    6               3        2                 1   \n",
              "\n",
              "        Health  Ethnic_Group  Religion  Economic_Activity  Occupation  \\\n",
              "302321       3             1         2                  2           7   \n",
              "302322       1             1         9                  4           7   \n",
              "302323       3             1         1                  1           9   \n",
              "302324       1             1         2                  1           9   \n",
              "302325       2             1         1                  1           9   \n",
              "\n",
              "        Industry  Hours_worked_per_week  Hours_Number  \\\n",
              "302321         7                      1             2   \n",
              "302322         4                      1             1   \n",
              "302323         9                      1            10   \n",
              "302324        11                      1             3   \n",
              "302325        10                      1             8   \n",
              "\n",
              "        Approximated_Social_Grade  Cluster  \n",
              "302321                          4        2  \n",
              "302322                          2        1  \n",
              "302323                          4        2  \n",
              "302324                          4        2  \n",
              "302325                          4        2  "
            ]
          },
          "execution_count": 201,
          "metadata": {},
          "output_type": "execute_result"
        }
      ],
      "source": [
        "dfp[\"Cluster\"] = labels\n",
        "dfp.head()"
      ]
    },
    {
      "cell_type": "code",
      "execution_count": null,
      "id": "a3b6d63b",
      "metadata": {
        "id": "a3b6d63b",
        "outputId": "0d57ab70-6a51-43bd-d92e-9135775ce3c5"
      },
      "outputs": [
        {
          "data": {
            "text/html": [
              "<div>\n",
              "<style scoped>\n",
              "    .dataframe tbody tr th:only-of-type {\n",
              "        vertical-align: middle;\n",
              "    }\n",
              "\n",
              "    .dataframe tbody tr th {\n",
              "        vertical-align: top;\n",
              "    }\n",
              "\n",
              "    .dataframe thead th {\n",
              "        text-align: right;\n",
              "    }\n",
              "</style>\n",
              "<table border=\"1\" class=\"dataframe\">\n",
              "  <thead>\n",
              "    <tr style=\"text-align: right;\">\n",
              "      <th></th>\n",
              "      <th>Person_ID</th>\n",
              "      <th>Region</th>\n",
              "      <th>Residence_Type</th>\n",
              "      <th>Family_Composition</th>\n",
              "      <th>Population_Base</th>\n",
              "      <th>Sex</th>\n",
              "      <th>Age</th>\n",
              "      <th>Marital_Status</th>\n",
              "      <th>Student</th>\n",
              "      <th>Country_of_Birth</th>\n",
              "      <th>Health</th>\n",
              "      <th>Ethnic_Group</th>\n",
              "      <th>Religion</th>\n",
              "      <th>Economic_Activity</th>\n",
              "      <th>Occupation</th>\n",
              "      <th>Industry</th>\n",
              "      <th>Hours_worked_per_week</th>\n",
              "      <th>Hours_Number</th>\n",
              "      <th>Approximated_Social_Grade</th>\n",
              "    </tr>\n",
              "    <tr>\n",
              "      <th>Cluster</th>\n",
              "      <th></th>\n",
              "      <th></th>\n",
              "      <th></th>\n",
              "      <th></th>\n",
              "      <th></th>\n",
              "      <th></th>\n",
              "      <th></th>\n",
              "      <th></th>\n",
              "      <th></th>\n",
              "      <th></th>\n",
              "      <th></th>\n",
              "      <th></th>\n",
              "      <th></th>\n",
              "      <th></th>\n",
              "      <th></th>\n",
              "      <th></th>\n",
              "      <th></th>\n",
              "      <th></th>\n",
              "      <th></th>\n",
              "    </tr>\n",
              "  </thead>\n",
              "  <tbody>\n",
              "    <tr>\n",
              "      <th>0</th>\n",
              "      <td>7.524028e+06</td>\n",
              "      <td>4.842367</td>\n",
              "      <td>1.000000</td>\n",
              "      <td>2.476796</td>\n",
              "      <td>1.002483</td>\n",
              "      <td>1.761837</td>\n",
              "      <td>4.432272</td>\n",
              "      <td>2.072780</td>\n",
              "      <td>1.9997</td>\n",
              "      <td>1.098853</td>\n",
              "      <td>1.707895</td>\n",
              "      <td>1.145047</td>\n",
              "      <td>2.346006</td>\n",
              "      <td>1.151511</td>\n",
              "      <td>5.232212</td>\n",
              "      <td>7.539301</td>\n",
              "      <td>2.000000</td>\n",
              "      <td>23.004624</td>\n",
              "      <td>2.808588</td>\n",
              "    </tr>\n",
              "    <tr>\n",
              "      <th>1</th>\n",
              "      <td>7.653701e+06</td>\n",
              "      <td>4.788296</td>\n",
              "      <td>0.939844</td>\n",
              "      <td>1.708089</td>\n",
              "      <td>1.010913</td>\n",
              "      <td>1.582322</td>\n",
              "      <td>2.179512</td>\n",
              "      <td>1.072569</td>\n",
              "      <td>1.0000</td>\n",
              "      <td>1.144319</td>\n",
              "      <td>1.329696</td>\n",
              "      <td>1.370072</td>\n",
              "      <td>2.457918</td>\n",
              "      <td>4.000000</td>\n",
              "      <td>6.886646</td>\n",
              "      <td>6.079116</td>\n",
              "      <td>1.118128</td>\n",
              "      <td>9.793207</td>\n",
              "      <td>1.291775</td>\n",
              "    </tr>\n",
              "    <tr>\n",
              "      <th>2</th>\n",
              "      <td>7.670404e+06</td>\n",
              "      <td>4.877168</td>\n",
              "      <td>0.995443</td>\n",
              "      <td>2.202268</td>\n",
              "      <td>1.003107</td>\n",
              "      <td>1.706696</td>\n",
              "      <td>4.731189</td>\n",
              "      <td>2.052975</td>\n",
              "      <td>2.0000</td>\n",
              "      <td>1.150018</td>\n",
              "      <td>1.767697</td>\n",
              "      <td>1.274196</td>\n",
              "      <td>2.564911</td>\n",
              "      <td>1.228005</td>\n",
              "      <td>5.384703</td>\n",
              "      <td>7.501062</td>\n",
              "      <td>1.000000</td>\n",
              "      <td>7.986536</td>\n",
              "      <td>2.764538</td>\n",
              "    </tr>\n",
              "  </tbody>\n",
              "</table>\n",
              "</div>"
            ],
            "text/plain": [
              "            Person_ID    Region  Residence_Type  Family_Composition  \\\n",
              "Cluster                                                               \n",
              "0        7.524028e+06  4.842367        1.000000            2.476796   \n",
              "1        7.653701e+06  4.788296        0.939844            1.708089   \n",
              "2        7.670404e+06  4.877168        0.995443            2.202268   \n",
              "\n",
              "         Population_Base       Sex       Age  Marital_Status  Student  \\\n",
              "Cluster                                                                 \n",
              "0               1.002483  1.761837  4.432272        2.072780   1.9997   \n",
              "1               1.010913  1.582322  2.179512        1.072569   1.0000   \n",
              "2               1.003107  1.706696  4.731189        2.052975   2.0000   \n",
              "\n",
              "         Country_of_Birth    Health  Ethnic_Group  Religion  \\\n",
              "Cluster                                                       \n",
              "0                1.098853  1.707895      1.145047  2.346006   \n",
              "1                1.144319  1.329696      1.370072  2.457918   \n",
              "2                1.150018  1.767697      1.274196  2.564911   \n",
              "\n",
              "         Economic_Activity  Occupation  Industry  Hours_worked_per_week  \\\n",
              "Cluster                                                                   \n",
              "0                 1.151511    5.232212  7.539301               2.000000   \n",
              "1                 4.000000    6.886646  6.079116               1.118128   \n",
              "2                 1.228005    5.384703  7.501062               1.000000   \n",
              "\n",
              "         Hours_Number  Approximated_Social_Grade  \n",
              "Cluster                                           \n",
              "0           23.004624                   2.808588  \n",
              "1            9.793207                   1.291775  \n",
              "2            7.986536                   2.764538  "
            ]
          },
          "execution_count": 202,
          "metadata": {},
          "output_type": "execute_result"
        }
      ],
      "source": [
        "dfp.groupby('Cluster').mean()"
      ]
    },
    {
      "cell_type": "code",
      "execution_count": null,
      "id": "2dd0ec23",
      "metadata": {
        "id": "2dd0ec23",
        "outputId": "3ff640e8-ddce-4195-9919-0bfe895cd95d"
      },
      "outputs": [
        {
          "data": {
            "text/html": [
              "<div>\n",
              "<style scoped>\n",
              "    .dataframe tbody tr th:only-of-type {\n",
              "        vertical-align: middle;\n",
              "    }\n",
              "\n",
              "    .dataframe tbody tr th {\n",
              "        vertical-align: top;\n",
              "    }\n",
              "\n",
              "    .dataframe thead th {\n",
              "        text-align: right;\n",
              "    }\n",
              "</style>\n",
              "<table border=\"1\" class=\"dataframe\">\n",
              "  <thead>\n",
              "    <tr style=\"text-align: right;\">\n",
              "      <th></th>\n",
              "      <th>Person_ID</th>\n",
              "      <th>Region</th>\n",
              "      <th>Residence_Type</th>\n",
              "      <th>Family_Composition</th>\n",
              "      <th>Population_Base</th>\n",
              "      <th>Sex</th>\n",
              "      <th>Age</th>\n",
              "      <th>Marital_Status</th>\n",
              "      <th>Student</th>\n",
              "      <th>Country_of_Birth</th>\n",
              "      <th>Health</th>\n",
              "      <th>Ethnic_Group</th>\n",
              "      <th>Religion</th>\n",
              "      <th>Economic_Activity</th>\n",
              "      <th>Occupation</th>\n",
              "      <th>Industry</th>\n",
              "      <th>Hours_worked_per_week</th>\n",
              "      <th>Hours_Number</th>\n",
              "      <th>Approximated_Social_Grade</th>\n",
              "    </tr>\n",
              "    <tr>\n",
              "      <th>Cluster</th>\n",
              "      <th></th>\n",
              "      <th></th>\n",
              "      <th></th>\n",
              "      <th></th>\n",
              "      <th></th>\n",
              "      <th></th>\n",
              "      <th></th>\n",
              "      <th></th>\n",
              "      <th></th>\n",
              "      <th></th>\n",
              "      <th></th>\n",
              "      <th></th>\n",
              "      <th></th>\n",
              "      <th></th>\n",
              "      <th></th>\n",
              "      <th></th>\n",
              "      <th></th>\n",
              "      <th></th>\n",
              "      <th></th>\n",
              "    </tr>\n",
              "  </thead>\n",
              "  <tbody>\n",
              "    <tr>\n",
              "      <th>0</th>\n",
              "      <td>23358</td>\n",
              "      <td>23358</td>\n",
              "      <td>23358</td>\n",
              "      <td>23358</td>\n",
              "      <td>23358</td>\n",
              "      <td>23358</td>\n",
              "      <td>23358</td>\n",
              "      <td>23358</td>\n",
              "      <td>23358</td>\n",
              "      <td>23358</td>\n",
              "      <td>23358</td>\n",
              "      <td>23358</td>\n",
              "      <td>23358</td>\n",
              "      <td>23358</td>\n",
              "      <td>23358</td>\n",
              "      <td>23358</td>\n",
              "      <td>23358</td>\n",
              "      <td>23358</td>\n",
              "      <td>23358</td>\n",
              "    </tr>\n",
              "    <tr>\n",
              "      <th>1</th>\n",
              "      <td>7331</td>\n",
              "      <td>7331</td>\n",
              "      <td>7331</td>\n",
              "      <td>7331</td>\n",
              "      <td>7331</td>\n",
              "      <td>7331</td>\n",
              "      <td>7331</td>\n",
              "      <td>7331</td>\n",
              "      <td>7331</td>\n",
              "      <td>7331</td>\n",
              "      <td>7331</td>\n",
              "      <td>7331</td>\n",
              "      <td>7331</td>\n",
              "      <td>7331</td>\n",
              "      <td>7331</td>\n",
              "      <td>7331</td>\n",
              "      <td>7331</td>\n",
              "      <td>7331</td>\n",
              "      <td>7331</td>\n",
              "    </tr>\n",
              "    <tr>\n",
              "      <th>2</th>\n",
              "      <td>19311</td>\n",
              "      <td>19311</td>\n",
              "      <td>19311</td>\n",
              "      <td>19311</td>\n",
              "      <td>19311</td>\n",
              "      <td>19311</td>\n",
              "      <td>19311</td>\n",
              "      <td>19311</td>\n",
              "      <td>19311</td>\n",
              "      <td>19311</td>\n",
              "      <td>19311</td>\n",
              "      <td>19311</td>\n",
              "      <td>19311</td>\n",
              "      <td>19311</td>\n",
              "      <td>19311</td>\n",
              "      <td>19311</td>\n",
              "      <td>19311</td>\n",
              "      <td>19311</td>\n",
              "      <td>19311</td>\n",
              "    </tr>\n",
              "  </tbody>\n",
              "</table>\n",
              "</div>"
            ],
            "text/plain": [
              "         Person_ID  Region  Residence_Type  Family_Composition  \\\n",
              "Cluster                                                          \n",
              "0            23358   23358           23358               23358   \n",
              "1             7331    7331            7331                7331   \n",
              "2            19311   19311           19311               19311   \n",
              "\n",
              "         Population_Base    Sex    Age  Marital_Status  Student  \\\n",
              "Cluster                                                           \n",
              "0                  23358  23358  23358           23358    23358   \n",
              "1                   7331   7331   7331            7331     7331   \n",
              "2                  19311  19311  19311           19311    19311   \n",
              "\n",
              "         Country_of_Birth  Health  Ethnic_Group  Religion  Economic_Activity  \\\n",
              "Cluster                                                                        \n",
              "0                   23358   23358         23358     23358              23358   \n",
              "1                    7331    7331          7331      7331               7331   \n",
              "2                   19311   19311         19311     19311              19311   \n",
              "\n",
              "         Occupation  Industry  Hours_worked_per_week  Hours_Number  \\\n",
              "Cluster                                                              \n",
              "0             23358     23358                  23358         23358   \n",
              "1              7331      7331                   7331          7331   \n",
              "2             19311     19311                  19311         19311   \n",
              "\n",
              "         Approximated_Social_Grade  \n",
              "Cluster                             \n",
              "0                            23358  \n",
              "1                             7331  \n",
              "2                            19311  "
            ]
          },
          "execution_count": 203,
          "metadata": {},
          "output_type": "execute_result"
        }
      ],
      "source": [
        "dfp.groupby('Cluster').count()"
      ]
    },
    {
      "cell_type": "code",
      "execution_count": null,
      "id": "a5ff78f3",
      "metadata": {
        "id": "a5ff78f3"
      },
      "outputs": [],
      "source": [
        "# Import PCA\n",
        "from sklearn.decomposition import PCA"
      ]
    },
    {
      "cell_type": "code",
      "execution_count": null,
      "id": "0febb77a",
      "metadata": {
        "id": "0febb77a"
      },
      "outputs": [],
      "source": [
        "pca = PCA(n_components=10, random_state=fixed_random_state).fit(scaled)\n",
        "\n",
        "princ_comps = np.arange(pca.n_components_, dtype=int) + 1"
      ]
    },
    {
      "cell_type": "code",
      "execution_count": null,
      "id": "232777c6",
      "metadata": {
        "id": "232777c6",
        "outputId": "18396db6-e0a0-4d6f-e969-1696d7584bb1"
      },
      "outputs": [
        {
          "data": {
            "image/png": "[encoded data removed]",
            "text/plain": [
              "<Figure size 576x432 with 1 Axes>"
            ]
          },
          "metadata": {},
          "output_type": "display_data"
        }
      ],
      "source": [
        "plt.figure(figsize=(8,6))\n",
        "sns.lineplot(x=princ_comps, y=pca.explained_variance_ratio_)\n",
        "plt.title('Line Chart')\n",
        "plt.xlabel('Main Component')\n",
        "plt.ylabel('Explained variance')\n",
        "plt.ylim(bottom=0)\n",
        "plt.show()"
      ]
    },
    {
      "cell_type": "code",
      "execution_count": null,
      "id": "3f4b5eb5",
      "metadata": {
        "id": "3f4b5eb5",
        "outputId": "b32097c9-610c-499b-9f18-9b0cac158174"
      },
      "outputs": [
        {
          "data": {
            "text/html": [
              "<div>\n",
              "<style scoped>\n",
              "    .dataframe tbody tr th:only-of-type {\n",
              "        vertical-align: middle;\n",
              "    }\n",
              "\n",
              "    .dataframe tbody tr th {\n",
              "        vertical-align: top;\n",
              "    }\n",
              "\n",
              "    .dataframe thead th {\n",
              "        text-align: right;\n",
              "    }\n",
              "</style>\n",
              "<table border=\"1\" class=\"dataframe\">\n",
              "  <thead>\n",
              "    <tr style=\"text-align: right;\">\n",
              "      <th></th>\n",
              "      <th>pc1</th>\n",
              "      <th>pc2</th>\n",
              "      <th>pc3</th>\n",
              "    </tr>\n",
              "  </thead>\n",
              "  <tbody>\n",
              "    <tr>\n",
              "      <th>0</th>\n",
              "      <td>-1.176317</td>\n",
              "      <td>-0.578845</td>\n",
              "      <td>-0.283752</td>\n",
              "    </tr>\n",
              "    <tr>\n",
              "      <th>1</th>\n",
              "      <td>-1.254566</td>\n",
              "      <td>1.426205</td>\n",
              "      <td>-0.481618</td>\n",
              "    </tr>\n",
              "    <tr>\n",
              "      <th>2</th>\n",
              "      <td>-1.101010</td>\n",
              "      <td>-0.629671</td>\n",
              "      <td>-0.289777</td>\n",
              "    </tr>\n",
              "    <tr>\n",
              "      <th>3</th>\n",
              "      <td>-1.147984</td>\n",
              "      <td>-0.664489</td>\n",
              "      <td>-0.322608</td>\n",
              "    </tr>\n",
              "    <tr>\n",
              "      <th>4</th>\n",
              "      <td>-1.100178</td>\n",
              "      <td>-0.704490</td>\n",
              "      <td>-0.315344</td>\n",
              "    </tr>\n",
              "  </tbody>\n",
              "</table>\n",
              "</div>"
            ],
            "text/plain": [
              "        pc1       pc2       pc3\n",
              "0 -1.176317 -0.578845 -0.283752\n",
              "1 -1.254566  1.426205 -0.481618\n",
              "2 -1.101010 -0.629671 -0.289777\n",
              "3 -1.147984 -0.664489 -0.322608\n",
              "4 -1.100178 -0.704490 -0.315344"
            ]
          },
          "execution_count": 207,
          "metadata": {},
          "output_type": "execute_result"
        }
      ],
      "source": [
        "new_s_2 = PCA(n_components=3, random_state=fixed_random_state).fit_transform(scaled)\n",
        "\n",
        "new_s_2 = pd.DataFrame(new_s_2, columns=[\"pc1\", \"pc2\", \"pc3\"])\n",
        "\n",
        "new_s_2.head()"
      ]
    },
    {
      "cell_type": "code",
      "execution_count": null,
      "id": "5c147e3f",
      "metadata": {
        "id": "5c147e3f"
      },
      "outputs": [],
      "source": [
        "inertia_2 = []\n",
        "range_clusters_2 = np.arange(2, 10, dtype=int)\n",
        "\n",
        "for n in range_clusters_2:\n",
        "    kmeans_2 = KMeans(n_clusters=n, random_state=fixed_random_state).fit(new_s_2)\n",
        "    inertia_2.append(kmeans_2.inertia_)"
      ]
    },
    {
      "cell_type": "code",
      "execution_count": null,
      "id": "269d125c",
      "metadata": {
        "id": "269d125c",
        "outputId": "149554e3-79af-440a-c913-866b2c229bf0"
      },
      "outputs": [
        {
          "data": {
            "image/png": "[encoded data removed]",
            "text/plain": [
              "<Figure size 576x432 with 1 Axes>"
            ]
          },
          "metadata": {},
          "output_type": "display_data"
        }
      ],
      "source": [
        "fig, axs = plt.subplots(figsize=(8,6))\n",
        "sns.lineplot(x=range_clusters_2, y=inertia_2)\n",
        "plt.title('Elbow Plot')\n",
        "plt.xlabel('Númber of Clusters')\n",
        "plt.ylabel('Inertia')\n",
        "plt.show()"
      ]
    },
    {
      "cell_type": "code",
      "execution_count": null,
      "id": "8b287c08",
      "metadata": {
        "id": "8b287c08",
        "outputId": "d590bbd4-c1b7-4e58-82e8-71df3f2d8529"
      },
      "outputs": [
        {
          "data": {
            "text/plain": [
              "KMeans(n_clusters=3, n_init=12)"
            ]
          },
          "execution_count": 210,
          "metadata": {},
          "output_type": "execute_result"
        }
      ],
      "source": [
        "pca = PCA(n_components = 0.95)\n",
        "pca.fit(scaled)\n",
        "data_PCA = pca.transform(scaled)\n",
        "k_means.fit(data_PCA)"
      ]
    },
    {
      "cell_type": "code",
      "execution_count": null,
      "id": "afd6506c",
      "metadata": {
        "id": "afd6506c",
        "outputId": "7463c5fe-08c5-4097-c96a-37a5a215dc88"
      },
      "outputs": [
        {
          "name": "stdout",
          "output_type": "stream",
          "text": [
            "[1 2 1 ... 0 2 0]\n"
          ]
        }
      ],
      "source": [
        "label_pca = k_means.fit_predict(data_PCA)\n",
        "print(label_pca)"
      ]
    },
    {
      "cell_type": "code",
      "execution_count": null,
      "id": "a6778b65",
      "metadata": {
        "id": "a6778b65",
        "outputId": "55e9dd0e-23a3-4443-bcae-f04c9f81cf36"
      },
      "outputs": [
        {
          "data": {
            "image/png": "[encoded data removed]",
            "text/plain": [
              "<Figure size 432x288 with 1 Axes>"
            ]
          },
          "metadata": {},
          "output_type": "display_data"
        }
      ],
      "source": [
        "plt.scatter(data_PCA[:,0], data_PCA[:,1], c=label_pca)\n",
        "centers_PCA = k_means.cluster_centers_\n",
        "plt.scatter(centers_PCA[:,0], centers_PCA[:,1], c='green', marker='*',alpha=0.5)\n",
        "plt.show()"
      ]
    },
    {
      "cell_type": "code",
      "execution_count": null,
      "id": "85086958",
      "metadata": {
        "id": "85086958",
        "outputId": "7c781e37-7ba4-4c97-d391-2a9352137912"
      },
      "outputs": [
        {
          "name": "stderr",
          "output_type": "stream",
          "text": [
            "C:\\Users\\UP2131~1\\AppData\\Local\\Temp/ipykernel_3032/4008649152.py:1: SettingWithCopyWarning: \n",
            "A value is trying to be set on a copy of a slice from a DataFrame.\n",
            "Try using .loc[row_indexer,col_indexer] = value instead\n",
            "\n",
            "See the caveats in the documentation: https://pandas.pydata.org/pandas-docs/stable/user_guide/indexing.html#returning-a-view-versus-a-copy\n",
            "  dfp[\"Cluster1\"] = label_pca\n"
          ]
        },
        {
          "data": {
            "text/html": [
              "<div>\n",
              "<style scoped>\n",
              "    .dataframe tbody tr th:only-of-type {\n",
              "        vertical-align: middle;\n",
              "    }\n",
              "\n",
              "    .dataframe tbody tr th {\n",
              "        vertical-align: top;\n",
              "    }\n",
              "\n",
              "    .dataframe thead th {\n",
              "        text-align: right;\n",
              "    }\n",
              "</style>\n",
              "<table border=\"1\" class=\"dataframe\">\n",
              "  <thead>\n",
              "    <tr style=\"text-align: right;\">\n",
              "      <th></th>\n",
              "      <th>Person_ID</th>\n",
              "      <th>Region</th>\n",
              "      <th>Residence_Type</th>\n",
              "      <th>Family_Composition</th>\n",
              "      <th>Population_Base</th>\n",
              "      <th>Sex</th>\n",
              "      <th>Age</th>\n",
              "      <th>Marital_Status</th>\n",
              "      <th>Student</th>\n",
              "      <th>Country_of_Birth</th>\n",
              "      <th>...</th>\n",
              "      <th>Ethnic_Group</th>\n",
              "      <th>Religion</th>\n",
              "      <th>Economic_Activity</th>\n",
              "      <th>Occupation</th>\n",
              "      <th>Industry</th>\n",
              "      <th>Hours_worked_per_week</th>\n",
              "      <th>Hours_Number</th>\n",
              "      <th>Approximated_Social_Grade</th>\n",
              "      <th>Cluster</th>\n",
              "      <th>Cluster1</th>\n",
              "    </tr>\n",
              "  </thead>\n",
              "  <tbody>\n",
              "    <tr>\n",
              "      <th>302321</th>\n",
              "      <td>7394645</td>\n",
              "      <td>0</td>\n",
              "      <td>1</td>\n",
              "      <td>5</td>\n",
              "      <td>1</td>\n",
              "      <td>2</td>\n",
              "      <td>5</td>\n",
              "      <td>4</td>\n",
              "      <td>2</td>\n",
              "      <td>1</td>\n",
              "      <td>...</td>\n",
              "      <td>1</td>\n",
              "      <td>2</td>\n",
              "      <td>2</td>\n",
              "      <td>7</td>\n",
              "      <td>7</td>\n",
              "      <td>1</td>\n",
              "      <td>2</td>\n",
              "      <td>4</td>\n",
              "      <td>2</td>\n",
              "      <td>1</td>\n",
              "    </tr>\n",
              "    <tr>\n",
              "      <th>302322</th>\n",
              "      <td>7394688</td>\n",
              "      <td>0</td>\n",
              "      <td>1</td>\n",
              "      <td>2</td>\n",
              "      <td>1</td>\n",
              "      <td>2</td>\n",
              "      <td>2</td>\n",
              "      <td>1</td>\n",
              "      <td>1</td>\n",
              "      <td>1</td>\n",
              "      <td>...</td>\n",
              "      <td>1</td>\n",
              "      <td>9</td>\n",
              "      <td>4</td>\n",
              "      <td>7</td>\n",
              "      <td>4</td>\n",
              "      <td>1</td>\n",
              "      <td>1</td>\n",
              "      <td>2</td>\n",
              "      <td>1</td>\n",
              "      <td>2</td>\n",
              "    </tr>\n",
              "    <tr>\n",
              "      <th>302323</th>\n",
              "      <td>7394756</td>\n",
              "      <td>0</td>\n",
              "      <td>1</td>\n",
              "      <td>2</td>\n",
              "      <td>1</td>\n",
              "      <td>2</td>\n",
              "      <td>5</td>\n",
              "      <td>2</td>\n",
              "      <td>2</td>\n",
              "      <td>1</td>\n",
              "      <td>...</td>\n",
              "      <td>1</td>\n",
              "      <td>1</td>\n",
              "      <td>1</td>\n",
              "      <td>9</td>\n",
              "      <td>9</td>\n",
              "      <td>1</td>\n",
              "      <td>10</td>\n",
              "      <td>4</td>\n",
              "      <td>2</td>\n",
              "      <td>1</td>\n",
              "    </tr>\n",
              "    <tr>\n",
              "      <th>302324</th>\n",
              "      <td>7394737</td>\n",
              "      <td>0</td>\n",
              "      <td>1</td>\n",
              "      <td>2</td>\n",
              "      <td>1</td>\n",
              "      <td>2</td>\n",
              "      <td>6</td>\n",
              "      <td>2</td>\n",
              "      <td>2</td>\n",
              "      <td>1</td>\n",
              "      <td>...</td>\n",
              "      <td>1</td>\n",
              "      <td>2</td>\n",
              "      <td>1</td>\n",
              "      <td>9</td>\n",
              "      <td>11</td>\n",
              "      <td>1</td>\n",
              "      <td>3</td>\n",
              "      <td>4</td>\n",
              "      <td>2</td>\n",
              "      <td>1</td>\n",
              "    </tr>\n",
              "    <tr>\n",
              "      <th>302325</th>\n",
              "      <td>7394536</td>\n",
              "      <td>0</td>\n",
              "      <td>1</td>\n",
              "      <td>5</td>\n",
              "      <td>1</td>\n",
              "      <td>2</td>\n",
              "      <td>6</td>\n",
              "      <td>3</td>\n",
              "      <td>2</td>\n",
              "      <td>1</td>\n",
              "      <td>...</td>\n",
              "      <td>1</td>\n",
              "      <td>1</td>\n",
              "      <td>1</td>\n",
              "      <td>9</td>\n",
              "      <td>10</td>\n",
              "      <td>1</td>\n",
              "      <td>8</td>\n",
              "      <td>4</td>\n",
              "      <td>2</td>\n",
              "      <td>1</td>\n",
              "    </tr>\n",
              "  </tbody>\n",
              "</table>\n",
              "<p>5 rows × 21 columns</p>\n",
              "</div>"
            ],
            "text/plain": [
              "        Person_ID  Region  Residence_Type  Family_Composition  \\\n",
              "302321    7394645       0               1                   5   \n",
              "302322    7394688       0               1                   2   \n",
              "302323    7394756       0               1                   2   \n",
              "302324    7394737       0               1                   2   \n",
              "302325    7394536       0               1                   5   \n",
              "\n",
              "        Population_Base  Sex  Age  Marital_Status  Student  Country_of_Birth  \\\n",
              "302321                1    2    5               4        2                 1   \n",
              "302322                1    2    2               1        1                 1   \n",
              "302323                1    2    5               2        2                 1   \n",
              "302324                1    2    6               2        2                 1   \n",
              "302325                1    2    6               3        2                 1   \n",
              "\n",
              "        ...  Ethnic_Group  Religion  Economic_Activity  Occupation  Industry  \\\n",
              "302321  ...             1         2                  2           7         7   \n",
              "302322  ...             1         9                  4           7         4   \n",
              "302323  ...             1         1                  1           9         9   \n",
              "302324  ...             1         2                  1           9        11   \n",
              "302325  ...             1         1                  1           9        10   \n",
              "\n",
              "        Hours_worked_per_week  Hours_Number  Approximated_Social_Grade  \\\n",
              "302321                      1             2                          4   \n",
              "302322                      1             1                          2   \n",
              "302323                      1            10                          4   \n",
              "302324                      1             3                          4   \n",
              "302325                      1             8                          4   \n",
              "\n",
              "        Cluster  Cluster1  \n",
              "302321        2         1  \n",
              "302322        1         2  \n",
              "302323        2         1  \n",
              "302324        2         1  \n",
              "302325        2         1  \n",
              "\n",
              "[5 rows x 21 columns]"
            ]
          },
          "execution_count": 213,
          "metadata": {},
          "output_type": "execute_result"
        }
      ],
      "source": [
        "dfp[\"Cluster1\"] = label_pca\n",
        "dfp.head(5)"
      ]
    },
    {
      "cell_type": "code",
      "execution_count": null,
      "id": "6c191bcb",
      "metadata": {
        "id": "6c191bcb",
        "outputId": "bb0b0fa1-ef06-4e05-cfae-d061427999fd"
      },
      "outputs": [
        {
          "data": {
            "text/html": [
              "<div>\n",
              "<style scoped>\n",
              "    .dataframe tbody tr th:only-of-type {\n",
              "        vertical-align: middle;\n",
              "    }\n",
              "\n",
              "    .dataframe tbody tr th {\n",
              "        vertical-align: top;\n",
              "    }\n",
              "\n",
              "    .dataframe thead th {\n",
              "        text-align: right;\n",
              "    }\n",
              "</style>\n",
              "<table border=\"1\" class=\"dataframe\">\n",
              "  <thead>\n",
              "    <tr style=\"text-align: right;\">\n",
              "      <th></th>\n",
              "      <th>Person_ID</th>\n",
              "      <th>Region</th>\n",
              "      <th>Residence_Type</th>\n",
              "      <th>Family_Composition</th>\n",
              "      <th>Population_Base</th>\n",
              "      <th>Sex</th>\n",
              "      <th>Age</th>\n",
              "      <th>Marital_Status</th>\n",
              "      <th>Student</th>\n",
              "      <th>Country_of_Birth</th>\n",
              "      <th>Health</th>\n",
              "      <th>Ethnic_Group</th>\n",
              "      <th>Religion</th>\n",
              "      <th>Economic_Activity</th>\n",
              "      <th>Occupation</th>\n",
              "      <th>Industry</th>\n",
              "      <th>Hours_worked_per_week</th>\n",
              "      <th>Hours_Number</th>\n",
              "      <th>Approximated_Social_Grade</th>\n",
              "      <th>Cluster</th>\n",
              "    </tr>\n",
              "    <tr>\n",
              "      <th>Cluster1</th>\n",
              "      <th></th>\n",
              "      <th></th>\n",
              "      <th></th>\n",
              "      <th></th>\n",
              "      <th></th>\n",
              "      <th></th>\n",
              "      <th></th>\n",
              "      <th></th>\n",
              "      <th></th>\n",
              "      <th></th>\n",
              "      <th></th>\n",
              "      <th></th>\n",
              "      <th></th>\n",
              "      <th></th>\n",
              "      <th></th>\n",
              "      <th></th>\n",
              "      <th></th>\n",
              "      <th></th>\n",
              "      <th></th>\n",
              "      <th></th>\n",
              "    </tr>\n",
              "  </thead>\n",
              "  <tbody>\n",
              "    <tr>\n",
              "      <th>0</th>\n",
              "      <td>7.524028e+06</td>\n",
              "      <td>4.842367</td>\n",
              "      <td>1.000000</td>\n",
              "      <td>2.476796</td>\n",
              "      <td>1.002483</td>\n",
              "      <td>1.761837</td>\n",
              "      <td>4.432272</td>\n",
              "      <td>2.072780</td>\n",
              "      <td>1.9997</td>\n",
              "      <td>1.098853</td>\n",
              "      <td>1.707895</td>\n",
              "      <td>1.145047</td>\n",
              "      <td>2.346006</td>\n",
              "      <td>1.151511</td>\n",
              "      <td>5.232212</td>\n",
              "      <td>7.539301</td>\n",
              "      <td>2.000000</td>\n",
              "      <td>23.004624</td>\n",
              "      <td>2.808588</td>\n",
              "      <td>0.0</td>\n",
              "    </tr>\n",
              "    <tr>\n",
              "      <th>1</th>\n",
              "      <td>7.670404e+06</td>\n",
              "      <td>4.877168</td>\n",
              "      <td>0.995443</td>\n",
              "      <td>2.202268</td>\n",
              "      <td>1.003107</td>\n",
              "      <td>1.706696</td>\n",
              "      <td>4.731189</td>\n",
              "      <td>2.052975</td>\n",
              "      <td>2.0000</td>\n",
              "      <td>1.150018</td>\n",
              "      <td>1.767697</td>\n",
              "      <td>1.274196</td>\n",
              "      <td>2.564911</td>\n",
              "      <td>1.228005</td>\n",
              "      <td>5.384703</td>\n",
              "      <td>7.501062</td>\n",
              "      <td>1.000000</td>\n",
              "      <td>7.986536</td>\n",
              "      <td>2.764538</td>\n",
              "      <td>2.0</td>\n",
              "    </tr>\n",
              "    <tr>\n",
              "      <th>2</th>\n",
              "      <td>7.653701e+06</td>\n",
              "      <td>4.788296</td>\n",
              "      <td>0.939844</td>\n",
              "      <td>1.708089</td>\n",
              "      <td>1.010913</td>\n",
              "      <td>1.582322</td>\n",
              "      <td>2.179512</td>\n",
              "      <td>1.072569</td>\n",
              "      <td>1.0000</td>\n",
              "      <td>1.144319</td>\n",
              "      <td>1.329696</td>\n",
              "      <td>1.370072</td>\n",
              "      <td>2.457918</td>\n",
              "      <td>4.000000</td>\n",
              "      <td>6.886646</td>\n",
              "      <td>6.079116</td>\n",
              "      <td>1.118128</td>\n",
              "      <td>9.793207</td>\n",
              "      <td>1.291775</td>\n",
              "      <td>1.0</td>\n",
              "    </tr>\n",
              "  </tbody>\n",
              "</table>\n",
              "</div>"
            ],
            "text/plain": [
              "             Person_ID    Region  Residence_Type  Family_Composition  \\\n",
              "Cluster1                                                               \n",
              "0         7.524028e+06  4.842367        1.000000            2.476796   \n",
              "1         7.670404e+06  4.877168        0.995443            2.202268   \n",
              "2         7.653701e+06  4.788296        0.939844            1.708089   \n",
              "\n",
              "          Population_Base       Sex       Age  Marital_Status  Student  \\\n",
              "Cluster1                                                                 \n",
              "0                1.002483  1.761837  4.432272        2.072780   1.9997   \n",
              "1                1.003107  1.706696  4.731189        2.052975   2.0000   \n",
              "2                1.010913  1.582322  2.179512        1.072569   1.0000   \n",
              "\n",
              "          Country_of_Birth    Health  Ethnic_Group  Religion  \\\n",
              "Cluster1                                                       \n",
              "0                 1.098853  1.707895      1.145047  2.346006   \n",
              "1                 1.150018  1.767697      1.274196  2.564911   \n",
              "2                 1.144319  1.329696      1.370072  2.457918   \n",
              "\n",
              "          Economic_Activity  Occupation  Industry  Hours_worked_per_week  \\\n",
              "Cluster1                                                                   \n",
              "0                  1.151511    5.232212  7.539301               2.000000   \n",
              "1                  1.228005    5.384703  7.501062               1.000000   \n",
              "2                  4.000000    6.886646  6.079116               1.118128   \n",
              "\n",
              "          Hours_Number  Approximated_Social_Grade  Cluster  \n",
              "Cluster1                                                    \n",
              "0            23.004624                   2.808588      0.0  \n",
              "1             7.986536                   2.764538      2.0  \n",
              "2             9.793207                   1.291775      1.0  "
            ]
          },
          "execution_count": 214,
          "metadata": {},
          "output_type": "execute_result"
        }
      ],
      "source": [
        "dfp.groupby('Cluster1').mean()"
      ]
    },
    {
      "cell_type": "code",
      "execution_count": null,
      "id": "3083b897",
      "metadata": {
        "id": "3083b897",
        "outputId": "485d0cf7-a971-4fa9-e9df-9ed8f4567320"
      },
      "outputs": [
        {
          "data": {
            "text/html": [
              "<div>\n",
              "<style scoped>\n",
              "    .dataframe tbody tr th:only-of-type {\n",
              "        vertical-align: middle;\n",
              "    }\n",
              "\n",
              "    .dataframe tbody tr th {\n",
              "        vertical-align: top;\n",
              "    }\n",
              "\n",
              "    .dataframe thead th {\n",
              "        text-align: right;\n",
              "    }\n",
              "</style>\n",
              "<table border=\"1\" class=\"dataframe\">\n",
              "  <thead>\n",
              "    <tr style=\"text-align: right;\">\n",
              "      <th></th>\n",
              "      <th>Person_ID</th>\n",
              "      <th>Region</th>\n",
              "      <th>Residence_Type</th>\n",
              "      <th>Family_Composition</th>\n",
              "      <th>Population_Base</th>\n",
              "      <th>Sex</th>\n",
              "      <th>Age</th>\n",
              "      <th>Marital_Status</th>\n",
              "      <th>Student</th>\n",
              "      <th>Country_of_Birth</th>\n",
              "      <th>Health</th>\n",
              "      <th>Ethnic_Group</th>\n",
              "      <th>Religion</th>\n",
              "      <th>Economic_Activity</th>\n",
              "      <th>Occupation</th>\n",
              "      <th>Industry</th>\n",
              "      <th>Hours_worked_per_week</th>\n",
              "      <th>Hours_Number</th>\n",
              "      <th>Approximated_Social_Grade</th>\n",
              "      <th>Cluster</th>\n",
              "    </tr>\n",
              "    <tr>\n",
              "      <th>Cluster1</th>\n",
              "      <th></th>\n",
              "      <th></th>\n",
              "      <th></th>\n",
              "      <th></th>\n",
              "      <th></th>\n",
              "      <th></th>\n",
              "      <th></th>\n",
              "      <th></th>\n",
              "      <th></th>\n",
              "      <th></th>\n",
              "      <th></th>\n",
              "      <th></th>\n",
              "      <th></th>\n",
              "      <th></th>\n",
              "      <th></th>\n",
              "      <th></th>\n",
              "      <th></th>\n",
              "      <th></th>\n",
              "      <th></th>\n",
              "      <th></th>\n",
              "    </tr>\n",
              "  </thead>\n",
              "  <tbody>\n",
              "    <tr>\n",
              "      <th>0</th>\n",
              "      <td>23358</td>\n",
              "      <td>23358</td>\n",
              "      <td>23358</td>\n",
              "      <td>23358</td>\n",
              "      <td>23358</td>\n",
              "      <td>23358</td>\n",
              "      <td>23358</td>\n",
              "      <td>23358</td>\n",
              "      <td>23358</td>\n",
              "      <td>23358</td>\n",
              "      <td>23358</td>\n",
              "      <td>23358</td>\n",
              "      <td>23358</td>\n",
              "      <td>23358</td>\n",
              "      <td>23358</td>\n",
              "      <td>23358</td>\n",
              "      <td>23358</td>\n",
              "      <td>23358</td>\n",
              "      <td>23358</td>\n",
              "      <td>23358</td>\n",
              "    </tr>\n",
              "    <tr>\n",
              "      <th>1</th>\n",
              "      <td>19311</td>\n",
              "      <td>19311</td>\n",
              "      <td>19311</td>\n",
              "      <td>19311</td>\n",
              "      <td>19311</td>\n",
              "      <td>19311</td>\n",
              "      <td>19311</td>\n",
              "      <td>19311</td>\n",
              "      <td>19311</td>\n",
              "      <td>19311</td>\n",
              "      <td>19311</td>\n",
              "      <td>19311</td>\n",
              "      <td>19311</td>\n",
              "      <td>19311</td>\n",
              "      <td>19311</td>\n",
              "      <td>19311</td>\n",
              "      <td>19311</td>\n",
              "      <td>19311</td>\n",
              "      <td>19311</td>\n",
              "      <td>19311</td>\n",
              "    </tr>\n",
              "    <tr>\n",
              "      <th>2</th>\n",
              "      <td>7331</td>\n",
              "      <td>7331</td>\n",
              "      <td>7331</td>\n",
              "      <td>7331</td>\n",
              "      <td>7331</td>\n",
              "      <td>7331</td>\n",
              "      <td>7331</td>\n",
              "      <td>7331</td>\n",
              "      <td>7331</td>\n",
              "      <td>7331</td>\n",
              "      <td>7331</td>\n",
              "      <td>7331</td>\n",
              "      <td>7331</td>\n",
              "      <td>7331</td>\n",
              "      <td>7331</td>\n",
              "      <td>7331</td>\n",
              "      <td>7331</td>\n",
              "      <td>7331</td>\n",
              "      <td>7331</td>\n",
              "      <td>7331</td>\n",
              "    </tr>\n",
              "  </tbody>\n",
              "</table>\n",
              "</div>"
            ],
            "text/plain": [
              "          Person_ID  Region  Residence_Type  Family_Composition  \\\n",
              "Cluster1                                                          \n",
              "0             23358   23358           23358               23358   \n",
              "1             19311   19311           19311               19311   \n",
              "2              7331    7331            7331                7331   \n",
              "\n",
              "          Population_Base    Sex    Age  Marital_Status  Student  \\\n",
              "Cluster1                                                           \n",
              "0                   23358  23358  23358           23358    23358   \n",
              "1                   19311  19311  19311           19311    19311   \n",
              "2                    7331   7331   7331            7331     7331   \n",
              "\n",
              "          Country_of_Birth  Health  Ethnic_Group  Religion  Economic_Activity  \\\n",
              "Cluster1                                                                        \n",
              "0                    23358   23358         23358     23358              23358   \n",
              "1                    19311   19311         19311     19311              19311   \n",
              "2                     7331    7331          7331      7331               7331   \n",
              "\n",
              "          Occupation  Industry  Hours_worked_per_week  Hours_Number  \\\n",
              "Cluster1                                                              \n",
              "0              23358     23358                  23358         23358   \n",
              "1              19311     19311                  19311         19311   \n",
              "2               7331      7331                   7331          7331   \n",
              "\n",
              "          Approximated_Social_Grade  Cluster  \n",
              "Cluster1                                      \n",
              "0                             23358    23358  \n",
              "1                             19311    19311  \n",
              "2                              7331     7331  "
            ]
          },
          "execution_count": 215,
          "metadata": {},
          "output_type": "execute_result"
        }
      ],
      "source": [
        "dfp.groupby('Cluster1').count()"
      ]
    },
    {
      "cell_type": "code",
      "execution_count": null,
      "id": "9b7147ab",
      "metadata": {
        "id": "9b7147ab",
        "outputId": "7f4214b0-9b1b-4850-aa5d-f4e6085d3b52"
      },
      "outputs": [
        {
          "data": {
            "image/png": "[encoded data removed]",
            "text/plain": [
              "<Figure size 576x432 with 1 Axes>"
            ]
          },
          "metadata": {},
          "output_type": "display_data"
        },
        {
          "data": {
            "image/png": "[encoded data removed]",
            "text/plain": [
              "<Figure size 576x432 with 1 Axes>"
            ]
          },
          "metadata": {},
          "output_type": "display_data"
        }
      ],
      "source": [
        "plt.figure(figsize=(8,6))\n",
        "sns.scatterplot(x=scaled.iloc[:, 0], y=scaled.iloc[:, 1], hue=labels)\n",
        "plt.title(\"Approach 1: K-Means without dimensionality reduction\")\n",
        "plt.legend(title=\"Cluster ID\")\n",
        "plt.show()\n",
        "\n",
        "plt.figure(figsize=(8,6))\n",
        "sns.scatterplot(x=data_PCA[:, 0], y=data_PCA[:, 1], hue=label_pca)\n",
        "plt.title(\"Approach 2: K-Means with dimensionality reduction via PCA\")\n",
        "plt.legend(title=\"Cluster ID\")\n",
        "plt.show()"
      ]
    },
    {
      "cell_type": "code",
      "execution_count": null,
      "id": "71506cdf",
      "metadata": {
        "id": "71506cdf",
        "outputId": "53c7224e-0358-4f36-8e15-927c661db36a"
      },
      "outputs": [
        {
          "data": {
            "text/html": [
              "<div>\n",
              "<style scoped>\n",
              "    .dataframe tbody tr th:only-of-type {\n",
              "        vertical-align: middle;\n",
              "    }\n",
              "\n",
              "    .dataframe tbody tr th {\n",
              "        vertical-align: top;\n",
              "    }\n",
              "\n",
              "    .dataframe thead th {\n",
              "        text-align: right;\n",
              "    }\n",
              "</style>\n",
              "<table border=\"1\" class=\"dataframe\">\n",
              "  <thead>\n",
              "    <tr style=\"text-align: right;\">\n",
              "      <th></th>\n",
              "      <th>Approch_1</th>\n",
              "      <th>Approach_2</th>\n",
              "    </tr>\n",
              "    <tr>\n",
              "      <th>Cluster_id</th>\n",
              "      <th></th>\n",
              "      <th></th>\n",
              "    </tr>\n",
              "  </thead>\n",
              "  <tbody>\n",
              "    <tr>\n",
              "      <th>0</th>\n",
              "      <td>23358</td>\n",
              "      <td>23358</td>\n",
              "    </tr>\n",
              "    <tr>\n",
              "      <th>1</th>\n",
              "      <td>7331</td>\n",
              "      <td>19311</td>\n",
              "    </tr>\n",
              "    <tr>\n",
              "      <th>2</th>\n",
              "      <td>19311</td>\n",
              "      <td>7331</td>\n",
              "    </tr>\n",
              "  </tbody>\n",
              "</table>\n",
              "</div>"
            ],
            "text/plain": [
              "            Approch_1  Approach_2\n",
              "Cluster_id                       \n",
              "0               23358       23358\n",
              "1                7331       19311\n",
              "2               19311        7331"
            ]
          },
          "execution_count": 217,
          "metadata": {},
          "output_type": "execute_result"
        }
      ],
      "source": [
        "counts_1 = pd.Series(labels).value_counts().sort_index()\n",
        "counts_2 = pd.Series(label_pca).value_counts().sort_index()\n",
        "\n",
        "cluster_counts = pd.DataFrame({\"Approch_1\": counts_1, \"Approach_2\": counts_2})\n",
        "\n",
        "cluster_counts.index.name = \"Cluster_id\"\n",
        "\n",
        "cluster_counts"
      ]
    },
    {
      "cell_type": "code",
      "execution_count": null,
      "id": "1a8a21cc",
      "metadata": {
        "id": "1a8a21cc"
      },
      "outputs": [],
      "source": []
    }
  ],
  "metadata": {
    "kernelspec": {
      "display_name": "Python 3 (ipykernel)",
      "language": "python",
      "name": "python3"
    },
    "language_info": {
      "codemirror_mode": {
        "name": "ipython",
        "version": 3
      },
      "file_extension": ".py",
      "mimetype": "text/x-python",
      "name": "python",
      "nbconvert_exporter": "python",
      "pygments_lexer": "ipython3",
      "version": "3.9.7"
    },
    "colab": {
      "provenance": [],
      "toc_visible": true,
      "include_colab_link": true
    }
  },
  "nbformat": 4,
  "nbformat_minor": 5
}